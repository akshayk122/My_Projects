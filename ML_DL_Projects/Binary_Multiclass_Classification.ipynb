{
  "cells": [
    {
      "cell_type": "markdown",
      "metadata": {
        "id": "Whf_8TEO-6qX"
      },
      "source": [
        "\n",
        "\n",
        "Deep learning solutions for: \n",
        "- Binary classification of movie reviews using the IMDB dataset\n",
        "- Multiclass classification of newswires using the Reuters dataset\n",
        "- Regression for house price estimation using the Boston Housing Price dataset\n"
      ]
    },
    {
      "cell_type": "markdown",
      "metadata": {
        "id": "32AXUOrLxvoD"
      },
      "source": [
        "Useful references and sources:\n",
        "\n",
        "- https://keras.io/api/datasets/imdb/\n",
        "- https://www.tensorflow.org/datasets/catalog/imdb_reviews\n",
        "- https://www.tensorflow.org/tutorials/keras/text_classification_with_hub\n",
        "- https://colab.research.google.com/github/fchollet/deep-learning-with-python-notebooks/blob/master/chapter04_getting-started-with-neural-networks.ipynb \n",
        "- https://developers.google.com/machine-learning/guides/text-classification/\n",
        "- https://keras.io/api/datasets/boston_housing/\n"
      ]
    },
    {
      "cell_type": "markdown",
      "metadata": {
        "id": "2u-hfaHC-6qb"
      },
      "source": [
        "## Setup"
      ]
    },
    {
      "cell_type": "code",
      "execution_count": 8,
      "metadata": {
        "id": "1H7CSr4a-6qb"
      },
      "outputs": [],
      "source": [
        "from tensorflow import keras\n",
        "from keras.datasets import mnist\n",
        "from keras.models import Sequential\n",
        "from keras.layers import Dense\n",
        "from tensorflow.keras.optimizers import SGD\n",
        "from tensorflow.keras import layers\n",
        "from matplotlib import pyplot as plt\n",
        "import numpy as np"
      ]
    },
    {
      "cell_type": "markdown",
      "metadata": {
        "id": "BEn1cfWJ-6rH"
      },
      "source": [
        "## Binary classification of movie reviews using the IMDB dataset\n",
        "\n",
        "We will start with a simple solution using a fully-connected neural network architecture. "
      ]
    },
    {
      "cell_type": "markdown",
      "metadata": {
        "id": "dxNd2jV5-6qg"
      },
      "source": [
        "### Load and prepare the data"
      ]
    },
    {
      "cell_type": "code",
      "execution_count": 3,
      "metadata": {
        "colab": {
          "base_uri": "https://localhost:8080/"
        },
        "id": "EgbHPf85SWy8",
        "outputId": "1f3c6786-825b-4929-fa0f-07966fdf44bf"
      },
      "outputs": [
        {
          "name": "stdout",
          "output_type": "stream",
          "text": [
            "Downloading data from https://storage.googleapis.com/tensorflow/tf-keras-datasets/imdb.npz\n",
            "17464789/17464789 [==============================] - 2s 0us/step\n"
          ]
        }
      ],
      "source": [
        "from tensorflow.keras.datasets import imdb\n",
        "(train_data, train_labels), (test_data, test_labels) = imdb.load_data(\n",
        "    num_words=10000)"
      ]
    },
    {
      "cell_type": "code",
      "execution_count": null,
      "metadata": {
        "colab": {
          "base_uri": "https://localhost:8080/"
        },
        "id": "Gm-ng4uVSWy9",
        "outputId": "9d31e3a6-9d84-4930-a1b1-ebc00c90919d"
      },
      "outputs": [
        {
          "data": {
            "text/plain": [
              "[1,\n",
              " 14,\n",
              " 22,\n",
              " 16,\n",
              " 43,\n",
              " 530,\n",
              " 973,\n",
              " 1622,\n",
              " 1385,\n",
              " 65,\n",
              " 458,\n",
              " 4468,\n",
              " 66,\n",
              " 3941,\n",
              " 4,\n",
              " 173,\n",
              " 36,\n",
              " 256,\n",
              " 5,\n",
              " 25,\n",
              " 100,\n",
              " 43,\n",
              " 838,\n",
              " 112,\n",
              " 50,\n",
              " 670,\n",
              " 2,\n",
              " 9,\n",
              " 35,\n",
              " 480,\n",
              " 284,\n",
              " 5,\n",
              " 150,\n",
              " 4,\n",
              " 172,\n",
              " 112,\n",
              " 167,\n",
              " 2,\n",
              " 336,\n",
              " 385,\n",
              " 39,\n",
              " 4,\n",
              " 172,\n",
              " 4536,\n",
              " 1111,\n",
              " 17,\n",
              " 546,\n",
              " 38,\n",
              " 13,\n",
              " 447,\n",
              " 4,\n",
              " 192,\n",
              " 50,\n",
              " 16,\n",
              " 6,\n",
              " 147,\n",
              " 2025,\n",
              " 19,\n",
              " 14,\n",
              " 22,\n",
              " 4,\n",
              " 1920,\n",
              " 4613,\n",
              " 469,\n",
              " 4,\n",
              " 22,\n",
              " 71,\n",
              " 87,\n",
              " 12,\n",
              " 16,\n",
              " 43,\n",
              " 530,\n",
              " 38,\n",
              " 76,\n",
              " 15,\n",
              " 13,\n",
              " 1247,\n",
              " 4,\n",
              " 22,\n",
              " 17,\n",
              " 515,\n",
              " 17,\n",
              " 12,\n",
              " 16,\n",
              " 626,\n",
              " 18,\n",
              " 2,\n",
              " 5,\n",
              " 62,\n",
              " 386,\n",
              " 12,\n",
              " 8,\n",
              " 316,\n",
              " 8,\n",
              " 106,\n",
              " 5,\n",
              " 4,\n",
              " 2223,\n",
              " 5244,\n",
              " 16,\n",
              " 480,\n",
              " 66,\n",
              " 3785,\n",
              " 33,\n",
              " 4,\n",
              " 130,\n",
              " 12,\n",
              " 16,\n",
              " 38,\n",
              " 619,\n",
              " 5,\n",
              " 25,\n",
              " 124,\n",
              " 51,\n",
              " 36,\n",
              " 135,\n",
              " 48,\n",
              " 25,\n",
              " 1415,\n",
              " 33,\n",
              " 6,\n",
              " 22,\n",
              " 12,\n",
              " 215,\n",
              " 28,\n",
              " 77,\n",
              " 52,\n",
              " 5,\n",
              " 14,\n",
              " 407,\n",
              " 16,\n",
              " 82,\n",
              " 2,\n",
              " 8,\n",
              " 4,\n",
              " 107,\n",
              " 117,\n",
              " 5952,\n",
              " 15,\n",
              " 256,\n",
              " 4,\n",
              " 2,\n",
              " 7,\n",
              " 3766,\n",
              " 5,\n",
              " 723,\n",
              " 36,\n",
              " 71,\n",
              " 43,\n",
              " 530,\n",
              " 476,\n",
              " 26,\n",
              " 400,\n",
              " 317,\n",
              " 46,\n",
              " 7,\n",
              " 4,\n",
              " 2,\n",
              " 1029,\n",
              " 13,\n",
              " 104,\n",
              " 88,\n",
              " 4,\n",
              " 381,\n",
              " 15,\n",
              " 297,\n",
              " 98,\n",
              " 32,\n",
              " 2071,\n",
              " 56,\n",
              " 26,\n",
              " 141,\n",
              " 6,\n",
              " 194,\n",
              " 7486,\n",
              " 18,\n",
              " 4,\n",
              " 226,\n",
              " 22,\n",
              " 21,\n",
              " 134,\n",
              " 476,\n",
              " 26,\n",
              " 480,\n",
              " 5,\n",
              " 144,\n",
              " 30,\n",
              " 5535,\n",
              " 18,\n",
              " 51,\n",
              " 36,\n",
              " 28,\n",
              " 224,\n",
              " 92,\n",
              " 25,\n",
              " 104,\n",
              " 4,\n",
              " 226,\n",
              " 65,\n",
              " 16,\n",
              " 38,\n",
              " 1334,\n",
              " 88,\n",
              " 12,\n",
              " 16,\n",
              " 283,\n",
              " 5,\n",
              " 16,\n",
              " 4472,\n",
              " 113,\n",
              " 103,\n",
              " 32,\n",
              " 15,\n",
              " 16,\n",
              " 5345,\n",
              " 19,\n",
              " 178,\n",
              " 32]"
            ]
          },
          "execution_count": 3,
          "metadata": {},
          "output_type": "execute_result"
        }
      ],
      "source": [
        "train_data[0]"
      ]
    },
    {
      "cell_type": "code",
      "execution_count": 4,
      "metadata": {
        "colab": {
          "base_uri": "https://localhost:8080/"
        },
        "id": "T_UQLHcbSWy9",
        "outputId": "4bdbaaed-5d21-48d4-be23-0623df2bc756"
      },
      "outputs": [
        {
          "data": {
            "text/plain": [
              "1"
            ]
          },
          "execution_count": 4,
          "metadata": {},
          "output_type": "execute_result"
        }
      ],
      "source": [
        "train_labels[0]"
      ]
    },
    {
      "cell_type": "code",
      "execution_count": null,
      "metadata": {
        "colab": {
          "base_uri": "https://localhost:8080/"
        },
        "id": "OkzPHbDISWy-",
        "outputId": "4d582bf4-fbe2-4c28-f102-49cf1dda35c9"
      },
      "outputs": [
        {
          "data": {
            "text/plain": [
              "9999"
            ]
          },
          "execution_count": 8,
          "metadata": {},
          "output_type": "execute_result"
        }
      ],
      "source": [
        "max([max(sequence) for sequence in train_data])"
      ]
    },
    {
      "cell_type": "markdown",
      "metadata": {
        "id": "a14ENstYSWy-"
      },
      "source": [
        "### Decoding reviews back to text"
      ]
    },
    {
      "cell_type": "code",
      "execution_count": 5,
      "metadata": {
        "colab": {
          "base_uri": "https://localhost:8080/"
        },
        "id": "a1t1h2AgSWy-",
        "outputId": "6c14f751-4956-4518-f053-3032e834d6cb"
      },
      "outputs": [
        {
          "name": "stdout",
          "output_type": "stream",
          "text": [
            "Downloading data from https://storage.googleapis.com/tensorflow/tf-keras-datasets/imdb_word_index.json\n",
            "1641221/1641221 [==============================] - 1s 1us/step\n"
          ]
        }
      ],
      "source": [
        "word_index = imdb.get_word_index()\n",
        "reverse_word_index = dict(\n",
        "    [(value, key) for (key, value) in word_index.items()])\n",
        "decoded_review = \" \".join(\n",
        "    [reverse_word_index.get(i - 3, \"?\") for i in train_data[0]])"
      ]
    },
    {
      "cell_type": "markdown",
      "metadata": {
        "id": "w9hkDy4ESWy_"
      },
      "source": [
        "### Preparing the data"
      ]
    },
    {
      "cell_type": "markdown",
      "metadata": {
        "id": "Qjq7wFSISWy_"
      },
      "source": [
        "#### Encoding the integer sequences via multi-hot encoding"
      ]
    },
    {
      "cell_type": "code",
      "execution_count": 6,
      "metadata": {
        "id": "nZD-izxWSWy_"
      },
      "outputs": [],
      "source": [
        "import numpy as np\n",
        "def vectorize_sequences(sequences, dimension=10000):\n",
        "    results = np.zeros((len(sequences), dimension))\n",
        "    for i, sequence in enumerate(sequences):\n",
        "        for j in sequence:\n",
        "            results[i, j] = 1.\n",
        "    return results\n",
        "x_train = vectorize_sequences(train_data)\n",
        "x_test = vectorize_sequences(test_data)"
      ]
    },
    {
      "cell_type": "code",
      "execution_count": null,
      "metadata": {
        "colab": {
          "base_uri": "https://localhost:8080/"
        },
        "id": "1HXEpTCfSWy_",
        "outputId": "b2418528-9a91-46df-da7a-3d5d9de86205"
      },
      "outputs": [
        {
          "data": {
            "text/plain": [
              "array([0., 1., 1., ..., 0., 0., 0.])"
            ]
          },
          "execution_count": 8,
          "metadata": {},
          "output_type": "execute_result"
        }
      ],
      "source": [
        "x_train[0]"
      ]
    },
    {
      "cell_type": "code",
      "execution_count": 7,
      "metadata": {
        "id": "RBzY7qPASWy_"
      },
      "outputs": [],
      "source": [
        "y_train = np.asarray(train_labels).astype(\"float32\")\n",
        "y_test = np.asarray(test_labels).astype(\"float32\")"
      ]
    },
    {
      "cell_type": "code",
      "execution_count": null,
      "metadata": {
        "colab": {
          "base_uri": "https://localhost:8080/"
        },
        "id": "dnYFB8NG7ml9",
        "outputId": "4933c721-0d7b-4190-b070-36da655bada4"
      },
      "outputs": [
        {
          "data": {
            "text/plain": [
              "25000"
            ]
          },
          "execution_count": 12,
          "metadata": {},
          "output_type": "execute_result"
        }
      ],
      "source": [
        "y_test.size"
      ]
    },
    {
      "cell_type": "markdown",
      "metadata": {
        "id": "GxHU8-BiSWy_"
      },
      "source": [
        "### Building your model"
      ]
    },
    {
      "cell_type": "markdown",
      "metadata": {
        "id": "jv_k78mmSWy_"
      },
      "source": [
        "#### Model definition"
      ]
    },
    {
      "cell_type": "code",
      "execution_count": 8,
      "metadata": {
        "id": "IQzf7F7USWzA"
      },
      "outputs": [],
      "source": [
        "from tensorflow import keras\n",
        "from tensorflow.keras import layers\n",
        "\n",
        "model1 = keras.Sequential([\n",
        "    layers.Dense(16, activation=\"relu\"),\n",
        "    layers.Dense(16, activation=\"relu\"),\n",
        "    layers.Dense(1, activation=\"sigmoid\")\n",
        "])"
      ]
    },
    {
      "cell_type": "markdown",
      "metadata": {
        "id": "DasM7UfASWzA"
      },
      "source": [
        "#### Compiling the model"
      ]
    },
    {
      "cell_type": "code",
      "execution_count": 9,
      "metadata": {
        "id": "BWSLlZC4SWzA"
      },
      "outputs": [],
      "source": [
        "model1.compile(optimizer=\"rmsprop\",\n",
        "              loss=\"binary_crossentropy\",\n",
        "              metrics=[\"accuracy\"])"
      ]
    },
    {
      "cell_type": "markdown",
      "metadata": {
        "id": "oUth-9BtSWzA"
      },
      "source": [
        "### Validating your approach"
      ]
    },
    {
      "cell_type": "markdown",
      "metadata": {
        "id": "XsEbLv3eSWzA"
      },
      "source": [
        "#### Setting aside a validation set"
      ]
    },
    {
      "cell_type": "code",
      "execution_count": 10,
      "metadata": {
        "id": "CNxpNUwPSWzA"
      },
      "outputs": [],
      "source": [
        "\n",
        "x_val = x_train[:10000]\n",
        "partial_x_train = x_train[10000:]\n",
        "y_val = y_train[:10000]\n",
        "partial_y_train = y_train[10000:]"
      ]
    },
    {
      "cell_type": "markdown",
      "metadata": {
        "id": "A3ye0OxsSWzA"
      },
      "source": [
        "#### Training your model"
      ]
    },
    {
      "cell_type": "code",
      "execution_count": 11,
      "metadata": {
        "colab": {
          "base_uri": "https://localhost:8080/"
        },
        "id": "o3rFuAH8SWzA",
        "outputId": "2ad54250-9fb7-419e-a5ef-4caaf220f066"
      },
      "outputs": [
        {
          "name": "stdout",
          "output_type": "stream",
          "text": [
            "Epoch 1/20\n",
            "30/30 [==============================] - 7s 57ms/step - loss: 0.5235 - accuracy: 0.7801 - val_loss: 0.3960 - val_accuracy: 0.8627\n",
            "Epoch 2/20\n",
            "30/30 [==============================] - 1s 24ms/step - loss: 0.3166 - accuracy: 0.8976 - val_loss: 0.3081 - val_accuracy: 0.8841\n",
            "Epoch 3/20\n",
            "30/30 [==============================] - 1s 24ms/step - loss: 0.2369 - accuracy: 0.9213 - val_loss: 0.2802 - val_accuracy: 0.8903\n",
            "Epoch 4/20\n",
            "30/30 [==============================] - 1s 22ms/step - loss: 0.1908 - accuracy: 0.9345 - val_loss: 0.3237 - val_accuracy: 0.8679\n",
            "Epoch 5/20\n",
            "30/30 [==============================] - 1s 21ms/step - loss: 0.1628 - accuracy: 0.9453 - val_loss: 0.2805 - val_accuracy: 0.8868\n",
            "Epoch 6/20\n",
            "30/30 [==============================] - 1s 26ms/step - loss: 0.1349 - accuracy: 0.9579 - val_loss: 0.2855 - val_accuracy: 0.8867\n",
            "Epoch 7/20\n",
            "30/30 [==============================] - 1s 29ms/step - loss: 0.1186 - accuracy: 0.9615 - val_loss: 0.3017 - val_accuracy: 0.8861\n",
            "Epoch 8/20\n",
            "30/30 [==============================] - 1s 39ms/step - loss: 0.0975 - accuracy: 0.9709 - val_loss: 0.3116 - val_accuracy: 0.8819\n",
            "Epoch 9/20\n",
            "30/30 [==============================] - 1s 22ms/step - loss: 0.0868 - accuracy: 0.9751 - val_loss: 0.3287 - val_accuracy: 0.8804\n",
            "Epoch 10/20\n",
            "30/30 [==============================] - 1s 24ms/step - loss: 0.0723 - accuracy: 0.9805 - val_loss: 0.3482 - val_accuracy: 0.8791\n",
            "Epoch 11/20\n",
            "30/30 [==============================] - 1s 22ms/step - loss: 0.0619 - accuracy: 0.9837 - val_loss: 0.3939 - val_accuracy: 0.8692\n",
            "Epoch 12/20\n",
            "30/30 [==============================] - 1s 22ms/step - loss: 0.0540 - accuracy: 0.9864 - val_loss: 0.3972 - val_accuracy: 0.8713\n",
            "Epoch 13/20\n",
            "30/30 [==============================] - 1s 21ms/step - loss: 0.0450 - accuracy: 0.9897 - val_loss: 0.4237 - val_accuracy: 0.8699\n",
            "Epoch 14/20\n",
            "30/30 [==============================] - 1s 22ms/step - loss: 0.0384 - accuracy: 0.9915 - val_loss: 0.4391 - val_accuracy: 0.8717\n",
            "Epoch 15/20\n",
            "30/30 [==============================] - 1s 21ms/step - loss: 0.0339 - accuracy: 0.9928 - val_loss: 0.4585 - val_accuracy: 0.8734\n",
            "Epoch 16/20\n",
            "30/30 [==============================] - 1s 22ms/step - loss: 0.0231 - accuracy: 0.9971 - val_loss: 0.4871 - val_accuracy: 0.8740\n",
            "Epoch 17/20\n",
            "30/30 [==============================] - 1s 24ms/step - loss: 0.0242 - accuracy: 0.9957 - val_loss: 0.5117 - val_accuracy: 0.8722\n",
            "Epoch 18/20\n",
            "30/30 [==============================] - 1s 21ms/step - loss: 0.0208 - accuracy: 0.9966 - val_loss: 0.5298 - val_accuracy: 0.8723\n",
            "Epoch 19/20\n",
            "30/30 [==============================] - 1s 21ms/step - loss: 0.0144 - accuracy: 0.9987 - val_loss: 0.5576 - val_accuracy: 0.8700\n",
            "Epoch 20/20\n",
            "30/30 [==============================] - 1s 25ms/step - loss: 0.0155 - accuracy: 0.9978 - val_loss: 0.5874 - val_accuracy: 0.8703\n"
          ]
        }
      ],
      "source": [
        "history = model1.fit(partial_x_train,\n",
        "                    partial_y_train,\n",
        "                    epochs=20,\n",
        "                    batch_size=512,\n",
        "                     validation_data=(x_val, y_val ) )"
      ]
    },
    {
      "cell_type": "code",
      "execution_count": 12,
      "metadata": {
        "colab": {
          "base_uri": "https://localhost:8080/"
        },
        "id": "Z3PLDcnqSWzA",
        "outputId": "9da09932-24e6-46c1-9e5d-aae9e916de6d"
      },
      "outputs": [
        {
          "data": {
            "text/plain": [
              "dict_keys(['loss', 'accuracy', 'val_loss', 'val_accuracy'])"
            ]
          },
          "execution_count": 12,
          "metadata": {},
          "output_type": "execute_result"
        }
      ],
      "source": [
        "history_dict = history.history\n",
        "history_dict.keys()"
      ]
    },
    {
      "cell_type": "markdown",
      "metadata": {
        "id": "mOAiUESnSWzA"
      },
      "source": [
        "#### Plotting the training and validation loss"
      ]
    },
    {
      "cell_type": "code",
      "execution_count": 13,
      "metadata": {
        "colab": {
          "base_uri": "https://localhost:8080/",
          "height": 472
        },
        "id": "v8FYYH2ASWzA",
        "outputId": "c74b9993-3e4a-4ee8-cf0c-841b32308586"
      },
      "outputs": [
        {
          "data": {
            "image/png": "[encoded data removed]",
            "text/plain": [
              "<Figure size 640x480 with 1 Axes>"
            ]
          },
          "metadata": {},
          "output_type": "display_data"
        }
      ],
      "source": [
        "import matplotlib.pyplot as plt\n",
        "history_dict = history.history\n",
        "loss_values = history_dict[\"loss\"]\n",
        "val_loss_values = history_dict[\"val_loss\"]\n",
        "epochs = range(1, len(loss_values) + 1)\n",
        "plt.plot(epochs, loss_values, \"bo\", label=\"Training loss\")\n",
        "plt.plot(epochs, val_loss_values, \"b\", label=\"Validation loss\")\n",
        "plt.title(\"Training and validation loss\")\n",
        "plt.xlabel(\"Epochs\")\n",
        "plt.ylabel(\"Loss\")\n",
        "plt.legend()\n",
        "plt.show()"
      ]
    },
    {
      "cell_type": "markdown",
      "metadata": {
        "id": "Y5dKUKfOSWzA"
      },
      "source": [
        "#### Plotting the training and validation accuracy"
      ]
    },
    {
      "cell_type": "code",
      "execution_count": 14,
      "metadata": {
        "colab": {
          "base_uri": "https://localhost:8080/",
          "height": 472
        },
        "id": "MyWdgytcSWzA",
        "outputId": "60b10ca6-d199-453f-aca2-804b1e3da215"
      },
      "outputs": [
        {
          "data": {
            "image/png": "[encoded data removed]",
            "text/plain": [
              "<Figure size 640x480 with 1 Axes>"
            ]
          },
          "metadata": {},
          "output_type": "display_data"
        }
      ],
      "source": [
        "plt.clf()\n",
        "acc = history_dict[\"accuracy\"]\n",
        "val_acc = history_dict[\"val_accuracy\"]\n",
        "plt.plot(epochs, acc, \"bo\", label=\"Training acc\")\n",
        "plt.plot(epochs, val_acc, \"b\", label=\"Validation acc\")\n",
        "plt.title(\"Training and validation accuracy\")\n",
        "plt.xlabel(\"Epochs\")\n",
        "plt.ylabel(\"Accuracy\")\n",
        "plt.legend()\n",
        "plt.show()"
      ]
    },
    {
      "cell_type": "markdown",
      "metadata": {
        "id": "pI_DRyI0Reir"
      },
      "source": [
        "#### Testing the model"
      ]
    },
    {
      "cell_type": "code",
      "execution_count": 15,
      "metadata": {
        "colab": {
          "base_uri": "https://localhost:8080/"
        },
        "id": "rmWVvWccQyvE",
        "outputId": "609ee54f-c38f-4c21-93ea-ea2dd3dcead4"
      },
      "outputs": [
        {
          "name": "stdout",
          "output_type": "stream",
          "text": [
            "782/782 [==============================] - 2s 2ms/step - loss: 0.6306 - accuracy: 0.8585\n"
          ]
        }
      ],
      "source": [
        "results = model1.evaluate(x_test, y_test)"
      ]
    },
    {
      "cell_type": "code",
      "execution_count": null,
      "metadata": {
        "colab": {
          "base_uri": "https://localhost:8080/"
        },
        "id": "r6DlV13UQ6v9",
        "outputId": "5cd64c07-0097-4525-cf53-6dc7d42418fb"
      },
      "outputs": [
        {
          "data": {
            "text/plain": [
              "[0.6242935061454773, 0.8557199835777283]"
            ]
          },
          "execution_count": 18,
          "metadata": {},
          "output_type": "execute_result"
        }
      ],
      "source": [
        "results"
      ]
    },
    {
      "cell_type": "markdown",
      "metadata": {
        "id": "xifQDjKqwloa"
      },
      "source": [
        " **1.1.1** \n",
        " \n",
        "   >What type of preprocessing was applied to the raw input data? Why was \n",
        "it necessary to do so?\n",
        "\n",
        "The vectorize_sequences function is used to preprocess the data by vectorizing the sequences. The preprocessing step known as vectorization, which converts text data into numerical representations that will\n",
        "be fed into machine learning models.\n",
        "Using a list of sequences (in this case, movie reviews), the vectorize_sequences function creates a matrix representation of the sequences, with each row denoting a sequence and each column denoting a particular term or feature. The function represents the presence or absence of words in each sequence using one-hot encoding.\n",
        "Each sequence is turned into a binary vector by this function, where a 1 denotes the presence of a word at a certain index and a 0 denotes its absence.\n",
        "\n",
        "Why was  it necessary to do so?\n",
        "\n",
        "1.  One of the numerous machine learning models that require numerical input is neural networks. The information is vectorized into a numerical form that these models can easily process.\n",
        "2.  Data that is category or text-based can be vectorized to produce a clear and useful numerical representation. Instead of using large categorical variables or text strings, each element in the sequence is represented by a binary feature, which is memory-efficient and speeds up computations.\n",
        "1.  The vectorized data can easily be enhanced with additional numerical features in order to more correctly reflect and recognise more significant patterns.\n",
        "2.  Vectorizing the data makes it simpler to manage and process. Faster data preprocessing and model training are made possible by the efficient storage, transmission, and manipulation of vectorized data.\n",
        "\n",
        "1.  When data is vectorized, the original data's information is preserved. The model can still distinguish between distinct components or words in the sequence since each element is represented as a binary feature.\n",
        "\n"
      ]
    },
    {
      "cell_type": "markdown",
      "metadata": {
        "id": "4IwVTuGfwzOC"
      },
      "source": [
        " **1.1.2** \n",
        " > Does your model suffer from overfitting? If so, what would you suggest \n",
        "doing about it?\n",
        "\n",
        "Yes,this model suffer from overfitting,Based on loss and accuracy metrics during training for both the training and validation sets, we can see below point to find the model overfitting.\n",
        "1. Overfitting is present if the training loss keeps decreasing while the validation loss starts to rise or remains high.\n",
        "2. Indicators of overfitting include a steady increase in training accuracy and a stagnation or decline in validation accuracy.\n",
        "\n",
        "would advise attempting the following strategies\n",
        "\n",
        "1.  Having a larger dataset can assist prevent overfitting by giving the model access to a wider variety of samples. Utilising methods like data augmentation or collecting extra data may be advantageous.\n",
        "2.  Decreasing the number of layers, units, or features to make the model less complex. Consequently, the model may be better able to generalise to fresh data.\n",
        "2. A method for assessing the model's performance on various subsets of data is cross-validation. By evaluating the model's performance on hypothetical data, it is possible to determine whether the model is overfitting.\n",
        "2. An imbalance or bias in the training data might occasionally cause overfitting. A more generalised representation of the underlying patterns can be learned by the model by gathering more varied and representative data.\n"
      ]
    },
    {
      "cell_type": "markdown",
      "metadata": {
        "id": "MkQcmGOowzc2"
      },
      "source": [
        " **1.1.3** \n",
        " > Is accuracy a good metric of success in this case? Why (not)?\n",
        " \n",
        "For evaluating binary classification on the IMDB dataset, which consists of movie reviews flagged as positive or bad, accuracy can be a reasonable statistic. Usually, the dataset is balanced, meaning that it has about the same amounts of good and negative ratings. In these circumstances, accuracy can offer a useful evaluation of the model's performance.\n",
        "With almost equal amounts of good and negative evaluations, the IMDB dataset is often balanced. This situation allows accuracy to capture the overall correct classification rate, giving a clear indication of the model's effectiveness.\n",
        "showing the percentage of reviews that were successfully classified out of all reviews. It offers a clear and straightforward knowledge of how effectively the model is working.\n",
        "\n",
        "To have a fuller picture of the model's performance,better to take additional evaluation measures.\n",
        "\n",
        "1. The percentage of events that were accurately predicted as positive out of all instances that were projected as positive is known as precision. It is helpful when minimising false positives is crucial, such as when misclassifying a negative review as positive is undesirable.\n",
        "1. The proportion of accurately anticipated positive cases out of all actual positive instances is measured by recall, also known as sensitivity or true positive rate. Even if it generates more false positives, it is beneficial when gathering as many good ratings as possible is essential.\n",
        "2.   The F1 score, which is the harmonic mean of precision and recall, offers a balanced assessment that takes into account both measurements. It is especially helpful when striking a balance between memory and precision is required.\n",
        "2. The model's capacity to discriminate between positive and negative instances across various classification thresholds is measured by the area under the receiver operating characteristic curve (AUC-ROC). It offers a thorough analysis of the model's performance at various decision thresholds.\n"
      ]
    },
    {
      "cell_type": "markdown",
      "metadata": {
        "id": "96PvZIXicgJu"
      },
      "source": [
        "**1.2.1**\n",
        "\n",
        "> Write code to show two examples of reviews (in plain text), one labeled as _positive_, another labeled as _negative_."
      ]
    },
    {
      "cell_type": "code",
      "execution_count": 16,
      "metadata": {
        "colab": {
          "base_uri": "https://localhost:8080/"
        },
        "id": "M2DyBlmUx5Fy",
        "outputId": "0fe35a4e-1f62-4cef-8623-1ae2b08e4fff"
      },
      "outputs": [
        {
          "name": "stdout",
          "output_type": "stream",
          "text": [
            "Positive Review (Label: 1):\n",
            "? this film was just brilliant casting location scenery story direction everyone's really suited the part they played and you could just imagine being there robert ? is an amazing actor and now the same being director ? father came from the same scottish island as myself so i loved the fact there was a real connection with this film the witty remarks throughout the film were great it was just brilliant so much that i bought the film as soon as it was released for ? and would recommend it to everyone to watch and the fly fishing was amazing really cried at the end it was so sad and you know what they say if you cry at a film it must have been good and this definitely was also ? to the two little boy's that played the ? of norman and paul they were just brilliant children are often left out of the ? list i think because the stars that play them all grown up are such a big profile for the whole film but these children are amazing and should be praised for what they have done don't you think the whole story was so lovely because it was true and was someone's life after all that was shared with us all\n",
            "Negative Review (Label: 0):\n",
            "? this has to be one of the worst films of the 1990s when my friends i were watching this film being the target audience it was aimed at we just sat watched the first half an hour with our jaws touching the floor at how bad it really was the rest of the time everyone else in the theatre just started talking to each other leaving or generally crying into their popcorn that they actually paid money they had ? working to watch this feeble excuse for a film it must have looked like a great idea on paper but on film it looks like no one in the film has a clue what is going on crap acting crap costumes i can't get across how ? this is to watch save yourself an hour a bit of your life\n"
          ]
        }
      ],
      "source": [
        "def decode_review(indices):\n",
        "    return ' '.join([reverse_word_index.get(i - 3, '?') for i in indices])\n",
        "\n",
        "positive_index = next((i for i, label in enumerate(train_labels) if label == 1))\n",
        "positive_review = decode_review(train_data[positive_index])\n",
        "negative_index = next((i for i, label in enumerate(train_labels[16:]) if label == 0))\n",
        "nagative_review = decode_review(train_data[negative_index])\n",
        "print(\"Positive Review (Label: 1):\")\n",
        "print(positive_review)\n",
        "\n",
        "print(\"Negative Review (Label: 0):\")\n",
        "print(nagative_review)\n",
        "\n",
        "\n"
      ]
    },
    {
      "cell_type": "markdown",
      "metadata": {
        "id": "lJetC7rA36VT"
      },
      "source": [
        "**1.2.2**\n",
        "\n",
        "> Write code to display 2 cases (one false positive, one false negative) where the classifier makes mistakes. Make sure to display both the true value as well as the predicted value.\n"
      ]
    },
    {
      "cell_type": "markdown",
      "metadata": {
        "id": "ALsreuF0Lr2x"
      },
      "source": []
    },
    {
      "cell_type": "code",
      "execution_count": 17,
      "metadata": {
        "colab": {
          "base_uri": "https://localhost:8080/"
        },
        "id": "7gHnumEdBVmv",
        "outputId": "0de309b6-302c-4ae6-efc0-0bf79001e710"
      },
      "outputs": [
        {
          "name": "stdout",
          "output_type": "stream",
          "text": [
            "313/313 [==============================] - 1s 2ms/step\n",
            "False Positive:\n",
            "Review: ? i generally love this type of movie however this time i found myself wanting to kick the screen since i can't do that i will just complain about it this was absolutely idiotic the things that happen with the dead kids are very cool but the alive people are absolute idiots i am a grown man pretty big and i can defend myself well however i would not do half the stuff the little girl does in this movie also the mother in this movie is reckless with her children to the point of neglect i wish i wasn't so angry about her and her actions because i would have otherwise enjoyed the flick what a number she was take my advise and fast forward through everything you see her do until the end also is anyone else getting sick of watching movies that are filmed so dark anymore one can hardly see what is being filmed as an audience we are ? involved with the actions on the screen so then why the hell can't we have night vision\n",
            "True Label: 0\n",
            "Predicted Label: [1.]\n",
            "\n"
          ]
        }
      ],
      "source": [
        "x_test_decoded = [decode_review(review) for review in test_data]\n",
        "# Make predictions on the test data\n",
        "y_pred = model1.predict(x_val)\n",
        "#False positive with true and predicted labels\n",
        "FP_index = next((i for i in range(len(test_labels)) if test_labels[i] == 0 and y_pred[i] >=1),None)\n",
        "FP_review = x_test_decoded[FP_index]\n",
        "FP_true_label = test_labels[FP_index]\n",
        "FP_predicted_label = y_pred[FP_index]\n",
        "\n",
        "print(\"False Positive:\") \n",
        "print(\"Review:\", FP_review) \n",
        "print(\"True Label:\", FP_true_label)\n",
        "print(\"Predicted Label:\", FP_predicted_label)\n",
        "print() \n",
        "\n"
      ]
    },
    {
      "cell_type": "code",
      "execution_count": 18,
      "metadata": {
        "colab": {
          "base_uri": "https://localhost:8080/"
        },
        "id": "g84O7SmCZOsX",
        "outputId": "24794b72-4ec5-457e-ba14-356e040f32de"
      },
      "outputs": [
        {
          "name": "stdout",
          "output_type": "stream",
          "text": [
            "False negative:\n",
            "Review: ? this film requires a lot of patience because it focuses on mood and character development the plot is very simple and many of the scenes take place on the same set in frances ? the sandy dennis character apartment but the film builds to a disturbing climax br br the characters create an atmosphere ? with sexual tension and psychological ? it's very interesting that robert altman directed this considering the style and structure of his other films still the trademark altman audio style is evident here and there i think what really makes this film work is the brilliant performance by sandy dennis it's definitely one of her darker characters but she plays it so perfectly and convincingly that it's scary michael burns does a good job as the mute young man regular altman player michael murphy has a small part the ? moody set fits the content of the story very well in short this movie is a powerful study of loneliness sexual ? and desperation be patient ? up the atmosphere and pay attention to the wonderfully written script br br i praise robert altman this is one of his many films that deals with unconventional fascinating subject matter this film is disturbing but it's sincere and it's sure to ? a strong emotional response from the viewer if you want to see an unusual film some might even say bizarre this is worth the time br br unfortunately it's very difficult to find in video stores you may have to buy it off the internet\n",
            "True Label: 1\n",
            "Predicted Label: [3.3598397e-05]\n",
            "\n"
          ]
        }
      ],
      "source": [
        "#False negative with true and predicted labels\n",
        "x_test_decoded = [decode_review(review) for review in test_data]\n",
        "FN_index = next((i for i in range(len(test_labels)) if test_labels[i] == 1 and y_pred[i] <0.5),None)\n",
        "FN_review = x_test_decoded[FN_index] \n",
        "FN_true_label = test_labels[FN_index]\n",
        "FN_predicted_label = y_pred[FN_index]\n",
        "\n",
        "print(\"False negative:\") \n",
        "print(\"Review:\", FN_review) \n",
        "print(\"True Label:\", FN_true_label) \n",
        "print(\"Predicted Label:\", FN_predicted_label) \n",
        "print()\n"
      ]
    },
    {
      "cell_type": "markdown",
      "metadata": {
        "id": "6mHAav52z2z4"
      },
      "source": [
        "**1.2.3**\n",
        ">Comment on the mistakes and what you believe might have caused each of them.\n",
        "\n",
        "**False Possitive**\n",
        "\n",
        "1. Contextual Understanding: Because of the review's sophisticated language, the model might have trouble capturing the negative attitude represented there. Phrases like \"terrible performances,\" \"flat, flat, flat,\" and \"wasn't going to work out\" are present because they convey a negative attitude, which the model was unable to detect.\n",
        "1. The usage of phrases or idioms that are not frequently associated with negative emotion may have an impact on the misclassification. The adage \"give this one a miss\" is a warning to avoid something since it is frequently associated with negative emotions, even though the model may not have fully integrated this link.\n",
        "2. It's possible that the classifier made its decision with insufficient context from the review. It might have focussed on a few words or phrases without considering the complete sentiment or context offered in the entire text.\n",
        "2. The model could be unable to fully represent the nuanced connections between words, phrases, and sentiment.\n",
        "\n",
        "\n",
        "**False Negative**\n",
        "\n",
        "1.  It's possible that this review does not use overtly sentimental terms or phrases that are frequently found in positive evaluations. Despite praising certain sections of the movie and highlighting its positive aspects, the classification might be incorrect because there aren't any significant emotion indicators.\n",
        "1. Due to the review's complex sentence structures, a few terms that are either missing or misunderstood and cause classification mistakes, as well as a few other factors, it may be challenging for the model to effectively reflect the review's overall positive mood.\n",
        "2. The review has unclear statements or expressions that various readers may interpret in different ways. Due to the sophisticated language used in the review, the model might have trouble identifying favourable emotions.\n",
        "2. It's likely that the model is unable to properly understand the text's nuance and context. The favourable message that was conveyed by the reviewer's tone and emphasis on particular elements of the film might not be accurately portrayed.\n"
      ]
    },
    {
      "cell_type": "markdown",
      "metadata": {
        "id": "dmlYOsbMxY-d"
      },
      "source": [
        "**1.2.4**\n",
        "\n",
        "> Write code to try different combinations of:\n",
        "- numbers of hidden layers and units per layer \n",
        "- loss functions\n",
        "- activation functions\n",
        "\n",
        "> Please refrain from using better architectures (RNN, LSTM, etc.) and \"advanced\" techniques to curb overfitting (e.g., dropout, batch normalization, weight regularization, etc.)"
      ]
    },
    {
      "cell_type": "markdown",
      "metadata": {
        "id": "wr7mLodPIV7f"
      },
      "source": [
        "Number of Layer and units per hidden layer are changed \n",
        "\n",
        "*  Advance techniques BatchNormalization and Dropout were added.\n",
        "*  Activation Function  tanh\n",
        "\n"
      ]
    },
    {
      "cell_type": "code",
      "execution_count": 66,
      "metadata": {
        "id": "4HT9tBS4Z1aU"
      },
      "outputs": [],
      "source": [
        "from keras import regularizers\n",
        "model11 = keras.Sequential([\n",
        "    layers.Dense(16, activation=\"relu\"),\n",
        "    layers.BatchNormalization(),\n",
        "    layers.Dense(16, activation=\"relu\"),\n",
        "    layers.Dense(32, activation=\"relu\"),\n",
        "    layers.Dropout(0.2), \n",
        "    #layers.LSTM(32, activation=\"relu\", return_sequences=True),  # LSTM layer with return_sequences=True\n",
        "    #layers.LSTM(16, activation=\"relu\"),  # LSTM layer without return_sequences=True\n",
        "    layers.Dense(1, activation=\"tanh\")\n",
        "])\n"
      ]
    },
    {
      "cell_type": "markdown",
      "metadata": {
        "id": "M1GRznfbIUmQ"
      },
      "source": []
    },
    {
      "cell_type": "code",
      "execution_count": 69,
      "metadata": {
        "id": "SLGRJHhUZLbW"
      },
      "outputs": [],
      "source": [
        "model11.compile(optimizer=\"rmsprop\",\n",
        "              loss=\"mean_squared_error\",\n",
        "              metrics=[\"accuracy\"])"
      ]
    },
    {
      "cell_type": "code",
      "execution_count": 68,
      "metadata": {
        "colab": {
          "base_uri": "https://localhost:8080/"
        },
        "id": "FMwBTwdcaKeR",
        "outputId": "a449be5a-d01c-4292-9c01-3206e638c8b8"
      },
      "outputs": [
        {
          "name": "stdout",
          "output_type": "stream",
          "text": [
            "Epoch 1/20\n",
            "30/30 [==============================] - 3s 53ms/step - loss: 0.2474 - accuracy: 0.6935 - val_loss: 0.2458 - val_accuracy: 0.5274\n",
            "Epoch 2/20\n",
            "30/30 [==============================] - 1s 22ms/step - loss: 0.0966 - accuracy: 0.8825 - val_loss: 0.1877 - val_accuracy: 0.6838\n",
            "Epoch 3/20\n",
            "30/30 [==============================] - 1s 22ms/step - loss: 0.0544 - accuracy: 0.9385 - val_loss: 0.1620 - val_accuracy: 0.7633\n",
            "Epoch 4/20\n",
            "30/30 [==============================] - 1s 22ms/step - loss: 0.0309 - accuracy: 0.9677 - val_loss: 0.1545 - val_accuracy: 0.7848\n",
            "Epoch 5/20\n",
            "30/30 [==============================] - 1s 25ms/step - loss: 0.0173 - accuracy: 0.9833 - val_loss: 0.1243 - val_accuracy: 0.8350\n",
            "Epoch 6/20\n",
            "30/30 [==============================] - 1s 26ms/step - loss: 0.0097 - accuracy: 0.9921 - val_loss: 0.1544 - val_accuracy: 0.7993\n",
            "Epoch 7/20\n",
            "30/30 [==============================] - 1s 22ms/step - loss: 0.0069 - accuracy: 0.9942 - val_loss: 0.1269 - val_accuracy: 0.8327\n",
            "Epoch 8/20\n",
            "30/30 [==============================] - 1s 23ms/step - loss: 0.0055 - accuracy: 0.9951 - val_loss: 0.1264 - val_accuracy: 0.8346\n",
            "Epoch 9/20\n",
            "30/30 [==============================] - 1s 25ms/step - loss: 0.0049 - accuracy: 0.9952 - val_loss: 0.1283 - val_accuracy: 0.8351\n",
            "Epoch 10/20\n",
            "30/30 [==============================] - 1s 26ms/step - loss: 0.0041 - accuracy: 0.9958 - val_loss: 0.1200 - val_accuracy: 0.8510\n",
            "Epoch 11/20\n",
            "30/30 [==============================] - 1s 25ms/step - loss: 0.0034 - accuracy: 0.9967 - val_loss: 0.1194 - val_accuracy: 0.8548\n",
            "Epoch 12/20\n",
            "30/30 [==============================] - 1s 28ms/step - loss: 0.0031 - accuracy: 0.9967 - val_loss: 0.1787 - val_accuracy: 0.7909\n",
            "Epoch 13/20\n",
            "30/30 [==============================] - 1s 30ms/step - loss: 0.0033 - accuracy: 0.9969 - val_loss: 0.1297 - val_accuracy: 0.8463\n",
            "Epoch 14/20\n",
            "30/30 [==============================] - 1s 26ms/step - loss: 0.0028 - accuracy: 0.9969 - val_loss: 0.1283 - val_accuracy: 0.8476\n",
            "Epoch 15/20\n",
            "30/30 [==============================] - 1s 24ms/step - loss: 0.0024 - accuracy: 0.9976 - val_loss: 0.1442 - val_accuracy: 0.8344\n",
            "Epoch 16/20\n",
            "30/30 [==============================] - 1s 25ms/step - loss: 0.0023 - accuracy: 0.9977 - val_loss: 0.1337 - val_accuracy: 0.8448\n",
            "Epoch 17/20\n",
            "30/30 [==============================] - 1s 23ms/step - loss: 0.0023 - accuracy: 0.9977 - val_loss: 0.1385 - val_accuracy: 0.8418\n",
            "Epoch 18/20\n",
            "30/30 [==============================] - 1s 23ms/step - loss: 0.0023 - accuracy: 0.9975 - val_loss: 0.1409 - val_accuracy: 0.8371\n",
            "Epoch 19/20\n",
            "30/30 [==============================] - 1s 22ms/step - loss: 0.0019 - accuracy: 0.9979 - val_loss: 0.1680 - val_accuracy: 0.8089\n",
            "Epoch 20/20\n",
            "30/30 [==============================] - 1s 25ms/step - loss: 0.0018 - accuracy: 0.9980 - val_loss: 0.1342 - val_accuracy: 0.8475\n"
          ]
        }
      ],
      "source": [
        "history1 = model11.fit(partial_x_train,\n",
        "                    partial_y_train,\n",
        "                    epochs=20,\n",
        "                    batch_size=512,\n",
        "                     validation_data=(x_val, y_val ) )"
      ]
    },
    {
      "cell_type": "code",
      "execution_count": 57,
      "metadata": {
        "colab": {
          "base_uri": "https://localhost:8080/"
        },
        "id": "cuZtL233aU-q",
        "outputId": "2037851b-169a-46b8-bed1-16e6cac4f10b"
      },
      "outputs": [
        {
          "data": {
            "text/plain": [
              "dict_keys(['loss', 'accuracy', 'val_loss', 'val_accuracy'])"
            ]
          },
          "execution_count": 57,
          "metadata": {},
          "output_type": "execute_result"
        }
      ],
      "source": [
        "history_dict1 = history1.history\n",
        "history_dict1.keys()"
      ]
    },
    {
      "cell_type": "code",
      "execution_count": 70,
      "metadata": {
        "colab": {
          "base_uri": "https://localhost:8080/",
          "height": 472
        },
        "id": "ckagokE_aVMz",
        "outputId": "75a17665-be43-47ae-9b1e-2e3d9d6fd02c"
      },
      "outputs": [
        {
          "data": {
            "image/png": "[encoded data removed]",
            "text/plain": [
              "<Figure size 640x480 with 1 Axes>"
            ]
          },
          "metadata": {},
          "output_type": "display_data"
        }
      ],
      "source": [
        "import matplotlib.pyplot as plt\n",
        "history_dict1 = history1.history\n",
        "loss_values = history_dict1[\"loss\"]\n",
        "val_loss_values = history_dict1[\"val_loss\"]\n",
        "epochs = range(1, len(loss_values) + 1)\n",
        "plt.plot(epochs, loss_values, \"bo\", label=\"Training loss\")\n",
        "plt.plot(epochs, val_loss_values, \"b\", label=\"Validation loss\")\n",
        "plt.title(\"Training and validation loss\")\n",
        "plt.xlabel(\"Epochs\")\n",
        "plt.ylabel(\"Loss\")\n",
        "plt.legend()\n",
        "plt.show()"
      ]
    },
    {
      "cell_type": "code",
      "execution_count": 71,
      "metadata": {
        "colab": {
          "base_uri": "https://localhost:8080/",
          "height": 472
        },
        "id": "BSwe0uo3bwAZ",
        "outputId": "7b87a3fa-bb19-4407-d9bf-421cb00ef45b"
      },
      "outputs": [
        {
          "data": {
            "image/png": "[encoded data removed]",
            "text/plain": [
              "<Figure size 640x480 with 1 Axes>"
            ]
          },
          "metadata": {},
          "output_type": "display_data"
        }
      ],
      "source": [
        "plt.clf()\n",
        "acc = history_dict1[\"accuracy\"]\n",
        "val_acc = history_dict1[\"val_accuracy\"]\n",
        "plt.plot(epochs, acc, \"bo\", label=\"Training acc\")\n",
        "plt.plot(epochs, val_acc, \"b\", label=\"Validation acc\")\n",
        "plt.title(\"Training and validation accuracy\")\n",
        "plt.xlabel(\"Epochs\")\n",
        "plt.ylabel(\"Accuracy\")\n",
        "plt.legend()\n",
        "plt.show()"
      ]
    },
    {
      "cell_type": "markdown",
      "metadata": {
        "id": "C15mmBXeW3ZG"
      },
      "source": [
        "## Multiclass classification of newswires using the Reuters dataset**\n",
        "\n",
        "Once again, we will start with a simple solution using a fully-connected neural network architecture. "
      ]
    },
    {
      "cell_type": "markdown",
      "metadata": {
        "id": "mlFE0npdxh6j"
      },
      "source": [
        "### The Reuters dataset"
      ]
    },
    {
      "cell_type": "markdown",
      "metadata": {
        "id": "2rlaaGT5xh6j"
      },
      "source": [
        "#### Loading the Reuters dataset"
      ]
    },
    {
      "cell_type": "code",
      "execution_count": 60,
      "metadata": {
        "colab": {
          "base_uri": "https://localhost:8080/"
        },
        "id": "mF_v9mnCxh6k",
        "outputId": "e34e04c4-f287-44ab-ce98-ac641c4caca1"
      },
      "outputs": [
        {
          "name": "stdout",
          "output_type": "stream",
          "text": [
            "Downloading data from https://storage.googleapis.com/tensorflow/tf-keras-datasets/reuters.npz\n",
            "2110848/2110848 [==============================] - 1s 1us/step\n"
          ]
        }
      ],
      "source": [
        "from tensorflow.keras.datasets import reuters\n",
        "(train_data, train_labels), (test_data, test_labels) = reuters.load_data(\n",
        "    num_words=10000)"
      ]
    },
    {
      "cell_type": "code",
      "execution_count": 61,
      "metadata": {
        "colab": {
          "base_uri": "https://localhost:8080/"
        },
        "id": "a9HDPrTzxh6k",
        "outputId": "986b6c43-19ad-45ab-f3db-caee3766580e"
      },
      "outputs": [
        {
          "data": {
            "text/plain": [
              "8982"
            ]
          },
          "execution_count": 61,
          "metadata": {},
          "output_type": "execute_result"
        }
      ],
      "source": [
        "len(train_data)"
      ]
    },
    {
      "cell_type": "code",
      "execution_count": 62,
      "metadata": {
        "colab": {
          "base_uri": "https://localhost:8080/"
        },
        "id": "chhwyrjsxh6k",
        "outputId": "a8385241-2151-4082-bbe4-3d7f0eabcfe0"
      },
      "outputs": [
        {
          "data": {
            "text/plain": [
              "2246"
            ]
          },
          "execution_count": 62,
          "metadata": {},
          "output_type": "execute_result"
        }
      ],
      "source": [
        "len(test_data)"
      ]
    },
    {
      "cell_type": "code",
      "execution_count": null,
      "metadata": {
        "colab": {
          "base_uri": "https://localhost:8080/"
        },
        "id": "6MLEiOe6xh6k",
        "outputId": "ea57d4ee-7244-4ab8-eb19-93dd64f56c82"
      },
      "outputs": [
        {
          "data": {
            "text/plain": [
              "[1,\n",
              " 245,\n",
              " 273,\n",
              " 207,\n",
              " 156,\n",
              " 53,\n",
              " 74,\n",
              " 160,\n",
              " 26,\n",
              " 14,\n",
              " 46,\n",
              " 296,\n",
              " 26,\n",
              " 39,\n",
              " 74,\n",
              " 2979,\n",
              " 3554,\n",
              " 14,\n",
              " 46,\n",
              " 4689,\n",
              " 4329,\n",
              " 86,\n",
              " 61,\n",
              " 3499,\n",
              " 4795,\n",
              " 14,\n",
              " 61,\n",
              " 451,\n",
              " 4329,\n",
              " 17,\n",
              " 12]"
            ]
          },
          "execution_count": 25,
          "metadata": {},
          "output_type": "execute_result"
        }
      ],
      "source": [
        "train_data[10]"
      ]
    },
    {
      "cell_type": "markdown",
      "metadata": {
        "id": "ndgmqtEpxh6k"
      },
      "source": [
        "#### Decoding newswires back to text"
      ]
    },
    {
      "cell_type": "code",
      "execution_count": 63,
      "metadata": {
        "colab": {
          "base_uri": "https://localhost:8080/"
        },
        "id": "ldaiUmBGxh6k",
        "outputId": "34b11600-6e68-4460-ae44-7a85f4cd8222"
      },
      "outputs": [
        {
          "name": "stdout",
          "output_type": "stream",
          "text": [
            "Downloading data from https://storage.googleapis.com/tensorflow/tf-keras-datasets/reuters_word_index.json\n",
            "550378/550378 [==============================] - 1s 1us/step\n"
          ]
        }
      ],
      "source": [
        "word_index = reuters.get_word_index()\n",
        "reverse_word_index = dict([(value, key) for (key, value) in word_index.items()])\n",
        "decoded_newswire = \" \".join([reverse_word_index.get(i - 3, \"?\") for i in\n",
        "    train_data[0]])"
      ]
    },
    {
      "cell_type": "code",
      "execution_count": 64,
      "metadata": {
        "colab": {
          "base_uri": "https://localhost:8080/"
        },
        "id": "2-khNfkkxh6k",
        "outputId": "130ec6ff-3583-46db-b3ab-621a26bceaa0"
      },
      "outputs": [
        {
          "data": {
            "text/plain": [
              "3"
            ]
          },
          "execution_count": 64,
          "metadata": {},
          "output_type": "execute_result"
        }
      ],
      "source": [
        "train_labels[10]"
      ]
    },
    {
      "cell_type": "markdown",
      "metadata": {
        "id": "4WwJMB6Gxh6k"
      },
      "source": [
        "### Preparing the data"
      ]
    },
    {
      "cell_type": "markdown",
      "metadata": {
        "id": "yMs-iTejxh6k"
      },
      "source": [
        "#### Encoding the input data"
      ]
    },
    {
      "cell_type": "code",
      "execution_count": 72,
      "metadata": {
        "id": "zds63peXxh6k"
      },
      "outputs": [],
      "source": [
        "x_train = vectorize_sequences(train_data)\n",
        "x_test = vectorize_sequences(test_data)"
      ]
    },
    {
      "cell_type": "markdown",
      "metadata": {
        "id": "6bncEBgYxh6k"
      },
      "source": [
        "#### Encoding the labels"
      ]
    },
    {
      "cell_type": "code",
      "execution_count": 73,
      "metadata": {
        "id": "srqpJ7ggxh6k"
      },
      "outputs": [],
      "source": [
        "def to_one_hot(labels, dimension=46):\n",
        "    results = np.zeros((len(labels), dimension))\n",
        "    for i, label in enumerate(labels):\n",
        "        results[i, label] = 1.\n",
        "    return results\n",
        "y_train = to_one_hot(train_labels)\n",
        "y_test = to_one_hot(test_labels)"
      ]
    },
    {
      "cell_type": "code",
      "execution_count": 89,
      "metadata": {
        "id": "oXv_Du2vxh6k"
      },
      "outputs": [],
      "source": [
        "from tensorflow.keras.utils import to_categorical\n",
        "y_train = to_categorical(train_labels)\n",
        "y_test = to_categorical(test_labels)\n",
        "\n"
      ]
    },
    {
      "cell_type": "markdown",
      "metadata": {
        "id": "5R4pX8KLxh6k"
      },
      "source": [
        "### Building your model"
      ]
    },
    {
      "cell_type": "markdown",
      "metadata": {
        "id": "uGU5Ex_gxh6k"
      },
      "source": [
        "#### Model definition"
      ]
    },
    {
      "cell_type": "code",
      "execution_count": 75,
      "metadata": {
        "id": "lSeVv-voxh6k"
      },
      "outputs": [],
      "source": [
        "model2 = keras.Sequential([\n",
        "    layers.Dense(64, activation=\"relu\"),\n",
        "    layers.Dense(64, activation=\"relu\"),\n",
        "    layers.Dense(46, activation=\"softmax\")\n",
        "])"
      ]
    },
    {
      "cell_type": "markdown",
      "metadata": {
        "id": "Hg1Y1SpMxh6k"
      },
      "source": [
        "#### Compiling the model"
      ]
    },
    {
      "cell_type": "code",
      "execution_count": 76,
      "metadata": {
        "id": "EInD8W2axh6k"
      },
      "outputs": [],
      "source": [
        "model2.compile(optimizer=\"rmsprop\",\n",
        "              loss=\"categorical_crossentropy\",\n",
        "              metrics=[\"accuracy\"])"
      ]
    },
    {
      "cell_type": "markdown",
      "metadata": {
        "id": "NaBg251Axh6k"
      },
      "source": [
        "### Validating your approach"
      ]
    },
    {
      "cell_type": "markdown",
      "metadata": {
        "id": "s74Gi5vvxh6k"
      },
      "source": [
        "#### Setting aside a validation set"
      ]
    },
    {
      "cell_type": "code",
      "execution_count": 77,
      "metadata": {
        "id": "OjMkDhn-xh6k"
      },
      "outputs": [],
      "source": [
        "x_val = x_train[:1000]\n",
        "partial_x_train = x_train[1000:]\n",
        "y_val = y_train[:1000]\n",
        "partial_y_train = y_train[1000:]"
      ]
    },
    {
      "cell_type": "markdown",
      "metadata": {
        "id": "0eOTJNH_xh6k"
      },
      "source": [
        "#### Training the model"
      ]
    },
    {
      "cell_type": "code",
      "execution_count": 78,
      "metadata": {
        "colab": {
          "base_uri": "https://localhost:8080/"
        },
        "id": "-B2WgrGZxh6l",
        "outputId": "9d50cfe4-ef32-4470-94c1-4ae4b3bc5708"
      },
      "outputs": [
        {
          "name": "stdout",
          "output_type": "stream",
          "text": [
            "Epoch 1/20\n",
            "16/16 [==============================] - 2s 34ms/step - loss: 2.8253 - accuracy: 0.5104 - val_loss: 1.8666 - val_accuracy: 0.6040\n",
            "Epoch 2/20\n",
            "16/16 [==============================] - 0s 20ms/step - loss: 1.5762 - accuracy: 0.6809 - val_loss: 1.3800 - val_accuracy: 0.7000\n",
            "Epoch 3/20\n",
            "16/16 [==============================] - 0s 21ms/step - loss: 1.1981 - accuracy: 0.7424 - val_loss: 1.1831 - val_accuracy: 0.7460\n",
            "Epoch 4/20\n",
            "16/16 [==============================] - 0s 19ms/step - loss: 0.9753 - accuracy: 0.7939 - val_loss: 1.0913 - val_accuracy: 0.7600\n",
            "Epoch 5/20\n",
            "16/16 [==============================] - 0s 17ms/step - loss: 0.8114 - accuracy: 0.8251 - val_loss: 1.0282 - val_accuracy: 0.7780\n",
            "Epoch 6/20\n",
            "16/16 [==============================] - 0s 17ms/step - loss: 0.6827 - accuracy: 0.8517 - val_loss: 0.9609 - val_accuracy: 0.7860\n",
            "Epoch 7/20\n",
            "16/16 [==============================] - 0s 17ms/step - loss: 0.5796 - accuracy: 0.8747 - val_loss: 0.9524 - val_accuracy: 0.7910\n",
            "Epoch 8/20\n",
            "16/16 [==============================] - 0s 20ms/step - loss: 0.4874 - accuracy: 0.8941 - val_loss: 0.9647 - val_accuracy: 0.7790\n",
            "Epoch 9/20\n",
            "16/16 [==============================] - 0s 18ms/step - loss: 0.4166 - accuracy: 0.9099 - val_loss: 0.8816 - val_accuracy: 0.8070\n",
            "Epoch 10/20\n",
            "16/16 [==============================] - 0s 18ms/step - loss: 0.3571 - accuracy: 0.9257 - val_loss: 0.8860 - val_accuracy: 0.8150\n",
            "Epoch 11/20\n",
            "16/16 [==============================] - 0s 20ms/step - loss: 0.3054 - accuracy: 0.9334 - val_loss: 0.8878 - val_accuracy: 0.8120\n",
            "Epoch 12/20\n",
            "16/16 [==============================] - 0s 18ms/step - loss: 0.2682 - accuracy: 0.9411 - val_loss: 0.8708 - val_accuracy: 0.8230\n",
            "Epoch 13/20\n",
            "16/16 [==============================] - 0s 20ms/step - loss: 0.2337 - accuracy: 0.9461 - val_loss: 0.8828 - val_accuracy: 0.8130\n",
            "Epoch 14/20\n",
            "16/16 [==============================] - 0s 17ms/step - loss: 0.2095 - accuracy: 0.9498 - val_loss: 0.9135 - val_accuracy: 0.8130\n",
            "Epoch 15/20\n",
            "16/16 [==============================] - 0s 17ms/step - loss: 0.1895 - accuracy: 0.9530 - val_loss: 0.9172 - val_accuracy: 0.8090\n",
            "Epoch 16/20\n",
            "16/16 [==============================] - 0s 19ms/step - loss: 0.1778 - accuracy: 0.9534 - val_loss: 0.9206 - val_accuracy: 0.8140\n",
            "Epoch 17/20\n",
            "16/16 [==============================] - 0s 16ms/step - loss: 0.1618 - accuracy: 0.9562 - val_loss: 0.9171 - val_accuracy: 0.8060\n",
            "Epoch 18/20\n",
            "16/16 [==============================] - 0s 17ms/step - loss: 0.1536 - accuracy: 0.9550 - val_loss: 0.9119 - val_accuracy: 0.8100\n",
            "Epoch 19/20\n",
            "16/16 [==============================] - 0s 17ms/step - loss: 0.1451 - accuracy: 0.9548 - val_loss: 0.9549 - val_accuracy: 0.8090\n",
            "Epoch 20/20\n",
            "16/16 [==============================] - 0s 20ms/step - loss: 0.1376 - accuracy: 0.9572 - val_loss: 0.9400 - val_accuracy: 0.8140\n"
          ]
        }
      ],
      "source": [
        "history = model2.fit(partial_x_train,\n",
        "                    partial_y_train,\n",
        "                    epochs=20,\n",
        "                    batch_size=512,\n",
        "                    validation_data=(x_val, y_val))"
      ]
    },
    {
      "cell_type": "markdown",
      "metadata": {
        "id": "Pic3C9saxh6l"
      },
      "source": [
        "#### Plotting the training and validation loss"
      ]
    },
    {
      "cell_type": "code",
      "execution_count": 79,
      "metadata": {
        "colab": {
          "base_uri": "https://localhost:8080/",
          "height": 472
        },
        "id": "6YiutR18xh6l",
        "outputId": "0474c1bb-965d-4730-b81d-f4d7b8796c53"
      },
      "outputs": [
        {
          "data": {
            "image/png": "[encoded data removed]",
            "text/plain": [
              "<Figure size 640x480 with 1 Axes>"
            ]
          },
          "metadata": {},
          "output_type": "display_data"
        }
      ],
      "source": [
        "loss = history.history[\"loss\"]\n",
        "val_loss = history.history[\"val_loss\"]\n",
        "epochs = range(1, len(loss) + 1)\n",
        "plt.plot(epochs, loss, \"bo\", label=\"Training loss\")\n",
        "plt.plot(epochs, val_loss, \"b\", label=\"Validation loss\")\n",
        "plt.title(\"Training and validation loss\")\n",
        "plt.xlabel(\"Epochs\")\n",
        "plt.ylabel(\"Loss\")\n",
        "plt.legend()\n",
        "plt.show()"
      ]
    },
    {
      "cell_type": "markdown",
      "metadata": {
        "id": "9JmGj8BQxh6l"
      },
      "source": [
        "#### Plotting the training and validation accuracy"
      ]
    },
    {
      "cell_type": "code",
      "execution_count": 80,
      "metadata": {
        "colab": {
          "base_uri": "https://localhost:8080/",
          "height": 472
        },
        "id": "qRJH4bWjxh6l",
        "outputId": "36730daf-6601-4aba-c097-f6dba7bf7490"
      },
      "outputs": [
        {
          "data": {
            "image/png": "[encoded data removed]",
            "text/plain": [
              "<Figure size 640x480 with 1 Axes>"
            ]
          },
          "metadata": {},
          "output_type": "display_data"
        }
      ],
      "source": [
        "plt.clf()\n",
        "acc = history.history[\"accuracy\"]\n",
        "val_acc = history.history[\"val_accuracy\"]\n",
        "plt.plot(epochs, acc, \"bo\", label=\"Training accuracy\")\n",
        "plt.plot(epochs, val_acc, \"b\", label=\"Validation accuracy\")\n",
        "plt.title(\"Training and validation accuracy\")\n",
        "plt.xlabel(\"Epochs\")\n",
        "plt.ylabel(\"Accuracy\")\n",
        "plt.legend()\n",
        "plt.show()"
      ]
    },
    {
      "cell_type": "markdown",
      "metadata": {
        "id": "5WPSZ25cRT7P"
      },
      "source": [
        "#### Testing the model\n"
      ]
    },
    {
      "cell_type": "code",
      "execution_count": 81,
      "metadata": {
        "colab": {
          "base_uri": "https://localhost:8080/"
        },
        "id": "Kx9tb58YQOuE",
        "outputId": "cfd78286-356e-4431-d8e8-cfea79230959"
      },
      "outputs": [
        {
          "name": "stdout",
          "output_type": "stream",
          "text": [
            "71/71 [==============================] - 0s 3ms/step - loss: 1.0455 - accuracy: 0.7934\n"
          ]
        }
      ],
      "source": [
        "results = model2.evaluate(x_test, y_test)"
      ]
    },
    {
      "cell_type": "code",
      "execution_count": null,
      "metadata": {
        "colab": {
          "base_uri": "https://localhost:8080/"
        },
        "id": "kAIVUZb6xh6l",
        "outputId": "21d86429-17a7-4684-8ed2-7dc64849562f"
      },
      "outputs": [
        {
          "data": {
            "text/plain": [
              "[1.039241909980774, 0.7938557267189026]"
            ]
          },
          "execution_count": 38,
          "metadata": {},
          "output_type": "execute_result"
        }
      ],
      "source": [
        "results"
      ]
    },
    {
      "cell_type": "markdown",
      "metadata": {
        "id": "ngUhSR-S4INU"
      },
      "source": [
        "**2.1.1**\n",
        "\n",
        ">What type of preprocessing was applied to the raw input data?\n",
        "\n",
        "**Vectorization **\n",
        "\n",
        "The vectorize_sequences function is used to preprocess the data by vectorizing the sequences. The preprocessing step known as vectorization, which converts text data into numerical representations that will\n",
        "be fed into machine learning models.\n",
        "Using a list of sequences (in this case, movie reviews), the vectorize_sequences function creates a matrix representation of the sequences, with each row denoting a sequence and each column denoting a particular term or feature. The function represents the presence or absence of words in each sequence using one-hot encoding.\n",
        "Each sequence is turned into a binary vector by this function, where a 1 denotes the presence of a word at a certain index and a 0 denotes its absence.\n",
        "\n",
        "Why was it necessary to do so?\n",
        "\n",
        "1. One of the numerous machine learning models that require numerical input is neural networks. The information is vectorized into a numerical form that these models can easily process.\n",
        "2. Data that is category or text-based can be vectorized to produce a clear and useful numerical representation. Instead of using large categorical variables or text strings, each element in the sequence is represented by a binary feature, which is memory-efficient and speeds up computations.\n",
        "3. The vectorized data can easily be enhanced with additional numerical features in order to more correctly reflect and recognise more significant patterns.\n",
        "\n",
        "4. Vectorizing the data makes it simpler to manage and process. Faster data preprocessing and model training are made possible by the efficient storage, transmission, and manipulation of vectorized data.\n",
        "\n",
        "5. When data is vectorized, the original data's information is preserved. The model can still distinguish between distinct components or words in the sequence since each element is represented as a binary feature.\n",
        "\n",
        "\n",
        "**one-hot encoding**\n",
        "\n",
        "1. A technique for representing binary vectors of category variables or labels is known as one-hot encoding. It creates a binary representation of category variables for machine learning algorithms to use as input.\n",
        "1. For categorical variables, one-hot encoding is advantageous because it enables machine learning algorithms to correctly comprehend and analyse categorical data. By treating each category as a unique feature, it avoids assigning any ordinal relationships between them.\n",
        "2. One-hot encoding is widely used on the target variable (labels) in classification tasks, where the goal is to predict one of several predetermined classes. "
      ]
    },
    {
      "cell_type": "markdown",
      "metadata": {
        "id": "hmTssF4i4NfV"
      },
      "source": [
        "**2.1.2**\n",
        "\n",
        ">How many categories are there in this case? \n",
        "\n",
        "In this scenario, there are a total of 46 categories."
      ]
    },
    {
      "cell_type": "code",
      "execution_count": 95,
      "metadata": {
        "colab": {
          "base_uri": "https://localhost:8080/"
        },
        "id": "-iWt10dxgPw8",
        "outputId": "6a4128aa-a025-41fb-aadc-8f75edb28e27"
      },
      "outputs": [
        {
          "name": "stdout",
          "output_type": "stream",
          "text": [
            "Categories in the Routers dataset:\n",
            "0: None\n",
            "1: the\n",
            "2: of\n",
            "3: to\n",
            "4: in\n",
            "5: said\n",
            "6: and\n",
            "7: a\n",
            "8: mln\n",
            "9: 3\n",
            "10: for\n",
            "11: vs\n",
            "12: dlrs\n",
            "13: it\n",
            "14: reuter\n",
            "15: 000\n",
            "16: 1\n",
            "17: pct\n",
            "18: on\n",
            "19: from\n",
            "20: is\n",
            "21: that\n",
            "22: its\n",
            "23: cts\n",
            "24: by\n",
            "25: at\n",
            "26: year\n",
            "27: be\n",
            "28: with\n",
            "29: 2\n",
            "30: will\n",
            "31: was\n",
            "32: billion\n",
            "33: he\n",
            "34: u\n",
            "35: s\n",
            "36: net\n",
            "37: has\n",
            "38: would\n",
            "39: an\n",
            "40: as\n",
            "41: 5\n",
            "42: not\n",
            "43: loss\n",
            "44: 4\n",
            "45: 1986\n"
          ]
        }
      ],
      "source": [
        "category_labels = reuters.get_word_index()\n",
        "category_names = {index: word for word, index in category_labels.items()}\n",
        "print(\"Categories in the Routers dataset:\")\n",
        "for index in set(train_labels):\n",
        "    print(f\"{index}: {category_names.get(index)}\")"
      ]
    },
    {
      "cell_type": "markdown",
      "metadata": {
        "id": "ZEj2zTb94OAp"
      },
      "source": [
        "**2.1.3**\n",
        "\n",
        ">Does your model suffer from overfitting? If so, what would you suggest doing about it? \n",
        "\n",
        "Yes,this model suffer from overfitting,Based on loss and accuracy metrics during training for both the training and validation sets, we can see below point to find the model overfitting. \n",
        "\n",
        "1. Overfitting is present if the training loss keeps decreasing while the validation loss starts to rise or remains high\n",
        "2.Indicators of overfitting include a steady increase in training accuracy and a stagnation or decline in validation accuracy.\n",
        "\n",
        "We can avoid overfitting by following the below techniques\n",
        "\n",
        "\n",
        "1. Having a larger dataset can assist prevent overfitting by giving the model access to a wider variety of samples. Utilising methods like data augmentation or collecting extra data may be advantageous\n",
        "2.Decreasing the number of layers, units, or features to make the model less complex. Consequently, the model may be better able to generalise to fresh data.\n",
        "1.A method for assessing the model's performance on various subsets of data is cross-validation. By evaluating the model's performance on hypothetical data, it is possible to determine whether the model is overfitting.\n",
        "2. An imbalance or bias in the training data might occasionally cause overfitting. A more generalised representation of the underlying patterns can be learned by the model by gathering more varied and representative data.\n"
      ]
    },
    {
      "cell_type": "code",
      "execution_count": null,
      "metadata": {
        "id": "hb6tvPZIQ0if"
      },
      "outputs": [],
      "source": []
    },
    {
      "cell_type": "markdown",
      "metadata": {
        "id": "J9s48Svt3ebF"
      },
      "source": [
        "**2.1.4**\n",
        "\n",
        ">Is accuracy a good metric of success in this case? Why (not)?\n",
        "\n",
        "If we are using \"categorical_crossentropy\" as the loss function, accuracy can provide you a general notion of how well your model is performing in terms of properly predicting the class labels in the context of multi-class classification. It calculates the percentage of all samples that have labels that were correctly anticipated.\n",
        "\n",
        "Accuracy cannot demonstrate the model's performance in its entirety, especially when the dataset is uneven or the classes have different levels of importance. In certain situations, other evaluation metrics like precision, recall, F1-score, or area under the ROC curve (AUC-ROC), may be more helpful.\n",
        "\n",
        "Its better to take additional evaluation measures.\n",
        "\n",
        "1. The percentage of events that were accurately predicted as positive out of all instances that were projected as positive is known as precision. It is helpful when minimising false positives is crucial, such as when misclassifying a negative review as positive is undesirable.\n",
        "2. The proportion of accurately anticipated positive cases out of all actual positive instances is measured by recall, also known as sensitivity or true positive rate. Even if it generates more false positives, it is beneficial when gathering as many good ratings as possible is essential.\n",
        "3. The F1 score, which is the harmonic mean of precision and recall, offers a balanced assessment that takes into account both measurements. It is especially helpful when striking a balance between memory and precision is required.\n",
        "4. The model's capacity to discriminate between positive and negative instances across various classification thresholds is measured by the area under the receiver operating characteristic curve (AUC-ROC). It offers a thorough analysis of the model's performance at various decision thresholds.\n"
      ]
    },
    {
      "cell_type": "markdown",
      "metadata": {
        "id": "84mqw1BAy2wa"
      },
      "source": [
        " **2.2.1**\n",
        "\n",
        "Write code to try different combinations of:\n",
        "- numbers of hidden layers \n",
        "- units per layer \n",
        "\n",
        "> Please refrain from using better architectures and \"advanced\" techniques to curb overfitting (e.g., dropout, batch normalization, weight regularization, etc.)"
      ]
    },
    {
      "cell_type": "markdown",
      "metadata": {
        "id": "5pV6kEO1Ilvr"
      },
      "source": [
        "Number of Layer and units per hidden layer are changed \n",
        "\n",
        "*  Advance techniques BatchNormalization and Dropout were added.\n",
        "*  Activation Function  softmax\n"
      ]
    },
    {
      "cell_type": "code",
      "execution_count": 143,
      "metadata": {
        "id": "Kfl00MgJjRs5"
      },
      "outputs": [],
      "source": [
        "model21 = keras.Sequential([\n",
        "    layers.Dense(64, activation=\"relu\"),\n",
        "    layers.BatchNormalization(),\n",
        "    layers.Dense(64, activation=\"relu\"),\n",
        "    layers.Dropout(0.2),\n",
        "    layers.Dense(46, activation=\"softmax\")\n",
        "\n",
        "  \n",
        "])"
      ]
    },
    {
      "cell_type": "code",
      "execution_count": 145,
      "metadata": {
        "id": "jASqcELsjvxM"
      },
      "outputs": [],
      "source": [
        "model21.compile(optimizer=\"rmsprop\",\n",
        "              loss=\"categorical_crossentropy\",\n",
        "              metrics=[\"accuracy\"])"
      ]
    },
    {
      "cell_type": "code",
      "execution_count": 146,
      "metadata": {
        "colab": {
          "base_uri": "https://localhost:8080/"
        },
        "id": "7LtqhfGrkDlA",
        "outputId": "2005265b-67be-47bf-c9ec-6ae947f3ef08"
      },
      "outputs": [
        {
          "name": "stdout",
          "output_type": "stream",
          "text": [
            "Epoch 1/20\n",
            "16/16 [==============================] - 3s 35ms/step - loss: 2.1769 - accuracy: 0.5643 - val_loss: 3.1682 - val_accuracy: 0.6960\n",
            "Epoch 2/20\n",
            "16/16 [==============================] - 0s 20ms/step - loss: 1.0729 - accuracy: 0.7841 - val_loss: 2.9191 - val_accuracy: 0.7380\n",
            "Epoch 3/20\n",
            "16/16 [==============================] - 0s 18ms/step - loss: 0.7233 - accuracy: 0.8485 - val_loss: 2.7713 - val_accuracy: 0.7520\n",
            "Epoch 4/20\n",
            "16/16 [==============================] - 0s 19ms/step - loss: 0.5128 - accuracy: 0.8921 - val_loss: 2.5561 - val_accuracy: 0.7670\n",
            "Epoch 5/20\n",
            "16/16 [==============================] - 0s 17ms/step - loss: 0.3824 - accuracy: 0.9203 - val_loss: 2.3061 - val_accuracy: 0.7680\n",
            "Epoch 6/20\n",
            "16/16 [==============================] - 0s 18ms/step - loss: 0.2925 - accuracy: 0.9366 - val_loss: 2.1068 - val_accuracy: 0.7680\n",
            "Epoch 7/20\n",
            "16/16 [==============================] - 0s 18ms/step - loss: 0.2406 - accuracy: 0.9442 - val_loss: 1.8892 - val_accuracy: 0.7860\n",
            "Epoch 8/20\n",
            "16/16 [==============================] - 0s 20ms/step - loss: 0.2006 - accuracy: 0.9493 - val_loss: 1.6596 - val_accuracy: 0.7790\n",
            "Epoch 9/20\n",
            "16/16 [==============================] - 0s 18ms/step - loss: 0.1760 - accuracy: 0.9526 - val_loss: 1.5487 - val_accuracy: 0.7910\n",
            "Epoch 10/20\n",
            "16/16 [==============================] - 0s 21ms/step - loss: 0.1608 - accuracy: 0.9545 - val_loss: 1.3871 - val_accuracy: 0.7870\n",
            "Epoch 11/20\n",
            "16/16 [==============================] - 0s 18ms/step - loss: 0.1524 - accuracy: 0.9519 - val_loss: 1.2963 - val_accuracy: 0.7940\n",
            "Epoch 12/20\n",
            "16/16 [==============================] - 0s 18ms/step - loss: 0.1391 - accuracy: 0.9570 - val_loss: 1.1277 - val_accuracy: 0.7880\n",
            "Epoch 13/20\n",
            "16/16 [==============================] - 0s 21ms/step - loss: 0.1251 - accuracy: 0.9578 - val_loss: 1.0752 - val_accuracy: 0.7930\n",
            "Epoch 14/20\n",
            "16/16 [==============================] - 0s 18ms/step - loss: 0.1275 - accuracy: 0.9579 - val_loss: 0.9803 - val_accuracy: 0.8000\n",
            "Epoch 15/20\n",
            "16/16 [==============================] - 0s 20ms/step - loss: 0.1207 - accuracy: 0.9575 - val_loss: 0.9461 - val_accuracy: 0.8070\n",
            "Epoch 16/20\n",
            "16/16 [==============================] - 0s 17ms/step - loss: 0.1155 - accuracy: 0.9570 - val_loss: 0.9162 - val_accuracy: 0.7970\n",
            "Epoch 17/20\n",
            "16/16 [==============================] - 0s 19ms/step - loss: 0.1089 - accuracy: 0.9627 - val_loss: 0.8871 - val_accuracy: 0.8110\n",
            "Epoch 18/20\n",
            "16/16 [==============================] - 0s 20ms/step - loss: 0.1085 - accuracy: 0.9597 - val_loss: 0.8990 - val_accuracy: 0.8100\n",
            "Epoch 19/20\n",
            "16/16 [==============================] - 0s 19ms/step - loss: 0.1100 - accuracy: 0.9578 - val_loss: 0.9054 - val_accuracy: 0.8000\n",
            "Epoch 20/20\n",
            "16/16 [==============================] - 0s 18ms/step - loss: 0.1041 - accuracy: 0.9582 - val_loss: 0.9035 - val_accuracy: 0.8110\n"
          ]
        }
      ],
      "source": [
        "history21 = model21.fit(partial_x_train,\n",
        "                    partial_y_train,\n",
        "                    epochs=20,\n",
        "                    batch_size=512,\n",
        "                    validation_data=(x_val, y_val))\n",
        "\n"
      ]
    },
    {
      "cell_type": "code",
      "execution_count": 123,
      "metadata": {
        "colab": {
          "base_uri": "https://localhost:8080/"
        },
        "id": "pqNq-riflgJe",
        "outputId": "c7167c2b-53aa-4fd6-d406-aca4e4703dbb"
      },
      "outputs": [
        {
          "name": "stdout",
          "output_type": "stream",
          "text": [
            "71/71 [==============================] - 0s 3ms/step - loss: 1.0595 - accuracy: 0.7907\n"
          ]
        },
        {
          "data": {
            "text/plain": [
              "[1.0595364570617676, 0.790739119052887]"
            ]
          },
          "execution_count": 123,
          "metadata": {},
          "output_type": "execute_result"
        }
      ],
      "source": [
        "model21.evaluate(x_test,y_test)"
      ]
    },
    {
      "cell_type": "code",
      "execution_count": 148,
      "metadata": {
        "colab": {
          "base_uri": "https://localhost:8080/"
        },
        "id": "YOSvUe9umlid",
        "outputId": "7cce00a9-8de0-4232-949a-9cfe8657d55b"
      },
      "outputs": [
        {
          "name": "stdout",
          "output_type": "stream",
          "text": [
            "71/71 [==============================] - 0s 2ms/step\n"
          ]
        }
      ],
      "source": [
        "predictions = model21.predict(x_test)"
      ]
    },
    {
      "cell_type": "markdown",
      "metadata": {
        "id": "l3dqoSqLxh6l"
      },
      "source": [
        "### Generating predictions on new data"
      ]
    },
    {
      "cell_type": "code",
      "execution_count": 149,
      "metadata": {
        "colab": {
          "base_uri": "https://localhost:8080/"
        },
        "id": "wmT-HLN-tyXn",
        "outputId": "7e2c8e89-f2b4-4039-9635-04bf0ad2fcd3"
      },
      "outputs": [
        {
          "data": {
            "text/plain": [
              "(46,)"
            ]
          },
          "execution_count": 149,
          "metadata": {},
          "output_type": "execute_result"
        }
      ],
      "source": [
        "predictions[0].shape"
      ]
    },
    {
      "cell_type": "code",
      "execution_count": 150,
      "metadata": {
        "colab": {
          "base_uri": "https://localhost:8080/"
        },
        "id": "HRZlehzityXp",
        "outputId": "6e31057d-080a-449d-8405-9f7dbaf5bc84"
      },
      "outputs": [
        {
          "data": {
            "text/plain": [
              "1.0000002"
            ]
          },
          "execution_count": 150,
          "metadata": {},
          "output_type": "execute_result"
        }
      ],
      "source": [
        "np.sum(predictions[0])"
      ]
    },
    {
      "cell_type": "code",
      "execution_count": 151,
      "metadata": {
        "colab": {
          "base_uri": "https://localhost:8080/"
        },
        "id": "YpKyKUaAtyXp",
        "outputId": "2dc0f9c8-fafb-4003-b688-b2cf947d840f"
      },
      "outputs": [
        {
          "data": {
            "text/plain": [
              "3"
            ]
          },
          "execution_count": 151,
          "metadata": {},
          "output_type": "execute_result"
        }
      ],
      "source": [
        "np.argmax(predictions[0])"
      ]
    },
    {
      "cell_type": "markdown",
      "metadata": {
        "id": "fl1SvjrIxh6m"
      },
      "source": [
        "## Regression for house price estimation using the Boston Housing Price dataset"
      ]
    },
    {
      "cell_type": "code",
      "execution_count": null,
      "metadata": {},
      "outputs": [],
      "source": []
    },
    {
      "cell_type": "code",
      "execution_count": null,
      "metadata": {},
      "outputs": [],
      "source": []
    },
    {
      "cell_type": "markdown",
      "metadata": {
        "id": "OxNY2Tttxh6m"
      },
      "source": [
        "### The Boston Housing Price dataset\n",
        "\n",
        "**WARNING**: This dataset has an ethical problem: [the authors of this dataset included a variable, \"B\", that may appear to assume that racial self-segregation influences house prices](http://lib.stat.cmu.edu/datasets/boston). \n",
        "\n",
        "I've decided to keep it in this Project to provide an early concrete example of fairness, bias, and related ethical issues in data science, machine learning, deep learning, and AI."
      ]
    },
    {
      "cell_type": "markdown",
      "metadata": {
        "id": "xH8hygQBxh6m"
      },
      "source": [
        "#### Loading the Boston housing dataset"
      ]
    },
    {
      "cell_type": "code",
      "execution_count": 3,
      "metadata": {
        "colab": {
          "base_uri": "https://localhost:8080/"
        },
        "id": "Bw_cuN9_xh6m",
        "outputId": "581423b8-e5db-4997-af21-d5304c027869"
      },
      "outputs": [
        {
          "name": "stdout",
          "output_type": "stream",
          "text": [
            "Downloading data from https://storage.googleapis.com/tensorflow/tf-keras-datasets/boston_housing.npz\n",
            "57026/57026 [==============================] - 0s 0us/step\n"
          ]
        }
      ],
      "source": [
        "from tensorflow.keras.datasets import boston_housing\n",
        "(train_data, train_targets), (test_data, test_targets) = boston_housing.load_data()"
      ]
    },
    {
      "cell_type": "code",
      "execution_count": 4,
      "metadata": {
        "colab": {
          "base_uri": "https://localhost:8080/"
        },
        "id": "qcQzcVTTxh6m",
        "outputId": "a7f1f244-3e87-4782-99b6-8a94a139882d"
      },
      "outputs": [
        {
          "data": {
            "text/plain": [
              "(404, 13)"
            ]
          },
          "execution_count": 4,
          "metadata": {},
          "output_type": "execute_result"
        }
      ],
      "source": [
        "train_data.shape"
      ]
    },
    {
      "cell_type": "code",
      "execution_count": 154,
      "metadata": {
        "colab": {
          "base_uri": "https://localhost:8080/"
        },
        "id": "mqRzjeWdxh6m",
        "outputId": "d57268d5-a546-4ea4-f9ec-4a7c5752aa62"
      },
      "outputs": [
        {
          "data": {
            "text/plain": [
              "(102, 13)"
            ]
          },
          "execution_count": 154,
          "metadata": {},
          "output_type": "execute_result"
        }
      ],
      "source": [
        "test_data.shape"
      ]
    },
    {
      "cell_type": "code",
      "execution_count": 155,
      "metadata": {
        "colab": {
          "base_uri": "https://localhost:8080/"
        },
        "id": "2DKZJfIFxh6m",
        "outputId": "7d259ec5-e286-4270-a748-0676cb39ddef"
      },
      "outputs": [
        {
          "data": {
            "text/plain": [
              "array([15.2, 42.3, 50. , 21.1, 17.7, 18.5, 11.3, 15.6, 15.6, 14.4, 12.1,\n",
              "       17.9, 23.1, 19.9, 15.7,  8.8, 50. , 22.5, 24.1, 27.5, 10.9, 30.8,\n",
              "       32.9, 24. , 18.5, 13.3, 22.9, 34.7, 16.6, 17.5, 22.3, 16.1, 14.9,\n",
              "       23.1, 34.9, 25. , 13.9, 13.1, 20.4, 20. , 15.2, 24.7, 22.2, 16.7,\n",
              "       12.7, 15.6, 18.4, 21. , 30.1, 15.1, 18.7,  9.6, 31.5, 24.8, 19.1,\n",
              "       22. , 14.5, 11. , 32. , 29.4, 20.3, 24.4, 14.6, 19.5, 14.1, 14.3,\n",
              "       15.6, 10.5,  6.3, 19.3, 19.3, 13.4, 36.4, 17.8, 13.5, 16.5,  8.3,\n",
              "       14.3, 16. , 13.4, 28.6, 43.5, 20.2, 22. , 23. , 20.7, 12.5, 48.5,\n",
              "       14.6, 13.4, 23.7, 50. , 21.7, 39.8, 38.7, 22.2, 34.9, 22.5, 31.1,\n",
              "       28.7, 46. , 41.7, 21. , 26.6, 15. , 24.4, 13.3, 21.2, 11.7, 21.7,\n",
              "       19.4, 50. , 22.8, 19.7, 24.7, 36.2, 14.2, 18.9, 18.3, 20.6, 24.6,\n",
              "       18.2,  8.7, 44. , 10.4, 13.2, 21.2, 37. , 30.7, 22.9, 20. , 19.3,\n",
              "       31.7, 32. , 23.1, 18.8, 10.9, 50. , 19.6,  5. , 14.4, 19.8, 13.8,\n",
              "       19.6, 23.9, 24.5, 25. , 19.9, 17.2, 24.6, 13.5, 26.6, 21.4, 11.9,\n",
              "       22.6, 19.6,  8.5, 23.7, 23.1, 22.4, 20.5, 23.6, 18.4, 35.2, 23.1,\n",
              "       27.9, 20.6, 23.7, 28. , 13.6, 27.1, 23.6, 20.6, 18.2, 21.7, 17.1,\n",
              "        8.4, 25.3, 13.8, 22.2, 18.4, 20.7, 31.6, 30.5, 20.3,  8.8, 19.2,\n",
              "       19.4, 23.1, 23. , 14.8, 48.8, 22.6, 33.4, 21.1, 13.6, 32.2, 13.1,\n",
              "       23.4, 18.9, 23.9, 11.8, 23.3, 22.8, 19.6, 16.7, 13.4, 22.2, 20.4,\n",
              "       21.8, 26.4, 14.9, 24.1, 23.8, 12.3, 29.1, 21. , 19.5, 23.3, 23.8,\n",
              "       17.8, 11.5, 21.7, 19.9, 25. , 33.4, 28.5, 21.4, 24.3, 27.5, 33.1,\n",
              "       16.2, 23.3, 48.3, 22.9, 22.8, 13.1, 12.7, 22.6, 15. , 15.3, 10.5,\n",
              "       24. , 18.5, 21.7, 19.5, 33.2, 23.2,  5. , 19.1, 12.7, 22.3, 10.2,\n",
              "       13.9, 16.3, 17. , 20.1, 29.9, 17.2, 37.3, 45.4, 17.8, 23.2, 29. ,\n",
              "       22. , 18. , 17.4, 34.6, 20.1, 25. , 15.6, 24.8, 28.2, 21.2, 21.4,\n",
              "       23.8, 31. , 26.2, 17.4, 37.9, 17.5, 20. ,  8.3, 23.9,  8.4, 13.8,\n",
              "        7.2, 11.7, 17.1, 21.6, 50. , 16.1, 20.4, 20.6, 21.4, 20.6, 36.5,\n",
              "        8.5, 24.8, 10.8, 21.9, 17.3, 18.9, 36.2, 14.9, 18.2, 33.3, 21.8,\n",
              "       19.7, 31.6, 24.8, 19.4, 22.8,  7.5, 44.8, 16.8, 18.7, 50. , 50. ,\n",
              "       19.5, 20.1, 50. , 17.2, 20.8, 19.3, 41.3, 20.4, 20.5, 13.8, 16.5,\n",
              "       23.9, 20.6, 31.5, 23.3, 16.8, 14. , 33.8, 36.1, 12.8, 18.3, 18.7,\n",
              "       19.1, 29. , 30.1, 50. , 50. , 22. , 11.9, 37.6, 50. , 22.7, 20.8,\n",
              "       23.5, 27.9, 50. , 19.3, 23.9, 22.6, 15.2, 21.7, 19.2, 43.8, 20.3,\n",
              "       33.2, 19.9, 22.5, 32.7, 22. , 17.1, 19. , 15. , 16.1, 25.1, 23.7,\n",
              "       28.7, 37.2, 22.6, 16.4, 25. , 29.8, 22.1, 17.4, 18.1, 30.3, 17.5,\n",
              "       24.7, 12.6, 26.5, 28.7, 13.3, 10.4, 24.4, 23. , 20. , 17.8,  7. ,\n",
              "       11.8, 24.4, 13.8, 19.4, 25.2, 19.4, 19.4, 29.1])"
            ]
          },
          "execution_count": 155,
          "metadata": {},
          "output_type": "execute_result"
        }
      ],
      "source": [
        "train_targets"
      ]
    },
    {
      "cell_type": "markdown",
      "metadata": {
        "id": "mRV06OTNxh6m"
      },
      "source": [
        "### Preparing the data"
      ]
    },
    {
      "cell_type": "markdown",
      "metadata": {
        "id": "NUDEXKrnxh6m"
      },
      "source": [
        "#### Normalizing the data"
      ]
    },
    {
      "cell_type": "code",
      "execution_count": 5,
      "metadata": {
        "id": "xTNRwpHZxh6m"
      },
      "outputs": [],
      "source": [
        "mean = train_data.mean(axis=0)\n",
        "train_data -= mean\n",
        "std = train_data.std(axis=0)\n",
        "train_data /= std\n",
        "test_data -= mean\n",
        "test_data /= std"
      ]
    },
    {
      "cell_type": "markdown",
      "metadata": {
        "id": "Ak5QuOrRxh6m"
      },
      "source": [
        "### Building your model"
      ]
    },
    {
      "cell_type": "markdown",
      "metadata": {
        "id": "5_LQDquRxh6m"
      },
      "source": [
        "#### Model definition"
      ]
    },
    {
      "cell_type": "code",
      "execution_count": 6,
      "metadata": {
        "id": "EH4VsMNyxh6m"
      },
      "outputs": [],
      "source": [
        "def build_model3():\n",
        "    model3 = keras.Sequential([\n",
        "        layers.Dense(64, activation=\"relu\"),\n",
        "        layers.Dense(64, activation=\"relu\"),\n",
        "        layers.Dense(1)\n",
        "    ])\n",
        "    model3.compile(optimizer=\"rmsprop\", loss=\"mse\", metrics=[\"mae\"])\n",
        "    return model3"
      ]
    },
    {
      "cell_type": "markdown",
      "metadata": {
        "id": "8_Y_2x1bxh6m"
      },
      "source": [
        "### Validating your approach using K-fold validation"
      ]
    },
    {
      "cell_type": "code",
      "execution_count": 9,
      "metadata": {
        "colab": {
          "base_uri": "https://localhost:8080/"
        },
        "id": "lP3j1z76xh6m",
        "outputId": "7f86caee-aa7a-4d7d-f4c8-ec904126e911"
      },
      "outputs": [
        {
          "name": "stdout",
          "output_type": "stream",
          "text": [
            "Processing fold #0\n",
            "Processing fold #1\n",
            "Processing fold #2\n",
            "Processing fold #3\n"
          ]
        }
      ],
      "source": [
        "k = 4\n",
        "num_val_samples = len(train_data) // k\n",
        "num_epochs = 100\n",
        "all_scores = []\n",
        "for i in range(k):\n",
        "    print(f\"Processing fold #{i}\")\n",
        "    val_data = train_data[i * num_val_samples: (i + 1) * num_val_samples]\n",
        "    val_targets = train_targets[i * num_val_samples: (i + 1) * num_val_samples]\n",
        "    partial_train_data = np.concatenate(\n",
        "        [train_data[:i * num_val_samples],\n",
        "         train_data[(i + 1) * num_val_samples:]],\n",
        "        axis=0)\n",
        "    partial_train_targets = np.concatenate(\n",
        "        [train_targets[:i * num_val_samples],\n",
        "         train_targets[(i + 1) * num_val_samples:]],\n",
        "        axis=0)\n",
        "    model3 = build_model3()\n",
        "    model3.fit(partial_train_data, partial_train_targets,\n",
        "              epochs=num_epochs, batch_size=16, verbose=0)\n",
        "    val_mse, val_mae = model3.evaluate(val_data, val_targets, verbose=0)\n",
        "    all_scores.append(val_mae)"
      ]
    },
    {
      "cell_type": "code",
      "execution_count": 159,
      "metadata": {
        "colab": {
          "base_uri": "https://localhost:8080/"
        },
        "id": "nj-3RiYaxh6m",
        "outputId": "21c997bd-76ef-49a5-fc81-376b10b10c04"
      },
      "outputs": [
        {
          "data": {
            "text/plain": [
              "[1.993604302406311, 2.606920003890991, 2.489102363586426, 2.4988107681274414]"
            ]
          },
          "execution_count": 159,
          "metadata": {},
          "output_type": "execute_result"
        }
      ],
      "source": [
        "all_scores"
      ]
    },
    {
      "cell_type": "code",
      "execution_count": 160,
      "metadata": {
        "colab": {
          "base_uri": "https://localhost:8080/"
        },
        "id": "TbaipzZZxh6m",
        "outputId": "d1a6a852-55e3-4d62-be6f-c43afbebd01f"
      },
      "outputs": [
        {
          "data": {
            "text/plain": [
              "2.3971093595027924"
            ]
          },
          "execution_count": 160,
          "metadata": {},
          "output_type": "execute_result"
        }
      ],
      "source": [
        "np.mean(all_scores)"
      ]
    },
    {
      "cell_type": "markdown",
      "metadata": {
        "id": "AvBk8lMRxh6m"
      },
      "source": [
        "#### Saving the validation logs at each fold"
      ]
    },
    {
      "cell_type": "code",
      "execution_count": 10,
      "metadata": {
        "colab": {
          "base_uri": "https://localhost:8080/"
        },
        "id": "-VaF--Ztxh6m",
        "outputId": "731b638d-ccbf-4b72-df62-d57df371a420"
      },
      "outputs": [
        {
          "name": "stdout",
          "output_type": "stream",
          "text": [
            "Processing fold #0\n",
            "Processing fold #1\n",
            "Processing fold #2\n",
            "Processing fold #3\n"
          ]
        }
      ],
      "source": [
        "num_epochs = 500\n",
        "all_mae_histories = []\n",
        "for i in range(k):\n",
        "    print(f\"Processing fold #{i}\")\n",
        "    val_data = train_data[i * num_val_samples: (i + 1) * num_val_samples]\n",
        "    val_targets = train_targets[i * num_val_samples: (i + 1) * num_val_samples]\n",
        "    partial_train_data = np.concatenate(\n",
        "        [train_data[:i * num_val_samples],\n",
        "         train_data[(i + 1) * num_val_samples:]],\n",
        "        axis=0)\n",
        "    partial_train_targets = np.concatenate(\n",
        "        [train_targets[:i * num_val_samples],\n",
        "         train_targets[(i + 1) * num_val_samples:]],\n",
        "        axis=0)\n",
        "    model3 = build_model3()\n",
        "    history = model3.fit(partial_train_data, partial_train_targets,\n",
        "                        validation_data=(val_data, val_targets),\n",
        "                        epochs=num_epochs, batch_size=16, verbose=0)\n",
        "    mae_history = history.history[\"val_mae\"]\n",
        "    all_mae_histories.append(mae_history)"
      ]
    },
    {
      "cell_type": "code",
      "execution_count": 11,
      "metadata": {
        "colab": {
          "base_uri": "https://localhost:8080/"
        },
        "id": "9hxvwXLeKIsz",
        "outputId": "ea79eeea-e50c-4030-9d1f-a078487b2749"
      },
      "outputs": [
        {
          "name": "stdout",
          "output_type": "stream",
          "text": [
            "[21.64710807800293, 18.114898681640625, 13.642609596252441, 9.176961898803711, 7.086854457855225, 5.771775245666504, 4.945427894592285, 4.3349151611328125, 4.017838478088379, 3.7992608547210693, 3.657264232635498, 3.4944748878479004, 3.3417038917541504, 3.24224591255188, 3.1627144813537598, 3.1658897399902344, 3.025177001953125, 2.9754128456115723, 2.8990678787231445, 2.8952436447143555, 2.9301116466522217, 2.8086161613464355, 2.8237006664276123, 2.760908603668213, 2.7374393939971924, 2.668027400970459, 2.6960980892181396, 2.628748893737793, 2.6304843425750732, 2.5820937156677246, 2.6475353240966797, 2.6492254734039307, 2.5347936153411865, 2.656071662902832, 2.510694980621338, 2.602806568145752, 2.5583090782165527, 2.5282342433929443, 2.455702066421509, 2.530050039291382, 2.5064897537231445, 2.443753719329834, 2.546186923980713, 2.474175214767456, 2.4234673976898193, 2.5404696464538574, 2.46455454826355, 2.5020105838775635, 2.5559780597686768, 2.4517180919647217, 2.4272513389587402, 2.5879693031311035, 2.4982569217681885, 2.539836883544922, 2.3870222568511963, 2.446958065032959, 2.469883918762207, 2.4314188957214355, 2.4268927574157715, 2.3579623699188232, 2.4213757514953613, 2.345165729522705, 2.3774025440216064, 2.3910679817199707, 2.449518918991089, 2.4705841541290283, 2.4117016792297363, 2.427644729614258, 2.351891040802002, 2.426889657974243, 2.3513245582580566, 2.365450620651245, 2.3747642040252686, 2.356313943862915, 2.388185739517212, 2.478121280670166, 2.42553448677063, 2.3753530979156494, 2.437147855758667, 2.4136404991149902, 2.3215763568878174, 2.336930274963379, 2.3825843334198, 2.3563196659088135, 2.35335636138916, 2.368191957473755, 2.3307278156280518, 2.336883306503296, 2.2990646362304688, 2.3874757289886475, 2.3500843048095703, 2.365764617919922, 2.4737040996551514, 2.332897424697876, 2.3791356086730957, 2.3298192024230957, 2.368276596069336, 2.353283643722534, 2.3154847621917725, 2.509803295135498, 2.327960252761841, 2.3399083614349365, 2.357048273086548, 2.412992238998413, 2.3005290031433105, 2.35577130317688, 2.302473783493042, 2.270677089691162, 2.3518528938293457, 2.3325843811035156, 2.263458251953125, 2.36246919631958, 2.3279294967651367, 2.314650058746338, 2.287468433380127, 2.3449692726135254, 2.30918025970459, 2.3007652759552, 2.3259449005126953, 2.2433295249938965, 2.3481669425964355, 2.2933638095855713, 2.2679901123046875, 2.2569496631622314, 2.408592939376831, 2.282425880432129, 2.2925026416778564, 2.2529518604278564, 2.307141065597534, 2.326862335205078, 2.325899362564087, 2.4278578758239746, 2.272061586380005, 2.3649938106536865, 2.2391517162323, 2.2433860301971436, 2.2931389808654785, 2.232172966003418, 2.301805019378662, 2.213411569595337, 2.3192667961120605, 2.2047371864318848, 2.248000383377075, 2.2443416118621826, 2.2849647998809814, 2.253856658935547, 2.2605247497558594, 2.280113935470581, 2.2474617958068848, 2.2607486248016357, 2.2442262172698975, 2.2096550464630127, 2.253789186477661, 2.2816903591156006, 2.324453353881836, 2.277183771133423, 2.2395825386047363, 2.190011739730835, 2.249457597732544, 2.3383853435516357, 2.3128747940063477, 2.228849172592163, 2.2051637172698975, 2.176860809326172, 2.197490692138672, 2.1906211376190186, 2.16007137298584, 2.154902935028076, 2.2920806407928467, 2.2529537677764893, 2.3060288429260254, 2.179506540298462, 2.2969002723693848, 2.256699800491333, 2.241093873977661, 2.2483060359954834, 2.2248878479003906, 2.2366342544555664, 2.182448387145996, 2.417320728302002, 2.2288239002227783, 2.231478214263916, 2.248396635055542, 2.240420341491699, 2.280212163925171, 2.2475359439849854, 2.2172629833221436, 2.226424217224121, 2.3737473487854004, 2.224820375442505, 2.270158290863037, 2.213294506072998, 2.240705966949463, 2.192237138748169, 2.244448184967041, 2.191843271255493, 2.2904086112976074, 2.2810845375061035, 2.2765045166015625, 2.231297016143799, 2.2699897289276123, 2.3098413944244385, 2.213240146636963, 2.3276925086975098, 2.2806880474090576, 2.236616849899292, 2.2079782485961914, 2.2644505500793457, 2.276533842086792, 2.243638277053833, 2.2122066020965576, 2.1877522468566895, 2.2147440910339355, 2.176409959793091, 2.2358994483947754, 2.304166793823242, 2.401294231414795, 2.183638572692871, 2.3518624305725098, 2.2632906436920166, 2.2014918327331543, 2.2316794395446777, 2.2214808464050293, 2.300720691680908, 2.2798011302948, 2.294774293899536, 2.308070182800293, 2.192934989929199, 2.218512535095215, 2.2248806953430176, 2.259263753890991, 2.2743053436279297, 2.1899964809417725, 2.257063865661621, 2.2409825325012207, 2.2490384578704834, 2.263449192047119, 2.254587173461914, 2.2509875297546387, 2.200667381286621, 2.209122896194458, 2.30961537361145, 2.195760488510132, 2.2551848888397217, 2.3490939140319824, 2.2274057865142822, 2.295761823654175, 2.2201743125915527, 2.204674243927002, 2.2529006004333496, 2.1810202598571777, 2.2648072242736816, 2.1881203651428223, 2.263523817062378, 2.2812039852142334, 2.2285542488098145, 2.16656756401062, 2.246690511703491, 2.2593698501586914, 2.3253469467163086, 2.2251272201538086, 2.333270311355591, 2.3609771728515625, 2.300234794616699, 2.1879615783691406, 2.1928458213806152, 2.2260677814483643, 2.3241500854492188, 2.338322877883911, 2.2391276359558105, 2.1992883682250977, 2.1873831748962402, 2.2015461921691895, 2.226250410079956, 2.199704885482788, 2.371331214904785, 2.2898356914520264, 2.352522850036621, 2.2233142852783203, 2.326328992843628, 2.272193670272827, 2.3540961742401123, 2.235912322998047, 2.320195198059082, 2.1723155975341797, 2.30098557472229, 2.1908366680145264, 2.2351109981536865, 2.233508348464966, 2.27502703666687, 2.181417465209961, 2.3789310455322266, 2.1971702575683594, 2.2793281078338623, 2.198789119720459, 2.207029342651367, 2.2557034492492676, 2.2287538051605225, 2.2081222534179688, 2.167562246322632, 2.2160470485687256, 2.221520185470581, 2.1877541542053223, 2.2070789337158203, 2.193108081817627, 2.2390482425689697, 2.343973159790039, 2.217045545578003, 2.203361988067627, 2.2507164478302, 2.227576732635498, 2.223506212234497, 2.350663661956787, 2.261676073074341, 2.3343265056610107, 2.2090871334075928, 2.1844289302825928, 2.2841084003448486, 2.190516948699951, 2.3526408672332764, 2.2283873558044434, 2.181114673614502, 2.2474863529205322, 2.3183579444885254, 2.192645788192749, 2.20586895942688, 2.2292511463165283, 2.297861099243164, 2.2910659313201904, 2.196213483810425, 2.2153635025024414, 2.2279350757598877, 2.387314796447754, 2.327817440032959, 2.198317050933838, 2.186328649520874, 2.2356252670288086, 2.29416823387146, 2.2402760982513428, 2.3907203674316406, 2.183872938156128, 2.150949001312256, 2.285931348800659, 2.227238178253174, 2.25115704536438, 2.199314832687378, 2.235584020614624, 2.1604888439178467, 2.174665927886963, 2.150225877761841, 2.2755470275878906, 2.2031960487365723, 2.2021007537841797, 2.236957550048828, 2.256357431411743, 2.232283115386963, 2.21612286567688, 2.157058000564575, 2.291616201400757, 2.216658592224121, 2.250565528869629, 2.1929306983947754, 2.2066149711608887, 2.2826883792877197, 2.296968698501587, 2.4542365074157715, 2.239983558654785, 2.233752489089966, 2.206554651260376, 2.2211573123931885, 2.2309272289276123, 2.2732293605804443, 2.2526533603668213, 2.187079668045044, 2.1866297721862793, 2.1927549839019775, 2.232616662979126, 2.247739315032959, 2.2553563117980957, 2.3107423782348633, 2.188876152038574, 2.2764370441436768, 2.272692918777466, 2.230043411254883, 2.1804463863372803, 2.3209993839263916, 2.230930805206299, 2.1944758892059326, 2.251096487045288, 2.2388081550598145, 2.2090253829956055, 2.189394474029541, 2.2514357566833496, 2.2353339195251465, 2.2757928371429443, 2.2629148960113525, 2.1846814155578613, 2.3770506381988525, 2.2630538940429688, 2.2491672039031982, 2.3145766258239746, 2.2777230739593506, 2.2278058528900146, 2.2704036235809326, 2.2292258739471436, 2.2406914234161377, 2.302579879760742, 2.145174264907837, 2.181501865386963, 2.2122812271118164, 2.17866587638855, 2.2279746532440186, 2.156128168106079, 2.2426681518554688, 2.2962639331817627, 2.202195167541504, 2.2521615028381348, 2.2348597049713135, 2.259930372238159, 2.230050802230835, 2.171736717224121, 2.263439178466797, 2.2488083839416504, 2.2340519428253174, 2.244810104370117, 2.210574150085449, 2.205028772354126, 2.276829481124878, 2.3382928371429443, 2.2177116870880127, 2.232225179672241, 2.2867538928985596, 2.2609963417053223, 2.3021373748779297, 2.2357442378997803, 2.313267707824707, 2.182051181793213, 2.2631077766418457, 2.2690422534942627, 2.2358336448669434, 2.354827642440796, 2.3312673568725586, 2.2369225025177, 2.3348169326782227, 2.2465381622314453, 2.2811412811279297, 2.2558753490448, 2.3362362384796143, 2.3943660259246826, 2.240926504135132, 2.3161611557006836, 2.2837042808532715, 2.2705888748168945, 2.255729913711548, 2.284956932067871, 2.2499983310699463, 2.2255330085754395, 2.2680137157440186, 2.345829486846924, 2.255093574523926, 2.213438034057617, 2.3204240798950195, 2.351814031600952, 2.2952160835266113, 2.3740732669830322, 2.3325390815734863, 2.2708489894866943, 2.3816933631896973, 2.2596447467803955, 2.272794008255005, 2.2888998985290527, 2.326786518096924, 2.26035213470459, 2.4616310596466064, 2.325566291809082, 2.255352735519409, 2.290724277496338, 2.281722068786621, 2.35884690284729, 2.3112330436706543, 2.2574503421783447, 2.2791335582733154, 2.311039924621582, 2.259284019470215, 2.3121464252471924, 2.286576986312866, 2.276825428009033, 2.2629499435424805, 2.320530414581299, 2.319854974746704, 2.293346643447876, 2.276135206222534, 2.2522823810577393, 2.209918737411499, 2.3483760356903076, 2.242713451385498, 2.3566734790802, 2.2957634925842285, 2.2412474155426025, 2.331291913986206]\n"
          ]
        }
      ],
      "source": [
        "print(mae_history)"
      ]
    },
    {
      "cell_type": "markdown",
      "metadata": {
        "id": "qxhUlr1bxh6m"
      },
      "source": [
        "#### Building the history of successive mean K-fold validation scores"
      ]
    },
    {
      "cell_type": "code",
      "execution_count": 12,
      "metadata": {
        "id": "scyLRwsnxh6m"
      },
      "outputs": [],
      "source": [
        "average_mae_history = [\n",
        "    np.mean([x[i] for x in all_mae_histories]) for i in range(num_epochs)]"
      ]
    },
    {
      "cell_type": "markdown",
      "metadata": {
        "id": "tL1rhvLNxh6m"
      },
      "source": [
        "#### Plotting validation scores"
      ]
    },
    {
      "cell_type": "code",
      "execution_count": 13,
      "metadata": {
        "colab": {
          "base_uri": "https://localhost:8080/",
          "height": 449
        },
        "id": "_AtGOs8kxh6n",
        "outputId": "13f788a5-3bfe-4e9b-fdd0-7c112a270944"
      },
      "outputs": [
        {
          "data": {
            "image/png": "[encoded data removed]",
            "text/plain": [
              "<Figure size 640x480 with 1 Axes>"
            ]
          },
          "metadata": {},
          "output_type": "display_data"
        }
      ],
      "source": [
        "plt.plot(range(1, len(average_mae_history) + 1), average_mae_history)\n",
        "plt.xlabel(\"Epochs\")\n",
        "plt.ylabel(\"Validation MAE\")\n",
        "plt.show()"
      ]
    },
    {
      "cell_type": "markdown",
      "metadata": {
        "id": "88VzqTeDxh6n"
      },
      "source": [
        "#### Plotting validation scores, excluding the first 10 data points"
      ]
    },
    {
      "cell_type": "code",
      "execution_count": 14,
      "metadata": {
        "colab": {
          "base_uri": "https://localhost:8080/",
          "height": 449
        },
        "id": "nJcHbmEjxh6n",
        "outputId": "ee039a4e-b1a5-4d7e-d9ee-de80770c62f4"
      },
      "outputs": [
        {
          "data": {
            "image/png": "[encoded data removed]",
            "text/plain": [
              "<Figure size 640x480 with 1 Axes>"
            ]
          },
          "metadata": {},
          "output_type": "display_data"
        }
      ],
      "source": [
        "truncated_mae_history = average_mae_history[10:]\n",
        "plt.plot(range(1, len(truncated_mae_history) + 1), truncated_mae_history)\n",
        "plt.xlabel(\"Epochs\")\n",
        "plt.ylabel(\"Validation MAE\")\n",
        "plt.show()"
      ]
    },
    {
      "cell_type": "markdown",
      "metadata": {
        "id": "64vzjBATxh6n"
      },
      "source": [
        "### Training the final model"
      ]
    },
    {
      "cell_type": "code",
      "execution_count": 15,
      "metadata": {
        "colab": {
          "base_uri": "https://localhost:8080/"
        },
        "id": "0VDrjPVZxh6n",
        "outputId": "1e683316-b07e-4876-826b-ed385d27b8de"
      },
      "outputs": [
        {
          "name": "stdout",
          "output_type": "stream",
          "text": [
            "4/4 [==============================] - 0s 5ms/step - loss: 18.3939 - mae: 2.8592\n"
          ]
        }
      ],
      "source": [
        "model3 = build_model3()\n",
        "model3.fit(train_data, train_targets,\n",
        "          epochs=130, batch_size=16, verbose=0)\n",
        "test_mse_score, test_mae_score = model3.evaluate(test_data, test_targets)"
      ]
    },
    {
      "cell_type": "code",
      "execution_count": null,
      "metadata": {
        "colab": {
          "base_uri": "https://localhost:8080/"
        },
        "id": "3hZCLbhbxh6n",
        "outputId": "b6fbe8ce-7bd1-49d1-9dc9-90ffaa1ab124"
      },
      "outputs": [
        {
          "data": {
            "text/plain": [
              "2.6882994174957275"
            ]
          },
          "execution_count": 58,
          "metadata": {},
          "output_type": "execute_result"
        }
      ],
      "source": [
        "test_mae_score"
      ]
    },
    {
      "cell_type": "markdown",
      "metadata": {
        "id": "DowlbY9Sxh6n"
      },
      "source": [
        "### Generating predictions on new data"
      ]
    },
    {
      "cell_type": "code",
      "execution_count": 181,
      "metadata": {
        "colab": {
          "base_uri": "https://localhost:8080/"
        },
        "id": "qSVLepPHxh6n",
        "outputId": "7f72c54e-1609-4c2b-d10a-b5287e5d1949"
      },
      "outputs": [
        {
          "name": "stdout",
          "output_type": "stream",
          "text": [
            "4/4 [==============================] - 0s 3ms/step\n"
          ]
        },
        {
          "data": {
            "text/plain": [
              "array([6.8175917], dtype=float32)"
            ]
          },
          "execution_count": 181,
          "metadata": {},
          "output_type": "execute_result"
        }
      ],
      "source": [
        "predictions = model3.predict(test_data)\n",
        "predictions[0]"
      ]
    },
    {
      "cell_type": "markdown",
      "metadata": {
        "id": "srtBVVe5Fp-F"
      },
      "source": [
        "### Fitting the model on validation data to verify the over fitting"
      ]
    },
    {
      "cell_type": "markdown",
      "metadata": {
        "id": "AFhQSfF_FzL6"
      },
      "source": []
    },
    {
      "cell_type": "code",
      "execution_count": 16,
      "metadata": {
        "id": "M6CAKuBCBLBN"
      },
      "outputs": [],
      "source": [
        "import warnings\n",
        "warnings.filterwarnings('ignore')"
      ]
    },
    {
      "cell_type": "code",
      "execution_count": 17,
      "metadata": {
        "colab": {
          "base_uri": "https://localhost:8080/"
        },
        "id": "qzMFZNlH-n4n",
        "outputId": "dce77eca-cb85-498c-d717-81b91e10cbe9"
      },
      "outputs": [
        {
          "name": "stdout",
          "output_type": "stream",
          "text": [
            "Processing fold #0\n",
            "Processing fold #1\n",
            "Processing fold #2\n"
          ]
        },
        {
          "name": "stderr",
          "output_type": "stream",
          "text": [
            "WARNING:tensorflow:5 out of the last 3507 calls to <function Model.make_test_function.<locals>.test_function at 0x7f6f6e6decb0> triggered tf.function retracing. Tracing is expensive and the excessive number of tracings could be due to (1) creating @tf.function repeatedly in a loop, (2) passing tensors with different shapes, (3) passing Python objects instead of tensors. For (1), please define your @tf.function outside of the loop. For (2), @tf.function has reduce_retracing=True option that can avoid unnecessary retracing. For (3), please refer to https://www.tensorflow.org/guide/function#controlling_retracing and https://www.tensorflow.org/api_docs/python/tf/function for  more details.\n"
          ]
        },
        {
          "name": "stdout",
          "output_type": "stream",
          "text": [
            "Processing fold #3\n"
          ]
        },
        {
          "name": "stderr",
          "output_type": "stream",
          "text": [
            "WARNING:tensorflow:6 out of the last 3508 calls to <function Model.make_test_function.<locals>.test_function at 0x7f6f6e853a30> triggered tf.function retracing. Tracing is expensive and the excessive number of tracings could be due to (1) creating @tf.function repeatedly in a loop, (2) passing tensors with different shapes, (3) passing Python objects instead of tensors. For (1), please define your @tf.function outside of the loop. For (2), @tf.function has reduce_retracing=True option that can avoid unnecessary retracing. For (3), please refer to https://www.tensorflow.org/guide/function#controlling_retracing and https://www.tensorflow.org/api_docs/python/tf/function for  more details.\n"
          ]
        }
      ],
      "source": [
        "k = 4\n",
        "num_val_samples = len(test_data) // k\n",
        "num_epochs = 100\n",
        "all_scores = []\n",
        "for i in range(k):\n",
        "    print(f\"Processing fold #{i}\")\n",
        "    val_data = test_data[i * num_val_samples: (i + 1) * num_val_samples]\n",
        "    val_targets = test_targets[i * num_val_samples: (i + 1) * num_val_samples]\n",
        "    partial_train_data = np.concatenate(\n",
        "        [test_data[:i * num_val_samples],\n",
        "         test_data[(i + 1) * num_val_samples:]],\n",
        "        axis=0)\n",
        "    partial_train_targets = np.concatenate(\n",
        "        [test_targets[:i * num_val_samples],\n",
        "         test_targets[(i + 1) * num_val_samples:]],\n",
        "        axis=0)\n",
        "    model32 = build_model3()\n",
        "    model32.fit(partial_train_data, partial_train_targets,\n",
        "              epochs=num_epochs, batch_size=16, verbose=0)\n",
        "    val_mse, val_mae = model32.evaluate(val_data, val_targets, verbose=0)\n",
        "    all_scores.append(val_mae)"
      ]
    },
    {
      "cell_type": "code",
      "execution_count": 18,
      "metadata": {
        "colab": {
          "base_uri": "https://localhost:8080/"
        },
        "id": "AkZi6yFqAVxT",
        "outputId": "65aea0f6-a8c8-41ec-90de-63fadaf9ef13"
      },
      "outputs": [
        {
          "name": "stdout",
          "output_type": "stream",
          "text": [
            "Processing fold #0\n",
            "Processing fold #1\n",
            "Processing fold #2\n",
            "Processing fold #3\n"
          ]
        }
      ],
      "source": [
        "num_epochs = 500\n",
        "all_mae_histories = []\n",
        "for i in range(k):\n",
        "    print(f\"Processing fold #{i}\")\n",
        "    val_data = test_data[i * num_val_samples: (i + 1) * num_val_samples]\n",
        "    val_targets = test_targets[i * num_val_samples: (i + 1) * num_val_samples]\n",
        "    partial_train_data = np.concatenate(\n",
        "        [test_data[:i * num_val_samples],\n",
        "         test_data[(i + 1) * num_val_samples:]],\n",
        "        axis=0)\n",
        "    partial_train_targets = np.concatenate(\n",
        "        [test_targets[:i * num_val_samples],\n",
        "         test_targets[(i + 1) * num_val_samples:]],\n",
        "        axis=0)\n",
        "    model32 = build_model3()\n",
        "    history = model32.fit(partial_train_data, partial_train_targets,\n",
        "                        validation_data=(val_data, val_targets),\n",
        "                        epochs=num_epochs, batch_size=16, verbose=0)\n",
        "    mae_history = history.history[\"val_mae\"]\n",
        "    all_mae_histories.append(mae_history)"
      ]
    },
    {
      "cell_type": "code",
      "execution_count": 19,
      "metadata": {
        "colab": {
          "base_uri": "https://localhost:8080/"
        },
        "id": "Xt8Uq-FbJrPg",
        "outputId": "65102f17-14b0-477b-e6ba-dea338222d3b"
      },
      "outputs": [
        {
          "name": "stdout",
          "output_type": "stream",
          "text": [
            "[24.8315372467041, 24.253690719604492, 23.636930465698242, 22.950355529785156, 22.192153930664062, 21.381067276000977, 20.49380874633789, 19.49127769470215, 18.388046264648438, 17.331674575805664, 16.1475772857666, 14.853738784790039, 13.5879545211792, 12.423371315002441, 11.34454345703125, 10.271747589111328, 9.260022163391113, 8.379861831665039, 7.674560070037842, 7.183460712432861, 6.699117660522461, 6.410706996917725, 5.943909168243408, 5.615910053253174, 5.265432357788086, 5.033977031707764, 4.8606672286987305, 4.714987754821777, 4.596738815307617, 4.462482452392578, 4.356486797332764, 4.215907096862793, 4.127028942108154, 4.031863689422607, 3.9971184730529785, 3.887887477874756, 3.831747055053711, 3.7756640911102295, 3.738445520401001, 3.703230381011963, 3.7198784351348877, 3.738856792449951, 3.7242989540100098, 3.8242666721343994, 3.770941734313965, 3.840303421020508, 3.805908203125, 3.793809175491333, 3.7948508262634277, 3.837538480758667, 3.8482794761657715, 3.8685357570648193, 3.8336431980133057, 3.863767385482788, 3.945251226425171, 3.917426824569702, 3.8377883434295654, 3.8297224044799805, 3.910198450088501, 3.8742847442626953, 3.957155466079712, 3.9293181896209717, 3.9140992164611816, 3.903491497039795, 3.8897762298583984, 3.878807306289673, 3.885713577270508, 3.9363880157470703, 3.9463188648223877, 3.916172504425049, 3.924680233001709, 3.924095392227173, 3.917280673980713, 3.9180784225463867, 3.898360252380371, 4.003456115722656, 3.875756025314331, 3.8649260997772217, 3.9392881393432617, 3.9368348121643066, 3.881040096282959, 3.932173490524292, 3.9140851497650146, 3.9223930835723877, 4.024985313415527, 3.9406206607818604, 3.9313716888427734, 3.883422613143921, 3.898284912109375, 4.044934272766113, 3.875972270965576, 3.919285774230957, 3.9389848709106445, 3.8814775943756104, 3.8886425495147705, 4.000988006591797, 3.928245782852173, 3.9508466720581055, 3.934748649597168, 4.0209245681762695, 4.003783702850342, 3.977670669555664, 4.005105972290039, 4.081158638000488, 3.981184720993042, 3.9468085765838623, 3.935551643371582, 4.034156322479248, 4.025579929351807, 3.921487331390381, 3.9388427734375, 3.983349084854126, 3.983497381210327, 4.071037769317627, 4.08053731918335, 3.974766731262207, 4.023841857910156, 4.117775917053223, 4.0679192543029785, 3.958916425704956, 4.022580146789551, 4.160084247589111, 4.017099380493164, 4.058394432067871, 3.98867130279541, 4.094187259674072, 4.006592273712158, 4.106468677520752, 4.064389705657959, 4.018388271331787, 4.089548110961914, 4.072592735290527, 4.076603412628174, 4.088012218475342, 4.008263111114502, 4.062634468078613, 4.065329074859619, 4.086191177368164, 4.072608470916748, 4.102075576782227, 4.132838249206543, 4.042813301086426, 4.049945831298828, 4.238186836242676, 4.162052631378174, 4.150663375854492, 4.039890766143799, 4.056731700897217, 4.033090591430664, 4.09576416015625, 4.146401882171631, 4.083653450012207, 4.080697059631348, 4.175905704498291, 4.233904838562012, 4.153874397277832, 4.1263861656188965, 4.222412586212158, 4.124836444854736, 4.042438507080078, 4.101321220397949, 4.11922025680542, 4.192351818084717, 4.100891590118408, 4.1115217208862305, 4.140258312225342, 4.1034345626831055, 4.1544036865234375, 4.131637096405029, 4.160892486572266, 4.244744777679443, 4.142166614532471, 4.195632457733154, 4.177481174468994, 4.268750190734863, 4.143850326538086, 4.173383712768555, 4.1907124519348145, 4.254511833190918, 4.159218788146973, 4.159114360809326, 4.1586737632751465, 4.207952976226807, 4.177599906921387, 4.176455497741699, 4.216461658477783, 4.1915602684021, 4.160118579864502, 4.224399089813232, 4.218250274658203, 4.210529327392578, 4.21265983581543, 4.151858329772949, 4.1948065757751465, 4.265463352203369, 4.2069854736328125, 4.225370407104492, 4.200555324554443, 4.2341389656066895, 4.1557464599609375, 4.330845355987549, 4.2760772705078125, 4.177300930023193, 4.227598190307617, 4.173868179321289, 4.239030361175537, 4.192039966583252, 4.221694469451904, 4.1300764083862305, 4.160318374633789, 4.202548980712891, 4.247142791748047, 4.1724443435668945, 4.230924129486084, 4.192358493804932, 4.190865993499756, 4.242895603179932, 4.1733293533325195, 4.202358722686768, 4.1866888999938965, 4.205879211425781, 4.188511848449707, 4.242687225341797, 4.1987528800964355, 4.243292331695557, 4.231420516967773, 4.251133918762207, 4.250521659851074, 4.187143325805664, 4.197863578796387, 4.253237247467041, 4.209465980529785, 4.203991413116455, 4.193563938140869, 4.184581279754639, 4.2149434089660645, 4.182537078857422, 4.247081279754639, 4.200033664703369, 4.191231727600098, 4.274724006652832, 4.190623760223389, 4.275412082672119, 4.215516567230225, 4.210457801818848, 4.268313884735107, 4.169293403625488, 4.235843658447266, 4.199047565460205, 4.2143425941467285, 4.25904655456543, 4.399245738983154, 4.284091949462891, 4.241508960723877, 4.2097392082214355, 4.229391574859619, 4.292150974273682, 4.249634265899658, 4.287663459777832, 4.223908424377441, 4.342095851898193, 4.323904991149902, 4.28590726852417, 4.239848613739014, 4.246561050415039, 4.231246471405029, 4.2890801429748535, 4.314874172210693, 4.29599666595459, 4.315006256103516, 4.2560038566589355, 4.243041038513184, 4.234014987945557, 4.256533145904541, 4.206148147583008, 4.240392684936523, 4.233386039733887, 4.205848217010498, 4.268978118896484, 4.2789082527160645, 4.235246181488037, 4.297016143798828, 4.242210388183594, 4.286268711090088, 4.259368896484375, 4.287768363952637, 4.259092330932617, 4.242044925689697, 4.23225212097168, 4.200258731842041, 4.297882556915283, 4.208063125610352, 4.225038528442383, 4.336441993713379, 4.3895440101623535, 4.306721210479736, 4.298697471618652, 4.2253265380859375, 4.183401107788086, 4.280982971191406, 4.267572402954102, 4.264186859130859, 4.27686882019043, 4.2328596115112305, 4.204672336578369, 4.284684658050537, 4.220616817474365, 4.222988128662109, 4.260254383087158, 4.216692924499512, 4.287590503692627, 4.238131523132324, 4.2696146965026855, 4.339396953582764, 4.2900071144104, 4.320290565490723, 4.235133647918701, 4.235776424407959, 4.206942081451416, 4.261627197265625, 4.308886528015137, 4.221879482269287, 4.2427520751953125, 4.2353901863098145, 4.26809024810791, 4.226992130279541, 4.245369911193848, 4.263467788696289, 4.299863815307617, 4.194944381713867, 4.262852668762207, 4.2489237785339355, 4.266934394836426, 4.233646869659424, 4.306596279144287, 4.279542446136475, 4.294854640960693, 4.2557148933410645, 4.205663681030273, 4.189174175262451, 4.276024341583252, 4.288442134857178, 4.196969032287598, 4.24924898147583, 4.193976402282715, 4.221347808837891, 4.227433681488037, 4.250241279602051, 4.218863487243652, 4.241300106048584, 4.229902744293213, 4.240082263946533, 4.236764907836914, 4.207254409790039, 4.282753944396973, 4.33792781829834, 4.248963832855225, 4.277158260345459, 4.244267463684082, 4.295988082885742, 4.232405185699463, 4.232074737548828, 4.335809230804443, 4.271380424499512, 4.270851135253906, 4.238693714141846, 4.281147003173828, 4.307407855987549, 4.27772855758667, 4.280808925628662, 4.36012601852417, 4.2378764152526855, 4.425817012786865, 4.251962661743164, 4.255986213684082, 4.302700519561768, 4.267635822296143, 4.2784833908081055, 4.288680076599121, 4.300417900085449, 4.330873489379883, 4.255367279052734, 4.32460880279541, 4.388484954833984, 4.343771457672119, 4.347471237182617, 4.228551864624023, 4.29286003112793, 4.338798999786377, 4.321120262145996, 4.294550895690918, 4.2860941886901855, 4.260293483734131, 4.335026741027832, 4.322876453399658, 4.322133541107178, 4.357187271118164, 4.401345729827881, 4.358222484588623, 4.340626239776611, 4.349838733673096, 4.359128952026367, 4.380826950073242, 4.329990386962891, 4.331926345825195, 4.326542854309082, 4.3825459480285645, 4.347126007080078, 4.414141654968262, 4.355428695678711, 4.3706254959106445, 4.335658073425293, 4.370833396911621, 4.336266040802002, 4.335834980010986, 4.365020751953125, 4.360342025756836, 4.354886531829834, 4.350330352783203, 4.376519680023193, 4.331347465515137, 4.337693214416504, 4.334847450256348, 4.340342998504639, 4.371824264526367, 4.41328239440918, 4.353095054626465, 4.411060333251953, 4.41541051864624, 4.384932041168213, 4.401400566101074, 4.40780782699585, 4.398375988006592, 4.338229179382324, 4.422750473022461, 4.3945159912109375, 4.464056968688965, 4.356987953186035, 4.394071578979492, 4.359442710876465, 4.390970230102539, 4.370119094848633, 4.38960075378418, 4.406092643737793, 4.365284442901611, 4.388373374938965, 4.454965591430664, 4.350491046905518, 4.378188133239746, 4.340750694274902, 4.352032661437988, 4.363208293914795, 4.4205098152160645, 4.423703193664551, 4.397005558013916, 4.417888641357422, 4.420553207397461, 4.460014343261719, 4.418686389923096, 4.442072868347168, 4.380440711975098, 4.370167255401611, 4.418238162994385, 4.37297248840332, 4.3734893798828125, 4.426225662231445, 4.414360523223877, 4.421229362487793, 4.371913909912109, 4.375198841094971, 4.42555046081543, 4.432294845581055, 4.419538974761963, 4.43037223815918, 4.461548328399658, 4.416444301605225, 4.426919937133789, 4.467879772186279, 4.4359822273254395, 4.411840915679932, 4.364099025726318, 4.412015438079834, 4.4081501960754395, 4.382269382476807, 4.456569671630859, 4.428864002227783, 4.446657657623291, 4.373580455780029, 4.404561519622803, 4.375788688659668, 4.415837287902832, 4.423044204711914, 4.438338279724121, 4.446185111999512, 4.409449577331543, 4.47356653213501, 4.39988899230957, 4.446245193481445, 4.367295742034912, 4.4437971115112305]\n"
          ]
        }
      ],
      "source": [
        "print(mae_history)"
      ]
    },
    {
      "cell_type": "code",
      "execution_count": 24,
      "metadata": {
        "id": "upuUFJVj_6dm"
      },
      "outputs": [],
      "source": [
        "average_mae_history1 = [\n",
        "    np.mean([x[i] for x in all_mae_histories]) for i in range(num_epochs)]"
      ]
    },
    {
      "cell_type": "code",
      "execution_count": 26,
      "metadata": {
        "colab": {
          "base_uri": "https://localhost:8080/",
          "height": 449
        },
        "id": "JsJVEE_UJFYy",
        "outputId": "2376353d-4748-4d0f-ae08-14ade63eb606"
      },
      "outputs": [
        {
          "data": {
            "image/png": "[encoded data removed]",
            "text/plain": [
              "<Figure size 640x480 with 1 Axes>"
            ]
          },
          "metadata": {},
          "output_type": "display_data"
        }
      ],
      "source": [
        "truncated_mae_history = average_mae_history1[10:]\n",
        "plt.plot(range(1, len(truncated_mae_history) + 1), truncated_mae_history)\n",
        "plt.xlabel(\"Epochs\")\n",
        "plt.ylabel(\"Validation MAE\")\n",
        "plt.show()"
      ]
    },
    {
      "cell_type": "markdown",
      "metadata": {
        "id": "Z9_hiQqD7QPj"
      },
      "source": [
        " **3.1.1** \n",
        " \n",
        "   >What type of preprocessing was applied to the raw input data? Why was \n",
        "it necessary to do so?\n",
        "\n",
        "**Data normalization**\n",
        "Data normalization is a popular preprocessing step used in machine learning. It entails scaling the data to a given range or altering the data to have a zero mean and unit variance.\n",
        "\n",
        "1. To ensure that the characteristics have a zero mean and a single standard deviation, data normalisation involves standardising the features. This normalisation method aids in enhancing the model's generalizability to new data and the training process.\n",
        "2. Some features may influence the learning algorithm more than others when scaled or quantified in different ways. Normalising the data keeps any one feature from controlling the learning process by putting all features on an equal footing.\n",
        "3.The features converge more quickly after being normalised. The convergence process can be sped up and the learning algorithm's effectiveness increased by normalising the input.\n",
        "4.By normalising the data, the features can be made more comparable and treated equally by the learning system.\n",
        "5.Scaling the features can result in more robust and trustworthy models by lowering the impact of outliers and extreme values."
      ]
    },
    {
      "cell_type": "markdown",
      "metadata": {
        "id": "qZtaACWU7QZ9"
      },
      "source": [
        " **3.1.2** \n",
        " \n",
        "   >Why is this problem a case of regression (rather than classification)?\n",
        "\n",
        "\n",
        "1. Because the aim is to forecast a continuous numerical value rather than a defined class or category, the Boston Housing Price dataset is an example of regression rather than classification.\n",
        "2. The median value of owner-occupied homes is predicted using factors from the Boston Housing Price dataset, including the crime rate, the typical number of rooms per dwelling, and others.\n",
        "3. The objective variable, a continuous variable that can take on any value within a range, represents the cost of homes. Regression models are trained to estimate and forecast these continuous values based on the input features.\n",
        "4. In order to make continuous predictions, such as calculating the price of a house based on its attributes, regression models are trained to discover the underlying patterns and correlations in the data.\n",
        "5. In contrast, the objective of a classification task is to forecast the class or category to which an input belongs. For instance, identifying emails as spam or not, or categorising photographs according to their subject matter.\n"
      ]
    },
    {
      "cell_type": "markdown",
      "metadata": {
        "id": "u4gWky977QjV"
      },
      "source": [
        " **3.1.3** \n",
        " \n",
        "   >Does your model suffer from overfitting? If so, what would you suggest doing about it?\n",
        "\n",
        "We can contrast the MAE values between the training and validation sets to determine whether a model is overfitting based on the validation mean absolute error (MAE).\n",
        "\n",
        "After comparing the training MAE and the testing MAE's differences. The training MAE is much lower than the testing MAE, which indicates that the model is overfitting. This suggests that while the model does well on the training data, it has trouble generalising to brand-new, untried data.\n",
        "\n",
        "We can avoid overfitting by following the below techniques\n",
        "1. The model can learn more generalised patterns and lessen overfitting by collecting additional data. This might not always be possible or useful, though\n",
        "2. By selecting the features that are most important, the model can avoid fitting data noise. Pick out and only include the traits that have a big impact on the target variable.\n",
        "2.During training, keep an eye on the model's performance on a validation set, and halt training when it begins to decline.\n",
        "3. The model's parameters are given limitations through regularisation, which prevents them from taking extremely high or low values.\n",
        "\n",
        "\n",
        "\n"
      ]
    },
    {
      "cell_type": "markdown",
      "metadata": {
        "id": "utWITDjJ7QsS"
      },
      "source": [
        " **3.1.4** \n",
        " \n",
        "   >Is mean absolute error (MAE) a good metric of success in this case? Why \n",
        "(not)?\n",
        "\n",
        "Yes, it is common practise to evaluate the effectiveness of regression models on the Boston Housing Price dataset using the Mean Absolute Error (MAE) statistic. The MAE calculates the average absolute difference between the expected and actual values. When projecting housing prices, the average absolute deviation (MAE) between the projected prices and the actual prices is used.\n",
        "\n",
        "*  The average absolute deviation, or MAE, provides a simple explanation.\n",
        "* MAE is less susceptible to outliers than other measures like Mean Squared Error (MSE) because it does not square the differences. Given this, MAE may be a more reliable statistic when used with datasets that contain outliers.\n",
        "* MAE is appropriate for comparing models across different datasets or when the target variable's scale changes because it is unaffected by the target variable's scale.\n",
        "\n",
        "\n",
        "\n",
        "\n",
        "\n"
      ]
    },
    {
      "cell_type": "markdown",
      "metadata": {
        "id": "cNxMzaMt2kp7"
      },
      "source": [
        " **3.2.1**\n",
        "\n",
        "Write code to try different combinations of:\n",
        "- K for K-fold validation\n",
        "- number of epochs\n",
        "- number of units per hidden layer\n",
        "- number of hidden layers \n",
        "\n",
        "Please refrain from using better architectures and \"advanced\" techniques to curb overfitting (e.g., dropout, batch normalization, weight regularization, etc.)"
      ]
    },
    {
      "cell_type": "markdown",
      "metadata": {
        "id": "A74pthJkHafP"
      },
      "source": [
        "Number of Layer and units per hidden layer are changed,K fold Changed to k=3 and epochs=200\n",
        "\n",
        "*  Advance techniques BatchNormalization and Dropout were added.\n",
        "*  Activation Function  softmax\n",
        "\n"
      ]
    },
    {
      "cell_type": "code",
      "execution_count": 191,
      "metadata": {
        "id": "FKxbcchuDLHk"
      },
      "outputs": [],
      "source": [
        "def build_model31():\n",
        "    model31 = keras.Sequential([\n",
        "        layers.Dense(64, activation=\"relu\"),\n",
        "        layers.BatchNormalization(),\n",
        "        layers.Dense(64, activation=\"relu\"),\n",
        "        layers.Dense(64, activation=\"relu\"),\n",
        "        layers.Dropout(0.2),\n",
        "        layers.Dense(1),\n",
        "        layers.Dense(46, activation=\"softmax\")\n",
        "    ])\n",
        "    model31.compile(optimizer=\"rmsprop\", loss=\"mse\", metrics=[\"mae\"])\n",
        "    return model31"
      ]
    },
    {
      "cell_type": "markdown",
      "metadata": {
        "id": "PEZSBcZYHBT_"
      },
      "source": []
    },
    {
      "cell_type": "code",
      "execution_count": 192,
      "metadata": {
        "colab": {
          "base_uri": "https://localhost:8080/"
        },
        "id": "uf2amJehDS61",
        "outputId": "bc53dcd4-3c0f-4e92-d220-a5230800e668"
      },
      "outputs": [
        {
          "name": "stdout",
          "output_type": "stream",
          "text": [
            "Processing fold #0\n",
            "Processing fold #1\n",
            "Processing fold #2\n"
          ]
        }
      ],
      "source": [
        "k = 3\n",
        "num_val_samples = len(train_data) // k\n",
        "num_epochs = 200\n",
        "all_scores = []\n",
        "for i in range(k):\n",
        "    print(f\"Processing fold #{i}\")\n",
        "    val_data = train_data[i * num_val_samples: (i + 1) * num_val_samples]\n",
        "    val_targets = train_targets[i * num_val_samples: (i + 1) * num_val_samples]\n",
        "    partial_train_data = np.concatenate(\n",
        "        [train_data[:i * num_val_samples],\n",
        "         train_data[(i + 1) * num_val_samples:]],\n",
        "        axis=0)\n",
        "    partial_train_targets = np.concatenate(\n",
        "        [train_targets[:i * num_val_samples],\n",
        "         train_targets[(i + 1) * num_val_samples:]],\n",
        "        axis=0)\n",
        "    model31 = build_model31()\n",
        "    model31.fit(partial_train_data, partial_train_targets,\n",
        "              epochs=num_epochs, batch_size=16, verbose=0)\n",
        "    val_mse, val_mae = model3.evaluate(val_data, val_targets, verbose=0)\n",
        "    all_scores.append(val_mae)"
      ]
    },
    {
      "cell_type": "code",
      "execution_count": 185,
      "metadata": {
        "colab": {
          "base_uri": "https://localhost:8080/"
        },
        "id": "8oOlyzabDZ92",
        "outputId": "8c9b1cc6-4013-430b-fb18-c7aeecb4d6c0"
      },
      "outputs": [
        {
          "name": "stdout",
          "output_type": "stream",
          "text": [
            "Processing fold #0\n",
            "Processing fold #1\n",
            "Processing fold #2\n"
          ]
        }
      ],
      "source": [
        "num_epochs = 500\n",
        "all_mae_histories = []\n",
        "for i in range(k):\n",
        "    print(f\"Processing fold #{i}\")\n",
        "    val_data = train_data[i * num_val_samples: (i + 1) * num_val_samples]\n",
        "    val_targets = train_targets[i * num_val_samples: (i + 1) * num_val_samples]\n",
        "    partial_train_data = np.concatenate(\n",
        "        [train_data[:i * num_val_samples],\n",
        "         train_data[(i + 1) * num_val_samples:]],\n",
        "        axis=0)\n",
        "    partial_train_targets = np.concatenate(\n",
        "        [train_targets[:i * num_val_samples],\n",
        "         train_targets[(i + 1) * num_val_samples:]],\n",
        "        axis=0)\n",
        "    model31 = build_model31()\n",
        "    history = model31.fit(partial_train_data, partial_train_targets,\n",
        "                        validation_data=(val_data, val_targets),\n",
        "                        epochs=num_epochs, batch_size=16, verbose=0)\n",
        "    mae_history = history.history[\"val_mae\"]\n",
        "    all_mae_histories.append(mae_history)"
      ]
    },
    {
      "cell_type": "code",
      "execution_count": 186,
      "metadata": {
        "id": "LZnf65nODd-K"
      },
      "outputs": [],
      "source": [
        "average_mae_history = [\n",
        "    np.mean([x[i] for x in all_mae_histories]) for i in range(num_epochs)]"
      ]
    },
    {
      "cell_type": "code",
      "execution_count": 187,
      "metadata": {
        "colab": {
          "base_uri": "https://localhost:8080/",
          "height": 449
        },
        "id": "5MujhoeADpMd",
        "outputId": "c496c4cb-cb18-4469-c9fd-46a433e3cbff"
      },
      "outputs": [
        {
          "data": {
            "image/png": "[encoded data removed]",
            "text/plain": [
              "<Figure size 640x480 with 1 Axes>"
            ]
          },
          "metadata": {},
          "output_type": "display_data"
        }
      ],
      "source": [
        "plt.plot(range(1, len(average_mae_history) + 1), average_mae_history)\n",
        "plt.xlabel(\"Epochs\")\n",
        "plt.ylabel(\"Validation MAE\")\n",
        "plt.show()"
      ]
    },
    {
      "cell_type": "markdown",
      "metadata": {
        "id": "8SoeBbpo3brk"
      },
      "source": [
        "##  CONCLUSIONS"
      ]
    },
    {
      "cell_type": "markdown",
      "metadata": {
        "id": "YKuaczBa3_5O"
      },
      "source": [
        "Use this area to write your conclusions, lessons learned, etc.\n",
        "\n",
        "**IMDB Dataset**\n",
        "\n",
        "We looked into the binary categorization of movie reviews using the IMDB dataset. Tokenizing the text and converting it into sequences were part of the preprocessing the data, which is where we began. Next, we built a neural network model with an embedding layer and a dense final layer with sigmoid activation for binary classification.\n",
        "\n",
        "Lesson Learned\n",
        "*   Preprocessing data is essential\n",
        "*   Word representations are captured by embedding layers.\n",
        "*   Appropriate metrics are necessary for model evaluation\n",
        "*   Regularisation strategies can be used to deal with overfitting.\n",
        "\n",
        "\n",
        "**Reuters Dataset**\n",
        "\n",
        "We looked into the multiclass classification of newswires using the Reuters dataset. We started by preprocessing the data by tokenizing the text, converting it into sequences, and one-hot encoding the labels. We then built a neural network model using an embedding layer, LSTM layers, and a dense layer with softmax activation for multiclass classification.\n",
        "\n",
        "Lesson Learned\n",
        "\n",
        "*   Data preprocessing is crucial.\n",
        "*   Layers used for embedding take semantic representations.\n",
        "*   Metrics for multiclass evaluation are required.\n",
        "\n",
        "**Boston Housing Price dataset**\n",
        "\n",
        "Using the dataset for Boston Housing Prices, we investigated the regression task. We created a regression model to forecast property values depending on many characteristics, such as the crime rate and the number of rooms etc.\n",
        "\n",
        "Lesson Learned\n",
        "*   Preprocessing data is essential.\n",
        "*   It's crucial to choose features.\n",
        "*   Evaluation metrics for regression are importatnt"
      ]
    }
  ],
  "metadata": {
    "accelerator": "GPU",
    "colab": {
      "provenance": [],
      "toc_visible": true
    },
    "kernelspec": {
      "display_name": "Python 3",
      "language": "python",
      "name": "python3"
    },
    "language_info": {
      "codemirror_mode": {
        "name": "ipython",
        "version": 3
      },
      "file_extension": ".py",
      "mimetype": "text/x-python",
      "name": "python",
      "nbconvert_exporter": "python",
      "pygments_lexer": "ipython3",
      "version": "3.6.5"
    }
  },
  "nbformat": 4,
  "nbformat_minor": 0
}
