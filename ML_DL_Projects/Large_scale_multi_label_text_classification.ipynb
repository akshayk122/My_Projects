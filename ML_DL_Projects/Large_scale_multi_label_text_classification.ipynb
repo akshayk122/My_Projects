{
  "cells": [
    {
      "cell_type": "markdown",
      "metadata": {
        "id": "o16QIatH0V2N"
      },
      "source": [
        "# Large-scale multi-label text classification\n"
      ]
    },
    {
      "cell_type": "markdown",
      "metadata": {
        "id": "7ZD-Jftl0V2U"
      },
      "source": [
        "## Imports"
      ]
    },
    {
      "cell_type": "code",
      "execution_count": null,
      "metadata": {
        "id": "VC9L60et0V2V"
      },
      "outputs": [],
      "source": [
        "from tensorflow.keras import layers\n",
        "from tensorflow import keras\n",
        "import tensorflow as tf\n",
        "\n",
        "from sklearn.model_selection import train_test_split\n",
        "from ast import literal_eval\n",
        "\n",
        "import matplotlib.pyplot as plt\n",
        "import pandas as pd\n",
        "import numpy as np"
      ]
    },
    {
      "cell_type": "markdown",
      "metadata": {
        "id": "opQqF2kf0V2X"
      },
      "source": [
        "##Exploratory data analysis\n"
      ]
    },
    {
      "cell_type": "code",
      "execution_count": null,
      "metadata": {
        "id": "CbNDecJ80V2Y",
        "outputId": "a7f43c37-7875-4b21-a015-9e9cfa520130",
        "colab": {
          "base_uri": "https://localhost:8080/",
          "height": 206
        }
      },
      "outputs": [
        {
          "output_type": "execute_result",
          "data": {
            "text/plain": [
              "                                              titles  \\\n",
              "0  Survey on Semantic Stereo Matching / Semantic ...   \n",
              "1  FUTURE-AI: Guiding Principles and Consensus Re...   \n",
              "2  Enforcing Mutual Consistency of Hard Regions f...   \n",
              "3  Parameter Decoupling Strategy for Semi-supervi...   \n",
              "4  Background-Foreground Segmentation for Interio...   \n",
              "\n",
              "                                           summaries  \\\n",
              "0  Stereo matching is one of the widely used tech...   \n",
              "1  The recent advancements in artificial intellig...   \n",
              "2  In this paper, we proposed a novel mutual cons...   \n",
              "3  Consistency training has proven to be an advan...   \n",
              "4  To ensure safety in automated driving, the cor...   \n",
              "\n",
              "                         terms  \n",
              "0           ['cs.CV', 'cs.LG']  \n",
              "1  ['cs.CV', 'cs.AI', 'cs.LG']  \n",
              "2           ['cs.CV', 'cs.AI']  \n",
              "3                    ['cs.CV']  \n",
              "4           ['cs.CV', 'cs.LG']  "
            ],
            "text/html": [
              "\n",
              "\n",
              "  <div id=\"df-bccc43e0-33fd-4464-9230-887a6527f1d4\">\n",
              "    <div class=\"colab-df-container\">\n",
              "      <div>\n",
              "<style scoped>\n",
              "    .dataframe tbody tr th:only-of-type {\n",
              "        vertical-align: middle;\n",
              "    }\n",
              "\n",
              "    .dataframe tbody tr th {\n",
              "        vertical-align: top;\n",
              "    }\n",
              "\n",
              "    .dataframe thead th {\n",
              "        text-align: right;\n",
              "    }\n",
              "</style>\n",
              "<table border=\"1\" class=\"dataframe\">\n",
              "  <thead>\n",
              "    <tr style=\"text-align: right;\">\n",
              "      <th></th>\n",
              "      <th>titles</th>\n",
              "      <th>summaries</th>\n",
              "      <th>terms</th>\n",
              "    </tr>\n",
              "  </thead>\n",
              "  <tbody>\n",
              "    <tr>\n",
              "      <th>0</th>\n",
              "      <td>Survey on Semantic Stereo Matching / Semantic ...</td>\n",
              "      <td>Stereo matching is one of the widely used tech...</td>\n",
              "      <td>['cs.CV', 'cs.LG']</td>\n",
              "    </tr>\n",
              "    <tr>\n",
              "      <th>1</th>\n",
              "      <td>FUTURE-AI: Guiding Principles and Consensus Re...</td>\n",
              "      <td>The recent advancements in artificial intellig...</td>\n",
              "      <td>['cs.CV', 'cs.AI', 'cs.LG']</td>\n",
              "    </tr>\n",
              "    <tr>\n",
              "      <th>2</th>\n",
              "      <td>Enforcing Mutual Consistency of Hard Regions f...</td>\n",
              "      <td>In this paper, we proposed a novel mutual cons...</td>\n",
              "      <td>['cs.CV', 'cs.AI']</td>\n",
              "    </tr>\n",
              "    <tr>\n",
              "      <th>3</th>\n",
              "      <td>Parameter Decoupling Strategy for Semi-supervi...</td>\n",
              "      <td>Consistency training has proven to be an advan...</td>\n",
              "      <td>['cs.CV']</td>\n",
              "    </tr>\n",
              "    <tr>\n",
              "      <th>4</th>\n",
              "      <td>Background-Foreground Segmentation for Interio...</td>\n",
              "      <td>To ensure safety in automated driving, the cor...</td>\n",
              "      <td>['cs.CV', 'cs.LG']</td>\n",
              "    </tr>\n",
              "  </tbody>\n",
              "</table>\n",
              "</div>\n",
              "      <button class=\"colab-df-convert\" onclick=\"convertToInteractive('df-bccc43e0-33fd-4464-9230-887a6527f1d4')\"\n",
              "              title=\"Convert this dataframe to an interactive table.\"\n",
              "              style=\"display:none;\">\n",
              "\n",
              "  <svg xmlns=\"http://www.w3.org/2000/svg\" height=\"24px\"viewBox=\"0 0 24 24\"\n",
              "       width=\"24px\">\n",
              "    <path d=\"M0 0h24v24H0V0z\" fill=\"none\"/>\n",
              "    <path d=\"M18.56 5.44l.94 2.06.94-2.06 2.06-.94-2.06-.94-.94-2.06-.94 2.06-2.06.94zm-11 1L8.5 8.5l.94-2.06 2.06-.94-2.06-.94L8.5 2.5l-.94 2.06-2.06.94zm10 10l.94 2.06.94-2.06 2.06-.94-2.06-.94-.94-2.06-.94 2.06-2.06.94z\"/><path d=\"M17.41 7.96l-1.37-1.37c-.4-.4-.92-.59-1.43-.59-.52 0-1.04.2-1.43.59L10.3 9.45l-7.72 7.72c-.78.78-.78 2.05 0 2.83L4 21.41c.39.39.9.59 1.41.59.51 0 1.02-.2 1.41-.59l7.78-7.78 2.81-2.81c.8-.78.8-2.07 0-2.86zM5.41 20L4 18.59l7.72-7.72 1.47 1.35L5.41 20z\"/>\n",
              "  </svg>\n",
              "      </button>\n",
              "\n",
              "\n",
              "\n",
              "    <div id=\"df-9b5593bc-38bc-4c42-85cf-638edb94c679\">\n",
              "      <button class=\"colab-df-quickchart\" onclick=\"quickchart('df-9b5593bc-38bc-4c42-85cf-638edb94c679')\"\n",
              "              title=\"Suggest charts.\"\n",
              "              style=\"display:none;\">\n",
              "\n",
              "<svg xmlns=\"http://www.w3.org/2000/svg\" height=\"24px\"viewBox=\"0 0 24 24\"\n",
              "     width=\"24px\">\n",
              "    <g>\n",
              "        <path d=\"M19 3H5c-1.1 0-2 .9-2 2v14c0 1.1.9 2 2 2h14c1.1 0 2-.9 2-2V5c0-1.1-.9-2-2-2zM9 17H7v-7h2v7zm4 0h-2V7h2v10zm4 0h-2v-4h2v4z\"/>\n",
              "    </g>\n",
              "</svg>\n",
              "      </button>\n",
              "    </div>\n",
              "\n",
              "<style>\n",
              "  .colab-df-quickchart {\n",
              "    background-color: #E8F0FE;\n",
              "    border: none;\n",
              "    border-radius: 50%;\n",
              "    cursor: pointer;\n",
              "    display: none;\n",
              "    fill: #1967D2;\n",
              "    height: 32px;\n",
              "    padding: 0 0 0 0;\n",
              "    width: 32px;\n",
              "  }\n",
              "\n",
              "  .colab-df-quickchart:hover {\n",
              "    background-color: #E2EBFA;\n",
              "    box-shadow: 0px 1px 2px rgba(60, 64, 67, 0.3), 0px 1px 3px 1px rgba(60, 64, 67, 0.15);\n",
              "    fill: #174EA6;\n",
              "  }\n",
              "\n",
              "  [theme=dark] .colab-df-quickchart {\n",
              "    background-color: #3B4455;\n",
              "    fill: #D2E3FC;\n",
              "  }\n",
              "\n",
              "  [theme=dark] .colab-df-quickchart:hover {\n",
              "    background-color: #434B5C;\n",
              "    box-shadow: 0px 1px 3px 1px rgba(0, 0, 0, 0.15);\n",
              "    filter: drop-shadow(0px 1px 2px rgba(0, 0, 0, 0.3));\n",
              "    fill: #FFFFFF;\n",
              "  }\n",
              "</style>\n",
              "\n",
              "    <script>\n",
              "      async function quickchart(key) {\n",
              "        const containerElement = document.querySelector('#' + key);\n",
              "        const charts = await google.colab.kernel.invokeFunction(\n",
              "            'suggestCharts', [key], {});\n",
              "      }\n",
              "    </script>\n",
              "\n",
              "      <script>\n",
              "\n",
              "function displayQuickchartButton(domScope) {\n",
              "  let quickchartButtonEl =\n",
              "    domScope.querySelector('#df-9b5593bc-38bc-4c42-85cf-638edb94c679 button.colab-df-quickchart');\n",
              "  quickchartButtonEl.style.display =\n",
              "    google.colab.kernel.accessAllowed ? 'block' : 'none';\n",
              "}\n",
              "\n",
              "        displayQuickchartButton(document);\n",
              "      </script>\n",
              "      <style>\n",
              "    .colab-df-container {\n",
              "      display:flex;\n",
              "      flex-wrap:wrap;\n",
              "      gap: 12px;\n",
              "    }\n",
              "\n",
              "    .colab-df-convert {\n",
              "      background-color: #E8F0FE;\n",
              "      border: none;\n",
              "      border-radius: 50%;\n",
              "      cursor: pointer;\n",
              "      display: none;\n",
              "      fill: #1967D2;\n",
              "      height: 32px;\n",
              "      padding: 0 0 0 0;\n",
              "      width: 32px;\n",
              "    }\n",
              "\n",
              "    .colab-df-convert:hover {\n",
              "      background-color: #E2EBFA;\n",
              "      box-shadow: 0px 1px 2px rgba(60, 64, 67, 0.3), 0px 1px 3px 1px rgba(60, 64, 67, 0.15);\n",
              "      fill: #174EA6;\n",
              "    }\n",
              "\n",
              "    [theme=dark] .colab-df-convert {\n",
              "      background-color: #3B4455;\n",
              "      fill: #D2E3FC;\n",
              "    }\n",
              "\n",
              "    [theme=dark] .colab-df-convert:hover {\n",
              "      background-color: #434B5C;\n",
              "      box-shadow: 0px 1px 3px 1px rgba(0, 0, 0, 0.15);\n",
              "      filter: drop-shadow(0px 1px 2px rgba(0, 0, 0, 0.3));\n",
              "      fill: #FFFFFF;\n",
              "    }\n",
              "  </style>\n",
              "\n",
              "      <script>\n",
              "        const buttonEl =\n",
              "          document.querySelector('#df-bccc43e0-33fd-4464-9230-887a6527f1d4 button.colab-df-convert');\n",
              "        buttonEl.style.display =\n",
              "          google.colab.kernel.accessAllowed ? 'block' : 'none';\n",
              "\n",
              "        async function convertToInteractive(key) {\n",
              "          const element = document.querySelector('#df-bccc43e0-33fd-4464-9230-887a6527f1d4');\n",
              "          const dataTable =\n",
              "            await google.colab.kernel.invokeFunction('convertToInteractive',\n",
              "                                                     [key], {});\n",
              "          if (!dataTable) return;\n",
              "\n",
              "          const docLinkHtml = 'Like what you see? Visit the ' +\n",
              "            '<a target=\"_blank\" href=https://colab.research.google.com/notebooks/data_table.ipynb>data table notebook</a>'\n",
              "            + ' to learn more about interactive tables.';\n",
              "          element.innerHTML = '';\n",
              "          dataTable['output_type'] = 'display_data';\n",
              "          await google.colab.output.renderOutput(dataTable, element);\n",
              "          const docLink = document.createElement('div');\n",
              "          docLink.innerHTML = docLinkHtml;\n",
              "          element.appendChild(docLink);\n",
              "        }\n",
              "      </script>\n",
              "    </div>\n",
              "  </div>\n"
            ]
          },
          "metadata": {},
          "execution_count": 2
        }
      ],
      "source": [
        "arxiv_data = pd.read_csv(\n",
        "    \"https://github.com/soumik12345/multi-label-text-classification/releases/download/v0.2/arxiv_data.csv\"\n",
        ")\n",
        "arxiv_data.head()"
      ]
    },
    {
      "cell_type": "code",
      "execution_count": null,
      "metadata": {
        "id": "e5wNVgx00V2Z",
        "outputId": "ad15ce04-9fab-49af-ea54-59c5d99eafc5",
        "colab": {
          "base_uri": "https://localhost:8080/"
        }
      },
      "outputs": [
        {
          "output_type": "stream",
          "name": "stdout",
          "text": [
            "There are 51774 rows in the dataset.\n"
          ]
        }
      ],
      "source": [
        "print(f\"There are {len(arxiv_data)} rows in the dataset.\")"
      ]
    },
    {
      "cell_type": "code",
      "execution_count": null,
      "metadata": {
        "id": "nNWJd9QD0V2b",
        "outputId": "7af4277f-96fa-42ee-a8ed-1af8e8698e3f",
        "colab": {
          "base_uri": "https://localhost:8080/"
        }
      },
      "outputs": [
        {
          "output_type": "stream",
          "name": "stdout",
          "text": [
            "There are 12802 duplicate titles.\n"
          ]
        }
      ],
      "source": [
        "total_duplicate_titles = sum(arxiv_data[\"titles\"].duplicated())\n",
        "print(f\"There are {total_duplicate_titles} duplicate titles.\")"
      ]
    },
    {
      "cell_type": "code",
      "execution_count": null,
      "metadata": {
        "id": "XniUrV-l0V2b",
        "outputId": "4150a84e-8ddd-4cda-cff7-229ac96d386b",
        "colab": {
          "base_uri": "https://localhost:8080/"
        }
      },
      "outputs": [
        {
          "output_type": "stream",
          "name": "stdout",
          "text": [
            "There are 38972 rows in the deduplicated dataset.\n",
            "2321\n",
            "3157\n"
          ]
        }
      ],
      "source": [
        "arxiv_data = arxiv_data[~arxiv_data[\"titles\"].duplicated()]\n",
        "print(f\"There are {len(arxiv_data)} rows in the deduplicated dataset.\")\n",
        "print(sum(arxiv_data[\"terms\"].value_counts() == 1))\n",
        "\n",
        "print(arxiv_data[\"terms\"].nunique())"
      ]
    },
    {
      "cell_type": "code",
      "execution_count": null,
      "metadata": {
        "id": "e3LMsiZG0V2c",
        "outputId": "b76b4a82-58fc-4e5c-9ae8-ba610296e6e6",
        "colab": {
          "base_uri": "https://localhost:8080/"
        }
      },
      "outputs": [
        {
          "output_type": "execute_result",
          "data": {
            "text/plain": [
              "(36651, 3)"
            ]
          },
          "metadata": {},
          "execution_count": 6
        }
      ],
      "source": [
        "# Filter\n",
        "arxiv_data_filtered = arxiv_data.groupby(\"terms\").filter(lambda x: len(x) > 1)\n",
        "arxiv_data_filtered.shape"
      ]
    },
    {
      "cell_type": "markdown",
      "metadata": {
        "id": "NcVCsb9v0V2c"
      },
      "source": [
        "## Convert the string labels to lists of strings"
      ]
    },
    {
      "cell_type": "code",
      "execution_count": null,
      "metadata": {
        "id": "1BEXhlvN0V2c",
        "outputId": "e09b419c-2cee-45d3-ce76-c92369a4a043",
        "colab": {
          "base_uri": "https://localhost:8080/"
        }
      },
      "outputs": [
        {
          "output_type": "execute_result",
          "data": {
            "text/plain": [
              "array([list(['cs.CV', 'cs.LG']), list(['cs.CV', 'cs.AI', 'cs.LG']),\n",
              "       list(['cs.CV', 'cs.AI']), list(['cs.CV']),\n",
              "       list(['cs.CV', 'cs.LG'])], dtype=object)"
            ]
          },
          "metadata": {},
          "execution_count": 7
        }
      ],
      "source": [
        "arxiv_data_filtered[\"terms\"] = arxiv_data_filtered[\"terms\"].apply(\n",
        "    lambda x: literal_eval(x)\n",
        ")\n",
        "arxiv_data_filtered[\"terms\"].values[:5]"
      ]
    },
    {
      "cell_type": "markdown",
      "metadata": {
        "id": "kmoL6nPY0V2c"
      },
      "source": [
        "## Use stratified splits\n"
      ]
    },
    {
      "cell_type": "code",
      "execution_count": null,
      "metadata": {
        "id": "NRI3IPSN0V2d",
        "outputId": "eeb82585-e504-4ec2-874c-905cb699d36a",
        "colab": {
          "base_uri": "https://localhost:8080/"
        }
      },
      "outputs": [
        {
          "output_type": "stream",
          "name": "stdout",
          "text": [
            "Number of rows in training set: 32985\n",
            "Number of rows in validation set: 1833\n",
            "Number of rows in test set: 1833\n"
          ]
        }
      ],
      "source": [
        "test_split = 0.1\n",
        "\n",
        "\n",
        "train_df, test_df = train_test_split(\n",
        "    arxiv_data_filtered,\n",
        "    test_size=test_split,\n",
        "    stratify=arxiv_data_filtered[\"terms\"].values,\n",
        ")\n",
        "\n",
        "\n",
        "val_df = test_df.sample(frac=0.5)\n",
        "test_df.drop(val_df.index, inplace=True)\n",
        "\n",
        "print(f\"Number of rows in training set: {len(train_df)}\")\n",
        "print(f\"Number of rows in validation set: {len(val_df)}\")\n",
        "print(f\"Number of rows in test set: {len(test_df)}\")"
      ]
    },
    {
      "cell_type": "markdown",
      "metadata": {
        "id": "Dw73rip70V2d"
      },
      "source": [
        "## Multi-label binarization"
      ]
    },
    {
      "cell_type": "code",
      "execution_count": null,
      "metadata": {
        "id": "Tu9dO_JE0V2d",
        "outputId": "d214ad6d-64b0-48c2-e7d2-3f628cc5d147",
        "colab": {
          "base_uri": "https://localhost:8080/"
        }
      },
      "outputs": [
        {
          "output_type": "stream",
          "name": "stdout",
          "text": [
            "Vocabulary:\n",
            "\n",
            "['[UNK]', 'cs.CV', 'cs.LG', 'stat.ML', 'cs.AI', 'eess.IV', 'cs.RO', 'cs.CL', 'cs.NE', 'cs.CR', 'math.OC', 'eess.SP', 'cs.GR', 'cs.SI', 'cs.MM', 'cs.SY', 'cs.IR', 'cs.MA', 'eess.SY', 'cs.HC', 'math.IT', 'cs.IT', 'cs.DC', 'cs.CY', 'stat.AP', 'stat.TH', 'math.ST', 'stat.ME', 'eess.AS', 'cs.SD', 'q-bio.QM', 'q-bio.NC', 'cs.DS', 'cs.GT', 'cs.CG', 'cs.SE', 'cs.NI', 'stat.CO', 'I.2.6', 'math.NA', 'cs.NA', 'physics.chem-ph', 'cs.DB', 'q-bio.BM', 'cs.LO', 'cond-mat.dis-nn', '68T45', 'math.PR', 'cs.PL', 'physics.comp-ph', 'I.2.10', 'cs.CE', 'cs.AR', 'q-fin.ST', 'cond-mat.stat-mech', 'quant-ph', 'math.DS', 'cs.CC', '68T05', 'I.4.6', 'physics.data-an', 'physics.soc-ph', 'physics.ao-ph', 'econ.EM', 'cs.DM', 'q-bio.GN', 'physics.med-ph', 'astro-ph.IM', 'I.4.8', 'math.AT', 'cs.PF', 'cs.FL', 'I.4', 'q-fin.TR', 'I.5.4', 'I.2', '68U10', 'physics.geo-ph', 'hep-ex', '68T10', 'cond-mat.mtrl-sci', 'q-fin.CP', 'physics.optics', 'physics.flu-dyn', 'math.AP', 'I.4; I.5', 'I.4.9', 'I.2.6; I.2.8', '68T01', '65D19', 'nlin.CD', 'math.CO', 'cs.MS', 'I.2.6; I.5.1', 'I.2.10; I.4; I.5', 'I.2.0; I.2.6', '68T07', 'cs.SC', 'cs.ET', 'K.3.2', 'I.2.8', '68U01', '68T30', 'q-fin.GN', 'q-fin.EC', 'q-bio.MN', 'econ.GN', 'I.4.9; I.5.4', 'I.4.5', 'I.2; I.5', 'I.2; I.4; I.5', 'I.2.6; I.2.7', 'I.2.10; I.4.8', '68T99', '68Q32', '68', '62H30', 'q-fin.RM', 'q-fin.PM', 'q-bio.TO', 'q-bio.OT', 'physics.bio-ph', 'nlin.AO', 'math.LO', 'math.FA', 'hep-ph', 'cond-mat.soft', 'I.4.6; I.4.8', 'I.4.4', 'I.4.3', 'I.4.0', 'I.2; J.2', 'I.2; I.2.6; I.2.7', 'I.2.7', 'I.2.6; I.5.4', 'I.2.6; I.2.9', 'I.2.6; I.2.7; H.3.1; H.3.3', 'I.2.6; I.2.10', 'I.2.6, I.5.4', 'I.2.1; J.3', 'I.2.10; I.5.1; I.4.8', 'I.2.10; I.4.8; I.5.4', 'I.2.10; I.2.6', 'I.2.1', 'H.3.1; I.2.6; I.2.7', 'H.3.1; H.3.3; I.2.6; I.2.7', 'G.3', 'F.2.2; I.2.7', 'E.5; E.4; E.2; H.1.1; F.1.1; F.1.3', '68Txx', '62H99', '62H35', '14J60 (Primary) 14F05, 14J26 (Secondary)']\n"
          ]
        }
      ],
      "source": [
        "terms = tf.ragged.constant(train_df[\"terms\"].values)\n",
        "lookup = tf.keras.layers.StringLookup(output_mode=\"multi_hot\")\n",
        "lookup.adapt(terms)\n",
        "vocab = lookup.get_vocabulary()\n",
        "\n",
        "\n",
        "def invert_multi_hot(encoded_labels):\n",
        "    hot_indices = np.argwhere(encoded_labels == 1.0)[..., 0]\n",
        "    return np.take(vocab, hot_indices)\n",
        "\n",
        "\n",
        "print(\"Vocabulary:\\n\")\n",
        "print(vocab)\n"
      ]
    },
    {
      "cell_type": "code",
      "execution_count": null,
      "metadata": {
        "id": "GuPmWTJD0V2e",
        "outputId": "8add3977-7838-4c8f-d853-355c780e957b",
        "colab": {
          "base_uri": "https://localhost:8080/"
        }
      },
      "outputs": [
        {
          "output_type": "stream",
          "name": "stdout",
          "text": [
            "Original label: ['cs.CV', 'cs.MM', 'eess.IV']\n",
            "Label-binarized representation: [[0. 1. 0. 0. 0. 1. 0. 0. 0. 0. 0. 0. 0. 0. 1. 0. 0. 0. 0. 0. 0. 0. 0. 0.\n",
            "  0. 0. 0. 0. 0. 0. 0. 0. 0. 0. 0. 0. 0. 0. 0. 0. 0. 0. 0. 0. 0. 0. 0. 0.\n",
            "  0. 0. 0. 0. 0. 0. 0. 0. 0. 0. 0. 0. 0. 0. 0. 0. 0. 0. 0. 0. 0. 0. 0. 0.\n",
            "  0. 0. 0. 0. 0. 0. 0. 0. 0. 0. 0. 0. 0. 0. 0. 0. 0. 0. 0. 0. 0. 0. 0. 0.\n",
            "  0. 0. 0. 0. 0. 0. 0. 0. 0. 0. 0. 0. 0. 0. 0. 0. 0. 0. 0. 0. 0. 0. 0. 0.\n",
            "  0. 0. 0. 0. 0. 0. 0. 0. 0. 0. 0. 0. 0. 0. 0. 0. 0. 0. 0. 0. 0. 0. 0. 0.\n",
            "  0. 0. 0. 0. 0. 0. 0. 0. 0.]]\n"
          ]
        }
      ],
      "source": [
        "sample_label = train_df[\"terms\"].iloc[0]\n",
        "print(f\"Original label: {sample_label}\")\n",
        "\n",
        "label_binarized = lookup([sample_label])\n",
        "print(f\"Label-binarized representation: {label_binarized}\")"
      ]
    },
    {
      "cell_type": "markdown",
      "metadata": {
        "id": "k8cJmPQS0V2e"
      },
      "source": [
        "## Data preprocessing and `tf.data.Dataset` objects\n"
      ]
    },
    {
      "cell_type": "code",
      "execution_count": null,
      "metadata": {
        "id": "-pmXExYK0V2e",
        "outputId": "0fe7ca2d-e890-4fc1-f33f-5148121824ae",
        "colab": {
          "base_uri": "https://localhost:8080/"
        }
      },
      "outputs": [
        {
          "output_type": "execute_result",
          "data": {
            "text/plain": [
              "count    32985.000000\n",
              "mean       156.465484\n",
              "std         41.457711\n",
              "min          5.000000\n",
              "25%        128.000000\n",
              "50%        154.000000\n",
              "75%        183.000000\n",
              "max        297.000000\n",
              "Name: summaries, dtype: float64"
            ]
          },
          "metadata": {},
          "execution_count": 11
        }
      ],
      "source": [
        "train_df[\"summaries\"].apply(lambda x: len(x.split(\" \"))).describe()"
      ]
    },
    {
      "cell_type": "code",
      "execution_count": null,
      "metadata": {
        "id": "b1MMiUK20V2e"
      },
      "outputs": [],
      "source": [
        "max_seqlen = 150\n",
        "batch_size = 128\n",
        "padding_token = \"<pad>\"\n",
        "auto = tf.data.AUTOTUNE\n",
        "\n",
        "\n",
        "def make_dataset(dataframe, is_train=True):\n",
        "    labels = tf.ragged.constant(dataframe[\"terms\"].values)\n",
        "    label_binarized = lookup(labels).numpy()\n",
        "    dataset = tf.data.Dataset.from_tensor_slices(\n",
        "        (dataframe[\"summaries\"].values, label_binarized)\n",
        "    )\n",
        "    dataset = dataset.shuffle(batch_size * 10) if is_train else dataset\n",
        "    return dataset.batch(batch_size)\n"
      ]
    },
    {
      "cell_type": "code",
      "execution_count": null,
      "metadata": {
        "id": "pYhXqtVr0V2f"
      },
      "outputs": [],
      "source": [
        "train_dataset = make_dataset(train_df, is_train=True)\n",
        "validation_dataset = make_dataset(val_df, is_train=False)\n",
        "test_dataset = make_dataset(test_df, is_train=False)"
      ]
    },
    {
      "cell_type": "markdown",
      "metadata": {
        "id": "0i2jDSAT0V2f"
      },
      "source": [
        "## Dataset preview"
      ]
    },
    {
      "cell_type": "code",
      "execution_count": null,
      "metadata": {
        "id": "a-hqhk0f0V2f",
        "outputId": "28775c90-58ee-4295-9e7d-c05c52b0b1da",
        "colab": {
          "base_uri": "https://localhost:8080/"
        }
      },
      "outputs": [
        {
          "output_type": "stream",
          "name": "stdout",
          "text": [
            "Abstract: b'Decomposition of the evidence lower bound (ELBO) objective of VAE used for\\ndensity estimation revealed the deficiency of VAE for representation learning\\nand suggested ways to improve the model. In this paper, we investigate whether\\nwe can get similar insights by decomposing the ELBO for semi-supervised\\nclassification using VAE model. Specifically, we show that mutual information\\nbetween input and class labels decreases during maximization of ELBO objective.\\nWe propose a method to address this issue. We also enforce cluster assumption\\nto aid in classification. Experiments on a diverse datasets verify that our\\nmethod can be used to improve the classification performance of existing VAE\\nbased semi-supervised models. Experiments also show that, this can be achieved\\nwithout sacrificing the generative power of the model.'\n",
            "Label(s): ['cs.LG']\n",
            " \n",
            "Abstract: b'Exploiting available medical records to train high performance computer-aided\\ndiagnosis (CAD) models via the semi-supervised learning (SSL) setting is\\nemerging to tackle the prohibitively high labor costs involved in large-scale\\nmedical image annotations. Despite the extensive attentions received on SSL,\\nprevious methods failed to 1) account for the low disease prevalence in medical\\nrecords and 2) utilize the image-level diagnosis indicated from the medical\\nrecords. Both issues are unique to SSL for CAD models. In this work, we propose\\na new knowledge distillation method that effectively exploits large-scale\\nimage-level labels extracted from the medical records, augmented with limited\\nexpert annotated region-level labels, to train a rib and clavicle fracture CAD\\nmodel for chest X-ray (CXR). Our method leverages the teacher-student model\\nparadigm and features a novel adaptive asymmetric label sharpening (AALS)\\nalgorithm to address the label imbalance problem that specially exists in\\nmedical domain. Our approach is extensively evaluated on all CXR (N = 65,845)\\nfrom the trauma registry of anonymous hospital over a period of 9 years\\n(2008-2016), on the most common rib and clavicle fractures. The experiment\\nresults demonstrate that our method achieves the state-of-the-art fracture\\ndetection performance, i.e., an area under receiver operating characteristic\\ncurve (AUROC) of 0.9318 and a free-response receiver operating characteristic\\n(FROC) score of 0.8914 on the rib fractures, significantly outperforming\\nprevious approaches by an AUROC gap of 1.63% and an FROC improvement by 3.74%.\\nConsistent performance gains are also observed for clavicle fracture detection.'\n",
            "Label(s): ['cs.CV']\n",
            " \n",
            "Abstract: b'When applying machine learning to sensitive data, one has to find a balance\\nbetween accuracy, information security, and computational-complexity. Recent\\nstudies combined Homomorphic Encryption with neural networks to make inferences\\nwhile protecting against information leakage. However, these methods are\\nlimited by the width and depth of neural networks that can be used (and hence\\nthe accuracy) and exhibit high latency even for relatively simple networks. In\\nthis study we provide two solutions that address these limitations. In the\\nfirst solution, we present more than $10\\\\times$ improvement in latency and\\nenable inference on wider networks compared to prior attempts with the same\\nlevel of security. The improved performance is achieved by novel methods to\\nrepresent the data during the computation. In the second solution, we apply the\\nmethod of transfer learning to provide private inference services using deep\\nnetworks with latency of $\\\\sim0.16$ seconds. We demonstrate the efficacy of our\\nmethods on several computer vision tasks.'\n",
            "Label(s): ['cs.LG' 'stat.ML']\n",
            " \n",
            "Abstract: b'We argue that the vulnerability of model parameters is of crucial value to\\nthe study of model robustness and generalization but little research has been\\ndevoted to understanding this matter. In this work, we propose an indicator to\\nmeasure the robustness of neural network parameters by exploiting their\\nvulnerability via parameter corruption. The proposed indicator describes the\\nmaximum loss variation in the non-trivial worst-case scenario under parameter\\ncorruption. For practical purposes, we give a gradient-based estimation, which\\nis far more effective than random corruption trials that can hardly induce the\\nworst accuracy degradation. Equipped with theoretical support and empirical\\nvalidation, we are able to systematically investigate the robustness of\\ndifferent model parameters and reveal vulnerability of deep neural networks\\nthat has been rarely paid attention to before. Moreover, we can enhance the\\nmodels accordingly with the proposed adversarial corruption-resistant training,\\nwhich not only improves the parameter robustness but also translates into\\naccuracy elevation.'\n",
            "Label(s): ['cs.LG' 'stat.ML']\n",
            " \n",
            "Abstract: b'Objective and interpretable metrics to evaluate current artificial\\nintelligent systems are of great importance, not only to analyze the current\\nstate of such systems but also to objectively measure progress in the future.\\nIn this work, we focus on the evaluation of image generation tasks. We propose\\na novel approach, called Fuzzy Topology Impact (FTI), that determines both the\\nquality and diversity of an image set using topology representations combined\\nwith fuzzy logic. When compared to current evaluation methods, FTI shows better\\nand more stable performance on multiple experiments evaluating the sensitivity\\nto noise, mode dropping and mode inventing.'\n",
            "Label(s): ['cs.CV' 'cs.LG']\n",
            " \n"
          ]
        }
      ],
      "source": [
        "text_batch, label_batch = next(iter(train_dataset))\n",
        "\n",
        "for i, text in enumerate(text_batch[:5]):\n",
        "    label = label_batch[i].numpy()[None, ...]\n",
        "    print(f\"Abstract: {text}\")\n",
        "    print(f\"Label(s): {invert_multi_hot(label[0])}\")\n",
        "    print(\" \")"
      ]
    },
    {
      "cell_type": "code",
      "execution_count": null,
      "metadata": {
        "id": "uCvuvb450V2g",
        "outputId": "01b5b4c0-417d-49f0-8bd4-05f3bbcf0ad6",
        "colab": {
          "base_uri": "https://localhost:8080/"
        }
      },
      "outputs": [
        {
          "output_type": "stream",
          "name": "stdout",
          "text": [
            "153111\n"
          ]
        }
      ],
      "source": [
        "# Source: https://stackoverflow.com/a/18937309/7636462\n",
        "vocabulary = set()\n",
        "train_df[\"summaries\"].str.lower().str.split().apply(vocabulary.update)\n",
        "vocabulary_size = len(vocabulary)\n",
        "print(vocabulary_size)\n"
      ]
    },
    {
      "cell_type": "code",
      "execution_count": null,
      "metadata": {
        "id": "kXkjuCwZ0V2g"
      },
      "outputs": [],
      "source": [
        "text_vectorizer = layers.TextVectorization(\n",
        "    max_tokens=vocabulary_size, ngrams=2, output_mode=\"tf_idf\"\n",
        ")\n",
        "\n",
        "# `TextVectorization` layer needs to be adapted as per the vocabulary from our\n",
        "# training set.\n",
        "with tf.device(\"/CPU:0\"):\n",
        "    text_vectorizer.adapt(train_dataset.map(lambda text, label: text))\n",
        "\n",
        "train_dataset = train_dataset.map(\n",
        "    lambda text, label: (text_vectorizer(text), label), num_parallel_calls=auto\n",
        ").prefetch(auto)\n",
        "validation_dataset = validation_dataset.map(\n",
        "    lambda text, label: (text_vectorizer(text), label), num_parallel_calls=auto\n",
        ").prefetch(auto)\n",
        "test_dataset = test_dataset.map(\n",
        "    lambda text, label: (text_vectorizer(text), label), num_parallel_calls=auto\n",
        ").prefetch(auto)\n"
      ]
    },
    {
      "cell_type": "markdown",
      "metadata": {
        "id": "ncfXSiba0V2g"
      },
      "source": [
        "## Classification model\n"
      ]
    },
    {
      "cell_type": "code",
      "execution_count": null,
      "metadata": {
        "id": "YRBGfkQJ0V2g"
      },
      "outputs": [],
      "source": [
        "\n",
        "def make_model():\n",
        "    shallow_mlp_model = keras.Sequential(\n",
        "        [\n",
        "            layers.Dense(512, activation=\"relu\"),\n",
        "            layers.Dense(256, activation=\"relu\"),\n",
        "            layers.Dense(lookup.vocabulary_size(), activation=\"sigmoid\"),\n",
        "        ]\n",
        "    )\n",
        "    return shallow_mlp_model\n"
      ]
    },
    {
      "cell_type": "code",
      "execution_count": null,
      "metadata": {
        "id": "F2IYpcV60V2h",
        "outputId": "2f0db826-6b26-4fcb-8dd4-8a4fbdb0dc7e",
        "colab": {
          "base_uri": "https://localhost:8080/",
          "height": 1000
        }
      },
      "outputs": [
        {
          "output_type": "stream",
          "name": "stdout",
          "text": [
            "Epoch 1/20\n",
            "258/258 [==============================] - 27s 80ms/step - loss: 0.0331 - binary_accuracy: 0.9889 - val_loss: 0.0190 - val_binary_accuracy: 0.9940\n",
            "Epoch 2/20\n",
            "258/258 [==============================] - 21s 82ms/step - loss: 0.0032 - binary_accuracy: 0.9990 - val_loss: 0.0261 - val_binary_accuracy: 0.9936\n",
            "Epoch 3/20\n",
            "258/258 [==============================] - 22s 84ms/step - loss: 8.6413e-04 - binary_accuracy: 0.9998 - val_loss: 0.0335 - val_binary_accuracy: 0.9937\n",
            "Epoch 4/20\n",
            "258/258 [==============================] - 23s 88ms/step - loss: 3.4273e-04 - binary_accuracy: 0.9999 - val_loss: 0.0378 - val_binary_accuracy: 0.9936\n",
            "Epoch 5/20\n",
            "258/258 [==============================] - 20s 79ms/step - loss: 1.8878e-04 - binary_accuracy: 1.0000 - val_loss: 0.0413 - val_binary_accuracy: 0.9936\n",
            "Epoch 6/20\n",
            "258/258 [==============================] - 21s 82ms/step - loss: 1.2037e-04 - binary_accuracy: 1.0000 - val_loss: 0.0438 - val_binary_accuracy: 0.9937\n",
            "Epoch 7/20\n",
            "258/258 [==============================] - 22s 85ms/step - loss: 7.8037e-05 - binary_accuracy: 1.0000 - val_loss: 0.0455 - val_binary_accuracy: 0.9937\n",
            "Epoch 8/20\n",
            "258/258 [==============================] - 21s 83ms/step - loss: 6.0299e-05 - binary_accuracy: 1.0000 - val_loss: 0.0469 - val_binary_accuracy: 0.9935\n",
            "Epoch 9/20\n",
            "258/258 [==============================] - 21s 81ms/step - loss: 3.9529e-05 - binary_accuracy: 1.0000 - val_loss: 0.0480 - val_binary_accuracy: 0.9936\n",
            "Epoch 10/20\n",
            "258/258 [==============================] - 21s 82ms/step - loss: 3.2034e-05 - binary_accuracy: 1.0000 - val_loss: 0.0499 - val_binary_accuracy: 0.9936\n",
            "Epoch 11/20\n",
            "258/258 [==============================] - 21s 80ms/step - loss: 3.6906e-05 - binary_accuracy: 1.0000 - val_loss: 0.0503 - val_binary_accuracy: 0.9936\n",
            "Epoch 12/20\n",
            "258/258 [==============================] - 22s 84ms/step - loss: 2.8531e-05 - binary_accuracy: 1.0000 - val_loss: 0.0513 - val_binary_accuracy: 0.9937\n",
            "Epoch 13/20\n",
            "258/258 [==============================] - 21s 81ms/step - loss: 5.2569e-05 - binary_accuracy: 1.0000 - val_loss: 0.0445 - val_binary_accuracy: 0.9935\n",
            "Epoch 14/20\n",
            "258/258 [==============================] - 21s 82ms/step - loss: 4.2449e-04 - binary_accuracy: 0.9999 - val_loss: 0.0428 - val_binary_accuracy: 0.9934\n",
            "Epoch 15/20\n",
            "258/258 [==============================] - 21s 82ms/step - loss: 0.0018 - binary_accuracy: 0.9994 - val_loss: 0.0398 - val_binary_accuracy: 0.9934\n",
            "Epoch 16/20\n",
            "258/258 [==============================] - 21s 83ms/step - loss: 0.0020 - binary_accuracy: 0.9994 - val_loss: 0.0442 - val_binary_accuracy: 0.9930\n",
            "Epoch 17/20\n",
            "258/258 [==============================] - 20s 78ms/step - loss: 0.0013 - binary_accuracy: 0.9996 - val_loss: 0.0490 - val_binary_accuracy: 0.9930\n",
            "Epoch 18/20\n",
            "258/258 [==============================] - 22s 84ms/step - loss: 6.4517e-04 - binary_accuracy: 0.9998 - val_loss: 0.0544 - val_binary_accuracy: 0.9930\n",
            "Epoch 19/20\n",
            "258/258 [==============================] - 22s 83ms/step - loss: 3.0935e-04 - binary_accuracy: 0.9999 - val_loss: 0.0568 - val_binary_accuracy: 0.9928\n",
            "Epoch 20/20\n",
            "258/258 [==============================] - 20s 78ms/step - loss: 2.0367e-04 - binary_accuracy: 1.0000 - val_loss: 0.0603 - val_binary_accuracy: 0.9930\n"
          ]
        },
        {
          "output_type": "display_data",
          "data": {
            "text/plain": [
              "<Figure size 640x480 with 1 Axes>"
            ],
            "image/png": "[encoded data removed]"
          },
          "metadata": {}
        },
        {
          "output_type": "display_data",
          "data": {
            "text/plain": [
              "<Figure size 640x480 with 1 Axes>"
            ],
            "image/png": "[encoded data removed]"
          },
          "metadata": {}
        }
      ],
      "source": [
        "epochs = 20\n",
        "\n",
        "shallow_mlp_model = make_model()\n",
        "shallow_mlp_model.compile(\n",
        "    loss=\"binary_crossentropy\", optimizer=\"adam\", metrics=[\"binary_accuracy\"]\n",
        ")\n",
        "\n",
        "history = shallow_mlp_model.fit(\n",
        "    train_dataset, validation_data=validation_dataset, epochs=epochs\n",
        ")\n",
        "\n",
        "\n",
        "def plot_result(item):\n",
        "    plt.plot(history.history[item], label=item)\n",
        "    plt.plot(history.history[\"val_\" + item], label=\"val_\" + item)\n",
        "    plt.xlabel(\"Epochs\")\n",
        "    plt.ylabel(item)\n",
        "    plt.title(\"Train and Validation {} Over Epochs\".format(item), fontsize=14)\n",
        "    plt.legend()\n",
        "    plt.grid()\n",
        "    plt.show()\n",
        "\n",
        "\n",
        "plot_result(\"loss\")\n",
        "plot_result(\"binary_accuracy\")"
      ]
    },
    {
      "cell_type": "markdown",
      "metadata": {
        "id": "EODHfnTu0V2p"
      },
      "source": [
        "### Evaluate the model"
      ]
    },
    {
      "cell_type": "code",
      "execution_count": null,
      "metadata": {
        "id": "hlmz5njc0V2p",
        "outputId": "01a648e4-15d4-4975-ebea-675feea2abb8",
        "colab": {
          "base_uri": "https://localhost:8080/"
        }
      },
      "outputs": [
        {
          "output_type": "stream",
          "name": "stdout",
          "text": [
            "15/15 [==============================] - 1s 88ms/step - loss: 0.0598 - binary_accuracy: 0.9929\n",
            "Categorical accuracy on the test set: 99.29%.\n"
          ]
        }
      ],
      "source": [
        "_, binary_acc = shallow_mlp_model.evaluate(test_dataset)\n",
        "print(f\"Categorical accuracy on the test set: {round(binary_acc * 100, 2)}%.\")"
      ]
    },
    {
      "cell_type": "markdown",
      "metadata": {
        "id": "-A4qBYuF0V2p"
      },
      "source": [
        "## Inference\n",
        "\n"
      ]
    },
    {
      "cell_type": "code",
      "execution_count": null,
      "metadata": {
        "id": "FIyVaRIv0V2p",
        "outputId": "d0f1c908-e100-41a8-a151-5391a605151a",
        "colab": {
          "base_uri": "https://localhost:8080/"
        }
      },
      "outputs": [
        {
          "output_type": "stream",
          "name": "stdout",
          "text": [
            "4/4 [==============================] - 0s 9ms/step\n",
            "Abstract: b'Selecting human objects out of the various type of objects in images and\\nmerging them with other scenes is manual and day-to-day work for photo editors.\\nAlthough recently Adobe photoshop released \"select subject\" tool which\\nautomatically selects the foreground object in an image, but still requires\\nfine manual tweaking separately. In this work, we proposed an application\\nutilizing Mask R-CNN (for object detection and mask segmentation) that can\\nextract human instances from multiple images and merge them with a new\\nbackground. This application does not add any overhead to Mask R-CNN, running\\nat 5 frames per second. It can extract human instances from any number of\\nimages or videos from merging them together. We also structured the code to\\naccept videos of different lengths as input and length of the output-video will\\nbe equal to the longest input-video. We wanted to create a simple yet effective\\napplication that can serve as a base for photo editing and do most\\ntime-consuming work automatically, so, editors can focus more on the design\\npart. Other application could be to group people together in a single picture\\nwith a new background from different images which could not be physically\\ntogether. We are showing single-person and multi-person extraction and\\nplacement in two different backgrounds. Also, we are showing a video example\\nwith single-person extraction.'\n",
            "Label(s): ['cs.CV' 'cs.LG' 'cs.GR']\n",
            "Predicted Label(s): (cs.CV, cs.LG, eess.AS)\n",
            " \n",
            "Abstract: b'Superior performance and ease of implementation have fostered the adoption of\\nConvolutional Neural Networks (CNNs) for a wide array of inference and\\nreconstruction tasks. CNNs implement three basic blocks: convolution, pooling\\nand pointwise nonlinearity. Since the two first operations are well-defined\\nonly on regular-structured data such as audio or images, application of CNNs to\\ncontemporary datasets where the information is defined in irregular domains is\\nchallenging. This paper investigates CNNs architectures to operate on signals\\nwhose support can be modeled using a graph. Architectures that replace the\\nregular convolution with a so-called linear shift-invariant graph filter have\\nbeen recently proposed. This paper goes one step further and, under the\\nframework of multiple-input multiple-output (MIMO) graph filters, imposes\\nadditional structure on the adopted graph filters, to obtain three new (more\\nparsimonious) architectures. The proposed architectures result in a lower\\nnumber of model parameters, reducing the computational complexity, facilitating\\nthe training, and mitigating the risk of overfitting. Simulations show that the\\nproposed simpler architectures achieve similar performance as more complex\\nmodels.'\n",
            "Label(s): ['cs.LG' 'stat.ML' 'eess.SP']\n",
            "Predicted Label(s): (cs.LG, cs.AI, stat.ML)\n",
            " \n",
            "Abstract: b'Training deep neural networks requires many training samples, but in practice\\ntraining labels are expensive to obtain and may be of varying quality, as some\\nmay be from trusted expert labelers while others might be from heuristics or\\nother sources of weak supervision such as crowd-sourcing. This creates a\\nfundamental quality versus-quantity trade-off in the learning process. Do we\\nlearn from the small amount of high-quality data or the potentially large\\namount of weakly-labeled data? We argue that if the learner could somehow know\\nand take the label-quality into account when learning the data representation,\\nwe could get the best of both worlds. To this end, we propose\\n\"fidelity-weighted learning\" (FWL), a semi-supervised student-teacher approach\\nfor training deep neural networks using weakly-labeled data. FWL modulates the\\nparameter updates to a student network (trained on the task we care about) on a\\nper-sample basis according to the posterior confidence of its label-quality\\nestimated by a teacher (who has access to the high-quality labels). Both\\nstudent and teacher are learned from the data. We evaluate FWL on two tasks in\\ninformation retrieval and natural language processing where we outperform\\nstate-of-the-art alternative semi-supervised methods, indicating that our\\napproach makes better use of strong and weak labels, and leads to better\\ntask-dependent data representations.'\n",
            "Label(s): ['cs.LG' 'cs.CL' 'cs.NE']\n",
            "Predicted Label(s): (cs.AI, cs.CV, stat.ML)\n",
            " \n",
            "Abstract: b'Deep clustering is a fundamental yet challenging task for data analysis.\\nRecently we witness a strong tendency of combining autoencoder and graph neural\\nnetworks to exploit structure information for clustering performance\\nenhancement. However, we observe that existing literature 1) lacks a dynamic\\nfusion mechanism to selectively integrate and refine the information of graph\\nstructure and node attributes for consensus representation learning; 2) fails\\nto extract information from both sides for robust target distribution (i.e.,\\n\"groundtruth\" soft labels) generation. To tackle the above issues, we propose a\\nDeep Fusion Clustering Network (DFCN). Specifically, in our network, an\\ninterdependency learning-based Structure and Attribute Information Fusion\\n(SAIF) module is proposed to explicitly merge the representations learned by an\\nautoencoder and a graph autoencoder for consensus representation learning.\\nAlso, a reliable target distribution generation measure and a triplet\\nself-supervision strategy, which facilitate cross-modality information\\nexploitation, are designed for network training. Extensive experiments on six\\nbenchmark datasets have demonstrated that the proposed DFCN consistently\\noutperforms the state-of-the-art deep clustering methods.'\n",
            "Label(s): ['cs.LG']\n",
            "Predicted Label(s): (cs.LG, stat.ML, cs.CV)\n",
            " \n",
            "Abstract: b'Semantic segmentation for lightweight object parsing is a very challenging\\ntask, because both accuracy and efficiency (e.g., execution speed, memory\\nfootprint or computational complexity) should all be taken into account.\\nHowever, most previous works pay too much attention to one-sided perspective,\\neither accuracy or speed, and ignore others, which poses a great limitation to\\nactual demands of intelligent devices. To tackle this dilemma, we propose a\\nnovel lightweight architecture named Context-Integrated and Feature-Refined\\nNetwork (CIFReNet). The core components of CIFReNet are the Long-skip\\nRefinement Module (LRM) and the Multi-scale Context Integration Module (MCIM).\\nThe LRM is designed to ease the propagation of spatial information between\\nlow-level and high-level stages. Furthermore, channel attention mechanism is\\nintroduced into the process of long-skip learning to boost the quality of\\nlow-level feature refinement. Meanwhile, the MCIM consists of three cascaded\\nDense Semantic Pyramid (DSP) blocks with image-level features, which is\\npresented to encode multiple context information and enlarge the field of view.\\nSpecifically, the proposed DSP block exploits a dense feature sampling strategy\\nto enhance the information representations without significantly increasing the\\ncomputation cost. Comprehensive experiments are conducted on three benchmark\\ndatasets for object parsing including Cityscapes, CamVid, and Helen. As\\nindicated, the proposed method reaches a better trade-off between accuracy and\\nefficiency compared with the other state-of-the-art methods.'\n",
            "Label(s): ['cs.CV']\n",
            "Predicted Label(s): (cs.CV, cs.AI, cs.RO)\n",
            " \n"
          ]
        }
      ],
      "source": [
        "# Create a model\n",
        "model_for_inference = keras.Sequential([text_vectorizer, shallow_mlp_model])\n",
        "\n",
        "# Create a small dataset\n",
        "inference_dataset = make_dataset(test_df.sample(100), is_train=False)\n",
        "text_batch, label_batch = next(iter(inference_dataset))\n",
        "predicted_probabilities = model_for_inference.predict(text_batch)\n",
        "\n",
        "# Perform inference.\n",
        "for i, text in enumerate(text_batch[:5]):\n",
        "    label = label_batch[i].numpy()[None, ...]\n",
        "    print(f\"Abstract: {text}\")\n",
        "    print(f\"Label(s): {invert_multi_hot(label[0])}\")\n",
        "    predicted_proba = [proba for proba in predicted_probabilities[i]]\n",
        "    top_3_labels = [\n",
        "        x\n",
        "        for _, x in sorted(\n",
        "            zip(predicted_probabilities[i], lookup.get_vocabulary()),\n",
        "            key=lambda pair: pair[0],\n",
        "            reverse=True,\n",
        "        )\n",
        "    ][:3]\n",
        "    print(f\"Predicted Label(s): ({', '.join([label for label in top_3_labels])})\")\n",
        "    print(\" \")"
      ]
    }
  ],
  "metadata": {
    "accelerator": "GPU",
    "colab": {
      "provenance": [],
      "toc_visible": true
    },
    "kernelspec": {
      "display_name": "Python 3",
      "language": "python",
      "name": "python3"
    },
    "language_info": {
      "codemirror_mode": {
        "name": "ipython",
        "version": 3
      },
      "file_extension": ".py",
      "mimetype": "text/x-python",
      "name": "python",
      "nbconvert_exporter": "python",
      "pygments_lexer": "ipython3",
      "version": "3.7.0"
    }
  },
  "nbformat": 4,
  "nbformat_minor": 0
}