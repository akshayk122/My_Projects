{
  "cells": [
    {
      "cell_type": "markdown",
      "metadata": {
        "id": "KT9ZKo3q-2-F"
      },
      "source": [
        "\n",
        "## Sequential data (timeseries + text)\n",
        "\n"
      ]
    },
    {
      "cell_type": "markdown",
      "metadata": {
        "id": "IJ2pbEi8HjiP"
      },
      "source": [
        "## **Part 1: Temperature forecasting using RNNs**\n",
        "\n",
        "Following closely along Chapter 10 of [our textbook](https://learning.oreilly.com/library/view/deep-learning-with/9781617296864),  Part 1 uses a temperature-forecasting task as a example of using DL to process and make predictions on sequential data.\n",
        "\n",
        "Dataset: recorded at [the weather station at the Max Planck Institute for Biogeochemistry in Jena, Germany](https://www.bgc-jena.mpg.de/wetter/), it consists of 14 different quantities (such as temperature, pressure, humidity, wind direction, and so on)  recorded every 10 minutes over several years. The original data goes back to 2003, but the subset of the data we’ll download is limited to 2009–2016."
      ]
    },
    {
      "cell_type": "markdown",
      "metadata": {
        "id": "vPc4CuJc--cX"
      },
      "source": [
        "**Useful sources and references for Part 1:**\n",
        "\n",
        "> Indented block\n",
        "\n",
        "\n",
        "\n",
        "https://colab.research.google.com/github/fchollet/deep-learning-with-python-notebooks/blob/master/chapter10_dl-for-timeseries.ipynb\n"
      ]
    },
    {
      "cell_type": "markdown",
      "metadata": {
        "id": "Gt7GMeCa_AvJ"
      },
      "source": [
        "### **Acquiring and inspecting the data**"
      ]
    },
    {
      "cell_type": "code",
      "execution_count": 1,
      "metadata": {
        "colab": {
          "base_uri": "https://localhost:8080/"
        },
        "id": "Z_lwQzNMIba3",
        "outputId": "7247c017-94e8-4858-e751-4ff146860778"
      },
      "outputs": [
        {
          "name": "stdout",
          "output_type": "stream",
          "text": [
            "--2023-07-11 14:51:56--  https://s3.amazonaws.com/keras-datasets/jena_climate_2009_2016.csv.zip\n",
            "Resolving s3.amazonaws.com (s3.amazonaws.com)... 52.216.217.240, 52.216.57.80, 52.217.118.192, ...\n",
            "Connecting to s3.amazonaws.com (s3.amazonaws.com)|52.216.217.240|:443... connected.\n",
            "HTTP request sent, awaiting response... 200 OK\n",
            "Length: 13565642 (13M) [application/zip]\n",
            "Saving to: ‘jena_climate_2009_2016.csv.zip’\n",
            "\n",
            "jena_climate_2009_2 100%[===================>]  12.94M  5.43MB/s    in 2.4s    \n",
            "\n",
            "2023-07-11 14:51:59 (5.43 MB/s) - ‘jena_climate_2009_2016.csv.zip’ saved [13565642/13565642]\n",
            "\n",
            "Archive:  jena_climate_2009_2016.csv.zip\n",
            "  inflating: jena_climate_2009_2016.csv  \n",
            "  inflating: __MACOSX/._jena_climate_2009_2016.csv  \n"
          ]
        }
      ],
      "source": [
        "!wget https://s3.amazonaws.com/keras-datasets/jena_climate_2009_2016.csv.zip\n",
        "!unzip jena_climate_2009_2016.csv.zip"
      ]
    },
    {
      "cell_type": "markdown",
      "metadata": {
        "id": "3qW4ZeZlIiUm"
      },
      "source": [
        "**Inspecting the data**"
      ]
    },
    {
      "cell_type": "code",
      "execution_count": 2,
      "metadata": {
        "colab": {
          "base_uri": "https://localhost:8080/"
        },
        "id": "2XEY7e4fIzEo",
        "outputId": "e7f6c644-4592-4dfc-f967-169943fd045e"
      },
      "outputs": [
        {
          "name": "stdout",
          "output_type": "stream",
          "text": [
            "['\"Date Time\"', '\"p (mbar)\"', '\"T (degC)\"', '\"Tpot (K)\"', '\"Tdew (degC)\"', '\"rh (%)\"', '\"VPmax (mbar)\"', '\"VPact (mbar)\"', '\"VPdef (mbar)\"', '\"sh (g/kg)\"', '\"H2OC (mmol/mol)\"', '\"rho (g/m**3)\"', '\"wv (m/s)\"', '\"max. wv (m/s)\"', '\"wd (deg)\"']\n",
            "420451\n"
          ]
        }
      ],
      "source": [
        "import os\n",
        "fname = os.path.join(\"jena_climate_2009_2016.csv\")\n",
        "\n",
        "with open(fname) as f:\n",
        "    data = f.read()\n",
        "\n",
        "lines = data.split(\"\\n\")\n",
        "header = lines[0].split(\",\")\n",
        "lines = lines[1:]\n",
        "print(header)\n",
        "print(len(lines))"
      ]
    },
    {
      "cell_type": "markdown",
      "metadata": {
        "id": "hSKeHVhUI4HY"
      },
      "source": [
        "**Parsing the data**"
      ]
    },
    {
      "cell_type": "code",
      "execution_count": 3,
      "metadata": {
        "id": "UzgjFI8yI3Lp"
      },
      "outputs": [],
      "source": [
        "import numpy as np\n",
        "temperature = np.zeros((len(lines),))\n",
        "raw_data = np.zeros((len(lines), len(header) - 1))\n",
        "for i, line in enumerate(lines):\n",
        "    values = [float(x) for x in line.split(\",\")[1:]]\n",
        "    temperature[i] = values[1]\n",
        "    raw_data[i, :] = values[:]"
      ]
    },
    {
      "cell_type": "markdown",
      "metadata": {
        "id": "O5Vaiqy_IUpo"
      },
      "source": [
        "**Plotting the temperature timeseries**"
      ]
    },
    {
      "cell_type": "code",
      "execution_count": 4,
      "metadata": {
        "colab": {
          "base_uri": "https://localhost:8080/",
          "height": 452
        },
        "id": "yM0qx_iyIUpp",
        "outputId": "be5e610b-9199-4797-d0db-ccf8108648d2"
      },
      "outputs": [
        {
          "data": {
            "text/plain": [
              "[<matplotlib.lines.Line2D at 0x7f576ea3eb90>]"
            ]
          },
          "execution_count": 4,
          "metadata": {},
          "output_type": "execute_result"
        },
        {
          "data": {
            "image/png": "[encoded data removed]",
            "text/plain": [
              "<Figure size 640x480 with 1 Axes>"
            ]
          },
          "metadata": {},
          "output_type": "display_data"
        }
      ],
      "source": [
        "from matplotlib import pyplot as plt\n",
        "plt.plot(range(len(temperature)), temperature)"
      ]
    },
    {
      "cell_type": "markdown",
      "metadata": {
        "id": "HHLdVMlgIUpp"
      },
      "source": [
        "**Plotting the first 10 days of the temperature timeseries**"
      ]
    },
    {
      "cell_type": "code",
      "execution_count": 5,
      "metadata": {
        "colab": {
          "base_uri": "https://localhost:8080/",
          "height": 448
        },
        "id": "6OOjyhM3IUpp",
        "outputId": "4f7672d1-75e3-4b35-9bfb-b8409c74bd19"
      },
      "outputs": [
        {
          "data": {
            "text/plain": [
              "[<matplotlib.lines.Line2D at 0x7f573c39c100>]"
            ]
          },
          "execution_count": 5,
          "metadata": {},
          "output_type": "execute_result"
        },
        {
          "data": {
            "image/png": "[encoded data removed]",
            "text/plain": [
              "<Figure size 640x480 with 1 Axes>"
            ]
          },
          "metadata": {},
          "output_type": "display_data"
        }
      ],
      "source": [
        "plt.plot(range(1440), temperature[:1440])"
      ]
    },
    {
      "cell_type": "markdown",
      "metadata": {
        "id": "aywlbPQmIUpq"
      },
      "source": [
        "**Computing the number of samples we'll use for each data split**"
      ]
    },
    {
      "cell_type": "code",
      "execution_count": 6,
      "metadata": {
        "colab": {
          "base_uri": "https://localhost:8080/"
        },
        "id": "-0bshpxgIUpr",
        "outputId": "0fcc5309-080e-47dc-b03e-aac9ee6cd575"
      },
      "outputs": [
        {
          "name": "stdout",
          "output_type": "stream",
          "text": [
            "num_train_samples: 210225\n",
            "num_val_samples: 105112\n",
            "num_test_samples: 105114\n"
          ]
        }
      ],
      "source": [
        "num_train_samples = int(0.5 * len(raw_data))\n",
        "num_val_samples = int(0.25 * len(raw_data))\n",
        "num_test_samples = len(raw_data) - num_train_samples - num_val_samples\n",
        "print(\"num_train_samples:\", num_train_samples)\n",
        "print(\"num_val_samples:\", num_val_samples)\n",
        "print(\"num_test_samples:\", num_test_samples)"
      ]
    },
    {
      "cell_type": "markdown",
      "metadata": {
        "id": "9TfuVCN1IUpt"
      },
      "source": [
        "### **Preparing the data**"
      ]
    },
    {
      "cell_type": "markdown",
      "metadata": {
        "id": "Dxl-1ciCIUpt"
      },
      "source": [
        "**Normalizing the data**"
      ]
    },
    {
      "cell_type": "code",
      "execution_count": 7,
      "metadata": {
        "id": "bKpqgtYNIUpt"
      },
      "outputs": [],
      "source": [
        "mean = raw_data[:num_train_samples].mean(axis=0)\n",
        "raw_data -= mean\n",
        "std = raw_data[:num_train_samples].std(axis=0)\n",
        "raw_data /= std"
      ]
    },
    {
      "cell_type": "code",
      "execution_count": 8,
      "metadata": {
        "colab": {
          "base_uri": "https://localhost:8080/"
        },
        "id": "zQjrig3HIUpu",
        "outputId": "db43b49b-2796-4a19-ef31-48e8f2e231be"
      },
      "outputs": [
        {
          "name": "stdout",
          "output_type": "stream",
          "text": [
            "[0, 1, 2] 3\n",
            "[1, 2, 3] 4\n",
            "[2, 3, 4] 5\n",
            "[3, 4, 5] 6\n",
            "[4, 5, 6] 7\n"
          ]
        }
      ],
      "source": [
        "import numpy as np\n",
        "from tensorflow import keras\n",
        "int_sequence = np.arange(10)\n",
        "dummy_dataset = keras.utils.timeseries_dataset_from_array(\n",
        "    data=int_sequence[:-3],\n",
        "    targets=int_sequence[3:],\n",
        "    sequence_length=3,\n",
        "    batch_size=2,\n",
        ")\n",
        "\n",
        "for inputs, targets in dummy_dataset:\n",
        "    for i in range(inputs.shape[0]):\n",
        "        print([int(x) for x in inputs[i]], int(targets[i]))"
      ]
    },
    {
      "cell_type": "markdown",
      "metadata": {
        "id": "7W8QRc78IUpu"
      },
      "source": [
        "**Instantiating datasets for training, validation, and testing**"
      ]
    },
    {
      "cell_type": "code",
      "execution_count": 9,
      "metadata": {
        "id": "-azjOrpyIUpu"
      },
      "outputs": [],
      "source": [
        "sampling_rate = 6\n",
        "sequence_length = 120\n",
        "delay = sampling_rate * (sequence_length + 24 - 1)\n",
        "batch_size = 256\n",
        "\n",
        "train_dataset = keras.utils.timeseries_dataset_from_array(\n",
        "    raw_data[:-delay],\n",
        "    targets=temperature[delay:],\n",
        "    sampling_rate=sampling_rate,\n",
        "    sequence_length=sequence_length,\n",
        "    shuffle=True,\n",
        "    batch_size=batch_size,\n",
        "    start_index=0,\n",
        "    end_index=num_train_samples)\n",
        "\n",
        "val_dataset = keras.utils.timeseries_dataset_from_array(\n",
        "    raw_data[:-delay],\n",
        "    targets=temperature[delay:],\n",
        "    sampling_rate=sampling_rate,\n",
        "    sequence_length=sequence_length,\n",
        "    shuffle=True,\n",
        "    batch_size=batch_size,\n",
        "    start_index=num_train_samples,\n",
        "    end_index=num_train_samples + num_val_samples)\n",
        "\n",
        "test_dataset = keras.utils.timeseries_dataset_from_array(\n",
        "    raw_data[:-delay],\n",
        "    targets=temperature[delay:],\n",
        "    sampling_rate=sampling_rate,\n",
        "    sequence_length=sequence_length,\n",
        "    shuffle=True,\n",
        "    batch_size=batch_size,\n",
        "    start_index=num_train_samples + num_val_samples)"
      ]
    },
    {
      "cell_type": "markdown",
      "metadata": {
        "id": "VqB48hFtIUpv"
      },
      "source": [
        "**Inspecting the output of one of our datasets**"
      ]
    },
    {
      "cell_type": "code",
      "execution_count": 10,
      "metadata": {
        "colab": {
          "base_uri": "https://localhost:8080/"
        },
        "id": "RkPtPfVdIUpw",
        "outputId": "e3b6e347-2e05-4bf6-8097-375b88cbd294"
      },
      "outputs": [
        {
          "name": "stdout",
          "output_type": "stream",
          "text": [
            "samples shape: (256, 120, 14)\n",
            "targets shape: (256,)\n"
          ]
        }
      ],
      "source": [
        "for samples, targets in train_dataset:\n",
        "    print(\"samples shape:\", samples.shape)\n",
        "    print(\"targets shape:\", targets.shape)\n",
        "    break"
      ]
    },
    {
      "cell_type": "markdown",
      "metadata": {
        "id": "ko85MBf3_PLo"
      },
      "source": [
        "### **Building a baseline \"model\"**\n",
        "\n",
        "In this case we will try to predict the temperature by simply assuming that the temperature 24 hours from now will be equal to the temperature right now.\n",
        "\n",
        "We shall use the mean absolute error (MAE) as a metric of performance and consider this (rather silly) \"model\" as our baseline.\n"
      ]
    },
    {
      "cell_type": "markdown",
      "metadata": {
        "id": "R5bvOX9ZIUpw"
      },
      "source": [
        "**Computing the common-sense baseline MAE**"
      ]
    },
    {
      "cell_type": "code",
      "execution_count": 17,
      "metadata": {
        "colab": {
          "base_uri": "https://localhost:8080/"
        },
        "id": "3J4emypcIUpx",
        "outputId": "4cc0426a-cbad-4a2e-898e-cc1a079b5128"
      },
      "outputs": [
        {
          "name": "stdout",
          "output_type": "stream",
          "text": [
            "Validation MAE: 2.44\n",
            "Test MAE: 2.67\n"
          ]
        }
      ],
      "source": [
        "def evaluate_naive_method(dataset):\n",
        "    total_abs_err = 0.\n",
        "    samples_seen = 0\n",
        "    for samples, targets in dataset:\n",
        "        preds = samples[:, -1, 1] * std[1] + mean[1]\n",
        "        total_abs_err += np.sum(np.abs(preds - targets))\n",
        "        samples_seen += samples.shape[0]\n",
        "    return total_abs_err / samples_seen\n",
        "\n",
        "print(f\"Validation MAE: {evaluate_naive_method(val_dataset):.2f}\")\n",
        "print(f\"Test MAE: {evaluate_naive_method(test_dataset):.2f}\")"
      ]
    },
    {
      "cell_type": "markdown",
      "metadata": {
        "id": "oG1aHr4Y_Xej"
      },
      "source": [
        "### **Building our *real* first model**\n",
        "\n",
        "This is essentially the \"simple LSTM-based model\" from Listing 10.12 in the textbook."
      ]
    },
    {
      "cell_type": "code",
      "execution_count": 14,
      "metadata": {
        "colab": {
          "base_uri": "https://localhost:8080/"
        },
        "id": "UCNOgENsIUpx",
        "outputId": "683e2002-4ae9-4d34-c929-045d8e561f7f"
      },
      "outputs": [
        {
          "name": "stdout",
          "output_type": "stream",
          "text": [
            "Epoch 1/10\n",
            "819/819 [==============================] - 60s 71ms/step - loss: 41.8547 - mae: 4.6887 - val_loss: 12.3491 - val_mae: 2.6730\n",
            "Epoch 2/10\n",
            "819/819 [==============================] - 51s 62ms/step - loss: 10.7557 - mae: 2.5500 - val_loss: 9.7046 - val_mae: 2.4158\n",
            "Epoch 3/10\n",
            "819/819 [==============================] - 44s 53ms/step - loss: 9.6818 - mae: 2.4231 - val_loss: 9.5918 - val_mae: 2.3829\n",
            "Epoch 4/10\n",
            "819/819 [==============================] - 44s 53ms/step - loss: 9.2997 - mae: 2.3705 - val_loss: 9.6003 - val_mae: 2.3966\n",
            "Epoch 5/10\n",
            "819/819 [==============================] - 42s 51ms/step - loss: 8.9608 - mae: 2.3262 - val_loss: 9.8544 - val_mae: 2.4307\n",
            "Epoch 6/10\n",
            "819/819 [==============================] - 42s 51ms/step - loss: 8.6699 - mae: 2.2909 - val_loss: 9.9188 - val_mae: 2.4431\n",
            "Epoch 7/10\n",
            "819/819 [==============================] - 42s 50ms/step - loss: 8.4006 - mae: 2.2567 - val_loss: 9.5470 - val_mae: 2.4001\n",
            "Epoch 8/10\n",
            "819/819 [==============================] - 43s 52ms/step - loss: 8.1608 - mae: 2.2272 - val_loss: 9.4736 - val_mae: 2.3865\n",
            "Epoch 9/10\n",
            "819/819 [==============================] - 42s 51ms/step - loss: 7.9814 - mae: 2.2029 - val_loss: 9.7186 - val_mae: 2.4284\n",
            "Epoch 10/10\n",
            "819/819 [==============================] - 49s 60ms/step - loss: 7.8120 - mae: 2.1837 - val_loss: 9.5515 - val_mae: 2.4099\n",
            "405/405 [==============================] - 14s 32ms/step - loss: 11.5697 - mae: 2.6375\n",
            "Test MAE: 2.64\n"
          ]
        }
      ],
      "source": [
        "from tensorflow import keras\n",
        "from tensorflow.keras import layers\n",
        "\n",
        "inputs = keras.Input(shape=(sequence_length, raw_data.shape[-1]))\n",
        "x = layers.LSTM(16)(inputs)\n",
        "outputs = layers.Dense(1)(x)\n",
        "model = keras.Model(inputs, outputs)\n",
        "\n",
        "callbacks = [\n",
        "    keras.callbacks.ModelCheckpoint(\"jena_lstm.keras\",\n",
        "                                    save_best_only=True)\n",
        "]\n",
        "model.compile(optimizer=\"rmsprop\", loss=\"mse\", metrics=[\"mae\"])\n",
        "history = model.fit(train_dataset,\n",
        "                    epochs=10,\n",
        "                    validation_data=val_dataset,\n",
        "                    callbacks=callbacks)\n",
        "\n",
        "model = keras.models.load_model(\"jena_lstm.keras\")\n",
        "print(f\"Test MAE: {model.evaluate(test_dataset)[1]:.2f}\")"
      ]
    },
    {
      "cell_type": "code",
      "execution_count": null,
      "metadata": {
        "colab": {
          "base_uri": "https://localhost:8080/",
          "height": 452
        },
        "id": "F29usgYBN_ZZ",
        "outputId": "6d098945-46f9-43f8-d425-fb8b754ce1fe"
      },
      "outputs": [
        {
          "data": {
            "image/png": "[encoded data removed]",
            "text/plain": [
              "<Figure size 640x480 with 1 Axes>"
            ]
          },
          "metadata": {},
          "output_type": "display_data"
        }
      ],
      "source": [
        "import matplotlib.pyplot as plt\n",
        "loss = history.history[\"mae\"]\n",
        "val_loss = history.history[\"val_mae\"]\n",
        "epochs = range(1, len(loss) + 1)\n",
        "plt.figure()\n",
        "plt.plot(epochs, loss, \"bo\", label=\"Training MAE\")\n",
        "plt.plot(epochs, val_loss, \"b\", label=\"Validation MAE\")\n",
        "plt.title(\"Training and validation MAE\")\n",
        "plt.legend()\n",
        "plt.show()"
      ]
    },
    {
      "cell_type": "markdown",
      "metadata": {
        "id": "ISnJ_UrZqvWk"
      },
      "source": [
        "## **PART 1** "
      ]
    },
    {
      "cell_type": "markdown",
      "metadata": {
        "id": "4coVfbOqq4bD"
      },
      "source": [
        "### **Part 1 - Tasks:** \n"
      ]
    },
    {
      "cell_type": "markdown",
      "metadata": {
        "id": "mLI62O7VpAY3"
      },
      "source": [
        "#### **Part 1 - Required Tasks:** "
      ]
    },
    {
      "cell_type": "markdown",
      "metadata": {
        "id": "WcEQUoxZpnG4"
      },
      "source": [
        "##### **1.1 Improve the solution for temperature forecast**\n",
        "\n",
        " Write code to produce an additional solution to the temperature forecasting problem that outperforms the one above, i.e., have a lower Test MAE."
      ]
    },
    {
      "cell_type": "code",
      "execution_count": 19,
      "metadata": {
        "colab": {
          "base_uri": "https://localhost:8080/"
        },
        "id": "GTbs3H1FP4bP",
        "outputId": "8abab6a5-4893-4bc9-d66d-4c2c511f0743"
      },
      "outputs": [
        {
          "name": "stdout",
          "output_type": "stream",
          "text": [
            "Epoch 1/20\n",
            "819/819 [==============================] - 68s 74ms/step - loss: 17.3326 - mae: 3.0721 - val_loss: 11.8458 - val_mae: 2.6951\n",
            "Epoch 2/20\n",
            "819/819 [==============================] - 54s 65ms/step - loss: 7.7022 - mae: 2.1508 - val_loss: 13.1816 - val_mae: 2.8548\n",
            "Epoch 3/20\n",
            "819/819 [==============================] - 56s 68ms/step - loss: 5.3719 - mae: 1.7941 - val_loss: 13.7294 - val_mae: 2.9044\n",
            "Epoch 4/20\n",
            "819/819 [==============================] - 55s 66ms/step - loss: 3.9473 - mae: 1.5419 - val_loss: 13.7623 - val_mae: 2.9124\n",
            "Epoch 5/20\n",
            "819/819 [==============================] - 59s 72ms/step - loss: 3.1582 - mae: 1.3799 - val_loss: 13.9374 - val_mae: 2.9155\n",
            "Epoch 6/20\n",
            "819/819 [==============================] - 53s 65ms/step - loss: 2.6538 - mae: 1.2672 - val_loss: 14.0191 - val_mae: 2.9193\n",
            "Epoch 7/20\n",
            "819/819 [==============================] - 55s 67ms/step - loss: 2.3988 - mae: 1.2016 - val_loss: 14.3849 - val_mae: 2.9597\n",
            "Epoch 8/20\n",
            "819/819 [==============================] - 54s 66ms/step - loss: 2.1567 - mae: 1.1396 - val_loss: 14.4313 - val_mae: 2.9601\n",
            "Epoch 9/20\n",
            "819/819 [==============================] - 54s 66ms/step - loss: 1.9618 - mae: 1.0862 - val_loss: 14.3625 - val_mae: 2.9411\n",
            "Epoch 10/20\n",
            "819/819 [==============================] - 53s 64ms/step - loss: 1.8269 - mae: 1.0463 - val_loss: 14.7248 - val_mae: 2.9791\n",
            "Epoch 11/20\n",
            "819/819 [==============================] - 54s 65ms/step - loss: 1.7221 - mae: 1.0150 - val_loss: 14.2254 - val_mae: 2.9222\n",
            "Epoch 12/20\n",
            "819/819 [==============================] - 52s 64ms/step - loss: 1.6316 - mae: 0.9870 - val_loss: 14.6676 - val_mae: 2.9989\n",
            "Epoch 13/20\n",
            "819/819 [==============================] - 53s 64ms/step - loss: 1.5381 - mae: 0.9567 - val_loss: 14.3729 - val_mae: 2.9551\n",
            "Epoch 14/20\n",
            "819/819 [==============================] - 54s 65ms/step - loss: 1.4771 - mae: 0.9376 - val_loss: 14.7089 - val_mae: 2.9871\n",
            "Epoch 15/20\n",
            "819/819 [==============================] - 59s 72ms/step - loss: 1.4102 - mae: 0.9147 - val_loss: 14.0787 - val_mae: 2.9245\n",
            "Epoch 16/20\n",
            "819/819 [==============================] - 53s 64ms/step - loss: 1.3778 - mae: 0.9014 - val_loss: 14.6702 - val_mae: 2.9841\n",
            "Epoch 17/20\n",
            "819/819 [==============================] - 85s 104ms/step - loss: 1.3176 - mae: 0.8828 - val_loss: 14.4321 - val_mae: 2.9669\n",
            "Epoch 18/20\n",
            "819/819 [==============================] - 55s 67ms/step - loss: 1.2912 - mae: 0.8731 - val_loss: 14.2122 - val_mae: 2.9328\n",
            "Epoch 19/20\n",
            "819/819 [==============================] - 58s 70ms/step - loss: 1.2315 - mae: 0.8512 - val_loss: 14.5685 - val_mae: 2.9786\n",
            "Epoch 20/20\n",
            "819/819 [==============================] - 63s 76ms/step - loss: 1.2103 - mae: 0.8442 - val_loss: 14.6167 - val_mae: 2.9907\n",
            "405/405 [==============================] - 14s 34ms/step - loss: 11.5697 - mae: 2.6375\n",
            "Test MAE: 2.64\n"
          ]
        }
      ],
      "source": [
        "#Model 1\n",
        "from tensorflow import keras\n",
        "from tensorflow.keras import layers\n",
        "\n",
        "#Architecture\n",
        "model = keras.Sequential()\n",
        "model.add(layers.Bidirectional(layers.LSTM(64, return_sequences=True), input_shape=(sequence_length, raw_data.shape[-1])))\n",
        "model.add(layers.Dropout(0.2))\n",
        "model.add(layers.Bidirectional(layers.LSTM(64)))\n",
        "model.add(layers.Dropout(0.2))\n",
        "model.add(layers.Dense(1))\n",
        "\n",
        "#Compile\n",
        "adam = keras.optimizers.Adam(learning_rate=0.0005)\n",
        "model.compile(optimizer=adam, loss=\"mse\", metrics=[\"mae\"])\n",
        "\n",
        "#Train\n",
        "history = model.fit(train_dataset,\n",
        "                    epochs=20,\n",
        "                    validation_data=val_dataset,\n",
        "                    callbacks=callbacks)\n",
        "\n",
        "#Load the best models\n",
        "model = keras.models.load_model(\"jena_lstm.keras\")\n",
        "\n",
        "#Evaluate the model\n",
        "test_mae = model.evaluate(test_dataset)[1]\n",
        "print(f\"Test MAE: {test_mae:.2f}\")\n"
      ]
    },
    {
      "cell_type": "code",
      "execution_count": null,
      "metadata": {
        "colab": {
          "base_uri": "https://localhost:8080/"
        },
        "id": "ZRnC3kJlP4nJ",
        "outputId": "7487270a-8b91-40e2-8924-9681274ca0a2"
      },
      "outputs": [
        {
          "name": "stdout",
          "output_type": "stream",
          "text": [
            "Epoch 1/10\n",
            "819/819 [==============================] - 79s 87ms/step - loss: 12.3721 - mae: 2.6195 - val_loss: 11.8635 - val_mae: 2.6723\n",
            "Epoch 2/10\n",
            "819/819 [==============================] - 69s 85ms/step - loss: 4.4805 - mae: 1.6365 - val_loss: 13.6804 - val_mae: 2.8888\n",
            "Epoch 3/10\n",
            "819/819 [==============================] - 71s 86ms/step - loss: 2.4912 - mae: 1.2228 - val_loss: 13.4876 - val_mae: 2.8475\n",
            "Epoch 4/10\n",
            "819/819 [==============================] - 70s 85ms/step - loss: 1.9024 - mae: 1.0639 - val_loss: 13.9597 - val_mae: 2.9174\n",
            "Epoch 5/10\n",
            "819/819 [==============================] - 68s 83ms/step - loss: 1.5791 - mae: 0.9694 - val_loss: 13.7168 - val_mae: 2.8997\n",
            "Epoch 6/10\n",
            "819/819 [==============================] - 75s 91ms/step - loss: 1.4066 - mae: 0.9111 - val_loss: 13.8054 - val_mae: 2.9183\n",
            "Epoch 7/10\n",
            "819/819 [==============================] - 83s 100ms/step - loss: 1.2933 - mae: 0.8716 - val_loss: 14.0750 - val_mae: 2.9379\n",
            "Epoch 8/10\n",
            "819/819 [==============================] - 75s 91ms/step - loss: 1.1691 - mae: 0.8278 - val_loss: 13.6821 - val_mae: 2.8819\n",
            "Epoch 9/10\n",
            "819/819 [==============================] - 76s 93ms/step - loss: 1.1157 - mae: 0.8083 - val_loss: 13.9438 - val_mae: 2.9095\n",
            "Epoch 10/10\n",
            "819/819 [==============================] - 69s 84ms/step - loss: 1.0624 - mae: 0.7872 - val_loss: 13.2763 - val_mae: 2.8515\n",
            "405/405 [==============================] - 14s 32ms/step - loss: 10.5460 - mae: 2.5440\n",
            "Improved Test MAE: 2.54\n"
          ]
        }
      ],
      "source": [
        "#Model2\n",
        "from tensorflow import keras\n",
        "from tensorflow.keras import layers\n",
        "\n",
        "#Model architecture\n",
        "model = keras.Sequential()\n",
        "model.add(layers.Bidirectional(layers.LSTM(128, return_sequences=True), input_shape=(sequence_length, raw_data.shape[-1])))\n",
        "model.add(layers.Dropout(0.3))\n",
        "model.add(layers.Bidirectional(layers.LSTM(128)))\n",
        "model.add(layers.Dropout(0.3))\n",
        "model.add(layers.Dense(1))\n",
        "\n",
        "#Compile\n",
        "adam = keras.optimizers.Adam(learning_rate=0.0005)\n",
        "model.compile(optimizer=adam, loss=\"mse\", metrics=[\"mae\"])\n",
        "\n",
        "#Train\n",
        "history = model.fit(train_dataset,\n",
        "                    epochs=10,\n",
        "                    validation_data=val_dataset,\n",
        "                    callbacks=callbacks)\n",
        "\n",
        "#Load\n",
        "model = keras.models.load_model(\"jena_lstm.keras\")\n",
        "\n",
        "#Evaluate the model\n",
        "test_mae = model.evaluate(test_dataset)[1]\n",
        "print(f\"Improved Test MAE: {test_mae:.2f}\")\n"
      ]
    },
    {
      "cell_type": "code",
      "execution_count": null,
      "metadata": {
        "colab": {
          "base_uri": "https://localhost:8080/",
          "height": 452
        },
        "id": "eGeyTBKUvq06",
        "outputId": "2ee18478-3af2-4b49-ab9f-d1900ed6cf94"
      },
      "outputs": [
        {
          "data": {
            "image/png": "[encoded data removed]",
            "text/plain": [
              "<Figure size 640x480 with 1 Axes>"
            ]
          },
          "metadata": {},
          "output_type": "display_data"
        }
      ],
      "source": [
        "import matplotlib.pyplot as plt\n",
        "loss = history.history[\"mae\"]\n",
        "val_loss = history.history[\"val_mae\"]\n",
        "epochs = range(1, len(loss) + 1)\n",
        "plt.figure()\n",
        "plt.plot(epochs, loss, \"bo\", label=\"Training MAE\")\n",
        "plt.plot(epochs, val_loss, \"b\", label=\"Validation MAE\")\n",
        "plt.title(\"Training and validation MAE\")\n",
        "plt.legend()\n",
        "plt.show()"
      ]
    },
    {
      "cell_type": "markdown",
      "metadata": {
        "id": "eh3dOzKrp-3q"
      },
      "source": [
        "##### **1.2 Summary Table**\n",
        "\n",
        " **Replace the Test MAE values and other contents with your own!**<br>\n",
        " *(double click to modify the table based on your results)*\n",
        "\n",
        "| Method | Test MAE | Remarks |\n",
        "| --- | --- | --- |\n",
        "| Baseline | 2.67 | base Model Gives same predictions for conitnuous days |\n",
        "| Real first model (LSTM) | 2.64| Slightly better than baseline |\n",
        "| Model(Bidrectional) | 2.54| Best overall compare to previous models |"
      ]
    },
    {
      "cell_type": "markdown",
      "metadata": {
        "id": "HPPt3a7jNNnM"
      },
      "source": [
        "## **Part 2: Sentiment analysis using LSTMs**\n",
        "\n",
        "\n"
      ]
    },
    {
      "cell_type": "markdown",
      "metadata": {
        "id": "5dCbHdZZNNnN"
      },
      "source": [
        "**Useful sources and references for Part 2:**\n",
        "\n",
        "- https://colab.research.google.com/github/fchollet/deep-learning-with-python-notebooks/blob/master/chapter11_part01_introduction.ipynb\n",
        "- https://colab.research.google.com/github/fchollet/deep-learning-with-python-notebooks/blob/master/chapter11_part02_sequence-models.ipynb\n"
      ]
    },
    {
      "cell_type": "markdown",
      "metadata": {
        "id": "_2VQo4bajwUU"
      },
      "source": [
        "### **Imports + auxiliary function**"
      ]
    },
    {
      "cell_type": "code",
      "execution_count": null,
      "metadata": {
        "id": "z682XYsrjkY9"
      },
      "outputs": [],
      "source": [
        "import numpy as np\n",
        "\n",
        "import tensorflow_datasets as tfds\n",
        "import tensorflow as tf\n",
        "\n",
        "tfds.disable_progress_bar()"
      ]
    },
    {
      "cell_type": "markdown",
      "metadata": {
        "id": "1rXHa-w9JZhb"
      },
      "source": [
        "**Import `matplotlib` and create a helper function to plot graphs:**"
      ]
    },
    {
      "cell_type": "code",
      "execution_count": 23,
      "metadata": {
        "id": "Mp1Z7P9pYRSK"
      },
      "outputs": [],
      "source": [
        "import matplotlib.pyplot as plt\n",
        "\n",
        "\n",
        "def plot_graphs(history, metric):\n",
        "  plt.plot(history.history[metric])\n",
        "  plt.plot(history.history['val_'+metric], '')\n",
        "  plt.xlabel(\"Epochs\")\n",
        "  plt.ylabel(metric)\n",
        "  plt.legend([metric, 'val_'+metric])"
      ]
    },
    {
      "cell_type": "markdown",
      "metadata": {
        "id": "pRmMubr0jrE2"
      },
      "source": [
        "### **Setup input pipeline**\n",
        "\n",
        "\n",
        "> The IMDB large movie review dataset is a *binary classification* dataset—all the reviews have either a *positive* or *negative* sentiment.\n",
        "\n",
        "> Download the dataset using [TFDS](https://www.tensorflow.org/datasets). See the [loading text tutorial](https://www.tensorflow.org/tutorials/load_data/text) for details on how to load this sort of data manually.\n"
      ]
    },
    {
      "cell_type": "code",
      "execution_count": null,
      "metadata": {
        "colab": {
          "base_uri": "https://localhost:8080/"
        },
        "id": "SHRwRoP2nVHX",
        "outputId": "b16f7b84-2732-4925-9aa3-abeff0986f3f"
      },
      "outputs": [
        {
          "name": "stdout",
          "output_type": "stream",
          "text": [
            "Downloading and preparing dataset 80.23 MiB (download: 80.23 MiB, generated: Unknown size, total: 80.23 MiB) to /root/tensorflow_datasets/imdb_reviews/plain_text/1.0.0...\n",
            "Dataset imdb_reviews downloaded and prepared to /root/tensorflow_datasets/imdb_reviews/plain_text/1.0.0. Subsequent calls will reuse this data.\n"
          ]
        },
        {
          "data": {
            "text/plain": [
              "(TensorSpec(shape=(), dtype=tf.string, name=None),\n",
              " TensorSpec(shape=(), dtype=tf.int64, name=None))"
            ]
          },
          "execution_count": 20,
          "metadata": {},
          "output_type": "execute_result"
        }
      ],
      "source": [
        "dataset, info = tfds.load('imdb_reviews', with_info=True,\n",
        "                          as_supervised=True)\n",
        "train_dataset, test_dataset = dataset['train'], dataset['test']\n",
        "\n",
        "train_dataset.element_spec"
      ]
    },
    {
      "cell_type": "markdown",
      "metadata": {
        "id": "nWA4c2ir7g6p"
      },
      "source": [
        "**Initially this returns a dataset of (text, label pairs):**"
      ]
    },
    {
      "cell_type": "code",
      "execution_count": null,
      "metadata": {
        "colab": {
          "base_uri": "https://localhost:8080/"
        },
        "id": "vd4_BGKyurao",
        "outputId": "7ef543a5-80da-4cf4-f3eb-71f1270836a2"
      },
      "outputs": [
        {
          "name": "stdout",
          "output_type": "stream",
          "text": [
            "text:  b\"This was an absolutely terrible movie. Don't be lured in by Christopher Walken or Michael Ironside. Both are great actors, but this must simply be their worst role in history. Even their great acting could not redeem this movie's ridiculous storyline. This movie is an early nineties US propaganda piece. The most pathetic scenes were those when the Columbian rebels were making their cases for revolutions. Maria Conchita Alonso appeared phony, and her pseudo-love affair with Walken was nothing but a pathetic emotional plug in a movie that was devoid of any real meaning. I am disappointed that there are movies like this, ruining actor's like Christopher Walken's good name. I could barely sit through it.\"\n",
            "label:  0\n"
          ]
        }
      ],
      "source": [
        "for example, label in train_dataset.take(1):\n",
        "  print('text: ', example.numpy())\n",
        "  print('label: ', label.numpy())"
      ]
    },
    {
      "cell_type": "markdown",
      "metadata": {
        "id": "z2qVJzcEluH_"
      },
      "source": [
        "**Next shuffle the data for training and create batches of these `(text, label)` pairs:**"
      ]
    },
    {
      "cell_type": "code",
      "execution_count": null,
      "metadata": {
        "id": "dDsCaZCDYZgm"
      },
      "outputs": [],
      "source": [
        "BUFFER_SIZE = 10000\n",
        "BATCH_SIZE = 64"
      ]
    },
    {
      "cell_type": "code",
      "execution_count": null,
      "metadata": {
        "id": "VznrltNOnUc5"
      },
      "outputs": [],
      "source": [
        "train_dataset = train_dataset.shuffle(BUFFER_SIZE).batch(BATCH_SIZE).prefetch(tf.data.AUTOTUNE)\n",
        "test_dataset = test_dataset.batch(BATCH_SIZE).prefetch(tf.data.AUTOTUNE)"
      ]
    },
    {
      "cell_type": "code",
      "execution_count": null,
      "metadata": {
        "colab": {
          "base_uri": "https://localhost:8080/"
        },
        "id": "jqkvdcFv41wC",
        "outputId": "440685e3-5f99-4fa0-94fc-5bdf63439904"
      },
      "outputs": [
        {
          "name": "stdout",
          "output_type": "stream",
          "text": [
            "texts:  [b\"One of the finest musicals made, one that is timeless and is worth seeing time and again. Delicious! The acting, especially by Ron Moody as Fagin, is superb. Costumes are exquisite....even the shabby ones.<br /><br />The two young lads who play Oliver and The Artful Dodger are wonderfully talented. Oliver Reed does a great job portraying Bill Sykes to where you can't help but hope he comes to a terrible end....which he does. <br /><br />The dancing is cleverly choreographed and is mesmerizing. Oliver can hold its own with the likes of My Fair Lady, The Sound of Music, Oklahoma, etc. A film for the entire family.\"\n",
            " b\"Why oh why do people take good material and feel the need to change it some how? Having read the book on which this film is allegedly based a couple of years ago, I can say that there is little if anything from the original book. I went into this film with low expectations - i knew it would have a crappy telemovie feel to it - but it even failed to meet these.<br /><br />This is not a prequel - the only relationship it has with the original is the name. This is not the story of Carlito Brigante, it is the story of a totally different character who's been given the same name. They have just totally spat in the face of every Carlito's Way fan out there; adding insult to injury by casting Luis Guzman, who plays a crucial character in the original movie, in a different role.<br /><br />What's most disappointing is that now that this film has been made no other film will be made addressing the original, untouched material of the book Carlito's Way - something I really would have liked to have seen. I felt the same way about Chopper - they have four books as well as interviews worth of fantastic non-fictional material and could have made a brilliant biography of Australia's most feared underworld figure, instead they made a ho-hum film about a deranged but strangely pathetic small time crook (though Eric Bana's performance was spot-on). Now we will never get to see Carlito's real initial rise and fall.<br /><br />The three stars is because, looking at it purely as a stand-alone flick, it is not so appalling - there are some decent performances (Jay Hernandez is no Carlito but he could be good in other roles) and the story is not too bad. Even Puffy Combs suits his role. But they totally misunderstand the nature of the underworld at that time (I am a bit of a crime-non-fiction buff)- something which the original film and the books got right (having been written by then attorney and now judge Edwin Torres).<br /><br />The fact is though, it's not a stand alone - it's perhaps the most disappointing prequel ever filmed.\"\n",
            " b'When you get your hands on a British film you expect some sort of quality. And when it comes to acting, camera work, lighting etc; this film does the business. It\\'s done by highly skilled craftsmen. That alone can bring you an enjoyable one and a half hours. But when you look under the layers of professionalism, you don\\'t really find anything. Apart from making you feel good and advocate a drug liberal view, there\\'s really nothing there. The script is mediocre, the plot is predictable and the ending must be one of the worst east of Hollywood. In all it\\'s English cosiness, it\\'s just a shameful and cynical attempt to make another \"Full Monty\". Why they made this film? I haven\\'t got a clue, apart from making money of course.']\n",
            "\n",
            "labels:  [1 0 0]\n"
          ]
        }
      ],
      "source": [
        "for example, label in train_dataset.take(1):\n",
        "  print('texts: ', example.numpy()[:3])\n",
        "  print()\n",
        "  print('labels: ', label.numpy()[:3])"
      ]
    },
    {
      "cell_type": "markdown",
      "metadata": {
        "id": "s5eWCo88voPY"
      },
      "source": [
        "### **Create the text encoder**"
      ]
    },
    {
      "cell_type": "markdown",
      "metadata": {
        "id": "TFevcItw15P_"
      },
      "source": [
        "The raw text loaded by `tfds` needs to be processed before it can be used in a model. The simplest way to process text for training is using the `TextVectorization` layer. This layer has many capabilities, but this tutorial sticks to the default behavior.\n",
        "\n",
        "**Create the layer, and pass the dataset's text to the layer's `.adapt` method:**"
      ]
    },
    {
      "cell_type": "code",
      "execution_count": null,
      "metadata": {
        "id": "uC25Lu1Yvuqy"
      },
      "outputs": [],
      "source": [
        "VOCAB_SIZE = 1000\n",
        "encoder = tf.keras.layers.TextVectorization(\n",
        "    max_tokens=VOCAB_SIZE)\n",
        "encoder.adapt(train_dataset.map(lambda text, label: text))"
      ]
    },
    {
      "cell_type": "markdown",
      "metadata": {
        "id": "IuQzVBbe3Ldu"
      },
      "source": [
        "**The `.adapt` method sets the layer's vocabulary. Here are the first 20 tokens. After the padding and unknown tokens they're sorted by frequency: **"
      ]
    },
    {
      "cell_type": "code",
      "execution_count": null,
      "metadata": {
        "colab": {
          "base_uri": "https://localhost:8080/"
        },
        "id": "tBoyjjWg0Ac9",
        "outputId": "6bd9ca17-707a-4438-b469-95f70ec9e48f"
      },
      "outputs": [
        {
          "data": {
            "text/plain": [
              "array(['', '[UNK]', 'the', 'and', 'a', 'of', 'to', 'is', 'in', 'it', 'i',\n",
              "       'this', 'that', 'br', 'was', 'as', 'for', 'with', 'movie', 'but'],\n",
              "      dtype='<U14')"
            ]
          },
          "execution_count": 26,
          "metadata": {},
          "output_type": "execute_result"
        }
      ],
      "source": [
        "vocab = np.array(encoder.get_vocabulary())\n",
        "vocab[:20]"
      ]
    },
    {
      "cell_type": "markdown",
      "metadata": {
        "id": "mjId5pua3jHQ"
      },
      "source": [
        "**Once the vocabulary is set, the layer can encode text into indices. The tensors of indices are 0-padded to the longest sequence in the batch (unless you set a fixed `output_sequence_length`):**"
      ]
    },
    {
      "cell_type": "code",
      "execution_count": null,
      "metadata": {
        "colab": {
          "base_uri": "https://localhost:8080/"
        },
        "id": "RGc7C9WiwRWs",
        "outputId": "5521ad90-860f-43a9-b637-c0e81f147d29"
      },
      "outputs": [
        {
          "data": {
            "text/plain": [
              "array([[ 29,   5,   2, ...,   0,   0,   0],\n",
              "       [134, 452, 134, ...,   0,   0,   0],\n",
              "       [ 51,  23,  76, ...,   0,   0,   0]])"
            ]
          },
          "execution_count": 27,
          "metadata": {},
          "output_type": "execute_result"
        }
      ],
      "source": [
        "encoded_example = encoder(example)[:3].numpy()\n",
        "encoded_example"
      ]
    },
    {
      "cell_type": "markdown",
      "metadata": {
        "id": "F5cjz0bS39IN"
      },
      "source": [
        "**With the default settings, the process is not completely reversible. There are three main reasons for that:**\n",
        "\n",
        "1. The default value for `preprocessing.TextVectorization`'s `standardize` argument is `\"lower_and_strip_punctuation\"`.\n",
        "2. The limited vocabulary size and lack of character-based fallback results in some unknown tokens."
      ]
    },
    {
      "cell_type": "code",
      "execution_count": null,
      "metadata": {
        "colab": {
          "base_uri": "https://localhost:8080/"
        },
        "id": "N_tD0QY5wXaK",
        "outputId": "9f865bf7-4319-4750-d7b8-f08693ae3bf5"
      },
      "outputs": [
        {
          "name": "stdout",
          "output_type": "stream",
          "text": [
            "Original:  b\"One of the finest musicals made, one that is timeless and is worth seeing time and again. Delicious! The acting, especially by Ron Moody as Fagin, is superb. Costumes are exquisite....even the shabby ones.<br /><br />The two young lads who play Oliver and The Artful Dodger are wonderfully talented. Oliver Reed does a great job portraying Bill Sykes to where you can't help but hope he comes to a terrible end....which he does. <br /><br />The dancing is cleverly choreographed and is mesmerizing. Oliver can hold its own with the likes of My Fair Lady, The Sound of Music, Oklahoma, etc. A film for the entire family.\"\n",
            "Round-trip:  one of the [UNK] [UNK] made one that is [UNK] and is worth seeing time and again [UNK] the acting especially by [UNK] [UNK] as [UNK] is superb [UNK] are [UNK] the [UNK] [UNK] br the two young [UNK] who play [UNK] and the [UNK] [UNK] are [UNK] [UNK] [UNK] [UNK] does a great job [UNK] bill [UNK] to where you cant help but hope he comes to a terrible [UNK] he does br br the [UNK] is [UNK] [UNK] and is [UNK] [UNK] can [UNK] its own with the [UNK] of my [UNK] lady the sound of music [UNK] etc a film for the entire family                                                                                                                                                                                                                                                                                                                                                                                                                                                                                                                                                                                                                                                                                                                                                                                                                                                                                                                             \n",
            "\n",
            "Original:  b\"Why oh why do people take good material and feel the need to change it some how? Having read the book on which this film is allegedly based a couple of years ago, I can say that there is little if anything from the original book. I went into this film with low expectations - i knew it would have a crappy telemovie feel to it - but it even failed to meet these.<br /><br />This is not a prequel - the only relationship it has with the original is the name. This is not the story of Carlito Brigante, it is the story of a totally different character who's been given the same name. They have just totally spat in the face of every Carlito's Way fan out there; adding insult to injury by casting Luis Guzman, who plays a crucial character in the original movie, in a different role.<br /><br />What's most disappointing is that now that this film has been made no other film will be made addressing the original, untouched material of the book Carlito's Way - something I really would have liked to have seen. I felt the same way about Chopper - they have four books as well as interviews worth of fantastic non-fictional material and could have made a brilliant biography of Australia's most feared underworld figure, instead they made a ho-hum film about a deranged but strangely pathetic small time crook (though Eric Bana's performance was spot-on). Now we will never get to see Carlito's real initial rise and fall.<br /><br />The three stars is because, looking at it purely as a stand-alone flick, it is not so appalling - there are some decent performances (Jay Hernandez is no Carlito but he could be good in other roles) and the story is not too bad. Even Puffy Combs suits his role. But they totally misunderstand the nature of the underworld at that time (I am a bit of a crime-non-fiction buff)- something which the original film and the books got right (having been written by then attorney and now judge Edwin Torres).<br /><br />The fact is though, it's not a stand alone - it's perhaps the most disappointing prequel ever filmed.\"\n",
            "Round-trip:  why oh why do people take good material and feel the need to change it some how having read the book on which this film is [UNK] based a couple of years ago i can say that there is little if anything from the original book i went into this film with low [UNK] i knew it would have a [UNK] [UNK] feel to it but it even [UNK] to meet [UNK] br this is not a [UNK] the only relationship it has with the original is the name this is not the story of [UNK] [UNK] it is the story of a totally different character whos been given the same name they have just totally [UNK] in the face of every [UNK] way fan out there [UNK] [UNK] to [UNK] by casting [UNK] [UNK] who plays a [UNK] character in the original movie in a different [UNK] br whats most [UNK] is that now that this film has been made no other film will be made [UNK] the original [UNK] material of the book [UNK] way something i really would have liked to have seen i felt the same way about [UNK] they have four [UNK] as well as [UNK] worth of fantastic [UNK] material and could have made a brilliant [UNK] of [UNK] most [UNK] [UNK] figure instead they made a [UNK] film about a [UNK] but [UNK] [UNK] small time [UNK] though [UNK] [UNK] performance was [UNK] now we will never get to see [UNK] real [UNK] [UNK] and [UNK] br the three stars is because looking at it [UNK] as a [UNK] flick it is not so [UNK] there are some decent performances [UNK] [UNK] is no [UNK] but he could be good in other roles and the story is not too bad even [UNK] [UNK] [UNK] his role but they totally [UNK] the nature of the [UNK] at that time i am a bit of a [UNK] [UNK] something which the original film and the [UNK] got right having been written by then [UNK] and now [UNK] [UNK] [UNK] br the fact is though its not a stand alone its perhaps the most [UNK] [UNK] ever filmed                                                                                                                                                                                                                                                                                                                                                                                                                                                                                                                                                                                                                                                              \n",
            "\n",
            "Original:  b'When you get your hands on a British film you expect some sort of quality. And when it comes to acting, camera work, lighting etc; this film does the business. It\\'s done by highly skilled craftsmen. That alone can bring you an enjoyable one and a half hours. But when you look under the layers of professionalism, you don\\'t really find anything. Apart from making you feel good and advocate a drug liberal view, there\\'s really nothing there. The script is mediocre, the plot is predictable and the ending must be one of the worst east of Hollywood. In all it\\'s English cosiness, it\\'s just a shameful and cynical attempt to make another \"Full Monty\". Why they made this film? I haven\\'t got a clue, apart from making money of course.'\n",
            "Round-trip:  when you get your hands on a british film you expect some sort of quality and when it comes to acting camera work [UNK] etc this film does the business its done by highly [UNK] [UNK] that alone can bring you an enjoyable one and a half hours but when you look under the [UNK] of [UNK] you dont really find anything apart from making you feel good and [UNK] a [UNK] [UNK] view theres really nothing there the script is [UNK] the plot is predictable and the ending must be one of the worst [UNK] of hollywood in all its english [UNK] its just a [UNK] and [UNK] attempt to make another full [UNK] why they made this film i havent got a [UNK] apart from making money of course                                                                                                                                                                                                                                                                                                                                                                                                                                                                                                                                                                                                                                                                                                                                                                                                                                                                                                     \n",
            "\n"
          ]
        }
      ],
      "source": [
        "for n in range(3):\n",
        "  print(\"Original: \", example[n].numpy())\n",
        "  print(\"Round-trip: \", \" \".join(vocab[encoded_example[n]]))\n",
        "  print()"
      ]
    },
    {
      "cell_type": "markdown",
      "metadata": {
        "id": "bjUqGVBxGw-t"
      },
      "source": [
        "### **Create the first model**\n",
        "\n",
        "Please refer to https://www.tensorflow.org/text/tutorials/text_classification_rnn for detailed explanation + diagram."
      ]
    },
    {
      "cell_type": "code",
      "execution_count": null,
      "metadata": {
        "id": "LwfoBkmRYcP3"
      },
      "outputs": [],
      "source": [
        "model = tf.keras.Sequential([\n",
        "    encoder,\n",
        "    tf.keras.layers.Embedding(\n",
        "        input_dim=len(encoder.get_vocabulary()),\n",
        "        output_dim=64,\n",
        "        # Use masking to handle the variable sequence lengths\n",
        "        mask_zero=True),\n",
        "    tf.keras.layers.Bidirectional(tf.keras.layers.LSTM(64)),\n",
        "    tf.keras.layers.Dense(64, activation='relu'),\n",
        "    tf.keras.layers.Dense(1)\n",
        "])"
      ]
    },
    {
      "cell_type": "markdown",
      "metadata": {
        "id": "QIGmIGkkouUb"
      },
      "source": [
        "Please note that Keras sequential model is used here since all the layers in the model only have single input and produce single output. In case you want to use stateful RNN layer, you might want to build your model with Keras functional API or model subclassing so that you can retrieve and reuse the RNN layer states. Please check [Keras RNN guide](https://www.tensorflow.org/guide/keras/rnn#rnn_state_reuse) for more details."
      ]
    },
    {
      "cell_type": "markdown",
      "metadata": {
        "id": "kF-PsCk1LwjY"
      },
      "source": [
        "The embedding layer [uses masking](https://www.tensorflow.org/guide/keras/masking_and_padding) to handle the varying sequence-lengths. All the layers after the `Embedding` support masking:"
      ]
    },
    {
      "cell_type": "code",
      "execution_count": null,
      "metadata": {
        "colab": {
          "base_uri": "https://localhost:8080/"
        },
        "id": "87a8-CwfKebw",
        "outputId": "dc53b7eb-82b5-4896-e7d6-9e3615b1fa95"
      },
      "outputs": [
        {
          "name": "stdout",
          "output_type": "stream",
          "text": [
            "[False, True, True, True, True]\n"
          ]
        }
      ],
      "source": [
        "print([layer.supports_masking for layer in model.layers])"
      ]
    },
    {
      "cell_type": "markdown",
      "metadata": {
        "id": "ZlS0iaUIWLpI"
      },
      "source": [
        "**To confirm that this works as expected, evaluate a sentence twice. First, alone so there's no padding to mask:**"
      ]
    },
    {
      "cell_type": "code",
      "execution_count": null,
      "metadata": {
        "colab": {
          "base_uri": "https://localhost:8080/"
        },
        "id": "O41gw3KfWHus",
        "outputId": "5c024a51-4c55-484a-ea83-880f638da0c8"
      },
      "outputs": [
        {
          "name": "stdout",
          "output_type": "stream",
          "text": [
            "1/1 [==============================] - 4s 4s/step\n",
            "[-0.01546698]\n"
          ]
        }
      ],
      "source": [
        "# predict on a sample text without padding.\n",
        "\n",
        "sample_text = ('The movie was cool. The animation and the graphics '\n",
        "               'were out of this world. I would recommend this movie.')\n",
        "predictions = model.predict(np.array([sample_text]))\n",
        "print(predictions[0])"
      ]
    },
    {
      "cell_type": "markdown",
      "metadata": {
        "id": "K0VQmGnEWcuz"
      },
      "source": [
        " **Now, evaluate it again in a batch with a longer sentence. The result should be identical:**"
      ]
    },
    {
      "cell_type": "code",
      "execution_count": null,
      "metadata": {
        "colab": {
          "base_uri": "https://localhost:8080/"
        },
        "id": "UIgpuTeFNDzq",
        "outputId": "dc1ed0f4-819d-40b8-f92f-74173b61a72a"
      },
      "outputs": [
        {
          "name": "stdout",
          "output_type": "stream",
          "text": [
            "1/1 [==============================] - 0s 65ms/step\n",
            "[-0.01546698]\n"
          ]
        }
      ],
      "source": [
        "# predict on a sample text with padding\n",
        "\n",
        "padding = \"the \" * 2000\n",
        "predictions = model.predict(np.array([sample_text, padding]))\n",
        "print(predictions[0])"
      ]
    },
    {
      "cell_type": "markdown",
      "metadata": {
        "id": "sRI776ZcH3Tf"
      },
      "source": [
        "**Compile the Keras model to configure the training process:**"
      ]
    },
    {
      "cell_type": "code",
      "execution_count": null,
      "metadata": {
        "id": "kj2xei41YZjC"
      },
      "outputs": [],
      "source": [
        "model.compile(loss=tf.keras.losses.BinaryCrossentropy(from_logits=True),\n",
        "              optimizer=tf.keras.optimizers.Adam(1e-4),\n",
        "              metrics=['accuracy'])"
      ]
    },
    {
      "cell_type": "markdown",
      "metadata": {
        "id": "zIwH3nto596k"
      },
      "source": [
        "### **Train the model**"
      ]
    },
    {
      "cell_type": "code",
      "execution_count": null,
      "metadata": {
        "colab": {
          "base_uri": "https://localhost:8080/"
        },
        "id": "hw86wWS4YgR2",
        "outputId": "609ce8b5-5a62-46cf-b25d-72b783ba475e"
      },
      "outputs": [
        {
          "name": "stdout",
          "output_type": "stream",
          "text": [
            "Epoch 1/10\n",
            "391/391 [==============================] - 58s 123ms/step - loss: 0.6361 - accuracy: 0.5688 - val_loss: 0.4565 - val_accuracy: 0.7688\n",
            "Epoch 2/10\n",
            "391/391 [==============================] - 28s 71ms/step - loss: 0.3996 - accuracy: 0.8164 - val_loss: 0.4126 - val_accuracy: 0.8391\n",
            "Epoch 3/10\n",
            "391/391 [==============================] - 28s 71ms/step - loss: 0.3509 - accuracy: 0.8446 - val_loss: 0.3502 - val_accuracy: 0.8552\n",
            "Epoch 4/10\n",
            "391/391 [==============================] - 29s 75ms/step - loss: 0.3311 - accuracy: 0.8548 - val_loss: 0.3398 - val_accuracy: 0.8443\n",
            "Epoch 5/10\n",
            "391/391 [==============================] - 28s 71ms/step - loss: 0.3224 - accuracy: 0.8618 - val_loss: 0.3327 - val_accuracy: 0.8589\n",
            "Epoch 6/10\n",
            "391/391 [==============================] - 29s 73ms/step - loss: 0.3116 - accuracy: 0.8672 - val_loss: 0.3323 - val_accuracy: 0.8589\n",
            "Epoch 7/10\n",
            "391/391 [==============================] - 27s 69ms/step - loss: 0.3070 - accuracy: 0.8710 - val_loss: 0.3300 - val_accuracy: 0.8573\n",
            "Epoch 8/10\n",
            "391/391 [==============================] - 28s 72ms/step - loss: 0.3014 - accuracy: 0.8723 - val_loss: 0.3277 - val_accuracy: 0.8583\n",
            "Epoch 9/10\n",
            "391/391 [==============================] - 28s 71ms/step - loss: 0.2993 - accuracy: 0.8720 - val_loss: 0.3286 - val_accuracy: 0.8583\n",
            "Epoch 10/10\n",
            "391/391 [==============================] - 28s 71ms/step - loss: 0.2988 - accuracy: 0.8724 - val_loss: 0.3288 - val_accuracy: 0.8464\n"
          ]
        }
      ],
      "source": [
        "history = model.fit(train_dataset, epochs=10,\n",
        "                    validation_data=test_dataset,\n",
        "                    validation_steps=30)"
      ]
    },
    {
      "cell_type": "code",
      "execution_count": null,
      "metadata": {
        "colab": {
          "base_uri": "https://localhost:8080/"
        },
        "id": "BaNbXi43YgUT",
        "outputId": "4d1d4880-0a96-490f-f2df-806bed80614a"
      },
      "outputs": [
        {
          "name": "stdout",
          "output_type": "stream",
          "text": [
            "391/391 [==============================] - 14s 36ms/step - loss: 0.3260 - accuracy: 0.8422\n",
            "Test Loss: 0.325951486825943\n",
            "Test Accuracy: 0.8422399759292603\n"
          ]
        }
      ],
      "source": [
        "test_loss, test_acc = model.evaluate(test_dataset)\n",
        "\n",
        "print('Test Loss:', test_loss)\n",
        "print('Test Accuracy:', test_acc)"
      ]
    },
    {
      "cell_type": "code",
      "execution_count": null,
      "metadata": {
        "colab": {
          "base_uri": "https://localhost:8080/",
          "height": 718
        },
        "id": "OZmwt_mzaQJk",
        "outputId": "0354b699-c9c5-4e6d-a08d-bdd003352c01"
      },
      "outputs": [
        {
          "data": {
            "text/plain": [
              "(0.0, 0.6529268845915794)"
            ]
          },
          "execution_count": 37,
          "metadata": {},
          "output_type": "execute_result"
        },
        {
          "data": {
            "image/png": "[encoded data removed]",
            "text/plain": [
              "<Figure size 1600x800 with 2 Axes>"
            ]
          },
          "metadata": {},
          "output_type": "display_data"
        }
      ],
      "source": [
        "plt.figure(figsize=(16, 8))\n",
        "plt.subplot(1, 2, 1)\n",
        "plot_graphs(history, 'accuracy')\n",
        "plt.ylim(None, 1)\n",
        "plt.subplot(1, 2, 2)\n",
        "plot_graphs(history, 'loss')\n",
        "plt.ylim(0, None)"
      ]
    },
    {
      "cell_type": "markdown",
      "metadata": {
        "id": "DwSE_386uhxD"
      },
      "source": [
        "**Run a prediction on a new sentence:**\n",
        "\n",
        "If the prediction is >= 0.0, it is positive else it is negative."
      ]
    },
    {
      "cell_type": "code",
      "execution_count": null,
      "metadata": {
        "colab": {
          "base_uri": "https://localhost:8080/"
        },
        "id": "ZXgfQSgRW6zU",
        "outputId": "212921ee-8112-4db4-ad9a-0d43f638174d"
      },
      "outputs": [
        {
          "name": "stdout",
          "output_type": "stream",
          "text": [
            "1/1 [==============================] - 2s 2s/step\n"
          ]
        }
      ],
      "source": [
        "sample_text = ('The movie was cool. The animation and the graphics '\n",
        "               'were out of this world. I would recommend this movie.')\n",
        "predictions = model.predict(np.array([sample_text]))"
      ]
    },
    {
      "cell_type": "markdown",
      "metadata": {
        "id": "7g1evcaRpTKm"
      },
      "source": [
        "### **Second model: stacking two LSTM layers**\n",
        "\n",
        "Please refer to https://www.tensorflow.org/text/tutorials/text_classification_rnn for additional explanation + diagram."
      ]
    },
    {
      "cell_type": "markdown",
      "metadata": {
        "id": "wbSClCrG1z8l"
      },
      "source": [
        "**The interesting thing about using an `RNN` with `return_sequences=True` is that the output still has 3-axes, like the input, so it can be passed to another RNN layer, like this:**"
      ]
    },
    {
      "cell_type": "code",
      "execution_count": null,
      "metadata": {
        "id": "jo1jjO3vn0jo"
      },
      "outputs": [],
      "source": [
        "model = tf.keras.Sequential([\n",
        "    encoder,\n",
        "    tf.keras.layers.Embedding(len(encoder.get_vocabulary()), 64, mask_zero=True),\n",
        "    tf.keras.layers.Bidirectional(tf.keras.layers.LSTM(64,  return_sequences=True)),\n",
        "    tf.keras.layers.Bidirectional(tf.keras.layers.LSTM(32)),\n",
        "    tf.keras.layers.Dense(64, activation='relu'),\n",
        "    tf.keras.layers.Dropout(0.5),\n",
        "    tf.keras.layers.Dense(1)\n",
        "])"
      ]
    },
    {
      "cell_type": "code",
      "execution_count": null,
      "metadata": {
        "id": "hEPV5jVGp-is"
      },
      "outputs": [],
      "source": [
        "model.compile(loss=tf.keras.losses.BinaryCrossentropy(from_logits=True),\n",
        "              optimizer=tf.keras.optimizers.Adam(1e-4),\n",
        "              metrics=['accuracy'])"
      ]
    },
    {
      "cell_type": "code",
      "execution_count": null,
      "metadata": {
        "colab": {
          "base_uri": "https://localhost:8080/"
        },
        "id": "LeSE-YjdqAeN",
        "outputId": "979cdf3e-9579-4c66-9d58-e332f6733666"
      },
      "outputs": [
        {
          "name": "stdout",
          "output_type": "stream",
          "text": [
            "Epoch 1/10\n",
            "391/391 [==============================] - 87s 175ms/step - loss: 0.6270 - accuracy: 0.5836 - val_loss: 0.4303 - val_accuracy: 0.8240\n",
            "Epoch 2/10\n",
            "391/391 [==============================] - 52s 132ms/step - loss: 0.3905 - accuracy: 0.8293 - val_loss: 0.3622 - val_accuracy: 0.8479\n",
            "Epoch 3/10\n",
            "391/391 [==============================] - 52s 131ms/step - loss: 0.3424 - accuracy: 0.8517 - val_loss: 0.3395 - val_accuracy: 0.8589\n",
            "Epoch 4/10\n",
            "391/391 [==============================] - 50s 128ms/step - loss: 0.3255 - accuracy: 0.8602 - val_loss: 0.3242 - val_accuracy: 0.8578\n",
            "Epoch 5/10\n",
            "391/391 [==============================] - 51s 129ms/step - loss: 0.3159 - accuracy: 0.8633 - val_loss: 0.3259 - val_accuracy: 0.8547\n",
            "Epoch 6/10\n",
            "391/391 [==============================] - 51s 130ms/step - loss: 0.3100 - accuracy: 0.8662 - val_loss: 0.3176 - val_accuracy: 0.8625\n",
            "Epoch 7/10\n",
            "391/391 [==============================] - 51s 130ms/step - loss: 0.3032 - accuracy: 0.8706 - val_loss: 0.3330 - val_accuracy: 0.8406\n",
            "Epoch 8/10\n",
            "391/391 [==============================] - 54s 137ms/step - loss: 0.3019 - accuracy: 0.8692 - val_loss: 0.3138 - val_accuracy: 0.8620\n",
            "Epoch 9/10\n",
            "391/391 [==============================] - 55s 140ms/step - loss: 0.2997 - accuracy: 0.8702 - val_loss: 0.3157 - val_accuracy: 0.8510\n",
            "Epoch 10/10\n",
            "391/391 [==============================] - 51s 131ms/step - loss: 0.2953 - accuracy: 0.8728 - val_loss: 0.3276 - val_accuracy: 0.8464\n"
          ]
        }
      ],
      "source": [
        "history = model.fit(train_dataset, epochs=10,\n",
        "                    validation_data=test_dataset,\n",
        "                    validation_steps=30)"
      ]
    },
    {
      "cell_type": "code",
      "execution_count": null,
      "metadata": {
        "colab": {
          "base_uri": "https://localhost:8080/"
        },
        "id": "_LdwilM1qPM3",
        "outputId": "9de02d81-8321-4856-b8c4-9cc9203efeba"
      },
      "outputs": [
        {
          "name": "stdout",
          "output_type": "stream",
          "text": [
            "391/391 [==============================] - 22s 56ms/step - loss: 0.3240 - accuracy: 0.8482\n",
            "Test Loss: 0.3240082263946533\n",
            "Test Accuracy: 0.8482000231742859\n"
          ]
        }
      ],
      "source": [
        "test_loss, test_acc = model.evaluate(test_dataset)\n",
        "\n",
        "print('Test Loss:', test_loss)\n",
        "print('Test Accuracy:', test_acc)"
      ]
    },
    {
      "cell_type": "code",
      "execution_count": null,
      "metadata": {
        "colab": {
          "base_uri": "https://localhost:8080/"
        },
        "id": "ykUKnAoqbycW",
        "outputId": "0790db29-a57c-4507-de17-d25a9937dc7d"
      },
      "outputs": [
        {
          "name": "stdout",
          "output_type": "stream",
          "text": [
            "1/1 [==============================] - 5s 5s/step\n",
            "[[-1.8102283]]\n"
          ]
        }
      ],
      "source": [
        "# predict on a sample text without padding.\n",
        "\n",
        "sample_text = ('The movie was not good. The animation and the graphics '\n",
        "               'were terrible. I would not recommend this movie.')\n",
        "predictions = model.predict(np.array([sample_text]))\n",
        "print(predictions)"
      ]
    },
    {
      "cell_type": "code",
      "execution_count": null,
      "metadata": {
        "colab": {
          "base_uri": "https://localhost:8080/",
          "height": 542
        },
        "id": "_YYub0EDtwCu",
        "outputId": "9292562d-f75d-4193-f08a-91a4befcd8f4"
      },
      "outputs": [
        {
          "data": {
            "image/png": "[encoded data removed]",
            "text/plain": [
              "<Figure size 1600x600 with 2 Axes>"
            ]
          },
          "metadata": {},
          "output_type": "display_data"
        }
      ],
      "source": [
        "plt.figure(figsize=(16, 6))\n",
        "plt.subplot(1, 2, 1)\n",
        "plot_graphs(history, 'accuracy')\n",
        "plt.subplot(1, 2, 2)\n",
        "plot_graphs(history, 'loss')"
      ]
    },
    {
      "cell_type": "markdown",
      "metadata": {
        "id": "--7pSmkU1lop"
      },
      "source": [
        "## **PART 2**"
      ]
    },
    {
      "cell_type": "markdown",
      "metadata": {
        "id": "mc61kdVw1lo4"
      },
      "source": [
        "\n",
        "**2.1  &emsp; &emsp;Improve the solution for IMDB sentiment analysis**\n",
        "<br>\n",
        "\n",
        " >  Write code to produce an additional solution to the movie review problem that outperform the two solutions provided above, i.e, have a higher test accuracy.\n",
        "\n",
        "*You can use a (combination of) different architecture, dropout and/or other regularization strategies, hyperparameter optimizations, masking, pretrained embeddings, or any other acceptable \"trick\" in the deep learning world.*\n",
        "\n",
        "<br><br>\n",
        " **2.2  &emsp; &emsp; Summary Table\n",
        " (Example, manually generated)**\n",
        "\n",
        "You can use the table below to show a summary of the experimental results. **Replace the Test Accuracy values and other contents with your own!**\n",
        "\n",
        "| Method | Test Accuracy | Remarks |\n",
        "| --- | --- | --- |\n",
        "| First model | 0.856 | Baseline |\n",
        "| Second model (LSTM) | 0.851 | Slightly worse than baseline |\n",
        "| *Improved* model / variation of your choice | 0.915 | Best overall |\n",
        "\n",
        "\n",
        "\n"
      ]
    },
    {
      "cell_type": "markdown",
      "metadata": {
        "id": "XWwPr1AL1lo4"
      },
      "source": [
        "##### **2.1 Improve the solution for IMDB sentiment analysis**\n",
        "\n",
        " Write code to produce an additional solution to the movie review problem that outperform the two solutions provided above, i.e, have a higher test accuracy."
      ]
    },
    {
      "cell_type": "code",
      "execution_count": 20,
      "metadata": {
        "colab": {
          "base_uri": "https://localhost:8080/",
          "height": 117,
          "referenced_widgets": [
            "ba9fd639de01462f8f89fe73ae5de90c",
            "06c74cf79abe4be6b6513b16789166be",
            "bcf458347cb34a0f9a6a1b3297d78104",
            "3ac1f0a33c6f4b8c823d992b4a10071d",
            "1b5908d2ef70428bbb8bf6ad23e3f7b9",
            "2488fde936f8459d8fd7e74d57b54ecc",
            "dc503b00f7814a0891d3229e7aab852c",
            "4009abdcc2e94b558b41195907366377",
            "29122f62dd0244ee9a9380f4ae78e068",
            "dd2de252557d4c00b991b65fceb8dd89",
            "da099995cd8f4246a2adbcdfd9b4f4a7",
            "b9da1c8982334aa6bfceaba73c4d3d7b",
            "411b46356fee4217b7423e3225f5243f",
            "61eb37ef24ff4c60b0959778f0e9cfcc",
            "76311a07629a40718b11926897801f37",
            "7c228055b06c445d8f35b1d1bbafaf3b",
            "cb07b9b097d94535b5446be701539e49",
            "41b4877c1b1e455281124f6c4b2ea27d",
            "8cf62c129edf4b21a07295838d23ddc7",
            "90e6558acbef4a2aa2a74bf19d10ca4c",
            "e93fbec2f7e04843981b88c63f6a7e5e",
            "1b0b909223514547a3a4b535bace0373",
            "d5bf15b41ed04d24a766aea5adc3b3ed",
            "18dabf4352c8435c848417bfc88fdd96",
            "cc110ded899140558260e057bf47f42f",
            "f107b0837ef44ea6a4dddd8186db59a3",
            "e378e53e8a08471ca956a28f4f62b390",
            "6a0f0a8cf2424449b1ed6b4bf6b92a04",
            "17c7f696742944668633191cf02e6f80",
            "ffaf5a594f484802995ca1d66b3a5268",
            "47cead6ce0ea4f2e88fac15e37432463",
            "ec265e153def413da476b294a83ccc3e",
            "5a5c1c7ed2a3412d9339b69d9edae288",
            "5aebf9b2f91c499786d0c0f96cc69cee",
            "08162a54c97d4676a8b4b1d29ff55969",
            "8291b2e8be9d4edab99e349862110f15",
            "5a447c209244447ca2b5232f132ce1db",
            "0d85e272bb4c4e09b44285558ee4eb7f",
            "f15fce99774b4e16992b28a678b37301",
            "5989b5eb568149be9ff088ba317edf07",
            "e94fe8e1f2a640ee93f05371a945e911",
            "9f95d8e081264306b0686f4cb9bee5d1",
            "a488402728dd4ae1a2a1610aa16f2858",
            "ff16d0a93e4145f08fcffcb85f33bbfe",
            "e3c28324dd224e529a504b741220be93",
            "b9eb86a2283a4d72b6a4d9ea7cef98bc",
            "5cbcd2a6aa7b47afbff876dd63353b00",
            "31b16b99dc054d73a660304eabb51894",
            "1a3b5038212e406f8a57e9c9ed1503a5",
            "727eae2c76084295bb309fc8968401ab",
            "1cd9f563aa7e47789853f4d91839be2e",
            "46fa4fcea5d74048842e7d1af2379b60",
            "5f4af097ef024608a86818e49bde3461",
            "b34760b6d0ea4d54954ab61d1a450e93",
            "e5576e5144a748528cb3fdc0158609cf",
            "8a9dd7c2880140a3a5c2dff9f46da3f7",
            "a7e35f9bb9ca4adcbff81504d1345a65",
            "653f55363916425f96b8a3d4d273fa1b",
            "c162d91722754dc690583b5efeef2617",
            "358a5af8c6264a0ba68d8809aaa6b2a0",
            "59de49389818479a971beb24b48e98be",
            "a6908fd677ab478d93e2cee7ee078f23",
            "7e719337a1dd4dd1b1299e09b0a1a453",
            "6f0d9b7610a647aa9c5b6a96302b405a",
            "2a99233487cb49279003df655edce115",
            "50a8dd40518f42ecb01feaddc3e8451e",
            "0afe9d9cc46346f2bda3af7eb287e833",
            "b63211571a4941c8abcfc213d1580b73",
            "9d52c7251b674f4ab4210ec0aa73156f",
            "fe6683c456b7421a99ec01cbb5f73f39",
            "f1f5923222774713a133e289baadfae4",
            "0ef8a5fe6dc342ab8487f7c3c79af463",
            "282c14900f9d419c8b8448543ff82400",
            "d580061e62a146ca859d406a1110d2d9",
            "d5e9dad27b2543d3a4fe72f268348a86",
            "fea0d6c3a06e45b9b1040363b9dfc316",
            "5de2c203a4f4461e98a3fb62808886c7",
            "27e6a3206ed043a38ffc2b5eb937a2f0",
            "39513059409643acba7eb820b338932a",
            "c8a69b5b71b1439a868eddf518cd117c",
            "0027ccc4099a4bff973850732421838b",
            "97e31f57ee094649ae09a0e448d01311",
            "be8c2048e94445e69e9104de51640b51",
            "7f37281b402c47b6b4f84842c19bd58d",
            "e18b0699fe2f4454b4d1d3abe41a2fbc",
            "92f74bb63f5448fd8973296ccb52ea59",
            "3c0787289cd749e3951f4b7238e20aa7",
            "4632bf3e0f7241fa83ecaf434e8029cf",
            "36b866b81e284b4d9d53216b6cf60935",
            "7cbd3fe57ae04de7ae63027bc425f7e4",
            "2ae17f72f0564f12b4f9ec413c593210",
            "bf044cf71150456f995f4bb5312823f8",
            "45df34695e10426dac41471631061780",
            "fc2916a258c741a3ad99c5bcc9569244",
            "46376a10e122438bb4f946940fd72823",
            "710bec485d6f4f11865ddda29c11636a",
            "609e17cc76c142d3bdc453442b6c7e6c",
            "2c9aed1a19544b80b7b5dc98388b4b17",
            "ee6ed7a297e04488a61c1a2985f2368e"
          ]
        },
        "id": "_xgmavqR1lo5",
        "outputId": "9d184655-c95a-40c4-90be-c5a569a81aa6"
      },
      "outputs": [
        {
          "name": "stdout",
          "output_type": "stream",
          "text": [
            "Downloading and preparing dataset 80.23 MiB (download: 80.23 MiB, generated: Unknown size, total: 80.23 MiB) to /root/tensorflow_datasets/imdb_reviews/plain_text/1.0.0...\n"
          ]
        },
        {
          "data": {
            "application/vnd.jupyter.widget-view+json": {
              "model_id": "ba9fd639de01462f8f89fe73ae5de90c",
              "version_major": 2,
              "version_minor": 0
            },
            "text/plain": [
              "Dl Completed...: 0 url [00:00, ? url/s]"
            ]
          },
          "metadata": {},
          "output_type": "display_data"
        },
        {
          "data": {
            "application/vnd.jupyter.widget-view+json": {
              "model_id": "b9da1c8982334aa6bfceaba73c4d3d7b",
              "version_major": 2,
              "version_minor": 0
            },
            "text/plain": [
              "Dl Size...: 0 MiB [00:00, ? MiB/s]"
            ]
          },
          "metadata": {},
          "output_type": "display_data"
        },
        {
          "data": {
            "application/vnd.jupyter.widget-view+json": {
              "model_id": "d5bf15b41ed04d24a766aea5adc3b3ed",
              "version_major": 2,
              "version_minor": 0
            },
            "text/plain": [
              "Generating splits...:   0%|          | 0/3 [00:00<?, ? splits/s]"
            ]
          },
          "metadata": {},
          "output_type": "display_data"
        },
        {
          "data": {
            "application/vnd.jupyter.widget-view+json": {
              "model_id": "5aebf9b2f91c499786d0c0f96cc69cee",
              "version_major": 2,
              "version_minor": 0
            },
            "text/plain": [
              "Generating train examples...:   0%|          | 0/25000 [00:00<?, ? examples/s]"
            ]
          },
          "metadata": {},
          "output_type": "display_data"
        },
        {
          "data": {
            "application/vnd.jupyter.widget-view+json": {
              "model_id": "e3c28324dd224e529a504b741220be93",
              "version_major": 2,
              "version_minor": 0
            },
            "text/plain": [
              "Shuffling /root/tensorflow_datasets/imdb_reviews/plain_text/1.0.0.incomplete61KYWS/imdb_reviews-train.tfrecord…"
            ]
          },
          "metadata": {},
          "output_type": "display_data"
        },
        {
          "data": {
            "application/vnd.jupyter.widget-view+json": {
              "model_id": "8a9dd7c2880140a3a5c2dff9f46da3f7",
              "version_major": 2,
              "version_minor": 0
            },
            "text/plain": [
              "Generating test examples...:   0%|          | 0/25000 [00:00<?, ? examples/s]"
            ]
          },
          "metadata": {},
          "output_type": "display_data"
        },
        {
          "data": {
            "application/vnd.jupyter.widget-view+json": {
              "model_id": "0afe9d9cc46346f2bda3af7eb287e833",
              "version_major": 2,
              "version_minor": 0
            },
            "text/plain": [
              "Shuffling /root/tensorflow_datasets/imdb_reviews/plain_text/1.0.0.incomplete61KYWS/imdb_reviews-test.tfrecord*…"
            ]
          },
          "metadata": {},
          "output_type": "display_data"
        },
        {
          "data": {
            "application/vnd.jupyter.widget-view+json": {
              "model_id": "27e6a3206ed043a38ffc2b5eb937a2f0",
              "version_major": 2,
              "version_minor": 0
            },
            "text/plain": [
              "Generating unsupervised examples...:   0%|          | 0/50000 [00:00<?, ? examples/s]"
            ]
          },
          "metadata": {},
          "output_type": "display_data"
        },
        {
          "data": {
            "application/vnd.jupyter.widget-view+json": {
              "model_id": "36b866b81e284b4d9d53216b6cf60935",
              "version_major": 2,
              "version_minor": 0
            },
            "text/plain": [
              "Shuffling /root/tensorflow_datasets/imdb_reviews/plain_text/1.0.0.incomplete61KYWS/imdb_reviews-unsupervised.t…"
            ]
          },
          "metadata": {},
          "output_type": "display_data"
        },
        {
          "name": "stdout",
          "output_type": "stream",
          "text": [
            "Dataset imdb_reviews downloaded and prepared to /root/tensorflow_datasets/imdb_reviews/plain_text/1.0.0. Subsequent calls will reuse this data.\n"
          ]
        }
      ],
      "source": [
        "import numpy as np\n",
        "import tensorflow as tf\n",
        "import tensorflow_datasets as tfds\n",
        "from tensorflow.keras.layers import Dense, Dropout, Embedding, GlobalMaxPooling1D\n",
        "from tensorflow.keras.models import Sequential\n",
        "from tensorflow.keras.optimizers import Adam\n",
        "\n",
        "#Load dataset\n",
        "dataset, info = tfds.load('imdb_reviews', with_info=True, as_supervised=True)\n",
        "train_dataset, test_dataset = dataset['train'], dataset['test']\n",
        "\n",
        "#Preprocess the dataset\n",
        "train_texts = []\n",
        "train_labels = []\n",
        "test_texts = []\n",
        "test_labels = []\n",
        "\n",
        "for example, label in train_dataset:\n",
        "    train_texts.append(example.numpy().decode('utf-8'))\n",
        "    train_labels.append(label.numpy())\n",
        "\n",
        "for example, label in test_dataset:\n",
        "    test_texts.append(example.numpy().decode('utf-8'))\n",
        "    test_labels.append(label.numpy())\n",
        "\n",
        "#labels to numpy arrays\n",
        "train_labels = np.array(train_labels)\n",
        "test_labels = np.array(test_labels)\n",
        "\n",
        "#Text Tokenize\n",
        "tokenizer = tf.keras.preprocessing.text.Tokenizer(num_words=10000)\n",
        "tokenizer.fit_on_texts(train_texts)\n",
        "\n",
        "train_sequences = tokenizer.texts_to_sequences(train_texts)\n",
        "test_sequences = tokenizer.texts_to_sequences(test_texts)\n",
        "\n",
        "train_sequences = tf.keras.preprocessing.sequence.pad_sequences(train_sequences)\n",
        "test_sequences = tf.keras.preprocessing.sequence.pad_sequences(test_sequences)\n",
        "\n"
      ]
    },
    {
      "cell_type": "code",
      "execution_count": 25,
      "metadata": {
        "colab": {
          "base_uri": "https://localhost:8080/"
        },
        "id": "5H3jtIMAql2-",
        "outputId": "2f092527-ab88-46f7-90e1-7fabd07aa53e"
      },
      "outputs": [
        {
          "name": "stdout",
          "output_type": "stream",
          "text": [
            "Epoch 1/10\n",
            "313/313 [==============================] - 58s 180ms/step - loss: 0.6920 - accuracy: 0.5202 - val_loss: 0.6869 - val_accuracy: 0.4938\n",
            "Epoch 2/10\n",
            "313/313 [==============================] - 32s 101ms/step - loss: 0.6685 - accuracy: 0.6403 - val_loss: 0.6271 - val_accuracy: 0.8270\n",
            "Epoch 3/10\n",
            "313/313 [==============================] - 29s 94ms/step - loss: 0.5356 - accuracy: 0.7907 - val_loss: 0.4335 - val_accuracy: 0.8432\n",
            "Epoch 4/10\n",
            "313/313 [==============================] - 19s 60ms/step - loss: 0.3834 - accuracy: 0.8487 - val_loss: 0.3442 - val_accuracy: 0.8632\n",
            "Epoch 5/10\n",
            "313/313 [==============================] - 18s 58ms/step - loss: 0.3153 - accuracy: 0.8803 - val_loss: 0.3108 - val_accuracy: 0.8748\n",
            "Epoch 6/10\n",
            "313/313 [==============================] - 12s 38ms/step - loss: 0.2691 - accuracy: 0.8999 - val_loss: 0.2922 - val_accuracy: 0.8812\n",
            "Epoch 7/10\n",
            "313/313 [==============================] - 13s 42ms/step - loss: 0.2347 - accuracy: 0.9150 - val_loss: 0.2827 - val_accuracy: 0.8844\n",
            "Epoch 8/10\n",
            "313/313 [==============================] - 14s 46ms/step - loss: 0.2055 - accuracy: 0.9266 - val_loss: 0.2726 - val_accuracy: 0.8890\n",
            "Epoch 9/10\n",
            "313/313 [==============================] - 12s 38ms/step - loss: 0.1827 - accuracy: 0.9387 - val_loss: 0.2680 - val_accuracy: 0.8896\n",
            "Epoch 10/10\n",
            "313/313 [==============================] - 10s 32ms/step - loss: 0.1564 - accuracy: 0.9486 - val_loss: 0.2666 - val_accuracy: 0.8912\n",
            "782/782 [==============================] - 3s 3ms/step - loss: 0.2789 - accuracy: 0.8843\n",
            "Test Loss: 0.27893397212028503\n",
            "Test Accuracy: 0.8843200206756592\n"
          ]
        }
      ],
      "source": [
        "#Model\n",
        "model = Sequential([\n",
        "    Embedding(input_dim=10000, output_dim=256, input_length=train_sequences.shape[1]),\n",
        "    Dropout(0.2),\n",
        "    GlobalMaxPooling1D(),\n",
        "    Dense(128, activation='relu'),\n",
        "    Dropout(0.5),\n",
        "    Dense(64, activation='relu'),\n",
        "    Dropout(0.5),\n",
        "    Dense(1, activation='sigmoid')\n",
        "])\n",
        "\n",
        "#Compile\n",
        "model.compile(loss='binary_crossentropy', optimizer=Adam(learning_rate=0.0001), metrics=['accuracy'])\n",
        "\n",
        "#Train\n",
        "history = model.fit(train_sequences, train_labels, batch_size=64, epochs=10, validation_split=0.2)\n",
        "\n",
        "#Evaluate\n",
        "test_loss, test_accuracy = model.evaluate(test_sequences, test_labels)\n",
        "\n",
        "print('Test Loss:', test_loss)\n",
        "print('Test Accuracy:', test_accuracy)"
      ]
    },
    {
      "cell_type": "code",
      "execution_count": 26,
      "metadata": {
        "colab": {
          "base_uri": "https://localhost:8080/",
          "height": 542
        },
        "id": "P9CdcofWrlPv",
        "outputId": "e721887b-6601-4663-99f5-07428e5c5aac"
      },
      "outputs": [
        {
          "data": {
            "image/png": "[encoded data removed]",
            "text/plain": [
              "<Figure size 1600x600 with 2 Axes>"
            ]
          },
          "metadata": {},
          "output_type": "display_data"
        }
      ],
      "source": [
        "plt.figure(figsize=(16, 6))\n",
        "plt.subplot(1, 2, 1)\n",
        "plot_graphs(history, 'accuracy')\n",
        "plt.subplot(1, 2, 2)\n",
        "plot_graphs(history, 'loss')"
      ]
    },
    {
      "cell_type": "code",
      "execution_count": 27,
      "metadata": {
        "colab": {
          "base_uri": "https://localhost:8080/"
        },
        "id": "x8nx9odKpalY",
        "outputId": "9074d814-cb2e-45be-9781-e1042e6d74c0"
      },
      "outputs": [
        {
          "name": "stdout",
          "output_type": "stream",
          "text": [
            "Epoch 1/10\n",
            "313/313 [==============================] - 59s 184ms/step - loss: 0.6918 - accuracy: 0.5221 - val_loss: 0.6858 - val_accuracy: 0.8056\n",
            "Epoch 2/10\n",
            "313/313 [==============================] - 33s 104ms/step - loss: 0.6663 - accuracy: 0.6540 - val_loss: 0.6254 - val_accuracy: 0.8262\n",
            "Epoch 3/10\n",
            "313/313 [==============================] - 23s 73ms/step - loss: 0.5398 - accuracy: 0.7908 - val_loss: 0.4421 - val_accuracy: 0.8456\n",
            "Epoch 4/10\n",
            "313/313 [==============================] - 17s 56ms/step - loss: 0.3855 - accuracy: 0.8489 - val_loss: 0.3404 - val_accuracy: 0.8694\n",
            "Epoch 5/10\n",
            "313/313 [==============================] - 17s 54ms/step - loss: 0.3123 - accuracy: 0.8790 - val_loss: 0.3053 - val_accuracy: 0.8772\n",
            "Epoch 6/10\n",
            "313/313 [==============================] - 13s 42ms/step - loss: 0.2652 - accuracy: 0.9020 - val_loss: 0.2860 - val_accuracy: 0.8838\n",
            "Epoch 7/10\n",
            "313/313 [==============================] - 12s 38ms/step - loss: 0.2323 - accuracy: 0.9155 - val_loss: 0.2740 - val_accuracy: 0.8868\n",
            "Epoch 8/10\n",
            "313/313 [==============================] - 15s 48ms/step - loss: 0.2013 - accuracy: 0.9294 - val_loss: 0.2666 - val_accuracy: 0.8890\n",
            "Epoch 9/10\n",
            "313/313 [==============================] - 11s 35ms/step - loss: 0.1772 - accuracy: 0.9395 - val_loss: 0.2634 - val_accuracy: 0.8912\n",
            "Epoch 10/10\n",
            "313/313 [==============================] - 10s 33ms/step - loss: 0.1519 - accuracy: 0.9497 - val_loss: 0.2612 - val_accuracy: 0.8922\n",
            "782/782 [==============================] - 3s 3ms/step - loss: 0.2779 - accuracy: 0.8850\n",
            "Test Loss: 0.27787020802497864\n",
            "Test Accuracy: 0.8850399851799011\n"
          ]
        }
      ],
      "source": [
        "#Model\n",
        "model = Sequential([\n",
        "    Embedding(input_dim=10000, output_dim=256, input_length=train_sequences.shape[1]),\n",
        "    Dropout(0.2),\n",
        "    GlobalMaxPooling1D(),\n",
        "    Dense(128, activation='relu'),\n",
        "    Dropout(0.5),\n",
        "    Dense(64, activation='relu'),\n",
        "    Dropout(0.5),\n",
        "    Dense(1, activation='sigmoid')\n",
        "])\n",
        "\n",
        "#Compile\n",
        "model.compile(loss='binary_crossentropy', optimizer=Adam(learning_rate=0.0001), metrics=['accuracy'])\n",
        "\n",
        "#Train\n",
        "history = model.fit(train_sequences, train_labels, batch_size=64, epochs=10, validation_split=0.2)\n",
        "\n",
        "#Evaluate\n",
        "test_loss, test_accuracy = model.evaluate(test_sequences, test_labels)\n",
        "\n",
        "print('Test Loss:', test_loss)\n",
        "print('Test Accuracy:', test_accuracy)"
      ]
    },
    {
      "cell_type": "code",
      "execution_count": 24,
      "metadata": {
        "colab": {
          "base_uri": "https://localhost:8080/",
          "height": 542
        },
        "id": "7Vn9G6merBr_",
        "outputId": "9805e465-a698-4184-a3b1-36a6558f7376"
      },
      "outputs": [
        {
          "data": {
            "image/png": "[encoded data removed]",
            "text/plain": [
              "<Figure size 1600x600 with 2 Axes>"
            ]
          },
          "metadata": {},
          "output_type": "display_data"
        }
      ],
      "source": [
        "plt.figure(figsize=(16, 6))\n",
        "plt.subplot(1, 2, 1)\n",
        "plot_graphs(history, 'accuracy')\n",
        "plt.subplot(1, 2, 2)\n",
        "plot_graphs(history, 'loss')"
      ]
    },
    {
      "cell_type": "markdown",
      "metadata": {
        "id": "T7cEVppf1lo8"
      },
      "source": [
        "##### **2.2 Summary Table**\n",
        "\n",
        " **Replace the Test Accuracy values and other contents with your own!**<br>\n",
        " *(double click to modify the table based on your results)*\n",
        "\n",
        "\n",
        "| Method | Test Accuracy | Remarks |\n",
        "| --- | --- | --- |\n",
        "| First model | 0.8422 | Baseline |\n",
        "| Second model (LSTM) | 0.8482 | Slightly better than baseline |\n",
        "| Model( dropout and regularization strategies)  | 0.8850 | Best compare to above models |"
      ]
    },
    {
      "cell_type": "markdown",
      "metadata": {
        "id": "fC1B01BCE7OJ"
      },
      "source": [
        "## **Part 3: NLP using Transformers**\n",
        "\n",
        "In Part 3 we will look at the Transformer architecture and how it can be used in a specific NLP task, machine translation (from English to Spanish).\n",
        "\n",
        "Please refer to Chapter 11 of [our textbook](https://learning.oreilly.com/library/view/deep-learning-with/9781617296864) for additional information.\n"
      ]
    },
    {
      "cell_type": "markdown",
      "metadata": {
        "id": "ITYmXB88E7Oa"
      },
      "source": [
        "**Useful sources and references for Part 3:**\n",
        "\n",
        "- https://colab.research.google.com/github/fchollet/deep-learning-with-python-notebooks/blob/master/chapter11_part03_transformer.ipynb\n",
        "- https://colab.research.google.com/github/fchollet/deep-learning-with-python-notebooks/blob/master/chapter11_part04_sequence-to-sequence-learning.ipynb\n"
      ]
    },
    {
      "cell_type": "markdown",
      "metadata": {
        "id": "6IwBooqWFQGb"
      },
      "source": [
        "### **Setup**"
      ]
    },
    {
      "cell_type": "code",
      "execution_count": null,
      "metadata": {
        "colab": {
          "base_uri": "https://localhost:8080/"
        },
        "id": "-uEVqAmHFQGb",
        "outputId": "bada9485-3618-45e1-96ad-5a9577666dc2"
      },
      "outputs": [
        {
          "name": "stdout",
          "output_type": "stream",
          "text": [
            "--2023-07-09 13:56:30--  http://storage.googleapis.com/download.tensorflow.org/data/spa-eng.zip\n",
            "Resolving storage.googleapis.com (storage.googleapis.com)... 74.125.201.128, 74.125.69.128, 64.233.182.128, ...\n",
            "Connecting to storage.googleapis.com (storage.googleapis.com)|74.125.201.128|:80... connected.\n",
            "HTTP request sent, awaiting response... 200 OK\n",
            "Length: 2638744 (2.5M) [application/zip]\n",
            "Saving to: ‘spa-eng.zip’\n",
            "\n",
            "\rspa-eng.zip           0%[                    ]       0  --.-KB/s               \rspa-eng.zip         100%[===================>]   2.52M  --.-KB/s    in 0.01s   \n",
            "\n",
            "2023-07-09 13:56:31 (241 MB/s) - ‘spa-eng.zip’ saved [2638744/2638744]\n",
            "\n"
          ]
        }
      ],
      "source": [
        "!wget http://storage.googleapis.com/download.tensorflow.org/data/spa-eng.zip\n",
        "!unzip -q spa-eng.zip"
      ]
    },
    {
      "cell_type": "code",
      "execution_count": null,
      "metadata": {
        "id": "eOLIZ9ZtFQGc"
      },
      "outputs": [],
      "source": [
        "text_file = \"spa-eng/spa.txt\"\n",
        "with open(text_file) as f:\n",
        "    lines = f.read().split(\"\\n\")[:-1]\n",
        "text_pairs = []\n",
        "for line in lines:\n",
        "    english, spanish = line.split(\"\\t\")\n",
        "    spanish = \"[start] \" + spanish + \" [end]\"\n",
        "    text_pairs.append((english, spanish))"
      ]
    },
    {
      "cell_type": "code",
      "execution_count": null,
      "metadata": {
        "colab": {
          "base_uri": "https://localhost:8080/"
        },
        "id": "LvcrsLQhFQGc",
        "outputId": "50f408da-2112-4e11-d2a7-74132013c481"
      },
      "outputs": [
        {
          "name": "stdout",
          "output_type": "stream",
          "text": [
            "('Nobody knows his name.', '[start] Nadie se sabe su nombre. [end]')\n"
          ]
        }
      ],
      "source": [
        "import random\n",
        "print(random.choice(text_pairs))"
      ]
    },
    {
      "cell_type": "code",
      "execution_count": null,
      "metadata": {
        "id": "sgx4dI1OFQGc"
      },
      "outputs": [],
      "source": [
        "import random\n",
        "random.shuffle(text_pairs)\n",
        "num_val_samples = int(0.15 * len(text_pairs))\n",
        "num_train_samples = len(text_pairs) - 2 * num_val_samples\n",
        "train_pairs = text_pairs[:num_train_samples]\n",
        "val_pairs = text_pairs[num_train_samples:num_train_samples + num_val_samples]\n",
        "test_pairs = text_pairs[num_train_samples + num_val_samples:]"
      ]
    },
    {
      "cell_type": "markdown",
      "metadata": {
        "id": "p3a4eNBeFQGd"
      },
      "source": [
        "**Vectorizing the English and Spanish text pairs**"
      ]
    },
    {
      "cell_type": "code",
      "execution_count": null,
      "metadata": {
        "id": "5eQ6EdPZFQGd"
      },
      "outputs": [],
      "source": [
        "import tensorflow as tf\n",
        "import string\n",
        "import re\n",
        "\n",
        "from tensorflow import keras\n",
        "from tensorflow.keras import layers\n",
        "\n",
        "strip_chars = string.punctuation + \"¿\"\n",
        "strip_chars = strip_chars.replace(\"[\", \"\")\n",
        "strip_chars = strip_chars.replace(\"]\", \"\")\n",
        "\n",
        "def custom_standardization(input_string):\n",
        "    lowercase = tf.strings.lower(input_string)\n",
        "    return tf.strings.regex_replace(\n",
        "        lowercase, f\"[{re.escape(strip_chars)}]\", \"\")\n",
        "\n",
        "vocab_size = 15000\n",
        "sequence_length = 20\n",
        "\n",
        "source_vectorization = layers.TextVectorization(\n",
        "    max_tokens=vocab_size,\n",
        "    output_mode=\"int\",\n",
        "    output_sequence_length=sequence_length,\n",
        ")\n",
        "target_vectorization = layers.TextVectorization(\n",
        "    max_tokens=vocab_size,\n",
        "    output_mode=\"int\",\n",
        "    output_sequence_length=sequence_length + 1,\n",
        "    standardize=custom_standardization,\n",
        ")\n",
        "train_english_texts = [pair[0] for pair in train_pairs]\n",
        "train_spanish_texts = [pair[1] for pair in train_pairs]\n",
        "source_vectorization.adapt(train_english_texts)\n",
        "target_vectorization.adapt(train_spanish_texts)"
      ]
    },
    {
      "cell_type": "markdown",
      "metadata": {
        "id": "I8FSpt8VFQGe"
      },
      "source": [
        "**Preparing datasets for the translation task**"
      ]
    },
    {
      "cell_type": "code",
      "execution_count": null,
      "metadata": {
        "id": "LUs8N_zjFQGe"
      },
      "outputs": [],
      "source": [
        "batch_size = 64\n",
        "\n",
        "def format_dataset(eng, spa):\n",
        "    eng = source_vectorization(eng)\n",
        "    spa = target_vectorization(spa)\n",
        "    return ({\n",
        "        \"english\": eng,\n",
        "        \"spanish\": spa[:, :-1],\n",
        "    }, spa[:, 1:])\n",
        "\n",
        "def make_dataset(pairs):\n",
        "    eng_texts, spa_texts = zip(*pairs)\n",
        "    eng_texts = list(eng_texts)\n",
        "    spa_texts = list(spa_texts)\n",
        "    dataset = tf.data.Dataset.from_tensor_slices((eng_texts, spa_texts))\n",
        "    dataset = dataset.batch(batch_size)\n",
        "    dataset = dataset.map(format_dataset, num_parallel_calls=4)\n",
        "    return dataset.shuffle(2048).prefetch(16).cache()\n",
        "\n",
        "train_ds = make_dataset(train_pairs)\n",
        "val_ds = make_dataset(val_pairs)"
      ]
    },
    {
      "cell_type": "code",
      "execution_count": null,
      "metadata": {
        "colab": {
          "base_uri": "https://localhost:8080/"
        },
        "id": "caWA_b2BFQGe",
        "outputId": "25e7cc69-c2b1-48d2-fef9-56befe8b9e17"
      },
      "outputs": [
        {
          "name": "stdout",
          "output_type": "stream",
          "text": [
            "inputs['english'].shape: (64, 20)\n",
            "inputs['spanish'].shape: (64, 20)\n",
            "targets.shape: (64, 20)\n"
          ]
        }
      ],
      "source": [
        "for inputs, targets in train_ds.take(1):\n",
        "    print(f\"inputs['english'].shape: {inputs['english'].shape}\")\n",
        "    print(f\"inputs['spanish'].shape: {inputs['spanish'].shape}\")\n",
        "    print(f\"targets.shape: {targets.shape}\")"
      ]
    },
    {
      "cell_type": "markdown",
      "metadata": {
        "id": "BL1QeLMLEznr"
      },
      "source": [
        "### **The Transformer encoder**"
      ]
    },
    {
      "cell_type": "code",
      "execution_count": null,
      "metadata": {
        "id": "CTQRyZTKEznt"
      },
      "outputs": [],
      "source": [
        "import tensorflow as tf\n",
        "from tensorflow import keras\n",
        "from tensorflow.keras import layers\n",
        "\n",
        "class TransformerEncoder(layers.Layer):\n",
        "    def __init__(self, embed_dim, dense_dim, num_heads, **kwargs):\n",
        "        super().__init__(**kwargs)\n",
        "        self.embed_dim = embed_dim\n",
        "        self.dense_dim = dense_dim\n",
        "        self.num_heads = num_heads\n",
        "        self.attention = layers.MultiHeadAttention(\n",
        "            num_heads=num_heads, key_dim=embed_dim)\n",
        "        self.dense_proj = keras.Sequential(\n",
        "            [layers.Dense(dense_dim, activation=\"relu\"),\n",
        "             layers.Dense(embed_dim),]\n",
        "        )\n",
        "        self.layernorm_1 = layers.LayerNormalization()\n",
        "        self.layernorm_2 = layers.LayerNormalization()\n",
        "\n",
        "    def call(self, inputs, mask=None):\n",
        "        if mask is not None:\n",
        "            mask = mask[:, tf.newaxis, :]\n",
        "        attention_output = self.attention(\n",
        "            inputs, inputs, attention_mask=mask)\n",
        "        proj_input = self.layernorm_1(inputs + attention_output)\n",
        "        proj_output = self.dense_proj(proj_input)\n",
        "        return self.layernorm_2(proj_input + proj_output)\n",
        "\n",
        "    def get_config(self):\n",
        "        config = super().get_config()\n",
        "        config.update({\n",
        "            \"embed_dim\": self.embed_dim,\n",
        "            \"num_heads\": self.num_heads,\n",
        "            \"dense_dim\": self.dense_dim,\n",
        "        })\n",
        "        return config"
      ]
    },
    {
      "cell_type": "markdown",
      "metadata": {
        "id": "xIPjMfSSFQGg"
      },
      "source": [
        "### **The Transformer decoder**"
      ]
    },
    {
      "cell_type": "code",
      "execution_count": null,
      "metadata": {
        "id": "UvZV_l5QFQGg"
      },
      "outputs": [],
      "source": [
        "class TransformerDecoder(layers.Layer):\n",
        "    def __init__(self, embed_dim, dense_dim, num_heads, **kwargs):\n",
        "        super().__init__(**kwargs)\n",
        "        self.embed_dim = embed_dim\n",
        "        self.dense_dim = dense_dim\n",
        "        self.num_heads = num_heads\n",
        "        self.attention_1 = layers.MultiHeadAttention(\n",
        "            num_heads=num_heads, key_dim=embed_dim)\n",
        "        self.attention_2 = layers.MultiHeadAttention(\n",
        "            num_heads=num_heads, key_dim=embed_dim)\n",
        "        self.dense_proj = keras.Sequential(\n",
        "            [layers.Dense(dense_dim, activation=\"relu\"),\n",
        "             layers.Dense(embed_dim),]\n",
        "        )\n",
        "        self.layernorm_1 = layers.LayerNormalization()\n",
        "        self.layernorm_2 = layers.LayerNormalization()\n",
        "        self.layernorm_3 = layers.LayerNormalization()\n",
        "        self.supports_masking = True\n",
        "\n",
        "    def get_config(self):\n",
        "        config = super().get_config()\n",
        "        config.update({\n",
        "            \"embed_dim\": self.embed_dim,\n",
        "            \"num_heads\": self.num_heads,\n",
        "            \"dense_dim\": self.dense_dim,\n",
        "        })\n",
        "        return config\n",
        "\n",
        "    def get_causal_attention_mask(self, inputs):\n",
        "        input_shape = tf.shape(inputs)\n",
        "        batch_size, sequence_length = input_shape[0], input_shape[1]\n",
        "        i = tf.range(sequence_length)[:, tf.newaxis]\n",
        "        j = tf.range(sequence_length)\n",
        "        mask = tf.cast(i >= j, dtype=\"int32\")\n",
        "        mask = tf.reshape(mask, (1, input_shape[1], input_shape[1]))\n",
        "        mult = tf.concat(\n",
        "            [tf.expand_dims(batch_size, -1),\n",
        "             tf.constant([1, 1], dtype=tf.int32)], axis=0)\n",
        "        return tf.tile(mask, mult)\n",
        "\n",
        "    def call(self, inputs, encoder_outputs, mask=None):\n",
        "        causal_mask = self.get_causal_attention_mask(inputs)\n",
        "        if mask is not None:\n",
        "            padding_mask = tf.cast(\n",
        "                mask[:, tf.newaxis, :], dtype=\"int32\")\n",
        "            padding_mask = tf.minimum(padding_mask, causal_mask)\n",
        "        attention_output_1 = self.attention_1(\n",
        "            query=inputs,\n",
        "            value=inputs,\n",
        "            key=inputs,\n",
        "            attention_mask=causal_mask)\n",
        "        attention_output_1 = self.layernorm_1(inputs + attention_output_1)\n",
        "        attention_output_2 = self.attention_2(\n",
        "            query=attention_output_1,\n",
        "            value=encoder_outputs,\n",
        "            key=encoder_outputs,\n",
        "            attention_mask=padding_mask,\n",
        "        )\n",
        "        attention_output_2 = self.layernorm_2(\n",
        "            attention_output_1 + attention_output_2)\n",
        "        proj_output = self.dense_proj(attention_output_2)\n",
        "        return self.layernorm_3(attention_output_2 + proj_output)"
      ]
    },
    {
      "cell_type": "markdown",
      "metadata": {
        "id": "YnebEA1XFQGg"
      },
      "source": [
        "### Putting it all together: A Transformer for machine translation"
      ]
    },
    {
      "cell_type": "markdown",
      "metadata": {
        "id": "PkPhTo11FQGg"
      },
      "source": [
        "**PositionalEmbedding layer**"
      ]
    },
    {
      "cell_type": "code",
      "execution_count": null,
      "metadata": {
        "id": "farM4iYXFQGg"
      },
      "outputs": [],
      "source": [
        "class PositionalEmbedding(layers.Layer):\n",
        "    def __init__(self, sequence_length, input_dim, output_dim, **kwargs):\n",
        "        super().__init__(**kwargs)\n",
        "        self.token_embeddings = layers.Embedding(\n",
        "            input_dim=input_dim, output_dim=output_dim)\n",
        "        self.position_embeddings = layers.Embedding(\n",
        "            input_dim=sequence_length, output_dim=output_dim)\n",
        "        self.sequence_length = sequence_length\n",
        "        self.input_dim = input_dim\n",
        "        self.output_dim = output_dim\n",
        "\n",
        "    def call(self, inputs):\n",
        "        length = tf.shape(inputs)[-1]\n",
        "        positions = tf.range(start=0, limit=length, delta=1)\n",
        "        embedded_tokens = self.token_embeddings(inputs)\n",
        "        embedded_positions = self.position_embeddings(positions)\n",
        "        return embedded_tokens + embedded_positions\n",
        "\n",
        "    def compute_mask(self, inputs, mask=None):\n",
        "        return tf.math.not_equal(inputs, 0)\n",
        "\n",
        "    def get_config(self):\n",
        "        config = super(PositionalEmbedding, self).get_config()\n",
        "        config.update({\n",
        "            \"output_dim\": self.output_dim,\n",
        "            \"sequence_length\": self.sequence_length,\n",
        "            \"input_dim\": self.input_dim,\n",
        "        })\n",
        "        return config"
      ]
    },
    {
      "cell_type": "markdown",
      "metadata": {
        "id": "yvRcD-XAFQGh"
      },
      "source": [
        "**End-to-end Transformer**"
      ]
    },
    {
      "cell_type": "code",
      "execution_count": null,
      "metadata": {
        "id": "JaZQjjcYFQGh"
      },
      "outputs": [],
      "source": [
        "embed_dim = 256\n",
        "dense_dim = 2048\n",
        "num_heads = 8\n",
        "\n",
        "encoder_inputs = keras.Input(shape=(None,), dtype=\"int64\", name=\"english\")\n",
        "x = PositionalEmbedding(sequence_length, vocab_size, embed_dim)(encoder_inputs)\n",
        "encoder_outputs = TransformerEncoder(embed_dim, dense_dim, num_heads)(x)\n",
        "\n",
        "decoder_inputs = keras.Input(shape=(None,), dtype=\"int64\", name=\"spanish\")\n",
        "x = PositionalEmbedding(sequence_length, vocab_size, embed_dim)(decoder_inputs)\n",
        "x = TransformerDecoder(embed_dim, dense_dim, num_heads)(x, encoder_outputs)\n",
        "x = layers.Dropout(0.5)(x)\n",
        "decoder_outputs = layers.Dense(vocab_size, activation=\"softmax\")(x)\n",
        "transformer = keras.Model([encoder_inputs, decoder_inputs], decoder_outputs)"
      ]
    },
    {
      "cell_type": "markdown",
      "metadata": {
        "id": "trkoQ4TVFQGh"
      },
      "source": [
        "**Training the sequence-to-sequence Transformer**"
      ]
    },
    {
      "cell_type": "code",
      "execution_count": null,
      "metadata": {
        "colab": {
          "base_uri": "https://localhost:8080/"
        },
        "id": "m564inrUFQGh",
        "outputId": "2fb89ffd-7160-4254-bd33-ff7b00fd7540"
      },
      "outputs": [
        {
          "name": "stdout",
          "output_type": "stream",
          "text": [
            "Epoch 1/10\n",
            "1302/1302 [==============================] - 117s 80ms/step - loss: 3.7875 - accuracy: 0.4409 - val_loss: 2.8516 - val_accuracy: 0.5409\n",
            "Epoch 2/10\n",
            "1302/1302 [==============================] - 89s 68ms/step - loss: 2.8431 - accuracy: 0.5504 - val_loss: 2.5008 - val_accuracy: 0.5922\n",
            "Epoch 3/10\n",
            "1302/1302 [==============================] - 89s 68ms/step - loss: 2.5493 - accuracy: 0.5939 - val_loss: 2.3608 - val_accuracy: 0.6159\n",
            "Epoch 4/10\n",
            "1302/1302 [==============================] - 89s 68ms/step - loss: 2.3896 - accuracy: 0.6203 - val_loss: 2.3331 - val_accuracy: 0.6226\n",
            "Epoch 5/10\n",
            "1302/1302 [==============================] - 89s 69ms/step - loss: 2.2874 - accuracy: 0.6383 - val_loss: 2.2715 - val_accuracy: 0.6350\n",
            "Epoch 6/10\n",
            "1302/1302 [==============================] - 89s 68ms/step - loss: 2.2129 - accuracy: 0.6517 - val_loss: 2.2851 - val_accuracy: 0.6371\n",
            "Epoch 7/10\n",
            "1302/1302 [==============================] - 89s 68ms/step - loss: 2.1544 - accuracy: 0.6631 - val_loss: 2.2330 - val_accuracy: 0.6474\n",
            "Epoch 8/10\n",
            "1302/1302 [==============================] - 89s 68ms/step - loss: 2.0896 - accuracy: 0.6763 - val_loss: 2.2216 - val_accuracy: 0.6548\n",
            "Epoch 9/10\n",
            "1302/1302 [==============================] - 91s 70ms/step - loss: 2.0319 - accuracy: 0.6862 - val_loss: 2.2328 - val_accuracy: 0.6546\n",
            "Epoch 10/10\n",
            "1302/1302 [==============================] - 89s 68ms/step - loss: 1.9814 - accuracy: 0.6953 - val_loss: 2.1872 - val_accuracy: 0.6665\n"
          ]
        },
        {
          "data": {
            "text/plain": [
              "<keras.callbacks.History at 0x7fdfe820a410>"
            ]
          },
          "execution_count": 12,
          "metadata": {},
          "output_type": "execute_result"
        }
      ],
      "source": [
        "transformer.compile(\n",
        "    optimizer=\"rmsprop\",\n",
        "    loss=\"sparse_categorical_crossentropy\",\n",
        "    metrics=[\"accuracy\"])\n",
        "transformer.fit(train_ds, epochs=10, validation_data=val_ds)"
      ]
    },
    {
      "cell_type": "markdown",
      "metadata": {
        "id": "UNa1godRFQGh"
      },
      "source": [
        "**Translating new sentences with our Transformer model**"
      ]
    },
    {
      "cell_type": "code",
      "execution_count": null,
      "metadata": {
        "colab": {
          "base_uri": "https://localhost:8080/"
        },
        "id": "9gAvOuwtFQGh",
        "outputId": "806ddef5-04c4-4675-f26b-4408e693c8a9"
      },
      "outputs": [
        {
          "name": "stdout",
          "output_type": "stream",
          "text": [
            "-\n",
            "I didn't go to school last Monday.\n",
            "[start] ayer no fui a la escuela el lunes pasado [end]\n",
            "-\n",
            "Under no circumstances should you go away today.\n",
            "[start] no hay ninguna persona [UNK] hoy [end]\n",
            "-\n",
            "I'm beat. I've been working from dawn to dusk.\n",
            "[start] me estoy [UNK] de trabajo por un [UNK] [UNK] [end]\n",
            "-\n",
            "The kids will love this video.\n",
            "[start] los niños van a este examen [end]\n",
            "-\n",
            "I am a student at London University.\n",
            "[start] soy un estudiante de nueva universidad [end]\n",
            "-\n",
            "There were a good many candidates for the position.\n",
            "[start] había un buen [UNK] para el [UNK] para el puesto [end]\n",
            "-\n",
            "Help me out here.\n",
            "[start] ayuda aquí [end]\n",
            "-\n",
            "Tom always eats before going to work.\n",
            "[start] tom siempre hace antes de ir a trabajar [end]\n",
            "-\n",
            "She came last.\n",
            "[start] ella vino [end]\n",
            "-\n",
            "Teenagers often break rules.\n",
            "[start] las reglas se han decidido a menudo [end]\n",
            "-\n",
            "I ran as fast as possible, but I was not in time for the last train.\n",
            "[start] yo corrió tan rápido como pudo pero no pude terminar el último tren [end]\n",
            "-\n",
            "I thought Tom would know how to do that.\n",
            "[start] pensé que tom haría eso [end]\n",
            "-\n",
            "This book sold well in Japan.\n",
            "[start] este libro se lo [UNK] en japón [end]\n",
            "-\n",
            "I made my dog lie down.\n",
            "[start] yo hice mi perro casi todos [end]\n",
            "-\n",
            "The old woman got hurt when she fell.\n",
            "[start] la mujer mayor se casó con el que se cayó [end]\n",
            "-\n",
            "What does Tom think of Mary?\n",
            "[start] qué piensa tom de mary [end]\n",
            "-\n",
            "Most of these are mine.\n",
            "[start] la mayoría de estos la clase [end]\n",
            "-\n",
            "She acted as if she knew nothing.\n",
            "[start] ella se [UNK] como si no sabía nada [end]\n",
            "-\n",
            "I tied my dog to a tree in the garden.\n",
            "[start] [UNK] a mi perro en un árbol en el jardín [end]\n",
            "-\n",
            "He has helped the poor throughout his life.\n",
            "[start] Él ha sido tan pobre sus gracias a su vida [end]\n"
          ]
        }
      ],
      "source": [
        "import numpy as np\n",
        "spa_vocab = target_vectorization.get_vocabulary()\n",
        "spa_index_lookup = dict(zip(range(len(spa_vocab)), spa_vocab))\n",
        "max_decoded_sentence_length = 20\n",
        "\n",
        "def decode_sequence(input_sentence):\n",
        "    tokenized_input_sentence = source_vectorization([input_sentence])\n",
        "    decoded_sentence = \"[start]\"\n",
        "    for i in range(max_decoded_sentence_length):\n",
        "        tokenized_target_sentence = target_vectorization(\n",
        "            [decoded_sentence])[:, :-1]\n",
        "        predictions = transformer(\n",
        "            [tokenized_input_sentence, tokenized_target_sentence])\n",
        "        sampled_token_index = np.argmax(predictions[0, i, :])\n",
        "        sampled_token = spa_index_lookup[sampled_token_index]\n",
        "        decoded_sentence += \" \" + sampled_token\n",
        "        if sampled_token == \"[end]\":\n",
        "            break\n",
        "    return decoded_sentence\n",
        "\n",
        "test_eng_texts = [pair[0] for pair in test_pairs]\n",
        "for _ in range(20):\n",
        "    input_sentence = random.choice(test_eng_texts)\n",
        "    print(\"-\")\n",
        "    print(input_sentence)\n",
        "    print(decode_sequence(input_sentence))"
      ]
    },
    {
      "cell_type": "markdown",
      "metadata": {
        "id": "JRW8vUpsnhCO"
      },
      "source": [
        "## **Part 4: IMDB sentiment analysis using Transformers (OPTIONAL)** [15 points]\n",
        "\n",
        "In Part 4 you are encouraged to use a transformer model to solve the IMDB review sentiment analysis problem (with the same dataset as Part 2) and compare the results.\n"
      ]
    },
    {
      "cell_type": "markdown",
      "metadata": {
        "id": "SZjHveOun55v"
      },
      "source": [
        "##### **4.1 Your solution** &emsp;"
      ]
    },
    {
      "cell_type": "code",
      "execution_count": null,
      "metadata": {
        "colab": {
          "base_uri": "https://localhost:8080/"
        },
        "id": "wke0JlSGi39X",
        "outputId": "2283199b-f18a-4e5b-9043-a9341656b078"
      },
      "outputs": [
        {
          "name": "stdout",
          "output_type": "stream",
          "text": [
            "Epoch 1/10\n",
            "391/391 [==============================] - 39s 96ms/step - loss: 0.6049 - accuracy: 0.7392\n",
            "Epoch 2/10\n",
            "391/391 [==============================] - 3s 8ms/step - loss: 0.3530 - accuracy: 0.8613\n",
            "Epoch 3/10\n",
            "391/391 [==============================] - 4s 10ms/step - loss: 0.2707 - accuracy: 0.8942\n",
            "Epoch 4/10\n",
            "391/391 [==============================] - 3s 7ms/step - loss: 0.2303 - accuracy: 0.9123\n",
            "Epoch 5/10\n",
            "391/391 [==============================] - 6s 15ms/step - loss: 0.2022 - accuracy: 0.9237\n",
            "Epoch 6/10\n",
            "391/391 [==============================] - 4s 11ms/step - loss: 0.1798 - accuracy: 0.9342\n",
            "Epoch 7/10\n",
            "391/391 [==============================] - 4s 11ms/step - loss: 0.1610 - accuracy: 0.9438\n",
            "Epoch 8/10\n",
            "391/391 [==============================] - 3s 7ms/step - loss: 0.1449 - accuracy: 0.9509\n",
            "Epoch 9/10\n",
            "391/391 [==============================] - 3s 7ms/step - loss: 0.1309 - accuracy: 0.9583\n",
            "Epoch 10/10\n",
            "391/391 [==============================] - 4s 11ms/step - loss: 0.1184 - accuracy: 0.9634\n",
            "391/391 [==============================] - 2s 6ms/step - loss: 0.4531 - accuracy: 0.8432\n",
            "Test Loss: 0.4531223177909851\n",
            "Test Accuracy: 0.8431599736213684\n"
          ]
        }
      ],
      "source": [
        "import tensorflow_datasets as tfds\n",
        "import tensorflow as tf\n",
        "from tensorflow import keras\n",
        "from tensorflow.keras import layers\n",
        "import string\n",
        "import re\n",
        "\n",
        "#Load\n",
        "(train_dataset, test_dataset), dataset_info = tfds.load(\n",
        "    \"imdb_reviews\",\n",
        "    split=[\"train\", \"test\"],\n",
        "    shuffle_files=True,\n",
        "    with_info=True,\n",
        "    as_supervised=True\n",
        ")\n",
        "\n",
        "#Preprocess\n",
        "strip_chars = string.punctuation\n",
        "strip_chars = strip_chars.replace(\"[\", \"\")\n",
        "strip_chars = strip_chars.replace(\"]\", \"\")\n",
        "\n",
        "def custom_standardization(input_string):\n",
        "    lowercase = tf.strings.lower(input_string)\n",
        "    return tf.strings.regex_replace(\n",
        "        lowercase, f\"[{re.escape(strip_chars)}]\", \"\")\n",
        "\n",
        "vocab_size = 10000\n",
        "sequence_length = 200\n",
        "\n",
        "vectorization = layers.TextVectorization(\n",
        "    max_tokens=vocab_size,\n",
        "    output_mode=\"int\",\n",
        "    output_sequence_length=sequence_length,\n",
        "    standardize=custom_standardization,\n",
        ")\n",
        "train_texts = [text.numpy().decode(\"utf-8\") for text, _ in train_dataset]\n",
        "train_labels = [int(label.numpy()) for _, label in train_dataset]\n",
        "test_texts = [text.numpy().decode(\"utf-8\") for text, _ in test_dataset]\n",
        "test_labels = [int(label.numpy()) for _, label in test_dataset]\n",
        "\n",
        "vectorization.adapt(train_texts)\n",
        "\n",
        "embedding_dim = 16\n",
        "\n",
        "model = keras.Sequential([\n",
        "    vectorization,\n",
        "    layers.Embedding(vocab_size, embedding_dim, name=\"embedding\"),\n",
        "    layers.GlobalAveragePooling1D(),\n",
        "    layers.Dense(16, activation=\"relu\"),\n",
        "    layers.Dense(1, activation=\"sigmoid\")\n",
        "])\n",
        "\n",
        "model.compile(\n",
        "    optimizer=\"adam\",\n",
        "    loss=\"binary_crossentropy\",\n",
        "    metrics=[\"accuracy\"]\n",
        ")\n",
        "\n",
        "#Train\n",
        "batch_size = 64\n",
        "epochs = 10\n",
        "\n",
        "train_dataset = tf.data.Dataset.from_tensor_slices((train_texts, train_labels))\n",
        "train_dataset = train_dataset.batch(batch_size)\n",
        "\n",
        "model.fit(train_dataset, epochs=epochs)\n",
        "\n",
        "#Evaluate\n",
        "test_dataset = tf.data.Dataset.from_tensor_slices((test_texts, test_labels))\n",
        "test_dataset = test_dataset.batch(batch_size)\n",
        "\n",
        "loss, accuracy = model.evaluate(test_dataset)\n",
        "print(f\"Test Loss: {loss}\")\n",
        "print(f\"Test Accuracy: {accuracy}\")\n"
      ]
    },
    {
      "cell_type": "markdown",
      "metadata": {
        "id": "vG3GfvVfpH4X"
      },
      "source": [
        "## LSTM--temperature forecast\n",
        "\n",
        "Model Performance:\n",
        "- The first model had an embedding layer, a dropout layer, a global max pooling layer, and dense layers. The second model included more dropout and dense layers. The second model's adjustments improved its ability to learn more complicated patterns in data. In the second model, hyperparameters such as the number of units in the layers, dropout rates, and learning rates were modified. These modifications have the potential to have a major impact on the model's performance. The second model's increased number of units and dropout layers allowed it to capture more complex representations in the data and potentially reduce overfitting.The influence of these adjustments may be seen by comparing the two models' performance parameters, such as test accuracy and test loss. Because of its enhanced capacity and ability to catch more intricate patterns in the data, the second model with the updated architecture and hyperparameters may perform better.\n",
        "\n",
        "Preprocessing and data set:\n",
        "- The IMDb movie reviews dataset contains a collection of movie reviews with either positive or negative sentiment classifications. Tokenizing the text and padding the sequences to a specified length were part of the preprocessing stage. This stage helps the model to effectively process the text data. The dataset and preprocessing have an impact on the model's capacity to learn from text input and appropriately classify sentiment.\n",
        "\n",
        "Evaluation metric:\n",
        "- The accuracy metric, which quantifies the proportion of properly categorised samples, was used to evaluate the models. This metric is appropriate for balanced binary classification applications such as sentiment analysis. Other evaluation metrics, such as precision, recall, F1 score, or area under the receiver operating characteristic curve (ROC AUC), may be more appropriate depending on the individual problem. It is critical to select evaluation measures that are aligned with the problem's specific goals and requirements.\n",
        "\n",
        "Overfitting and generalisation:\n",
        "\n",
        "- During training, the models' performance can be evaluated not only on the test set but also on the validation set. Monitoring validation loss and accuracy can reveal information about the models' generalisation abilityOverfitting may be indicated if a model performs much better on the training set than on the validation set. Overfitting happens when a model memorises the training data rather than learning broad patterns, resulting in poor performance on new data. Overfitting can be mitigated using regularisation approaches like as dropout and early termination.\n",
        "\n",
        "Other factors to consider:\n",
        "- The activation functions, optimizer, batch size, and number of training epochs used can all have an effect on the model's performance. Variations in the model's ability to learn and generalise can result from different combinations of these parameters. The size of the training dataset can also have an impact on model performance. Larger datasets frequently contain more representative samples and allow for improved generalisation.\n",
        "\n",
        "Here are some alternative actions if we had more time to obtain more insights from this notebook:\n",
        "\n",
        "- Cross-validation: Use cross-validation instead of a train-test split to gain a more trustworthy assessment of the model's performance. This entails dividing the data into many subsets (folds) and training and assessing the model on various subset combinations.\n",
        "\n",
        "- Hyperparameter tuning: Perform a systematic hyperparameter search to determine the best hyperparameter combination for the model. To optimise hyperparameters, techniques such as grid search, random search, or more advanced methods such as Bayesian optimisation or evolutionary algorithms can be used.\n",
        "\n",
        "- Model interpretation: Investigate approaches for interpreting the model's decisions and comprehending the key features or terms that contribute to classification. This can include strategies such as analysing the model's attention or saliency, visualising word embeddings, or explaining individual predictions using techniques like as LIME or SHAP.\n",
        "\n",
        "- Consider utilising pre-trained word embeddings like Word2Vec, GloVe, or BERT to initialise the embedding layer. This can collect more rich semantic information and potentially improve model performance. Additionally, investigate the application of transfer learning methodologies for the sentiment classification job, such as fine-tuning pre-trained language models.\n",
        "\n",
        "- Model ensembling: To combine many models and increase performance, investigate ensemble approaches such as bagging, boosting, or stacking. It is feasible to achieve better outcomes by training many models with various initializations or architectures and integrating their predictions.\n",
        "\n",
        "- Analyse the model's faults and misclassifications to acquire insight into the precise circumstances in which the model fails. This can aid in identifying patterns or difficult examples that may require additional data pretreatment or model modification.\n",
        "\n",
        "\n",
        "\n",
        "\n",
        "\n",
        "\n",
        "\n",
        "\n",
        "**IMDB sentiment analysis**\n",
        "\n",
        "Architecture Model:\n",
        "- The first model architecture employed a straightforward method that included an embedding layer, global average pooling, and thick layers. By raising the embedding dimension and adding more dense layers with dropout, the modified model added complexity. The more complicated model architecture has the ability to capture more intricate patterns in the data. However, the risk of overfitting grows, especially with the addition of dropout layers.\n",
        "\n",
        "Training Setup:\n",
        "   - Both models were trained for ten epochs with a batch size of 64.\n",
        "   - The modified model's learning rate was reduced, potentially allowing for finer modifications during training.\n",
        "\n",
        "Evaluation Metric:\n",
        "  -  The chosen evaluation metric was accuracy, which quantifies the fraction of correctly classified samples. Accuracy is frequently used in binary classification applications such as sentiment analysis. However, it may not provide a whole picture of the model's performance, especially when working with skewed datasets. Other metrics, such as precision, recall, or F1-score, may provide further information.\n",
        "\n",
        "Results and observations:\n",
        "  - The first model performed well on the test dataset, however it may be prone to overfitting due to the simplicity of the design. The upgraded model, with its deeper architecture and higher complexity, may be able to capture more nuanced patterns, but it may also be more prone to overfitting. Only by comparing the test accuracies of both models can the impact of model changes on performance be assessed.\n",
        "\n",
        "Here are some alternative actions if we had more time to obtain more insights from this notebook:\n",
        "\n",
        "- Hyperparameter Tuning: To discover the best combination of hyperparameters, do a systematic hyperparameter search utilising approaches such as grid search, random search, or Bayesian optimisation.Examine the effects of varied learning rates, dropout rates, batch sizes, embedding dimensions, and layer sizes on model performance.\n",
        "\n",
        "- Model Regularisation: To reduce overfitting, experiment with extra regularisation approaches such as L1 or L2 regularisation.Experiment with different dropout rates and model design placements to find the best balance between reducing overfitting and maintaining model performance.\n",
        "\n",
        "\n",
        "- Model Interpretability: - Look at ways for interpreting and visualising the model's decisions, such as attention mechanisms or gradient-based methods such as Integrated Gradients or Grad-CAM. Determine which elements of the text are most influential in predicting sentiment.\n",
        "\n",
        "- Ensemble Methods: Train many models with various topologies or hyperparameters and use ensemble methods like majority voting or stacking to integrate their predictions.Determine whether an ensemble of models outperforms individual models in terms of overall performance.\n",
        "\n",
        "- Handling Imbalanced Data: Examine the dataset's class distribution and examine approaches for dealing with imbalanced data, such as oversampling, undersampling, or employing class weights during training.\n",
        "\n",
        "- Evaluate Other Metrics: - Determine additional assessment metrics like as accuracy, recall, F1-score, or area under the ROC curve (AUC-ROC) to gain a more complete picture of the model's performance, especially in the setting of imbalanced datasets.\n",
        "\n",
        "\n",
        "**NLP using Transformers**\n",
        "\n",
        "- Model design: The notebook uses a Transformer model for machine translation, a cutting-edge design noted for its ability to handle sequence-to-sequence operations. The model is made up of an encoder and a decoder, both of which use multi-head self-attention methods. This architecture is intended to capture long-term dependencies in input sequences, making it appropriate for translation jobs.\n",
        "\n",
        "- Data Preparation: The notebook downloads a dataset with English-Spanish sentence pairs and tokenizes and vectorizes the sentences. The use of text vectorization and padding guarantees that the lengths of the input sequences are consistent, which is critical for training the Transformer model.\n",
        "\n",
        "- The model is trained and evaluated using the RMSprop optimizer with sparse categorical cross-entropy loss. The training procedure consists of iterating over the training dataset for a predetermined number of epochs. The accuracy measure is used to evaluate the model's performance on the validation dataset. It should be noted that accuracy may not be the best criterion for machine translation assignments because translations can have several valid alternatives. Other evaluation criteria, such as the BLEU score or METEOR, may provide a more complete picture of translation quality.\n",
        "\n",
        "- Potential concerns: The code provided has a few potential concerns. To begin with, the notebook does not handle out-of-vocabulary (OOV) words during training or inference. OOV terms in input sentences may cause translation issues. Second, the training process is limited to a set number of epochs, with no early termination mechanism based on validation loss. Early halting could assist prevent overfitting and save time during training. Finally, the code does not demonstrate how the test dataset is evaluated. To evaluate the model's generalisation performance, the metrics on the test set should be computed.\n",
        "\n",
        "\n",
        "Here are some alternative actions if we had more time to obtain more insights from this notebook:\n",
        "\n",
        "- Experimenting with different hyperparameters, such as the number of layers, the size of the embedding and feed-forward layers, and the number of attention heads, may aid in improving the model's performance. Grid search and random search techniques can be used to determine the best hyperparameters.\n",
        "\n",
        "- Regularisation Techniques: Using regularisation techniques like dropout or weight decay can help to reduce overfitting and improve model generalisation. It is possible to investigate adding dropout layers at appropriate points or incorporating other regularisation approaches into the model design.\n",
        "\n",
        "- Model Interpretability: Due to their complexity, transformer models can be difficult to interpret. Techniques such as attention visualisation can aid in understanding which elements of the input sequence receive greater attention during translation. This can reveal how the model makes predictions and indicate areas for improvement.\n",
        "\n",
        "- Ensemble Methods: Combining the predictions of numerous Transformer models with varied topologies or random seeds can typically lead to performance gains. To improve translation accuracy, an ensemble model can be implemented and the results of individual models combined.\n",
        "\n",
        "- Data Augmentation: Increasing the diversity and quantity of the training set by providing synthetic cases or using techniques like as back-translation. This may increase the model's capacity to deal with diverse phrase forms and variances in input data.\n",
        "\n",
        "- Training on a larger dataset can result in higher translation performance. Incorporating a bigger English-Spanish dataset or integrating various translation datasets, if available, could be advantageous.\n",
        "\n",
        "- Error Analysis: Analysing the model's errors on the validation or test set might reveal insights into the model's specific issues. Understanding the types of errors made (for example, mistranslations, omissions, and word order difficulties) might help drive future model or data preprocessing improvements.\n",
        "\n",
        "\n",
        "**IMDB sentiment analysis using Transformers**\n",
        "- Data Loading: Using TensorFlow Datasets, the code successfully loads the IMDB movie reviews dataset. It divides the dataset into training and test sets, shuffles the files, and extracts dataset metadata. This section of the code performed as intended.\n",
        "\n",
        "- Preprocessing: A custom preprocessing function is defined in the code to transform the input strings to lowercase and remove punctuation. This aids in the standardisation of text data. Texts are tokenized and converted into integer sequences using the 'TextVectorization' layer. The vectorization layer is adjusted to fit the training texts. This section of the code also functioned as expected.\n",
        "\n",
        "- Model Architecture: An embedding layer, a global average pooling layer, two dense layers with ReLU activation, and a final dense layer with sigmoid activation for binary classification comprise the model architecture. This architecture is simple, but it can extract crucial information from text data. For this task, it performed as expected.\n",
        "\n",
        "- Model Compilation and Training: The Adam optimizer, binary cross-entropy loss function, and accuracy metric are used to create the model. It is then trained on the training dataset for the number of epochs provided. This section of the code performed as intended.\n",
        "\n",
        "Here are some alternative actions if we had more time to obtain more insights from this notebook:\n",
        "- The percentage of correctly identified reviews in the test set is indicated by the accuracy. If the accuracy is high, it indicates that the model is good at predicting sentiment. However, accuracy may not reveal the entire picture, and other measures such as precision, recall, and F1 score may be used depending on the unique requirements of the sentiment analysis assignment.\n",
        "\n",
        "- The obtained findings are affected by a variety of factors, including model design, hyperparameters, and dataset properties. A simplistic architecture was utilised in this scenario, which may limit the model's ability to capture complicated relationships in the data. Other key hyperparameters that can affect model performance are the embedding dimension, vocabulary size, and sequence length. Changing these values could result in better results.\n",
        "\n",
        "\n",
        "\n",
        "\n",
        "\n",
        "\n",
        "\n",
        "\n",
        "\n",
        "\n",
        "\n",
        "\n"
      ]
    }
  ],
  "metadata": {
    "accelerator": "GPU",
    "colab": {
      "provenance": []
    },
    "kernelspec": {
      "display_name": "Python 3",
      "name": "python3"
    },
    "widgets": {
      "application/vnd.jupyter.widget-state+json": {
        "0027ccc4099a4bff973850732421838b": {
          "model_module": "@jupyter-widgets/controls",
          "model_module_version": "1.5.0",
          "model_name": "HTMLModel",
          "state": {
            "_dom_classes": [],
            "_model_module": "@jupyter-widgets/controls",
            "_model_module_version": "1.5.0",
            "_model_name": "HTMLModel",
            "_view_count": null,
            "_view_module": "@jupyter-widgets/controls",
            "_view_module_version": "1.5.0",
            "_view_name": "HTMLView",
            "description": "",
            "description_tooltip": null,
            "layout": "IPY_MODEL_3c0787289cd749e3951f4b7238e20aa7",
            "placeholder": "​",
            "style": "IPY_MODEL_4632bf3e0f7241fa83ecaf434e8029cf",
            "value": " 49697/50000 [00:14&lt;00:00, 5308.22 examples/s]"
          }
        },
        "06c74cf79abe4be6b6513b16789166be": {
          "model_module": "@jupyter-widgets/controls",
          "model_module_version": "1.5.0",
          "model_name": "HTMLModel",
          "state": {
            "_dom_classes": [],
            "_model_module": "@jupyter-widgets/controls",
            "_model_module_version": "1.5.0",
            "_model_name": "HTMLModel",
            "_view_count": null,
            "_view_module": "@jupyter-widgets/controls",
            "_view_module_version": "1.5.0",
            "_view_name": "HTMLView",
            "description": "",
            "description_tooltip": null,
            "layout": "IPY_MODEL_2488fde936f8459d8fd7e74d57b54ecc",
            "placeholder": "​",
            "style": "IPY_MODEL_dc503b00f7814a0891d3229e7aab852c",
            "value": "Dl Completed...: 100%"
          }
        },
        "08162a54c97d4676a8b4b1d29ff55969": {
          "model_module": "@jupyter-widgets/controls",
          "model_module_version": "1.5.0",
          "model_name": "HTMLModel",
          "state": {
            "_dom_classes": [],
            "_model_module": "@jupyter-widgets/controls",
            "_model_module_version": "1.5.0",
            "_model_name": "HTMLModel",
            "_view_count": null,
            "_view_module": "@jupyter-widgets/controls",
            "_view_module_version": "1.5.0",
            "_view_name": "HTMLView",
            "description": "",
            "description_tooltip": null,
            "layout": "IPY_MODEL_f15fce99774b4e16992b28a678b37301",
            "placeholder": "​",
            "style": "IPY_MODEL_5989b5eb568149be9ff088ba317edf07",
            "value": "Generating train examples...:  99%"
          }
        },
        "0afe9d9cc46346f2bda3af7eb287e833": {
          "model_module": "@jupyter-widgets/controls",
          "model_module_version": "1.5.0",
          "model_name": "HBoxModel",
          "state": {
            "_dom_classes": [],
            "_model_module": "@jupyter-widgets/controls",
            "_model_module_version": "1.5.0",
            "_model_name": "HBoxModel",
            "_view_count": null,
            "_view_module": "@jupyter-widgets/controls",
            "_view_module_version": "1.5.0",
            "_view_name": "HBoxView",
            "box_style": "",
            "children": [
              "IPY_MODEL_b63211571a4941c8abcfc213d1580b73",
              "IPY_MODEL_9d52c7251b674f4ab4210ec0aa73156f",
              "IPY_MODEL_fe6683c456b7421a99ec01cbb5f73f39"
            ],
            "layout": "IPY_MODEL_f1f5923222774713a133e289baadfae4"
          }
        },
        "0d85e272bb4c4e09b44285558ee4eb7f": {
          "model_module": "@jupyter-widgets/base",
          "model_module_version": "1.2.0",
          "model_name": "LayoutModel",
          "state": {
            "_model_module": "@jupyter-widgets/base",
            "_model_module_version": "1.2.0",
            "_model_name": "LayoutModel",
            "_view_count": null,
            "_view_module": "@jupyter-widgets/base",
            "_view_module_version": "1.2.0",
            "_view_name": "LayoutView",
            "align_content": null,
            "align_items": null,
            "align_self": null,
            "border": null,
            "bottom": null,
            "display": null,
            "flex": null,
            "flex_flow": null,
            "grid_area": null,
            "grid_auto_columns": null,
            "grid_auto_flow": null,
            "grid_auto_rows": null,
            "grid_column": null,
            "grid_gap": null,
            "grid_row": null,
            "grid_template_areas": null,
            "grid_template_columns": null,
            "grid_template_rows": null,
            "height": null,
            "justify_content": null,
            "justify_items": null,
            "left": null,
            "margin": null,
            "max_height": null,
            "max_width": null,
            "min_height": null,
            "min_width": null,
            "object_fit": null,
            "object_position": null,
            "order": null,
            "overflow": null,
            "overflow_x": null,
            "overflow_y": null,
            "padding": null,
            "right": null,
            "top": null,
            "visibility": "hidden",
            "width": null
          }
        },
        "0ef8a5fe6dc342ab8487f7c3c79af463": {
          "model_module": "@jupyter-widgets/base",
          "model_module_version": "1.2.0",
          "model_name": "LayoutModel",
          "state": {
            "_model_module": "@jupyter-widgets/base",
            "_model_module_version": "1.2.0",
            "_model_name": "LayoutModel",
            "_view_count": null,
            "_view_module": "@jupyter-widgets/base",
            "_view_module_version": "1.2.0",
            "_view_name": "LayoutView",
            "align_content": null,
            "align_items": null,
            "align_self": null,
            "border": null,
            "bottom": null,
            "display": null,
            "flex": null,
            "flex_flow": null,
            "grid_area": null,
            "grid_auto_columns": null,
            "grid_auto_flow": null,
            "grid_auto_rows": null,
            "grid_column": null,
            "grid_gap": null,
            "grid_row": null,
            "grid_template_areas": null,
            "grid_template_columns": null,
            "grid_template_rows": null,
            "height": null,
            "justify_content": null,
            "justify_items": null,
            "left": null,
            "margin": null,
            "max_height": null,
            "max_width": null,
            "min_height": null,
            "min_width": null,
            "object_fit": null,
            "object_position": null,
            "order": null,
            "overflow": null,
            "overflow_x": null,
            "overflow_y": null,
            "padding": null,
            "right": null,
            "top": null,
            "visibility": null,
            "width": null
          }
        },
        "17c7f696742944668633191cf02e6f80": {
          "model_module": "@jupyter-widgets/controls",
          "model_module_version": "1.5.0",
          "model_name": "DescriptionStyleModel",
          "state": {
            "_model_module": "@jupyter-widgets/controls",
            "_model_module_version": "1.5.0",
            "_model_name": "DescriptionStyleModel",
            "_view_count": null,
            "_view_module": "@jupyter-widgets/base",
            "_view_module_version": "1.2.0",
            "_view_name": "StyleView",
            "description_width": ""
          }
        },
        "18dabf4352c8435c848417bfc88fdd96": {
          "model_module": "@jupyter-widgets/controls",
          "model_module_version": "1.5.0",
          "model_name": "HTMLModel",
          "state": {
            "_dom_classes": [],
            "_model_module": "@jupyter-widgets/controls",
            "_model_module_version": "1.5.0",
            "_model_name": "HTMLModel",
            "_view_count": null,
            "_view_module": "@jupyter-widgets/controls",
            "_view_module_version": "1.5.0",
            "_view_name": "HTMLView",
            "description": "",
            "description_tooltip": null,
            "layout": "IPY_MODEL_6a0f0a8cf2424449b1ed6b4bf6b92a04",
            "placeholder": "​",
            "style": "IPY_MODEL_17c7f696742944668633191cf02e6f80",
            "value": "Generating splits...: 100%"
          }
        },
        "1a3b5038212e406f8a57e9c9ed1503a5": {
          "model_module": "@jupyter-widgets/base",
          "model_module_version": "1.2.0",
          "model_name": "LayoutModel",
          "state": {
            "_model_module": "@jupyter-widgets/base",
            "_model_module_version": "1.2.0",
            "_model_name": "LayoutModel",
            "_view_count": null,
            "_view_module": "@jupyter-widgets/base",
            "_view_module_version": "1.2.0",
            "_view_name": "LayoutView",
            "align_content": null,
            "align_items": null,
            "align_self": null,
            "border": null,
            "bottom": null,
            "display": null,
            "flex": null,
            "flex_flow": null,
            "grid_area": null,
            "grid_auto_columns": null,
            "grid_auto_flow": null,
            "grid_auto_rows": null,
            "grid_column": null,
            "grid_gap": null,
            "grid_row": null,
            "grid_template_areas": null,
            "grid_template_columns": null,
            "grid_template_rows": null,
            "height": null,
            "justify_content": null,
            "justify_items": null,
            "left": null,
            "margin": null,
            "max_height": null,
            "max_width": null,
            "min_height": null,
            "min_width": null,
            "object_fit": null,
            "object_position": null,
            "order": null,
            "overflow": null,
            "overflow_x": null,
            "overflow_y": null,
            "padding": null,
            "right": null,
            "top": null,
            "visibility": "hidden",
            "width": null
          }
        },
        "1b0b909223514547a3a4b535bace0373": {
          "model_module": "@jupyter-widgets/controls",
          "model_module_version": "1.5.0",
          "model_name": "DescriptionStyleModel",
          "state": {
            "_model_module": "@jupyter-widgets/controls",
            "_model_module_version": "1.5.0",
            "_model_name": "DescriptionStyleModel",
            "_view_count": null,
            "_view_module": "@jupyter-widgets/base",
            "_view_module_version": "1.2.0",
            "_view_name": "StyleView",
            "description_width": ""
          }
        },
        "1b5908d2ef70428bbb8bf6ad23e3f7b9": {
          "model_module": "@jupyter-widgets/base",
          "model_module_version": "1.2.0",
          "model_name": "LayoutModel",
          "state": {
            "_model_module": "@jupyter-widgets/base",
            "_model_module_version": "1.2.0",
            "_model_name": "LayoutModel",
            "_view_count": null,
            "_view_module": "@jupyter-widgets/base",
            "_view_module_version": "1.2.0",
            "_view_name": "LayoutView",
            "align_content": null,
            "align_items": null,
            "align_self": null,
            "border": null,
            "bottom": null,
            "display": null,
            "flex": null,
            "flex_flow": null,
            "grid_area": null,
            "grid_auto_columns": null,
            "grid_auto_flow": null,
            "grid_auto_rows": null,
            "grid_column": null,
            "grid_gap": null,
            "grid_row": null,
            "grid_template_areas": null,
            "grid_template_columns": null,
            "grid_template_rows": null,
            "height": null,
            "justify_content": null,
            "justify_items": null,
            "left": null,
            "margin": null,
            "max_height": null,
            "max_width": null,
            "min_height": null,
            "min_width": null,
            "object_fit": null,
            "object_position": null,
            "order": null,
            "overflow": null,
            "overflow_x": null,
            "overflow_y": null,
            "padding": null,
            "right": null,
            "top": null,
            "visibility": null,
            "width": null
          }
        },
        "1cd9f563aa7e47789853f4d91839be2e": {
          "model_module": "@jupyter-widgets/controls",
          "model_module_version": "1.5.0",
          "model_name": "DescriptionStyleModel",
          "state": {
            "_model_module": "@jupyter-widgets/controls",
            "_model_module_version": "1.5.0",
            "_model_name": "DescriptionStyleModel",
            "_view_count": null,
            "_view_module": "@jupyter-widgets/base",
            "_view_module_version": "1.2.0",
            "_view_name": "StyleView",
            "description_width": ""
          }
        },
        "2488fde936f8459d8fd7e74d57b54ecc": {
          "model_module": "@jupyter-widgets/base",
          "model_module_version": "1.2.0",
          "model_name": "LayoutModel",
          "state": {
            "_model_module": "@jupyter-widgets/base",
            "_model_module_version": "1.2.0",
            "_model_name": "LayoutModel",
            "_view_count": null,
            "_view_module": "@jupyter-widgets/base",
            "_view_module_version": "1.2.0",
            "_view_name": "LayoutView",
            "align_content": null,
            "align_items": null,
            "align_self": null,
            "border": null,
            "bottom": null,
            "display": null,
            "flex": null,
            "flex_flow": null,
            "grid_area": null,
            "grid_auto_columns": null,
            "grid_auto_flow": null,
            "grid_auto_rows": null,
            "grid_column": null,
            "grid_gap": null,
            "grid_row": null,
            "grid_template_areas": null,
            "grid_template_columns": null,
            "grid_template_rows": null,
            "height": null,
            "justify_content": null,
            "justify_items": null,
            "left": null,
            "margin": null,
            "max_height": null,
            "max_width": null,
            "min_height": null,
            "min_width": null,
            "object_fit": null,
            "object_position": null,
            "order": null,
            "overflow": null,
            "overflow_x": null,
            "overflow_y": null,
            "padding": null,
            "right": null,
            "top": null,
            "visibility": null,
            "width": null
          }
        },
        "27e6a3206ed043a38ffc2b5eb937a2f0": {
          "model_module": "@jupyter-widgets/controls",
          "model_module_version": "1.5.0",
          "model_name": "HBoxModel",
          "state": {
            "_dom_classes": [],
            "_model_module": "@jupyter-widgets/controls",
            "_model_module_version": "1.5.0",
            "_model_name": "HBoxModel",
            "_view_count": null,
            "_view_module": "@jupyter-widgets/controls",
            "_view_module_version": "1.5.0",
            "_view_name": "HBoxView",
            "box_style": "",
            "children": [
              "IPY_MODEL_39513059409643acba7eb820b338932a",
              "IPY_MODEL_c8a69b5b71b1439a868eddf518cd117c",
              "IPY_MODEL_0027ccc4099a4bff973850732421838b"
            ],
            "layout": "IPY_MODEL_97e31f57ee094649ae09a0e448d01311"
          }
        },
        "282c14900f9d419c8b8448543ff82400": {
          "model_module": "@jupyter-widgets/controls",
          "model_module_version": "1.5.0",
          "model_name": "DescriptionStyleModel",
          "state": {
            "_model_module": "@jupyter-widgets/controls",
            "_model_module_version": "1.5.0",
            "_model_name": "DescriptionStyleModel",
            "_view_count": null,
            "_view_module": "@jupyter-widgets/base",
            "_view_module_version": "1.2.0",
            "_view_name": "StyleView",
            "description_width": ""
          }
        },
        "29122f62dd0244ee9a9380f4ae78e068": {
          "model_module": "@jupyter-widgets/controls",
          "model_module_version": "1.5.0",
          "model_name": "ProgressStyleModel",
          "state": {
            "_model_module": "@jupyter-widgets/controls",
            "_model_module_version": "1.5.0",
            "_model_name": "ProgressStyleModel",
            "_view_count": null,
            "_view_module": "@jupyter-widgets/base",
            "_view_module_version": "1.2.0",
            "_view_name": "StyleView",
            "bar_color": null,
            "description_width": ""
          }
        },
        "2a99233487cb49279003df655edce115": {
          "model_module": "@jupyter-widgets/base",
          "model_module_version": "1.2.0",
          "model_name": "LayoutModel",
          "state": {
            "_model_module": "@jupyter-widgets/base",
            "_model_module_version": "1.2.0",
            "_model_name": "LayoutModel",
            "_view_count": null,
            "_view_module": "@jupyter-widgets/base",
            "_view_module_version": "1.2.0",
            "_view_name": "LayoutView",
            "align_content": null,
            "align_items": null,
            "align_self": null,
            "border": null,
            "bottom": null,
            "display": null,
            "flex": null,
            "flex_flow": null,
            "grid_area": null,
            "grid_auto_columns": null,
            "grid_auto_flow": null,
            "grid_auto_rows": null,
            "grid_column": null,
            "grid_gap": null,
            "grid_row": null,
            "grid_template_areas": null,
            "grid_template_columns": null,
            "grid_template_rows": null,
            "height": null,
            "justify_content": null,
            "justify_items": null,
            "left": null,
            "margin": null,
            "max_height": null,
            "max_width": null,
            "min_height": null,
            "min_width": null,
            "object_fit": null,
            "object_position": null,
            "order": null,
            "overflow": null,
            "overflow_x": null,
            "overflow_y": null,
            "padding": null,
            "right": null,
            "top": null,
            "visibility": null,
            "width": null
          }
        },
        "2ae17f72f0564f12b4f9ec413c593210": {
          "model_module": "@jupyter-widgets/controls",
          "model_module_version": "1.5.0",
          "model_name": "FloatProgressModel",
          "state": {
            "_dom_classes": [],
            "_model_module": "@jupyter-widgets/controls",
            "_model_module_version": "1.5.0",
            "_model_name": "FloatProgressModel",
            "_view_count": null,
            "_view_module": "@jupyter-widgets/controls",
            "_view_module_version": "1.5.0",
            "_view_name": "ProgressView",
            "bar_style": "",
            "description": "",
            "description_tooltip": null,
            "layout": "IPY_MODEL_710bec485d6f4f11865ddda29c11636a",
            "max": 50000,
            "min": 0,
            "orientation": "horizontal",
            "style": "IPY_MODEL_609e17cc76c142d3bdc453442b6c7e6c",
            "value": 50000
          }
        },
        "2c9aed1a19544b80b7b5dc98388b4b17": {
          "model_module": "@jupyter-widgets/base",
          "model_module_version": "1.2.0",
          "model_name": "LayoutModel",
          "state": {
            "_model_module": "@jupyter-widgets/base",
            "_model_module_version": "1.2.0",
            "_model_name": "LayoutModel",
            "_view_count": null,
            "_view_module": "@jupyter-widgets/base",
            "_view_module_version": "1.2.0",
            "_view_name": "LayoutView",
            "align_content": null,
            "align_items": null,
            "align_self": null,
            "border": null,
            "bottom": null,
            "display": null,
            "flex": null,
            "flex_flow": null,
            "grid_area": null,
            "grid_auto_columns": null,
            "grid_auto_flow": null,
            "grid_auto_rows": null,
            "grid_column": null,
            "grid_gap": null,
            "grid_row": null,
            "grid_template_areas": null,
            "grid_template_columns": null,
            "grid_template_rows": null,
            "height": null,
            "justify_content": null,
            "justify_items": null,
            "left": null,
            "margin": null,
            "max_height": null,
            "max_width": null,
            "min_height": null,
            "min_width": null,
            "object_fit": null,
            "object_position": null,
            "order": null,
            "overflow": null,
            "overflow_x": null,
            "overflow_y": null,
            "padding": null,
            "right": null,
            "top": null,
            "visibility": null,
            "width": null
          }
        },
        "31b16b99dc054d73a660304eabb51894": {
          "model_module": "@jupyter-widgets/controls",
          "model_module_version": "1.5.0",
          "model_name": "HTMLModel",
          "state": {
            "_dom_classes": [],
            "_model_module": "@jupyter-widgets/controls",
            "_model_module_version": "1.5.0",
            "_model_name": "HTMLModel",
            "_view_count": null,
            "_view_module": "@jupyter-widgets/controls",
            "_view_module_version": "1.5.0",
            "_view_name": "HTMLView",
            "description": "",
            "description_tooltip": null,
            "layout": "IPY_MODEL_b34760b6d0ea4d54954ab61d1a450e93",
            "placeholder": "​",
            "style": "IPY_MODEL_e5576e5144a748528cb3fdc0158609cf",
            "value": " 16576/25000 [00:00&lt;00:00, 165739.61 examples/s]"
          }
        },
        "358a5af8c6264a0ba68d8809aaa6b2a0": {
          "model_module": "@jupyter-widgets/base",
          "model_module_version": "1.2.0",
          "model_name": "LayoutModel",
          "state": {
            "_model_module": "@jupyter-widgets/base",
            "_model_module_version": "1.2.0",
            "_model_name": "LayoutModel",
            "_view_count": null,
            "_view_module": "@jupyter-widgets/base",
            "_view_module_version": "1.2.0",
            "_view_name": "LayoutView",
            "align_content": null,
            "align_items": null,
            "align_self": null,
            "border": null,
            "bottom": null,
            "display": null,
            "flex": null,
            "flex_flow": null,
            "grid_area": null,
            "grid_auto_columns": null,
            "grid_auto_flow": null,
            "grid_auto_rows": null,
            "grid_column": null,
            "grid_gap": null,
            "grid_row": null,
            "grid_template_areas": null,
            "grid_template_columns": null,
            "grid_template_rows": null,
            "height": null,
            "justify_content": null,
            "justify_items": null,
            "left": null,
            "margin": null,
            "max_height": null,
            "max_width": null,
            "min_height": null,
            "min_width": null,
            "object_fit": null,
            "object_position": null,
            "order": null,
            "overflow": null,
            "overflow_x": null,
            "overflow_y": null,
            "padding": null,
            "right": null,
            "top": null,
            "visibility": "hidden",
            "width": null
          }
        },
        "36b866b81e284b4d9d53216b6cf60935": {
          "model_module": "@jupyter-widgets/controls",
          "model_module_version": "1.5.0",
          "model_name": "HBoxModel",
          "state": {
            "_dom_classes": [],
            "_model_module": "@jupyter-widgets/controls",
            "_model_module_version": "1.5.0",
            "_model_name": "HBoxModel",
            "_view_count": null,
            "_view_module": "@jupyter-widgets/controls",
            "_view_module_version": "1.5.0",
            "_view_name": "HBoxView",
            "box_style": "",
            "children": [
              "IPY_MODEL_7cbd3fe57ae04de7ae63027bc425f7e4",
              "IPY_MODEL_2ae17f72f0564f12b4f9ec413c593210",
              "IPY_MODEL_bf044cf71150456f995f4bb5312823f8"
            ],
            "layout": "IPY_MODEL_45df34695e10426dac41471631061780"
          }
        },
        "39513059409643acba7eb820b338932a": {
          "model_module": "@jupyter-widgets/controls",
          "model_module_version": "1.5.0",
          "model_name": "HTMLModel",
          "state": {
            "_dom_classes": [],
            "_model_module": "@jupyter-widgets/controls",
            "_model_module_version": "1.5.0",
            "_model_name": "HTMLModel",
            "_view_count": null,
            "_view_module": "@jupyter-widgets/controls",
            "_view_module_version": "1.5.0",
            "_view_name": "HTMLView",
            "description": "",
            "description_tooltip": null,
            "layout": "IPY_MODEL_be8c2048e94445e69e9104de51640b51",
            "placeholder": "​",
            "style": "IPY_MODEL_7f37281b402c47b6b4f84842c19bd58d",
            "value": "Generating unsupervised examples...:  99%"
          }
        },
        "3ac1f0a33c6f4b8c823d992b4a10071d": {
          "model_module": "@jupyter-widgets/controls",
          "model_module_version": "1.5.0",
          "model_name": "HTMLModel",
          "state": {
            "_dom_classes": [],
            "_model_module": "@jupyter-widgets/controls",
            "_model_module_version": "1.5.0",
            "_model_name": "HTMLModel",
            "_view_count": null,
            "_view_module": "@jupyter-widgets/controls",
            "_view_module_version": "1.5.0",
            "_view_name": "HTMLView",
            "description": "",
            "description_tooltip": null,
            "layout": "IPY_MODEL_dd2de252557d4c00b991b65fceb8dd89",
            "placeholder": "​",
            "style": "IPY_MODEL_da099995cd8f4246a2adbcdfd9b4f4a7",
            "value": " 1/1 [00:09&lt;00:00,  9.80s/ url]"
          }
        },
        "3c0787289cd749e3951f4b7238e20aa7": {
          "model_module": "@jupyter-widgets/base",
          "model_module_version": "1.2.0",
          "model_name": "LayoutModel",
          "state": {
            "_model_module": "@jupyter-widgets/base",
            "_model_module_version": "1.2.0",
            "_model_name": "LayoutModel",
            "_view_count": null,
            "_view_module": "@jupyter-widgets/base",
            "_view_module_version": "1.2.0",
            "_view_name": "LayoutView",
            "align_content": null,
            "align_items": null,
            "align_self": null,
            "border": null,
            "bottom": null,
            "display": null,
            "flex": null,
            "flex_flow": null,
            "grid_area": null,
            "grid_auto_columns": null,
            "grid_auto_flow": null,
            "grid_auto_rows": null,
            "grid_column": null,
            "grid_gap": null,
            "grid_row": null,
            "grid_template_areas": null,
            "grid_template_columns": null,
            "grid_template_rows": null,
            "height": null,
            "justify_content": null,
            "justify_items": null,
            "left": null,
            "margin": null,
            "max_height": null,
            "max_width": null,
            "min_height": null,
            "min_width": null,
            "object_fit": null,
            "object_position": null,
            "order": null,
            "overflow": null,
            "overflow_x": null,
            "overflow_y": null,
            "padding": null,
            "right": null,
            "top": null,
            "visibility": null,
            "width": null
          }
        },
        "4009abdcc2e94b558b41195907366377": {
          "model_module": "@jupyter-widgets/base",
          "model_module_version": "1.2.0",
          "model_name": "LayoutModel",
          "state": {
            "_model_module": "@jupyter-widgets/base",
            "_model_module_version": "1.2.0",
            "_model_name": "LayoutModel",
            "_view_count": null,
            "_view_module": "@jupyter-widgets/base",
            "_view_module_version": "1.2.0",
            "_view_name": "LayoutView",
            "align_content": null,
            "align_items": null,
            "align_self": null,
            "border": null,
            "bottom": null,
            "display": null,
            "flex": null,
            "flex_flow": null,
            "grid_area": null,
            "grid_auto_columns": null,
            "grid_auto_flow": null,
            "grid_auto_rows": null,
            "grid_column": null,
            "grid_gap": null,
            "grid_row": null,
            "grid_template_areas": null,
            "grid_template_columns": null,
            "grid_template_rows": null,
            "height": null,
            "justify_content": null,
            "justify_items": null,
            "left": null,
            "margin": null,
            "max_height": null,
            "max_width": null,
            "min_height": null,
            "min_width": null,
            "object_fit": null,
            "object_position": null,
            "order": null,
            "overflow": null,
            "overflow_x": null,
            "overflow_y": null,
            "padding": null,
            "right": null,
            "top": null,
            "visibility": null,
            "width": "20px"
          }
        },
        "411b46356fee4217b7423e3225f5243f": {
          "model_module": "@jupyter-widgets/controls",
          "model_module_version": "1.5.0",
          "model_name": "HTMLModel",
          "state": {
            "_dom_classes": [],
            "_model_module": "@jupyter-widgets/controls",
            "_model_module_version": "1.5.0",
            "_model_name": "HTMLModel",
            "_view_count": null,
            "_view_module": "@jupyter-widgets/controls",
            "_view_module_version": "1.5.0",
            "_view_name": "HTMLView",
            "description": "",
            "description_tooltip": null,
            "layout": "IPY_MODEL_cb07b9b097d94535b5446be701539e49",
            "placeholder": "​",
            "style": "IPY_MODEL_41b4877c1b1e455281124f6c4b2ea27d",
            "value": "Dl Size...: 100%"
          }
        },
        "41b4877c1b1e455281124f6c4b2ea27d": {
          "model_module": "@jupyter-widgets/controls",
          "model_module_version": "1.5.0",
          "model_name": "DescriptionStyleModel",
          "state": {
            "_model_module": "@jupyter-widgets/controls",
            "_model_module_version": "1.5.0",
            "_model_name": "DescriptionStyleModel",
            "_view_count": null,
            "_view_module": "@jupyter-widgets/base",
            "_view_module_version": "1.2.0",
            "_view_name": "StyleView",
            "description_width": ""
          }
        },
        "45df34695e10426dac41471631061780": {
          "model_module": "@jupyter-widgets/base",
          "model_module_version": "1.2.0",
          "model_name": "LayoutModel",
          "state": {
            "_model_module": "@jupyter-widgets/base",
            "_model_module_version": "1.2.0",
            "_model_name": "LayoutModel",
            "_view_count": null,
            "_view_module": "@jupyter-widgets/base",
            "_view_module_version": "1.2.0",
            "_view_name": "LayoutView",
            "align_content": null,
            "align_items": null,
            "align_self": null,
            "border": null,
            "bottom": null,
            "display": null,
            "flex": null,
            "flex_flow": null,
            "grid_area": null,
            "grid_auto_columns": null,
            "grid_auto_flow": null,
            "grid_auto_rows": null,
            "grid_column": null,
            "grid_gap": null,
            "grid_row": null,
            "grid_template_areas": null,
            "grid_template_columns": null,
            "grid_template_rows": null,
            "height": null,
            "justify_content": null,
            "justify_items": null,
            "left": null,
            "margin": null,
            "max_height": null,
            "max_width": null,
            "min_height": null,
            "min_width": null,
            "object_fit": null,
            "object_position": null,
            "order": null,
            "overflow": null,
            "overflow_x": null,
            "overflow_y": null,
            "padding": null,
            "right": null,
            "top": null,
            "visibility": "hidden",
            "width": null
          }
        },
        "4632bf3e0f7241fa83ecaf434e8029cf": {
          "model_module": "@jupyter-widgets/controls",
          "model_module_version": "1.5.0",
          "model_name": "DescriptionStyleModel",
          "state": {
            "_model_module": "@jupyter-widgets/controls",
            "_model_module_version": "1.5.0",
            "_model_name": "DescriptionStyleModel",
            "_view_count": null,
            "_view_module": "@jupyter-widgets/base",
            "_view_module_version": "1.2.0",
            "_view_name": "StyleView",
            "description_width": ""
          }
        },
        "46376a10e122438bb4f946940fd72823": {
          "model_module": "@jupyter-widgets/controls",
          "model_module_version": "1.5.0",
          "model_name": "DescriptionStyleModel",
          "state": {
            "_model_module": "@jupyter-widgets/controls",
            "_model_module_version": "1.5.0",
            "_model_name": "DescriptionStyleModel",
            "_view_count": null,
            "_view_module": "@jupyter-widgets/base",
            "_view_module_version": "1.2.0",
            "_view_name": "StyleView",
            "description_width": ""
          }
        },
        "46fa4fcea5d74048842e7d1af2379b60": {
          "model_module": "@jupyter-widgets/base",
          "model_module_version": "1.2.0",
          "model_name": "LayoutModel",
          "state": {
            "_model_module": "@jupyter-widgets/base",
            "_model_module_version": "1.2.0",
            "_model_name": "LayoutModel",
            "_view_count": null,
            "_view_module": "@jupyter-widgets/base",
            "_view_module_version": "1.2.0",
            "_view_name": "LayoutView",
            "align_content": null,
            "align_items": null,
            "align_self": null,
            "border": null,
            "bottom": null,
            "display": null,
            "flex": null,
            "flex_flow": null,
            "grid_area": null,
            "grid_auto_columns": null,
            "grid_auto_flow": null,
            "grid_auto_rows": null,
            "grid_column": null,
            "grid_gap": null,
            "grid_row": null,
            "grid_template_areas": null,
            "grid_template_columns": null,
            "grid_template_rows": null,
            "height": null,
            "justify_content": null,
            "justify_items": null,
            "left": null,
            "margin": null,
            "max_height": null,
            "max_width": null,
            "min_height": null,
            "min_width": null,
            "object_fit": null,
            "object_position": null,
            "order": null,
            "overflow": null,
            "overflow_x": null,
            "overflow_y": null,
            "padding": null,
            "right": null,
            "top": null,
            "visibility": null,
            "width": null
          }
        },
        "47cead6ce0ea4f2e88fac15e37432463": {
          "model_module": "@jupyter-widgets/controls",
          "model_module_version": "1.5.0",
          "model_name": "ProgressStyleModel",
          "state": {
            "_model_module": "@jupyter-widgets/controls",
            "_model_module_version": "1.5.0",
            "_model_name": "ProgressStyleModel",
            "_view_count": null,
            "_view_module": "@jupyter-widgets/base",
            "_view_module_version": "1.2.0",
            "_view_name": "StyleView",
            "bar_color": null,
            "description_width": ""
          }
        },
        "50a8dd40518f42ecb01feaddc3e8451e": {
          "model_module": "@jupyter-widgets/controls",
          "model_module_version": "1.5.0",
          "model_name": "DescriptionStyleModel",
          "state": {
            "_model_module": "@jupyter-widgets/controls",
            "_model_module_version": "1.5.0",
            "_model_name": "DescriptionStyleModel",
            "_view_count": null,
            "_view_module": "@jupyter-widgets/base",
            "_view_module_version": "1.2.0",
            "_view_name": "StyleView",
            "description_width": ""
          }
        },
        "5989b5eb568149be9ff088ba317edf07": {
          "model_module": "@jupyter-widgets/controls",
          "model_module_version": "1.5.0",
          "model_name": "DescriptionStyleModel",
          "state": {
            "_model_module": "@jupyter-widgets/controls",
            "_model_module_version": "1.5.0",
            "_model_name": "DescriptionStyleModel",
            "_view_count": null,
            "_view_module": "@jupyter-widgets/base",
            "_view_module_version": "1.2.0",
            "_view_name": "StyleView",
            "description_width": ""
          }
        },
        "59de49389818479a971beb24b48e98be": {
          "model_module": "@jupyter-widgets/base",
          "model_module_version": "1.2.0",
          "model_name": "LayoutModel",
          "state": {
            "_model_module": "@jupyter-widgets/base",
            "_model_module_version": "1.2.0",
            "_model_name": "LayoutModel",
            "_view_count": null,
            "_view_module": "@jupyter-widgets/base",
            "_view_module_version": "1.2.0",
            "_view_name": "LayoutView",
            "align_content": null,
            "align_items": null,
            "align_self": null,
            "border": null,
            "bottom": null,
            "display": null,
            "flex": null,
            "flex_flow": null,
            "grid_area": null,
            "grid_auto_columns": null,
            "grid_auto_flow": null,
            "grid_auto_rows": null,
            "grid_column": null,
            "grid_gap": null,
            "grid_row": null,
            "grid_template_areas": null,
            "grid_template_columns": null,
            "grid_template_rows": null,
            "height": null,
            "justify_content": null,
            "justify_items": null,
            "left": null,
            "margin": null,
            "max_height": null,
            "max_width": null,
            "min_height": null,
            "min_width": null,
            "object_fit": null,
            "object_position": null,
            "order": null,
            "overflow": null,
            "overflow_x": null,
            "overflow_y": null,
            "padding": null,
            "right": null,
            "top": null,
            "visibility": null,
            "width": null
          }
        },
        "5a447c209244447ca2b5232f132ce1db": {
          "model_module": "@jupyter-widgets/controls",
          "model_module_version": "1.5.0",
          "model_name": "HTMLModel",
          "state": {
            "_dom_classes": [],
            "_model_module": "@jupyter-widgets/controls",
            "_model_module_version": "1.5.0",
            "_model_name": "HTMLModel",
            "_view_count": null,
            "_view_module": "@jupyter-widgets/controls",
            "_view_module_version": "1.5.0",
            "_view_name": "HTMLView",
            "description": "",
            "description_tooltip": null,
            "layout": "IPY_MODEL_a488402728dd4ae1a2a1610aa16f2858",
            "placeholder": "​",
            "style": "IPY_MODEL_ff16d0a93e4145f08fcffcb85f33bbfe",
            "value": " 24733/25000 [00:09&lt;00:00, 5050.07 examples/s]"
          }
        },
        "5a5c1c7ed2a3412d9339b69d9edae288": {
          "model_module": "@jupyter-widgets/controls",
          "model_module_version": "1.5.0",
          "model_name": "DescriptionStyleModel",
          "state": {
            "_model_module": "@jupyter-widgets/controls",
            "_model_module_version": "1.5.0",
            "_model_name": "DescriptionStyleModel",
            "_view_count": null,
            "_view_module": "@jupyter-widgets/base",
            "_view_module_version": "1.2.0",
            "_view_name": "StyleView",
            "description_width": ""
          }
        },
        "5aebf9b2f91c499786d0c0f96cc69cee": {
          "model_module": "@jupyter-widgets/controls",
          "model_module_version": "1.5.0",
          "model_name": "HBoxModel",
          "state": {
            "_dom_classes": [],
            "_model_module": "@jupyter-widgets/controls",
            "_model_module_version": "1.5.0",
            "_model_name": "HBoxModel",
            "_view_count": null,
            "_view_module": "@jupyter-widgets/controls",
            "_view_module_version": "1.5.0",
            "_view_name": "HBoxView",
            "box_style": "",
            "children": [
              "IPY_MODEL_08162a54c97d4676a8b4b1d29ff55969",
              "IPY_MODEL_8291b2e8be9d4edab99e349862110f15",
              "IPY_MODEL_5a447c209244447ca2b5232f132ce1db"
            ],
            "layout": "IPY_MODEL_0d85e272bb4c4e09b44285558ee4eb7f"
          }
        },
        "5cbcd2a6aa7b47afbff876dd63353b00": {
          "model_module": "@jupyter-widgets/controls",
          "model_module_version": "1.5.0",
          "model_name": "FloatProgressModel",
          "state": {
            "_dom_classes": [],
            "_model_module": "@jupyter-widgets/controls",
            "_model_module_version": "1.5.0",
            "_model_name": "FloatProgressModel",
            "_view_count": null,
            "_view_module": "@jupyter-widgets/controls",
            "_view_module_version": "1.5.0",
            "_view_name": "ProgressView",
            "bar_style": "",
            "description": "",
            "description_tooltip": null,
            "layout": "IPY_MODEL_46fa4fcea5d74048842e7d1af2379b60",
            "max": 25000,
            "min": 0,
            "orientation": "horizontal",
            "style": "IPY_MODEL_5f4af097ef024608a86818e49bde3461",
            "value": 25000
          }
        },
        "5de2c203a4f4461e98a3fb62808886c7": {
          "model_module": "@jupyter-widgets/controls",
          "model_module_version": "1.5.0",
          "model_name": "DescriptionStyleModel",
          "state": {
            "_model_module": "@jupyter-widgets/controls",
            "_model_module_version": "1.5.0",
            "_model_name": "DescriptionStyleModel",
            "_view_count": null,
            "_view_module": "@jupyter-widgets/base",
            "_view_module_version": "1.2.0",
            "_view_name": "StyleView",
            "description_width": ""
          }
        },
        "5f4af097ef024608a86818e49bde3461": {
          "model_module": "@jupyter-widgets/controls",
          "model_module_version": "1.5.0",
          "model_name": "ProgressStyleModel",
          "state": {
            "_model_module": "@jupyter-widgets/controls",
            "_model_module_version": "1.5.0",
            "_model_name": "ProgressStyleModel",
            "_view_count": null,
            "_view_module": "@jupyter-widgets/base",
            "_view_module_version": "1.2.0",
            "_view_name": "StyleView",
            "bar_color": null,
            "description_width": ""
          }
        },
        "609e17cc76c142d3bdc453442b6c7e6c": {
          "model_module": "@jupyter-widgets/controls",
          "model_module_version": "1.5.0",
          "model_name": "ProgressStyleModel",
          "state": {
            "_model_module": "@jupyter-widgets/controls",
            "_model_module_version": "1.5.0",
            "_model_name": "ProgressStyleModel",
            "_view_count": null,
            "_view_module": "@jupyter-widgets/base",
            "_view_module_version": "1.2.0",
            "_view_name": "StyleView",
            "bar_color": null,
            "description_width": ""
          }
        },
        "61eb37ef24ff4c60b0959778f0e9cfcc": {
          "model_module": "@jupyter-widgets/controls",
          "model_module_version": "1.5.0",
          "model_name": "FloatProgressModel",
          "state": {
            "_dom_classes": [],
            "_model_module": "@jupyter-widgets/controls",
            "_model_module_version": "1.5.0",
            "_model_name": "FloatProgressModel",
            "_view_count": null,
            "_view_module": "@jupyter-widgets/controls",
            "_view_module_version": "1.5.0",
            "_view_name": "ProgressView",
            "bar_style": "success",
            "description": "",
            "description_tooltip": null,
            "layout": "IPY_MODEL_8cf62c129edf4b21a07295838d23ddc7",
            "max": 1,
            "min": 0,
            "orientation": "horizontal",
            "style": "IPY_MODEL_90e6558acbef4a2aa2a74bf19d10ca4c",
            "value": 1
          }
        },
        "653f55363916425f96b8a3d4d273fa1b": {
          "model_module": "@jupyter-widgets/controls",
          "model_module_version": "1.5.0",
          "model_name": "FloatProgressModel",
          "state": {
            "_dom_classes": [],
            "_model_module": "@jupyter-widgets/controls",
            "_model_module_version": "1.5.0",
            "_model_name": "FloatProgressModel",
            "_view_count": null,
            "_view_module": "@jupyter-widgets/controls",
            "_view_module_version": "1.5.0",
            "_view_name": "ProgressView",
            "bar_style": "",
            "description": "",
            "description_tooltip": null,
            "layout": "IPY_MODEL_7e719337a1dd4dd1b1299e09b0a1a453",
            "max": 25000,
            "min": 0,
            "orientation": "horizontal",
            "style": "IPY_MODEL_6f0d9b7610a647aa9c5b6a96302b405a",
            "value": 25000
          }
        },
        "6a0f0a8cf2424449b1ed6b4bf6b92a04": {
          "model_module": "@jupyter-widgets/base",
          "model_module_version": "1.2.0",
          "model_name": "LayoutModel",
          "state": {
            "_model_module": "@jupyter-widgets/base",
            "_model_module_version": "1.2.0",
            "_model_name": "LayoutModel",
            "_view_count": null,
            "_view_module": "@jupyter-widgets/base",
            "_view_module_version": "1.2.0",
            "_view_name": "LayoutView",
            "align_content": null,
            "align_items": null,
            "align_self": null,
            "border": null,
            "bottom": null,
            "display": null,
            "flex": null,
            "flex_flow": null,
            "grid_area": null,
            "grid_auto_columns": null,
            "grid_auto_flow": null,
            "grid_auto_rows": null,
            "grid_column": null,
            "grid_gap": null,
            "grid_row": null,
            "grid_template_areas": null,
            "grid_template_columns": null,
            "grid_template_rows": null,
            "height": null,
            "justify_content": null,
            "justify_items": null,
            "left": null,
            "margin": null,
            "max_height": null,
            "max_width": null,
            "min_height": null,
            "min_width": null,
            "object_fit": null,
            "object_position": null,
            "order": null,
            "overflow": null,
            "overflow_x": null,
            "overflow_y": null,
            "padding": null,
            "right": null,
            "top": null,
            "visibility": null,
            "width": null
          }
        },
        "6f0d9b7610a647aa9c5b6a96302b405a": {
          "model_module": "@jupyter-widgets/controls",
          "model_module_version": "1.5.0",
          "model_name": "ProgressStyleModel",
          "state": {
            "_model_module": "@jupyter-widgets/controls",
            "_model_module_version": "1.5.0",
            "_model_name": "ProgressStyleModel",
            "_view_count": null,
            "_view_module": "@jupyter-widgets/base",
            "_view_module_version": "1.2.0",
            "_view_name": "StyleView",
            "bar_color": null,
            "description_width": ""
          }
        },
        "710bec485d6f4f11865ddda29c11636a": {
          "model_module": "@jupyter-widgets/base",
          "model_module_version": "1.2.0",
          "model_name": "LayoutModel",
          "state": {
            "_model_module": "@jupyter-widgets/base",
            "_model_module_version": "1.2.0",
            "_model_name": "LayoutModel",
            "_view_count": null,
            "_view_module": "@jupyter-widgets/base",
            "_view_module_version": "1.2.0",
            "_view_name": "LayoutView",
            "align_content": null,
            "align_items": null,
            "align_self": null,
            "border": null,
            "bottom": null,
            "display": null,
            "flex": null,
            "flex_flow": null,
            "grid_area": null,
            "grid_auto_columns": null,
            "grid_auto_flow": null,
            "grid_auto_rows": null,
            "grid_column": null,
            "grid_gap": null,
            "grid_row": null,
            "grid_template_areas": null,
            "grid_template_columns": null,
            "grid_template_rows": null,
            "height": null,
            "justify_content": null,
            "justify_items": null,
            "left": null,
            "margin": null,
            "max_height": null,
            "max_width": null,
            "min_height": null,
            "min_width": null,
            "object_fit": null,
            "object_position": null,
            "order": null,
            "overflow": null,
            "overflow_x": null,
            "overflow_y": null,
            "padding": null,
            "right": null,
            "top": null,
            "visibility": null,
            "width": null
          }
        },
        "727eae2c76084295bb309fc8968401ab": {
          "model_module": "@jupyter-widgets/base",
          "model_module_version": "1.2.0",
          "model_name": "LayoutModel",
          "state": {
            "_model_module": "@jupyter-widgets/base",
            "_model_module_version": "1.2.0",
            "_model_name": "LayoutModel",
            "_view_count": null,
            "_view_module": "@jupyter-widgets/base",
            "_view_module_version": "1.2.0",
            "_view_name": "LayoutView",
            "align_content": null,
            "align_items": null,
            "align_self": null,
            "border": null,
            "bottom": null,
            "display": null,
            "flex": null,
            "flex_flow": null,
            "grid_area": null,
            "grid_auto_columns": null,
            "grid_auto_flow": null,
            "grid_auto_rows": null,
            "grid_column": null,
            "grid_gap": null,
            "grid_row": null,
            "grid_template_areas": null,
            "grid_template_columns": null,
            "grid_template_rows": null,
            "height": null,
            "justify_content": null,
            "justify_items": null,
            "left": null,
            "margin": null,
            "max_height": null,
            "max_width": null,
            "min_height": null,
            "min_width": null,
            "object_fit": null,
            "object_position": null,
            "order": null,
            "overflow": null,
            "overflow_x": null,
            "overflow_y": null,
            "padding": null,
            "right": null,
            "top": null,
            "visibility": null,
            "width": null
          }
        },
        "76311a07629a40718b11926897801f37": {
          "model_module": "@jupyter-widgets/controls",
          "model_module_version": "1.5.0",
          "model_name": "HTMLModel",
          "state": {
            "_dom_classes": [],
            "_model_module": "@jupyter-widgets/controls",
            "_model_module_version": "1.5.0",
            "_model_name": "HTMLModel",
            "_view_count": null,
            "_view_module": "@jupyter-widgets/controls",
            "_view_module_version": "1.5.0",
            "_view_name": "HTMLView",
            "description": "",
            "description_tooltip": null,
            "layout": "IPY_MODEL_e93fbec2f7e04843981b88c63f6a7e5e",
            "placeholder": "​",
            "style": "IPY_MODEL_1b0b909223514547a3a4b535bace0373",
            "value": " 80/80 [00:09&lt;00:00, 15.88 MiB/s]"
          }
        },
        "7c228055b06c445d8f35b1d1bbafaf3b": {
          "model_module": "@jupyter-widgets/base",
          "model_module_version": "1.2.0",
          "model_name": "LayoutModel",
          "state": {
            "_model_module": "@jupyter-widgets/base",
            "_model_module_version": "1.2.0",
            "_model_name": "LayoutModel",
            "_view_count": null,
            "_view_module": "@jupyter-widgets/base",
            "_view_module_version": "1.2.0",
            "_view_name": "LayoutView",
            "align_content": null,
            "align_items": null,
            "align_self": null,
            "border": null,
            "bottom": null,
            "display": null,
            "flex": null,
            "flex_flow": null,
            "grid_area": null,
            "grid_auto_columns": null,
            "grid_auto_flow": null,
            "grid_auto_rows": null,
            "grid_column": null,
            "grid_gap": null,
            "grid_row": null,
            "grid_template_areas": null,
            "grid_template_columns": null,
            "grid_template_rows": null,
            "height": null,
            "justify_content": null,
            "justify_items": null,
            "left": null,
            "margin": null,
            "max_height": null,
            "max_width": null,
            "min_height": null,
            "min_width": null,
            "object_fit": null,
            "object_position": null,
            "order": null,
            "overflow": null,
            "overflow_x": null,
            "overflow_y": null,
            "padding": null,
            "right": null,
            "top": null,
            "visibility": null,
            "width": null
          }
        },
        "7cbd3fe57ae04de7ae63027bc425f7e4": {
          "model_module": "@jupyter-widgets/controls",
          "model_module_version": "1.5.0",
          "model_name": "HTMLModel",
          "state": {
            "_dom_classes": [],
            "_model_module": "@jupyter-widgets/controls",
            "_model_module_version": "1.5.0",
            "_model_name": "HTMLModel",
            "_view_count": null,
            "_view_module": "@jupyter-widgets/controls",
            "_view_module_version": "1.5.0",
            "_view_name": "HTMLView",
            "description": "",
            "description_tooltip": null,
            "layout": "IPY_MODEL_fc2916a258c741a3ad99c5bcc9569244",
            "placeholder": "​",
            "style": "IPY_MODEL_46376a10e122438bb4f946940fd72823",
            "value": "Shuffling /root/tensorflow_datasets/imdb_reviews/plain_text/1.0.0.incomplete61KYWS/imdb_reviews-unsupervised.tfrecord*...:  66%"
          }
        },
        "7e719337a1dd4dd1b1299e09b0a1a453": {
          "model_module": "@jupyter-widgets/base",
          "model_module_version": "1.2.0",
          "model_name": "LayoutModel",
          "state": {
            "_model_module": "@jupyter-widgets/base",
            "_model_module_version": "1.2.0",
            "_model_name": "LayoutModel",
            "_view_count": null,
            "_view_module": "@jupyter-widgets/base",
            "_view_module_version": "1.2.0",
            "_view_name": "LayoutView",
            "align_content": null,
            "align_items": null,
            "align_self": null,
            "border": null,
            "bottom": null,
            "display": null,
            "flex": null,
            "flex_flow": null,
            "grid_area": null,
            "grid_auto_columns": null,
            "grid_auto_flow": null,
            "grid_auto_rows": null,
            "grid_column": null,
            "grid_gap": null,
            "grid_row": null,
            "grid_template_areas": null,
            "grid_template_columns": null,
            "grid_template_rows": null,
            "height": null,
            "justify_content": null,
            "justify_items": null,
            "left": null,
            "margin": null,
            "max_height": null,
            "max_width": null,
            "min_height": null,
            "min_width": null,
            "object_fit": null,
            "object_position": null,
            "order": null,
            "overflow": null,
            "overflow_x": null,
            "overflow_y": null,
            "padding": null,
            "right": null,
            "top": null,
            "visibility": null,
            "width": null
          }
        },
        "7f37281b402c47b6b4f84842c19bd58d": {
          "model_module": "@jupyter-widgets/controls",
          "model_module_version": "1.5.0",
          "model_name": "DescriptionStyleModel",
          "state": {
            "_model_module": "@jupyter-widgets/controls",
            "_model_module_version": "1.5.0",
            "_model_name": "DescriptionStyleModel",
            "_view_count": null,
            "_view_module": "@jupyter-widgets/base",
            "_view_module_version": "1.2.0",
            "_view_name": "StyleView",
            "description_width": ""
          }
        },
        "8291b2e8be9d4edab99e349862110f15": {
          "model_module": "@jupyter-widgets/controls",
          "model_module_version": "1.5.0",
          "model_name": "FloatProgressModel",
          "state": {
            "_dom_classes": [],
            "_model_module": "@jupyter-widgets/controls",
            "_model_module_version": "1.5.0",
            "_model_name": "FloatProgressModel",
            "_view_count": null,
            "_view_module": "@jupyter-widgets/controls",
            "_view_module_version": "1.5.0",
            "_view_name": "ProgressView",
            "bar_style": "",
            "description": "",
            "description_tooltip": null,
            "layout": "IPY_MODEL_e94fe8e1f2a640ee93f05371a945e911",
            "max": 25000,
            "min": 0,
            "orientation": "horizontal",
            "style": "IPY_MODEL_9f95d8e081264306b0686f4cb9bee5d1",
            "value": 25000
          }
        },
        "8a9dd7c2880140a3a5c2dff9f46da3f7": {
          "model_module": "@jupyter-widgets/controls",
          "model_module_version": "1.5.0",
          "model_name": "HBoxModel",
          "state": {
            "_dom_classes": [],
            "_model_module": "@jupyter-widgets/controls",
            "_model_module_version": "1.5.0",
            "_model_name": "HBoxModel",
            "_view_count": null,
            "_view_module": "@jupyter-widgets/controls",
            "_view_module_version": "1.5.0",
            "_view_name": "HBoxView",
            "box_style": "",
            "children": [
              "IPY_MODEL_a7e35f9bb9ca4adcbff81504d1345a65",
              "IPY_MODEL_653f55363916425f96b8a3d4d273fa1b",
              "IPY_MODEL_c162d91722754dc690583b5efeef2617"
            ],
            "layout": "IPY_MODEL_358a5af8c6264a0ba68d8809aaa6b2a0"
          }
        },
        "8cf62c129edf4b21a07295838d23ddc7": {
          "model_module": "@jupyter-widgets/base",
          "model_module_version": "1.2.0",
          "model_name": "LayoutModel",
          "state": {
            "_model_module": "@jupyter-widgets/base",
            "_model_module_version": "1.2.0",
            "_model_name": "LayoutModel",
            "_view_count": null,
            "_view_module": "@jupyter-widgets/base",
            "_view_module_version": "1.2.0",
            "_view_name": "LayoutView",
            "align_content": null,
            "align_items": null,
            "align_self": null,
            "border": null,
            "bottom": null,
            "display": null,
            "flex": null,
            "flex_flow": null,
            "grid_area": null,
            "grid_auto_columns": null,
            "grid_auto_flow": null,
            "grid_auto_rows": null,
            "grid_column": null,
            "grid_gap": null,
            "grid_row": null,
            "grid_template_areas": null,
            "grid_template_columns": null,
            "grid_template_rows": null,
            "height": null,
            "justify_content": null,
            "justify_items": null,
            "left": null,
            "margin": null,
            "max_height": null,
            "max_width": null,
            "min_height": null,
            "min_width": null,
            "object_fit": null,
            "object_position": null,
            "order": null,
            "overflow": null,
            "overflow_x": null,
            "overflow_y": null,
            "padding": null,
            "right": null,
            "top": null,
            "visibility": null,
            "width": "20px"
          }
        },
        "90e6558acbef4a2aa2a74bf19d10ca4c": {
          "model_module": "@jupyter-widgets/controls",
          "model_module_version": "1.5.0",
          "model_name": "ProgressStyleModel",
          "state": {
            "_model_module": "@jupyter-widgets/controls",
            "_model_module_version": "1.5.0",
            "_model_name": "ProgressStyleModel",
            "_view_count": null,
            "_view_module": "@jupyter-widgets/base",
            "_view_module_version": "1.2.0",
            "_view_name": "StyleView",
            "bar_color": null,
            "description_width": ""
          }
        },
        "92f74bb63f5448fd8973296ccb52ea59": {
          "model_module": "@jupyter-widgets/controls",
          "model_module_version": "1.5.0",
          "model_name": "ProgressStyleModel",
          "state": {
            "_model_module": "@jupyter-widgets/controls",
            "_model_module_version": "1.5.0",
            "_model_name": "ProgressStyleModel",
            "_view_count": null,
            "_view_module": "@jupyter-widgets/base",
            "_view_module_version": "1.2.0",
            "_view_name": "StyleView",
            "bar_color": null,
            "description_width": ""
          }
        },
        "97e31f57ee094649ae09a0e448d01311": {
          "model_module": "@jupyter-widgets/base",
          "model_module_version": "1.2.0",
          "model_name": "LayoutModel",
          "state": {
            "_model_module": "@jupyter-widgets/base",
            "_model_module_version": "1.2.0",
            "_model_name": "LayoutModel",
            "_view_count": null,
            "_view_module": "@jupyter-widgets/base",
            "_view_module_version": "1.2.0",
            "_view_name": "LayoutView",
            "align_content": null,
            "align_items": null,
            "align_self": null,
            "border": null,
            "bottom": null,
            "display": null,
            "flex": null,
            "flex_flow": null,
            "grid_area": null,
            "grid_auto_columns": null,
            "grid_auto_flow": null,
            "grid_auto_rows": null,
            "grid_column": null,
            "grid_gap": null,
            "grid_row": null,
            "grid_template_areas": null,
            "grid_template_columns": null,
            "grid_template_rows": null,
            "height": null,
            "justify_content": null,
            "justify_items": null,
            "left": null,
            "margin": null,
            "max_height": null,
            "max_width": null,
            "min_height": null,
            "min_width": null,
            "object_fit": null,
            "object_position": null,
            "order": null,
            "overflow": null,
            "overflow_x": null,
            "overflow_y": null,
            "padding": null,
            "right": null,
            "top": null,
            "visibility": "hidden",
            "width": null
          }
        },
        "9d52c7251b674f4ab4210ec0aa73156f": {
          "model_module": "@jupyter-widgets/controls",
          "model_module_version": "1.5.0",
          "model_name": "FloatProgressModel",
          "state": {
            "_dom_classes": [],
            "_model_module": "@jupyter-widgets/controls",
            "_model_module_version": "1.5.0",
            "_model_name": "FloatProgressModel",
            "_view_count": null,
            "_view_module": "@jupyter-widgets/controls",
            "_view_module_version": "1.5.0",
            "_view_name": "ProgressView",
            "bar_style": "",
            "description": "",
            "description_tooltip": null,
            "layout": "IPY_MODEL_d580061e62a146ca859d406a1110d2d9",
            "max": 25000,
            "min": 0,
            "orientation": "horizontal",
            "style": "IPY_MODEL_d5e9dad27b2543d3a4fe72f268348a86",
            "value": 25000
          }
        },
        "9f95d8e081264306b0686f4cb9bee5d1": {
          "model_module": "@jupyter-widgets/controls",
          "model_module_version": "1.5.0",
          "model_name": "ProgressStyleModel",
          "state": {
            "_model_module": "@jupyter-widgets/controls",
            "_model_module_version": "1.5.0",
            "_model_name": "ProgressStyleModel",
            "_view_count": null,
            "_view_module": "@jupyter-widgets/base",
            "_view_module_version": "1.2.0",
            "_view_name": "StyleView",
            "bar_color": null,
            "description_width": ""
          }
        },
        "a488402728dd4ae1a2a1610aa16f2858": {
          "model_module": "@jupyter-widgets/base",
          "model_module_version": "1.2.0",
          "model_name": "LayoutModel",
          "state": {
            "_model_module": "@jupyter-widgets/base",
            "_model_module_version": "1.2.0",
            "_model_name": "LayoutModel",
            "_view_count": null,
            "_view_module": "@jupyter-widgets/base",
            "_view_module_version": "1.2.0",
            "_view_name": "LayoutView",
            "align_content": null,
            "align_items": null,
            "align_self": null,
            "border": null,
            "bottom": null,
            "display": null,
            "flex": null,
            "flex_flow": null,
            "grid_area": null,
            "grid_auto_columns": null,
            "grid_auto_flow": null,
            "grid_auto_rows": null,
            "grid_column": null,
            "grid_gap": null,
            "grid_row": null,
            "grid_template_areas": null,
            "grid_template_columns": null,
            "grid_template_rows": null,
            "height": null,
            "justify_content": null,
            "justify_items": null,
            "left": null,
            "margin": null,
            "max_height": null,
            "max_width": null,
            "min_height": null,
            "min_width": null,
            "object_fit": null,
            "object_position": null,
            "order": null,
            "overflow": null,
            "overflow_x": null,
            "overflow_y": null,
            "padding": null,
            "right": null,
            "top": null,
            "visibility": null,
            "width": null
          }
        },
        "a6908fd677ab478d93e2cee7ee078f23": {
          "model_module": "@jupyter-widgets/controls",
          "model_module_version": "1.5.0",
          "model_name": "DescriptionStyleModel",
          "state": {
            "_model_module": "@jupyter-widgets/controls",
            "_model_module_version": "1.5.0",
            "_model_name": "DescriptionStyleModel",
            "_view_count": null,
            "_view_module": "@jupyter-widgets/base",
            "_view_module_version": "1.2.0",
            "_view_name": "StyleView",
            "description_width": ""
          }
        },
        "a7e35f9bb9ca4adcbff81504d1345a65": {
          "model_module": "@jupyter-widgets/controls",
          "model_module_version": "1.5.0",
          "model_name": "HTMLModel",
          "state": {
            "_dom_classes": [],
            "_model_module": "@jupyter-widgets/controls",
            "_model_module_version": "1.5.0",
            "_model_name": "HTMLModel",
            "_view_count": null,
            "_view_module": "@jupyter-widgets/controls",
            "_view_module_version": "1.5.0",
            "_view_name": "HTMLView",
            "description": "",
            "description_tooltip": null,
            "layout": "IPY_MODEL_59de49389818479a971beb24b48e98be",
            "placeholder": "​",
            "style": "IPY_MODEL_a6908fd677ab478d93e2cee7ee078f23",
            "value": "Generating test examples...:  98%"
          }
        },
        "b34760b6d0ea4d54954ab61d1a450e93": {
          "model_module": "@jupyter-widgets/base",
          "model_module_version": "1.2.0",
          "model_name": "LayoutModel",
          "state": {
            "_model_module": "@jupyter-widgets/base",
            "_model_module_version": "1.2.0",
            "_model_name": "LayoutModel",
            "_view_count": null,
            "_view_module": "@jupyter-widgets/base",
            "_view_module_version": "1.2.0",
            "_view_name": "LayoutView",
            "align_content": null,
            "align_items": null,
            "align_self": null,
            "border": null,
            "bottom": null,
            "display": null,
            "flex": null,
            "flex_flow": null,
            "grid_area": null,
            "grid_auto_columns": null,
            "grid_auto_flow": null,
            "grid_auto_rows": null,
            "grid_column": null,
            "grid_gap": null,
            "grid_row": null,
            "grid_template_areas": null,
            "grid_template_columns": null,
            "grid_template_rows": null,
            "height": null,
            "justify_content": null,
            "justify_items": null,
            "left": null,
            "margin": null,
            "max_height": null,
            "max_width": null,
            "min_height": null,
            "min_width": null,
            "object_fit": null,
            "object_position": null,
            "order": null,
            "overflow": null,
            "overflow_x": null,
            "overflow_y": null,
            "padding": null,
            "right": null,
            "top": null,
            "visibility": null,
            "width": null
          }
        },
        "b63211571a4941c8abcfc213d1580b73": {
          "model_module": "@jupyter-widgets/controls",
          "model_module_version": "1.5.0",
          "model_name": "HTMLModel",
          "state": {
            "_dom_classes": [],
            "_model_module": "@jupyter-widgets/controls",
            "_model_module_version": "1.5.0",
            "_model_name": "HTMLModel",
            "_view_count": null,
            "_view_module": "@jupyter-widgets/controls",
            "_view_module_version": "1.5.0",
            "_view_name": "HTMLView",
            "description": "",
            "description_tooltip": null,
            "layout": "IPY_MODEL_0ef8a5fe6dc342ab8487f7c3c79af463",
            "placeholder": "​",
            "style": "IPY_MODEL_282c14900f9d419c8b8448543ff82400",
            "value": "Shuffling /root/tensorflow_datasets/imdb_reviews/plain_text/1.0.0.incomplete61KYWS/imdb_reviews-test.tfrecord*...:  57%"
          }
        },
        "b9da1c8982334aa6bfceaba73c4d3d7b": {
          "model_module": "@jupyter-widgets/controls",
          "model_module_version": "1.5.0",
          "model_name": "HBoxModel",
          "state": {
            "_dom_classes": [],
            "_model_module": "@jupyter-widgets/controls",
            "_model_module_version": "1.5.0",
            "_model_name": "HBoxModel",
            "_view_count": null,
            "_view_module": "@jupyter-widgets/controls",
            "_view_module_version": "1.5.0",
            "_view_name": "HBoxView",
            "box_style": "",
            "children": [
              "IPY_MODEL_411b46356fee4217b7423e3225f5243f",
              "IPY_MODEL_61eb37ef24ff4c60b0959778f0e9cfcc",
              "IPY_MODEL_76311a07629a40718b11926897801f37"
            ],
            "layout": "IPY_MODEL_7c228055b06c445d8f35b1d1bbafaf3b"
          }
        },
        "b9eb86a2283a4d72b6a4d9ea7cef98bc": {
          "model_module": "@jupyter-widgets/controls",
          "model_module_version": "1.5.0",
          "model_name": "HTMLModel",
          "state": {
            "_dom_classes": [],
            "_model_module": "@jupyter-widgets/controls",
            "_model_module_version": "1.5.0",
            "_model_name": "HTMLModel",
            "_view_count": null,
            "_view_module": "@jupyter-widgets/controls",
            "_view_module_version": "1.5.0",
            "_view_name": "HTMLView",
            "description": "",
            "description_tooltip": null,
            "layout": "IPY_MODEL_727eae2c76084295bb309fc8968401ab",
            "placeholder": "​",
            "style": "IPY_MODEL_1cd9f563aa7e47789853f4d91839be2e",
            "value": "Shuffling /root/tensorflow_datasets/imdb_reviews/plain_text/1.0.0.incomplete61KYWS/imdb_reviews-train.tfrecord*...:  66%"
          }
        },
        "ba9fd639de01462f8f89fe73ae5de90c": {
          "model_module": "@jupyter-widgets/controls",
          "model_module_version": "1.5.0",
          "model_name": "HBoxModel",
          "state": {
            "_dom_classes": [],
            "_model_module": "@jupyter-widgets/controls",
            "_model_module_version": "1.5.0",
            "_model_name": "HBoxModel",
            "_view_count": null,
            "_view_module": "@jupyter-widgets/controls",
            "_view_module_version": "1.5.0",
            "_view_name": "HBoxView",
            "box_style": "",
            "children": [
              "IPY_MODEL_06c74cf79abe4be6b6513b16789166be",
              "IPY_MODEL_bcf458347cb34a0f9a6a1b3297d78104",
              "IPY_MODEL_3ac1f0a33c6f4b8c823d992b4a10071d"
            ],
            "layout": "IPY_MODEL_1b5908d2ef70428bbb8bf6ad23e3f7b9"
          }
        },
        "bcf458347cb34a0f9a6a1b3297d78104": {
          "model_module": "@jupyter-widgets/controls",
          "model_module_version": "1.5.0",
          "model_name": "FloatProgressModel",
          "state": {
            "_dom_classes": [],
            "_model_module": "@jupyter-widgets/controls",
            "_model_module_version": "1.5.0",
            "_model_name": "FloatProgressModel",
            "_view_count": null,
            "_view_module": "@jupyter-widgets/controls",
            "_view_module_version": "1.5.0",
            "_view_name": "ProgressView",
            "bar_style": "success",
            "description": "",
            "description_tooltip": null,
            "layout": "IPY_MODEL_4009abdcc2e94b558b41195907366377",
            "max": 1,
            "min": 0,
            "orientation": "horizontal",
            "style": "IPY_MODEL_29122f62dd0244ee9a9380f4ae78e068",
            "value": 1
          }
        },
        "be8c2048e94445e69e9104de51640b51": {
          "model_module": "@jupyter-widgets/base",
          "model_module_version": "1.2.0",
          "model_name": "LayoutModel",
          "state": {
            "_model_module": "@jupyter-widgets/base",
            "_model_module_version": "1.2.0",
            "_model_name": "LayoutModel",
            "_view_count": null,
            "_view_module": "@jupyter-widgets/base",
            "_view_module_version": "1.2.0",
            "_view_name": "LayoutView",
            "align_content": null,
            "align_items": null,
            "align_self": null,
            "border": null,
            "bottom": null,
            "display": null,
            "flex": null,
            "flex_flow": null,
            "grid_area": null,
            "grid_auto_columns": null,
            "grid_auto_flow": null,
            "grid_auto_rows": null,
            "grid_column": null,
            "grid_gap": null,
            "grid_row": null,
            "grid_template_areas": null,
            "grid_template_columns": null,
            "grid_template_rows": null,
            "height": null,
            "justify_content": null,
            "justify_items": null,
            "left": null,
            "margin": null,
            "max_height": null,
            "max_width": null,
            "min_height": null,
            "min_width": null,
            "object_fit": null,
            "object_position": null,
            "order": null,
            "overflow": null,
            "overflow_x": null,
            "overflow_y": null,
            "padding": null,
            "right": null,
            "top": null,
            "visibility": null,
            "width": null
          }
        },
        "bf044cf71150456f995f4bb5312823f8": {
          "model_module": "@jupyter-widgets/controls",
          "model_module_version": "1.5.0",
          "model_name": "HTMLModel",
          "state": {
            "_dom_classes": [],
            "_model_module": "@jupyter-widgets/controls",
            "_model_module_version": "1.5.0",
            "_model_name": "HTMLModel",
            "_view_count": null,
            "_view_module": "@jupyter-widgets/controls",
            "_view_module_version": "1.5.0",
            "_view_name": "HTMLView",
            "description": "",
            "description_tooltip": null,
            "layout": "IPY_MODEL_2c9aed1a19544b80b7b5dc98388b4b17",
            "placeholder": "​",
            "style": "IPY_MODEL_ee6ed7a297e04488a61c1a2985f2368e",
            "value": " 32917/50000 [00:00&lt;00:00, 172827.97 examples/s]"
          }
        },
        "c162d91722754dc690583b5efeef2617": {
          "model_module": "@jupyter-widgets/controls",
          "model_module_version": "1.5.0",
          "model_name": "HTMLModel",
          "state": {
            "_dom_classes": [],
            "_model_module": "@jupyter-widgets/controls",
            "_model_module_version": "1.5.0",
            "_model_name": "HTMLModel",
            "_view_count": null,
            "_view_module": "@jupyter-widgets/controls",
            "_view_module_version": "1.5.0",
            "_view_name": "HTMLView",
            "description": "",
            "description_tooltip": null,
            "layout": "IPY_MODEL_2a99233487cb49279003df655edce115",
            "placeholder": "​",
            "style": "IPY_MODEL_50a8dd40518f42ecb01feaddc3e8451e",
            "value": " 24541/25000 [00:05&lt;00:00, 5323.35 examples/s]"
          }
        },
        "c8a69b5b71b1439a868eddf518cd117c": {
          "model_module": "@jupyter-widgets/controls",
          "model_module_version": "1.5.0",
          "model_name": "FloatProgressModel",
          "state": {
            "_dom_classes": [],
            "_model_module": "@jupyter-widgets/controls",
            "_model_module_version": "1.5.0",
            "_model_name": "FloatProgressModel",
            "_view_count": null,
            "_view_module": "@jupyter-widgets/controls",
            "_view_module_version": "1.5.0",
            "_view_name": "ProgressView",
            "bar_style": "",
            "description": "",
            "description_tooltip": null,
            "layout": "IPY_MODEL_e18b0699fe2f4454b4d1d3abe41a2fbc",
            "max": 50000,
            "min": 0,
            "orientation": "horizontal",
            "style": "IPY_MODEL_92f74bb63f5448fd8973296ccb52ea59",
            "value": 50000
          }
        },
        "cb07b9b097d94535b5446be701539e49": {
          "model_module": "@jupyter-widgets/base",
          "model_module_version": "1.2.0",
          "model_name": "LayoutModel",
          "state": {
            "_model_module": "@jupyter-widgets/base",
            "_model_module_version": "1.2.0",
            "_model_name": "LayoutModel",
            "_view_count": null,
            "_view_module": "@jupyter-widgets/base",
            "_view_module_version": "1.2.0",
            "_view_name": "LayoutView",
            "align_content": null,
            "align_items": null,
            "align_self": null,
            "border": null,
            "bottom": null,
            "display": null,
            "flex": null,
            "flex_flow": null,
            "grid_area": null,
            "grid_auto_columns": null,
            "grid_auto_flow": null,
            "grid_auto_rows": null,
            "grid_column": null,
            "grid_gap": null,
            "grid_row": null,
            "grid_template_areas": null,
            "grid_template_columns": null,
            "grid_template_rows": null,
            "height": null,
            "justify_content": null,
            "justify_items": null,
            "left": null,
            "margin": null,
            "max_height": null,
            "max_width": null,
            "min_height": null,
            "min_width": null,
            "object_fit": null,
            "object_position": null,
            "order": null,
            "overflow": null,
            "overflow_x": null,
            "overflow_y": null,
            "padding": null,
            "right": null,
            "top": null,
            "visibility": null,
            "width": null
          }
        },
        "cc110ded899140558260e057bf47f42f": {
          "model_module": "@jupyter-widgets/controls",
          "model_module_version": "1.5.0",
          "model_name": "FloatProgressModel",
          "state": {
            "_dom_classes": [],
            "_model_module": "@jupyter-widgets/controls",
            "_model_module_version": "1.5.0",
            "_model_name": "FloatProgressModel",
            "_view_count": null,
            "_view_module": "@jupyter-widgets/controls",
            "_view_module_version": "1.5.0",
            "_view_name": "ProgressView",
            "bar_style": "",
            "description": "",
            "description_tooltip": null,
            "layout": "IPY_MODEL_ffaf5a594f484802995ca1d66b3a5268",
            "max": 3,
            "min": 0,
            "orientation": "horizontal",
            "style": "IPY_MODEL_47cead6ce0ea4f2e88fac15e37432463",
            "value": 3
          }
        },
        "d580061e62a146ca859d406a1110d2d9": {
          "model_module": "@jupyter-widgets/base",
          "model_module_version": "1.2.0",
          "model_name": "LayoutModel",
          "state": {
            "_model_module": "@jupyter-widgets/base",
            "_model_module_version": "1.2.0",
            "_model_name": "LayoutModel",
            "_view_count": null,
            "_view_module": "@jupyter-widgets/base",
            "_view_module_version": "1.2.0",
            "_view_name": "LayoutView",
            "align_content": null,
            "align_items": null,
            "align_self": null,
            "border": null,
            "bottom": null,
            "display": null,
            "flex": null,
            "flex_flow": null,
            "grid_area": null,
            "grid_auto_columns": null,
            "grid_auto_flow": null,
            "grid_auto_rows": null,
            "grid_column": null,
            "grid_gap": null,
            "grid_row": null,
            "grid_template_areas": null,
            "grid_template_columns": null,
            "grid_template_rows": null,
            "height": null,
            "justify_content": null,
            "justify_items": null,
            "left": null,
            "margin": null,
            "max_height": null,
            "max_width": null,
            "min_height": null,
            "min_width": null,
            "object_fit": null,
            "object_position": null,
            "order": null,
            "overflow": null,
            "overflow_x": null,
            "overflow_y": null,
            "padding": null,
            "right": null,
            "top": null,
            "visibility": null,
            "width": null
          }
        },
        "d5bf15b41ed04d24a766aea5adc3b3ed": {
          "model_module": "@jupyter-widgets/controls",
          "model_module_version": "1.5.0",
          "model_name": "HBoxModel",
          "state": {
            "_dom_classes": [],
            "_model_module": "@jupyter-widgets/controls",
            "_model_module_version": "1.5.0",
            "_model_name": "HBoxModel",
            "_view_count": null,
            "_view_module": "@jupyter-widgets/controls",
            "_view_module_version": "1.5.0",
            "_view_name": "HBoxView",
            "box_style": "",
            "children": [
              "IPY_MODEL_18dabf4352c8435c848417bfc88fdd96",
              "IPY_MODEL_cc110ded899140558260e057bf47f42f",
              "IPY_MODEL_f107b0837ef44ea6a4dddd8186db59a3"
            ],
            "layout": "IPY_MODEL_e378e53e8a08471ca956a28f4f62b390"
          }
        },
        "d5e9dad27b2543d3a4fe72f268348a86": {
          "model_module": "@jupyter-widgets/controls",
          "model_module_version": "1.5.0",
          "model_name": "ProgressStyleModel",
          "state": {
            "_model_module": "@jupyter-widgets/controls",
            "_model_module_version": "1.5.0",
            "_model_name": "ProgressStyleModel",
            "_view_count": null,
            "_view_module": "@jupyter-widgets/base",
            "_view_module_version": "1.2.0",
            "_view_name": "StyleView",
            "bar_color": null,
            "description_width": ""
          }
        },
        "da099995cd8f4246a2adbcdfd9b4f4a7": {
          "model_module": "@jupyter-widgets/controls",
          "model_module_version": "1.5.0",
          "model_name": "DescriptionStyleModel",
          "state": {
            "_model_module": "@jupyter-widgets/controls",
            "_model_module_version": "1.5.0",
            "_model_name": "DescriptionStyleModel",
            "_view_count": null,
            "_view_module": "@jupyter-widgets/base",
            "_view_module_version": "1.2.0",
            "_view_name": "StyleView",
            "description_width": ""
          }
        },
        "dc503b00f7814a0891d3229e7aab852c": {
          "model_module": "@jupyter-widgets/controls",
          "model_module_version": "1.5.0",
          "model_name": "DescriptionStyleModel",
          "state": {
            "_model_module": "@jupyter-widgets/controls",
            "_model_module_version": "1.5.0",
            "_model_name": "DescriptionStyleModel",
            "_view_count": null,
            "_view_module": "@jupyter-widgets/base",
            "_view_module_version": "1.2.0",
            "_view_name": "StyleView",
            "description_width": ""
          }
        },
        "dd2de252557d4c00b991b65fceb8dd89": {
          "model_module": "@jupyter-widgets/base",
          "model_module_version": "1.2.0",
          "model_name": "LayoutModel",
          "state": {
            "_model_module": "@jupyter-widgets/base",
            "_model_module_version": "1.2.0",
            "_model_name": "LayoutModel",
            "_view_count": null,
            "_view_module": "@jupyter-widgets/base",
            "_view_module_version": "1.2.0",
            "_view_name": "LayoutView",
            "align_content": null,
            "align_items": null,
            "align_self": null,
            "border": null,
            "bottom": null,
            "display": null,
            "flex": null,
            "flex_flow": null,
            "grid_area": null,
            "grid_auto_columns": null,
            "grid_auto_flow": null,
            "grid_auto_rows": null,
            "grid_column": null,
            "grid_gap": null,
            "grid_row": null,
            "grid_template_areas": null,
            "grid_template_columns": null,
            "grid_template_rows": null,
            "height": null,
            "justify_content": null,
            "justify_items": null,
            "left": null,
            "margin": null,
            "max_height": null,
            "max_width": null,
            "min_height": null,
            "min_width": null,
            "object_fit": null,
            "object_position": null,
            "order": null,
            "overflow": null,
            "overflow_x": null,
            "overflow_y": null,
            "padding": null,
            "right": null,
            "top": null,
            "visibility": null,
            "width": null
          }
        },
        "e18b0699fe2f4454b4d1d3abe41a2fbc": {
          "model_module": "@jupyter-widgets/base",
          "model_module_version": "1.2.0",
          "model_name": "LayoutModel",
          "state": {
            "_model_module": "@jupyter-widgets/base",
            "_model_module_version": "1.2.0",
            "_model_name": "LayoutModel",
            "_view_count": null,
            "_view_module": "@jupyter-widgets/base",
            "_view_module_version": "1.2.0",
            "_view_name": "LayoutView",
            "align_content": null,
            "align_items": null,
            "align_self": null,
            "border": null,
            "bottom": null,
            "display": null,
            "flex": null,
            "flex_flow": null,
            "grid_area": null,
            "grid_auto_columns": null,
            "grid_auto_flow": null,
            "grid_auto_rows": null,
            "grid_column": null,
            "grid_gap": null,
            "grid_row": null,
            "grid_template_areas": null,
            "grid_template_columns": null,
            "grid_template_rows": null,
            "height": null,
            "justify_content": null,
            "justify_items": null,
            "left": null,
            "margin": null,
            "max_height": null,
            "max_width": null,
            "min_height": null,
            "min_width": null,
            "object_fit": null,
            "object_position": null,
            "order": null,
            "overflow": null,
            "overflow_x": null,
            "overflow_y": null,
            "padding": null,
            "right": null,
            "top": null,
            "visibility": null,
            "width": null
          }
        },
        "e378e53e8a08471ca956a28f4f62b390": {
          "model_module": "@jupyter-widgets/base",
          "model_module_version": "1.2.0",
          "model_name": "LayoutModel",
          "state": {
            "_model_module": "@jupyter-widgets/base",
            "_model_module_version": "1.2.0",
            "_model_name": "LayoutModel",
            "_view_count": null,
            "_view_module": "@jupyter-widgets/base",
            "_view_module_version": "1.2.0",
            "_view_name": "LayoutView",
            "align_content": null,
            "align_items": null,
            "align_self": null,
            "border": null,
            "bottom": null,
            "display": null,
            "flex": null,
            "flex_flow": null,
            "grid_area": null,
            "grid_auto_columns": null,
            "grid_auto_flow": null,
            "grid_auto_rows": null,
            "grid_column": null,
            "grid_gap": null,
            "grid_row": null,
            "grid_template_areas": null,
            "grid_template_columns": null,
            "grid_template_rows": null,
            "height": null,
            "justify_content": null,
            "justify_items": null,
            "left": null,
            "margin": null,
            "max_height": null,
            "max_width": null,
            "min_height": null,
            "min_width": null,
            "object_fit": null,
            "object_position": null,
            "order": null,
            "overflow": null,
            "overflow_x": null,
            "overflow_y": null,
            "padding": null,
            "right": null,
            "top": null,
            "visibility": "hidden",
            "width": null
          }
        },
        "e3c28324dd224e529a504b741220be93": {
          "model_module": "@jupyter-widgets/controls",
          "model_module_version": "1.5.0",
          "model_name": "HBoxModel",
          "state": {
            "_dom_classes": [],
            "_model_module": "@jupyter-widgets/controls",
            "_model_module_version": "1.5.0",
            "_model_name": "HBoxModel",
            "_view_count": null,
            "_view_module": "@jupyter-widgets/controls",
            "_view_module_version": "1.5.0",
            "_view_name": "HBoxView",
            "box_style": "",
            "children": [
              "IPY_MODEL_b9eb86a2283a4d72b6a4d9ea7cef98bc",
              "IPY_MODEL_5cbcd2a6aa7b47afbff876dd63353b00",
              "IPY_MODEL_31b16b99dc054d73a660304eabb51894"
            ],
            "layout": "IPY_MODEL_1a3b5038212e406f8a57e9c9ed1503a5"
          }
        },
        "e5576e5144a748528cb3fdc0158609cf": {
          "model_module": "@jupyter-widgets/controls",
          "model_module_version": "1.5.0",
          "model_name": "DescriptionStyleModel",
          "state": {
            "_model_module": "@jupyter-widgets/controls",
            "_model_module_version": "1.5.0",
            "_model_name": "DescriptionStyleModel",
            "_view_count": null,
            "_view_module": "@jupyter-widgets/base",
            "_view_module_version": "1.2.0",
            "_view_name": "StyleView",
            "description_width": ""
          }
        },
        "e93fbec2f7e04843981b88c63f6a7e5e": {
          "model_module": "@jupyter-widgets/base",
          "model_module_version": "1.2.0",
          "model_name": "LayoutModel",
          "state": {
            "_model_module": "@jupyter-widgets/base",
            "_model_module_version": "1.2.0",
            "_model_name": "LayoutModel",
            "_view_count": null,
            "_view_module": "@jupyter-widgets/base",
            "_view_module_version": "1.2.0",
            "_view_name": "LayoutView",
            "align_content": null,
            "align_items": null,
            "align_self": null,
            "border": null,
            "bottom": null,
            "display": null,
            "flex": null,
            "flex_flow": null,
            "grid_area": null,
            "grid_auto_columns": null,
            "grid_auto_flow": null,
            "grid_auto_rows": null,
            "grid_column": null,
            "grid_gap": null,
            "grid_row": null,
            "grid_template_areas": null,
            "grid_template_columns": null,
            "grid_template_rows": null,
            "height": null,
            "justify_content": null,
            "justify_items": null,
            "left": null,
            "margin": null,
            "max_height": null,
            "max_width": null,
            "min_height": null,
            "min_width": null,
            "object_fit": null,
            "object_position": null,
            "order": null,
            "overflow": null,
            "overflow_x": null,
            "overflow_y": null,
            "padding": null,
            "right": null,
            "top": null,
            "visibility": null,
            "width": null
          }
        },
        "e94fe8e1f2a640ee93f05371a945e911": {
          "model_module": "@jupyter-widgets/base",
          "model_module_version": "1.2.0",
          "model_name": "LayoutModel",
          "state": {
            "_model_module": "@jupyter-widgets/base",
            "_model_module_version": "1.2.0",
            "_model_name": "LayoutModel",
            "_view_count": null,
            "_view_module": "@jupyter-widgets/base",
            "_view_module_version": "1.2.0",
            "_view_name": "LayoutView",
            "align_content": null,
            "align_items": null,
            "align_self": null,
            "border": null,
            "bottom": null,
            "display": null,
            "flex": null,
            "flex_flow": null,
            "grid_area": null,
            "grid_auto_columns": null,
            "grid_auto_flow": null,
            "grid_auto_rows": null,
            "grid_column": null,
            "grid_gap": null,
            "grid_row": null,
            "grid_template_areas": null,
            "grid_template_columns": null,
            "grid_template_rows": null,
            "height": null,
            "justify_content": null,
            "justify_items": null,
            "left": null,
            "margin": null,
            "max_height": null,
            "max_width": null,
            "min_height": null,
            "min_width": null,
            "object_fit": null,
            "object_position": null,
            "order": null,
            "overflow": null,
            "overflow_x": null,
            "overflow_y": null,
            "padding": null,
            "right": null,
            "top": null,
            "visibility": null,
            "width": null
          }
        },
        "ec265e153def413da476b294a83ccc3e": {
          "model_module": "@jupyter-widgets/base",
          "model_module_version": "1.2.0",
          "model_name": "LayoutModel",
          "state": {
            "_model_module": "@jupyter-widgets/base",
            "_model_module_version": "1.2.0",
            "_model_name": "LayoutModel",
            "_view_count": null,
            "_view_module": "@jupyter-widgets/base",
            "_view_module_version": "1.2.0",
            "_view_name": "LayoutView",
            "align_content": null,
            "align_items": null,
            "align_self": null,
            "border": null,
            "bottom": null,
            "display": null,
            "flex": null,
            "flex_flow": null,
            "grid_area": null,
            "grid_auto_columns": null,
            "grid_auto_flow": null,
            "grid_auto_rows": null,
            "grid_column": null,
            "grid_gap": null,
            "grid_row": null,
            "grid_template_areas": null,
            "grid_template_columns": null,
            "grid_template_rows": null,
            "height": null,
            "justify_content": null,
            "justify_items": null,
            "left": null,
            "margin": null,
            "max_height": null,
            "max_width": null,
            "min_height": null,
            "min_width": null,
            "object_fit": null,
            "object_position": null,
            "order": null,
            "overflow": null,
            "overflow_x": null,
            "overflow_y": null,
            "padding": null,
            "right": null,
            "top": null,
            "visibility": null,
            "width": null
          }
        },
        "ee6ed7a297e04488a61c1a2985f2368e": {
          "model_module": "@jupyter-widgets/controls",
          "model_module_version": "1.5.0",
          "model_name": "DescriptionStyleModel",
          "state": {
            "_model_module": "@jupyter-widgets/controls",
            "_model_module_version": "1.5.0",
            "_model_name": "DescriptionStyleModel",
            "_view_count": null,
            "_view_module": "@jupyter-widgets/base",
            "_view_module_version": "1.2.0",
            "_view_name": "StyleView",
            "description_width": ""
          }
        },
        "f107b0837ef44ea6a4dddd8186db59a3": {
          "model_module": "@jupyter-widgets/controls",
          "model_module_version": "1.5.0",
          "model_name": "HTMLModel",
          "state": {
            "_dom_classes": [],
            "_model_module": "@jupyter-widgets/controls",
            "_model_module_version": "1.5.0",
            "_model_name": "HTMLModel",
            "_view_count": null,
            "_view_module": "@jupyter-widgets/controls",
            "_view_module_version": "1.5.0",
            "_view_name": "HTMLView",
            "description": "",
            "description_tooltip": null,
            "layout": "IPY_MODEL_ec265e153def413da476b294a83ccc3e",
            "placeholder": "​",
            "style": "IPY_MODEL_5a5c1c7ed2a3412d9339b69d9edae288",
            "value": " 3/3 [00:39&lt;00:00, 13.33s/ splits]"
          }
        },
        "f15fce99774b4e16992b28a678b37301": {
          "model_module": "@jupyter-widgets/base",
          "model_module_version": "1.2.0",
          "model_name": "LayoutModel",
          "state": {
            "_model_module": "@jupyter-widgets/base",
            "_model_module_version": "1.2.0",
            "_model_name": "LayoutModel",
            "_view_count": null,
            "_view_module": "@jupyter-widgets/base",
            "_view_module_version": "1.2.0",
            "_view_name": "LayoutView",
            "align_content": null,
            "align_items": null,
            "align_self": null,
            "border": null,
            "bottom": null,
            "display": null,
            "flex": null,
            "flex_flow": null,
            "grid_area": null,
            "grid_auto_columns": null,
            "grid_auto_flow": null,
            "grid_auto_rows": null,
            "grid_column": null,
            "grid_gap": null,
            "grid_row": null,
            "grid_template_areas": null,
            "grid_template_columns": null,
            "grid_template_rows": null,
            "height": null,
            "justify_content": null,
            "justify_items": null,
            "left": null,
            "margin": null,
            "max_height": null,
            "max_width": null,
            "min_height": null,
            "min_width": null,
            "object_fit": null,
            "object_position": null,
            "order": null,
            "overflow": null,
            "overflow_x": null,
            "overflow_y": null,
            "padding": null,
            "right": null,
            "top": null,
            "visibility": null,
            "width": null
          }
        },
        "f1f5923222774713a133e289baadfae4": {
          "model_module": "@jupyter-widgets/base",
          "model_module_version": "1.2.0",
          "model_name": "LayoutModel",
          "state": {
            "_model_module": "@jupyter-widgets/base",
            "_model_module_version": "1.2.0",
            "_model_name": "LayoutModel",
            "_view_count": null,
            "_view_module": "@jupyter-widgets/base",
            "_view_module_version": "1.2.0",
            "_view_name": "LayoutView",
            "align_content": null,
            "align_items": null,
            "align_self": null,
            "border": null,
            "bottom": null,
            "display": null,
            "flex": null,
            "flex_flow": null,
            "grid_area": null,
            "grid_auto_columns": null,
            "grid_auto_flow": null,
            "grid_auto_rows": null,
            "grid_column": null,
            "grid_gap": null,
            "grid_row": null,
            "grid_template_areas": null,
            "grid_template_columns": null,
            "grid_template_rows": null,
            "height": null,
            "justify_content": null,
            "justify_items": null,
            "left": null,
            "margin": null,
            "max_height": null,
            "max_width": null,
            "min_height": null,
            "min_width": null,
            "object_fit": null,
            "object_position": null,
            "order": null,
            "overflow": null,
            "overflow_x": null,
            "overflow_y": null,
            "padding": null,
            "right": null,
            "top": null,
            "visibility": "hidden",
            "width": null
          }
        },
        "fc2916a258c741a3ad99c5bcc9569244": {
          "model_module": "@jupyter-widgets/base",
          "model_module_version": "1.2.0",
          "model_name": "LayoutModel",
          "state": {
            "_model_module": "@jupyter-widgets/base",
            "_model_module_version": "1.2.0",
            "_model_name": "LayoutModel",
            "_view_count": null,
            "_view_module": "@jupyter-widgets/base",
            "_view_module_version": "1.2.0",
            "_view_name": "LayoutView",
            "align_content": null,
            "align_items": null,
            "align_self": null,
            "border": null,
            "bottom": null,
            "display": null,
            "flex": null,
            "flex_flow": null,
            "grid_area": null,
            "grid_auto_columns": null,
            "grid_auto_flow": null,
            "grid_auto_rows": null,
            "grid_column": null,
            "grid_gap": null,
            "grid_row": null,
            "grid_template_areas": null,
            "grid_template_columns": null,
            "grid_template_rows": null,
            "height": null,
            "justify_content": null,
            "justify_items": null,
            "left": null,
            "margin": null,
            "max_height": null,
            "max_width": null,
            "min_height": null,
            "min_width": null,
            "object_fit": null,
            "object_position": null,
            "order": null,
            "overflow": null,
            "overflow_x": null,
            "overflow_y": null,
            "padding": null,
            "right": null,
            "top": null,
            "visibility": null,
            "width": null
          }
        },
        "fe6683c456b7421a99ec01cbb5f73f39": {
          "model_module": "@jupyter-widgets/controls",
          "model_module_version": "1.5.0",
          "model_name": "HTMLModel",
          "state": {
            "_dom_classes": [],
            "_model_module": "@jupyter-widgets/controls",
            "_model_module_version": "1.5.0",
            "_model_name": "HTMLModel",
            "_view_count": null,
            "_view_module": "@jupyter-widgets/controls",
            "_view_module_version": "1.5.0",
            "_view_name": "HTMLView",
            "description": "",
            "description_tooltip": null,
            "layout": "IPY_MODEL_fea0d6c3a06e45b9b1040363b9dfc316",
            "placeholder": "​",
            "style": "IPY_MODEL_5de2c203a4f4461e98a3fb62808886c7",
            "value": " 14209/25000 [00:00&lt;00:00, 142072.86 examples/s]"
          }
        },
        "fea0d6c3a06e45b9b1040363b9dfc316": {
          "model_module": "@jupyter-widgets/base",
          "model_module_version": "1.2.0",
          "model_name": "LayoutModel",
          "state": {
            "_model_module": "@jupyter-widgets/base",
            "_model_module_version": "1.2.0",
            "_model_name": "LayoutModel",
            "_view_count": null,
            "_view_module": "@jupyter-widgets/base",
            "_view_module_version": "1.2.0",
            "_view_name": "LayoutView",
            "align_content": null,
            "align_items": null,
            "align_self": null,
            "border": null,
            "bottom": null,
            "display": null,
            "flex": null,
            "flex_flow": null,
            "grid_area": null,
            "grid_auto_columns": null,
            "grid_auto_flow": null,
            "grid_auto_rows": null,
            "grid_column": null,
            "grid_gap": null,
            "grid_row": null,
            "grid_template_areas": null,
            "grid_template_columns": null,
            "grid_template_rows": null,
            "height": null,
            "justify_content": null,
            "justify_items": null,
            "left": null,
            "margin": null,
            "max_height": null,
            "max_width": null,
            "min_height": null,
            "min_width": null,
            "object_fit": null,
            "object_position": null,
            "order": null,
            "overflow": null,
            "overflow_x": null,
            "overflow_y": null,
            "padding": null,
            "right": null,
            "top": null,
            "visibility": null,
            "width": null
          }
        },
        "ff16d0a93e4145f08fcffcb85f33bbfe": {
          "model_module": "@jupyter-widgets/controls",
          "model_module_version": "1.5.0",
          "model_name": "DescriptionStyleModel",
          "state": {
            "_model_module": "@jupyter-widgets/controls",
            "_model_module_version": "1.5.0",
            "_model_name": "DescriptionStyleModel",
            "_view_count": null,
            "_view_module": "@jupyter-widgets/base",
            "_view_module_version": "1.2.0",
            "_view_name": "StyleView",
            "description_width": ""
          }
        },
        "ffaf5a594f484802995ca1d66b3a5268": {
          "model_module": "@jupyter-widgets/base",
          "model_module_version": "1.2.0",
          "model_name": "LayoutModel",
          "state": {
            "_model_module": "@jupyter-widgets/base",
            "_model_module_version": "1.2.0",
            "_model_name": "LayoutModel",
            "_view_count": null,
            "_view_module": "@jupyter-widgets/base",
            "_view_module_version": "1.2.0",
            "_view_name": "LayoutView",
            "align_content": null,
            "align_items": null,
            "align_self": null,
            "border": null,
            "bottom": null,
            "display": null,
            "flex": null,
            "flex_flow": null,
            "grid_area": null,
            "grid_auto_columns": null,
            "grid_auto_flow": null,
            "grid_auto_rows": null,
            "grid_column": null,
            "grid_gap": null,
            "grid_row": null,
            "grid_template_areas": null,
            "grid_template_columns": null,
            "grid_template_rows": null,
            "height": null,
            "justify_content": null,
            "justify_items": null,
            "left": null,
            "margin": null,
            "max_height": null,
            "max_width": null,
            "min_height": null,
            "min_width": null,
            "object_fit": null,
            "object_position": null,
            "order": null,
            "overflow": null,
            "overflow_x": null,
            "overflow_y": null,
            "padding": null,
            "right": null,
            "top": null,
            "visibility": null,
            "width": null
          }
        }
      }
    }
  },
  "nbformat": 4,
  "nbformat_minor": 0
}
