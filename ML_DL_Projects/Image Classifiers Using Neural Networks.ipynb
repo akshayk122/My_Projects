{
  "cells": [
    {
      "cell_type": "code",
      "execution_count": null,
      "metadata": {
        "id": "A832USl6lcvX"
      },
      "outputs": [],
      "source": []
    },
    {
      "cell_type": "markdown",
      "metadata": {
        "id": "Whf_8TEO-6qX"
      },
      "source": [
        "\n",
        "## Image Classifiers Using Neural Networks and the MNIST and Fashion MNIST Datasets"
      ]
    },
    {
      "cell_type": "markdown",
      "metadata": {
        "id": "32AXUOrLxvoD"
      },
      "source": [
        "Useful references and sources:\n",
        "\n",
        "**MNIST**\n",
        "\n",
        "- https://www.tensorflow.org/datasets/catalog/mnist\n",
        "\n",
        "- https://en.wikipedia.org/wiki/MNIST_database \n",
        "\n",
        "- https://github.com/the-deep-learners/deep-learning-illustrated/blob/master/notebooks/shallow_net_in_keras.ipynb \n",
        "\n",
        "**Fashion MNIST**\n",
        "\n",
        "- https://www.tensorflow.org/datasets/catalog/fashion_mnist\n",
        "\n",
        "- https://en.wikipedia.org/wiki/Fashion_MNIST\n",
        "\n",
        "- https://keras.io/api/datasets/fashion_mnist/"
      ]
    },
    {
      "cell_type": "markdown",
      "metadata": {
        "id": "BEn1cfWJ-6rH"
      },
      "source": [
        "## PART 1 - *MNIST classifier using MLP*\n",
        "\n",
        "\n"
      ]
    },
    {
      "cell_type": "markdown",
      "metadata": {
        "id": "2u-hfaHC-6qb"
      },
      "source": [
        "### Import Needed Resources / Libraries"
      ]
    },
    {
      "cell_type": "code",
      "execution_count": 9,
      "metadata": {
        "id": "1H7CSr4a-6qb"
      },
      "outputs": [],
      "source": [
        "from tensorflow import keras\n",
        "from keras.datasets import mnist\n",
        "from keras.models import Sequential\n",
        "from keras.layers import Dense\n",
        "from keras.optimizers import SGD\n",
        "from sklearn import metrics\n",
        "from keras.utils import to_categorical\n",
        "from keras import layers\n",
        "import seaborn as sns\n",
        "\n",
        "from matplotlib import pyplot as plt\n",
        "\n",
        "import numpy as np\n",
        "import tensorflow as tf"
      ]
    },
    {
      "cell_type": "markdown",
      "metadata": {
        "id": "dxNd2jV5-6qg"
      },
      "source": [
        "### Load and prepare the data"
      ]
    },
    {
      "cell_type": "code",
      "execution_count": null,
      "metadata": {
        "id": "AL5uSsG5EoEw"
      },
      "outputs": [],
      "source": [
        "# Model / data parameters\n",
        "num_classes = 10\n",
        "input_shape = (28, 28, 1)\n",
        "\n",
        "# the data, split between train and validation sets\n",
        "(X_train, y_train), (X_valid, y_valid) = mnist.load_data()"
      ]
    },
    {
      "cell_type": "markdown",
      "metadata": {
        "id": "NUJlQmcuS1-b"
      },
      "source": [
        "### Examine Data"
      ]
    },
    {
      "cell_type": "code",
      "execution_count": null,
      "metadata": {
        "colab": {
          "base_uri": "https://localhost:8080/"
        },
        "id": "x2jsR31jEqYn",
        "outputId": "a169b653-6076-4fc2-be56-94b80ff0f181"
      },
      "outputs": [
        {
          "data": {
            "text/plain": [
              "(60000, 28, 28)"
            ]
          },
          "execution_count": 6,
          "metadata": {},
          "output_type": "execute_result"
        }
      ],
      "source": [
        "X_train.shape"
      ]
    },
    {
      "cell_type": "code",
      "execution_count": null,
      "metadata": {
        "colab": {
          "base_uri": "https://localhost:8080/"
        },
        "id": "EOXe9zdD-6qp",
        "outputId": "f480a72b-2ca9-4852-ed4c-876828b08b65"
      },
      "outputs": [
        {
          "data": {
            "text/plain": [
              "(60000,)"
            ]
          },
          "execution_count": 7,
          "metadata": {},
          "output_type": "execute_result"
        }
      ],
      "source": [
        "y_train.shape"
      ]
    },
    {
      "cell_type": "code",
      "execution_count": null,
      "metadata": {
        "colab": {
          "base_uri": "https://localhost:8080/"
        },
        "id": "99XuEIZf-6qr",
        "outputId": "49abcae6-e0b8-4276-af85-0f1978a7a89c"
      },
      "outputs": [
        {
          "data": {
            "text/plain": [
              "array([5, 0, 4, 1, 9, 2, 1, 3, 1, 4, 3, 5], dtype=uint8)"
            ]
          },
          "execution_count": 8,
          "metadata": {},
          "output_type": "execute_result"
        }
      ],
      "source": [
        "y_train[0:12]"
      ]
    },
    {
      "cell_type": "code",
      "execution_count": null,
      "metadata": {
        "colab": {
          "base_uri": "https://localhost:8080/",
          "height": 447
        },
        "id": "Rcidoo4X-6qt",
        "outputId": "08d99c0b-01cc-4d8e-8016-c30a96677e5a"
      },
      "outputs": [
        {
          "data": {
            "image/png": "[encoded data removed]",
            "text/plain": [
              "<Figure size 500x500 with 12 Axes>"
            ]
          },
          "metadata": {},
          "output_type": "display_data"
        }
      ],
      "source": [
        "plt.figure(figsize=(5,5))\n",
        "for k in range(12):\n",
        "    plt.subplot(3, 4, k+1)\n",
        "    plt.imshow(X_train[k], cmap='Greys')\n",
        "    plt.axis('off')\n",
        "plt.tight_layout()\n",
        "plt.show()"
      ]
    },
    {
      "cell_type": "code",
      "execution_count": null,
      "metadata": {
        "colab": {
          "base_uri": "https://localhost:8080/"
        },
        "id": "xL2vkR3jO2md",
        "outputId": "818a2523-24e1-49e4-a410-4c5489c29bdf"
      },
      "outputs": [
        {
          "data": {
            "text/plain": [
              "(10000, 28, 28)"
            ]
          },
          "execution_count": 74,
          "metadata": {},
          "output_type": "execute_result"
        }
      ],
      "source": [
        "X_valid.shape"
      ]
    },
    {
      "cell_type": "code",
      "execution_count": null,
      "metadata": {
        "colab": {
          "base_uri": "https://localhost:8080/"
        },
        "id": "GKtAwVhYO34o",
        "outputId": "4f96f293-b457-447e-9e21-f3fa83ec48ea"
      },
      "outputs": [
        {
          "data": {
            "text/plain": [
              "(10000,)"
            ]
          },
          "execution_count": 10,
          "metadata": {},
          "output_type": "execute_result"
        }
      ],
      "source": [
        "y_valid.shape"
      ]
    },
    {
      "cell_type": "code",
      "execution_count": null,
      "metadata": {
        "colab": {
          "base_uri": "https://localhost:8080/"
        },
        "id": "rITLTiol7eZH",
        "outputId": "5ac6a8c1-f701-40dd-b9e0-339c80127027"
      },
      "outputs": [
        {
          "data": {
            "text/plain": [
              "7"
            ]
          },
          "execution_count": 11,
          "metadata": {},
          "output_type": "execute_result"
        }
      ],
      "source": [
        "y_valid[0]"
      ]
    },
    {
      "cell_type": "code",
      "execution_count": null,
      "metadata": {
        "colab": {
          "base_uri": "https://localhost:8080/",
          "height": 406
        },
        "id": "v7wsvxTt7iZO",
        "outputId": "af6c41e0-4946-45c2-89b8-7dd522c4583a"
      },
      "outputs": [
        {
          "data": {
            "image/png": "[encoded data removed]",
            "text/plain": [
              "<Figure size 640x480 with 1 Axes>"
            ]
          },
          "metadata": {},
          "output_type": "display_data"
        }
      ],
      "source": [
        "plt.imshow(X_valid[0], cmap='Greys')\n",
        "plt.axis('off')\n",
        "plt.show()"
      ]
    },
    {
      "cell_type": "code",
      "execution_count": null,
      "metadata": {
        "colab": {
          "base_uri": "https://localhost:8080/"
        },
        "id": "lKSraXzh-6qw",
        "outputId": "d5f97b64-46f2-433c-973b-8ac047464bb6"
      },
      "outputs": [
        {
          "name": "stdout",
          "output_type": "stream",
          "text": [
            "X_training shape (after reshaping + scaling): (60000, 784)\n",
            "60000 train samples\n",
            "X_validation shape (after reshaping + scaling): (10000, 784)\n",
            "10000 validation samples\n"
          ]
        }
      ],
      "source": [
        "# Reshape (flatten) images \n",
        "X_train_reshaped = X_train.reshape(60000, 784).astype('float32')\n",
        "X_valid_reshaped = X_valid.reshape(10000, 784).astype('float32')\n",
        "\n",
        "# Scale images to the [0, 1] range\n",
        "X_train_scaled_reshaped = X_train_reshaped / 255\n",
        "X_valid_scaled_reshaped = X_valid_reshaped / 255\n",
        "\n",
        "# Renaming for conciseness\n",
        "X_training = X_train_scaled_reshaped\n",
        "X_validation = X_valid_scaled_reshaped\n",
        "\n",
        "print(\"X_training shape (after reshaping + scaling):\", X_training.shape)\n",
        "print(X_training.shape[0], \"train samples\")\n",
        "print(\"X_validation shape (after reshaping + scaling):\", X_validation.shape)\n",
        "print(X_validation.shape[0], \"validation samples\")"
      ]
    },
    {
      "cell_type": "code",
      "execution_count": null,
      "metadata": {
        "id": "amUBlLnG-6qz"
      },
      "outputs": [],
      "source": [
        "# convert class vectors to binary class matrices\n",
        "y_training = keras.utils.to_categorical(y_train, num_classes)\n",
        "y_validation = keras.utils.to_categorical(y_valid, num_classes)"
      ]
    },
    {
      "cell_type": "code",
      "execution_count": null,
      "metadata": {
        "colab": {
          "base_uri": "https://localhost:8080/"
        },
        "id": "ckH6jEMfd7v6",
        "outputId": "01ae039f-61d3-41da-b36e-abbe105a1f90"
      },
      "outputs": [
        {
          "data": {
            "text/plain": [
              "(10000, 784)"
            ]
          },
          "execution_count": 16,
          "metadata": {},
          "output_type": "execute_result"
        }
      ],
      "source": [
        "X_validation.shape"
      ]
    },
    {
      "cell_type": "code",
      "execution_count": null,
      "metadata": {
        "colab": {
          "base_uri": "https://localhost:8080/"
        },
        "id": "QRX6auItPqtX",
        "outputId": "0d40d587-d716-489f-cfc6-3e9b9b7e1b95"
      },
      "outputs": [
        {
          "name": "stdout",
          "output_type": "stream",
          "text": [
            "7\n",
            "[0. 0. 0. 0. 0. 0. 0. 1. 0. 0.]\n"
          ]
        }
      ],
      "source": [
        "print(y_valid[0])\n",
        "print(y_validation[0])"
      ]
    },
    {
      "cell_type": "markdown",
      "metadata": {
        "id": "eflqPyf9-6rW"
      },
      "source": [
        "### Configure model"
      ]
    },
    {
      "cell_type": "code",
      "execution_count": null,
      "metadata": {
        "id": "r7CsGuzIKvZd"
      },
      "outputs": [],
      "source": [
        "model = Sequential()\n",
        "model.add(Dense(64, activation='sigmoid', input_shape=(784,)))\n",
        "model.add(Dense(10, activation='softmax'))"
      ]
    },
    {
      "cell_type": "code",
      "execution_count": null,
      "metadata": {
        "colab": {
          "base_uri": "https://localhost:8080/"
        },
        "id": "wQTQzXvJ-6rJ",
        "outputId": "fd1f620b-d9be-498a-b9b6-21709e20aa40"
      },
      "outputs": [
        {
          "name": "stdout",
          "output_type": "stream",
          "text": [
            "Model: \"sequential\"\n",
            "_________________________________________________________________\n",
            " Layer (type)                Output Shape              Param #   \n",
            "=================================================================\n",
            " dense (Dense)               (None, 64)                50240     \n",
            "                                                                 \n",
            " dense_1 (Dense)             (None, 10)                650       \n",
            "                                                                 \n",
            "=================================================================\n",
            "Total params: 50,890\n",
            "Trainable params: 50,890\n",
            "Non-trainable params: 0\n",
            "_________________________________________________________________\n"
          ]
        }
      ],
      "source": [
        "model.summary()"
      ]
    },
    {
      "cell_type": "code",
      "execution_count": null,
      "metadata": {
        "colab": {
          "base_uri": "https://localhost:8080/"
        },
        "id": "p0KPx8Di-6rO",
        "outputId": "3b05b7b2-6ca6-4114-d30a-bfa02116b562"
      },
      "outputs": [
        {
          "data": {
            "text/plain": [
              "50176"
            ]
          },
          "execution_count": 20,
          "metadata": {},
          "output_type": "execute_result"
        }
      ],
      "source": [
        "(64*784)"
      ]
    },
    {
      "cell_type": "code",
      "execution_count": null,
      "metadata": {
        "colab": {
          "base_uri": "https://localhost:8080/"
        },
        "id": "e7KDBMCS-6rQ",
        "outputId": "bb242e13-8647-4260-8ea2-d078bdac06ed"
      },
      "outputs": [
        {
          "data": {
            "text/plain": [
              "50240"
            ]
          },
          "execution_count": 21,
          "metadata": {},
          "output_type": "execute_result"
        }
      ],
      "source": [
        "(64*784)+64"
      ]
    },
    {
      "cell_type": "code",
      "execution_count": null,
      "metadata": {
        "colab": {
          "base_uri": "https://localhost:8080/"
        },
        "id": "ls_u6Lne-6rU",
        "outputId": "39aa9ce7-22e6-4571-8475-06b4a610a367"
      },
      "outputs": [
        {
          "data": {
            "text/plain": [
              "650"
            ]
          },
          "execution_count": 22,
          "metadata": {},
          "output_type": "execute_result"
        }
      ],
      "source": [
        "(10*64)+10"
      ]
    },
    {
      "cell_type": "code",
      "execution_count": null,
      "metadata": {
        "id": "ZxAxL41M-6rX"
      },
      "outputs": [],
      "source": [
        "model.compile(\n",
        "    loss='mean_squared_error', \n",
        "    optimizer=SGD(learning_rate=0.01), \n",
        "    metrics=['accuracy']\n",
        ")"
      ]
    },
    {
      "cell_type": "markdown",
      "metadata": {
        "id": "DId95CJ_-6rY"
      },
      "source": [
        "### Train!"
      ]
    },
    {
      "cell_type": "code",
      "execution_count": null,
      "metadata": {
        "colab": {
          "base_uri": "https://localhost:8080/"
        },
        "id": "OGws4yu8-6rZ",
        "outputId": "11ce7108-e217-4e3c-ad84-38eb6f731990"
      },
      "outputs": [
        {
          "name": "stdout",
          "output_type": "stream",
          "text": [
            "Epoch 1/200\n",
            "469/469 [==============================] - 5s 4ms/step - loss: 0.0930 - accuracy: 0.0754 - val_loss: 0.0926 - val_accuracy: 0.0798\n",
            "Epoch 2/200\n",
            "469/469 [==============================] - 2s 3ms/step - loss: 0.0924 - accuracy: 0.0904 - val_loss: 0.0921 - val_accuracy: 0.0956\n",
            "Epoch 3/200\n",
            "469/469 [==============================] - 2s 4ms/step - loss: 0.0918 - accuracy: 0.1042 - val_loss: 0.0916 - val_accuracy: 0.1121\n",
            "Epoch 4/200\n",
            "469/469 [==============================] - 2s 4ms/step - loss: 0.0914 - accuracy: 0.1168 - val_loss: 0.0912 - val_accuracy: 0.1255\n",
            "Epoch 5/200\n",
            "469/469 [==============================] - 2s 4ms/step - loss: 0.0910 - accuracy: 0.1318 - val_loss: 0.0907 - val_accuracy: 0.1421\n",
            "Epoch 6/200\n",
            "469/469 [==============================] - 2s 4ms/step - loss: 0.0906 - accuracy: 0.1581 - val_loss: 0.0903 - val_accuracy: 0.1717\n",
            "Epoch 7/200\n",
            "469/469 [==============================] - 2s 4ms/step - loss: 0.0902 - accuracy: 0.1914 - val_loss: 0.0899 - val_accuracy: 0.2004\n",
            "Epoch 8/200\n",
            "469/469 [==============================] - 2s 3ms/step - loss: 0.0898 - accuracy: 0.2225 - val_loss: 0.0896 - val_accuracy: 0.2336\n",
            "Epoch 9/200\n",
            "469/469 [==============================] - 2s 3ms/step - loss: 0.0894 - accuracy: 0.2561 - val_loss: 0.0892 - val_accuracy: 0.2682\n",
            "Epoch 10/200\n",
            "469/469 [==============================] - 2s 3ms/step - loss: 0.0890 - accuracy: 0.2846 - val_loss: 0.0888 - val_accuracy: 0.2949\n",
            "Epoch 11/200\n",
            "469/469 [==============================] - 2s 3ms/step - loss: 0.0887 - accuracy: 0.3067 - val_loss: 0.0885 - val_accuracy: 0.3131\n",
            "Epoch 12/200\n",
            "469/469 [==============================] - 2s 4ms/step - loss: 0.0883 - accuracy: 0.3230 - val_loss: 0.0881 - val_accuracy: 0.3275\n",
            "Epoch 13/200\n",
            "469/469 [==============================] - 2s 4ms/step - loss: 0.0880 - accuracy: 0.3342 - val_loss: 0.0878 - val_accuracy: 0.3371\n",
            "Epoch 14/200\n",
            "469/469 [==============================] - 2s 4ms/step - loss: 0.0876 - accuracy: 0.3442 - val_loss: 0.0874 - val_accuracy: 0.3490\n",
            "Epoch 15/200\n",
            "469/469 [==============================] - 2s 3ms/step - loss: 0.0873 - accuracy: 0.3542 - val_loss: 0.0871 - val_accuracy: 0.3613\n",
            "Epoch 16/200\n",
            "469/469 [==============================] - 2s 3ms/step - loss: 0.0870 - accuracy: 0.3628 - val_loss: 0.0868 - val_accuracy: 0.3693\n",
            "Epoch 17/200\n",
            "469/469 [==============================] - 2s 3ms/step - loss: 0.0866 - accuracy: 0.3724 - val_loss: 0.0864 - val_accuracy: 0.3767\n",
            "Epoch 18/200\n",
            "469/469 [==============================] - 2s 4ms/step - loss: 0.0863 - accuracy: 0.3774 - val_loss: 0.0861 - val_accuracy: 0.3833\n",
            "Epoch 19/200\n",
            "469/469 [==============================] - 2s 4ms/step - loss: 0.0860 - accuracy: 0.3830 - val_loss: 0.0858 - val_accuracy: 0.3872\n",
            "Epoch 20/200\n",
            "469/469 [==============================] - 2s 4ms/step - loss: 0.0856 - accuracy: 0.3866 - val_loss: 0.0854 - val_accuracy: 0.3903\n",
            "Epoch 21/200\n",
            "469/469 [==============================] - 2s 5ms/step - loss: 0.0853 - accuracy: 0.3891 - val_loss: 0.0851 - val_accuracy: 0.3923\n",
            "Epoch 22/200\n",
            "469/469 [==============================] - 2s 3ms/step - loss: 0.0849 - accuracy: 0.3911 - val_loss: 0.0847 - val_accuracy: 0.3931\n",
            "Epoch 23/200\n",
            "469/469 [==============================] - 2s 4ms/step - loss: 0.0846 - accuracy: 0.3934 - val_loss: 0.0843 - val_accuracy: 0.3951\n",
            "Epoch 24/200\n",
            "469/469 [==============================] - 2s 3ms/step - loss: 0.0842 - accuracy: 0.3953 - val_loss: 0.0840 - val_accuracy: 0.3967\n",
            "Epoch 25/200\n",
            "469/469 [==============================] - 2s 5ms/step - loss: 0.0838 - accuracy: 0.3962 - val_loss: 0.0836 - val_accuracy: 0.3982\n",
            "Epoch 26/200\n",
            "469/469 [==============================] - 2s 4ms/step - loss: 0.0835 - accuracy: 0.3970 - val_loss: 0.0832 - val_accuracy: 0.3986\n",
            "Epoch 27/200\n",
            "469/469 [==============================] - 2s 4ms/step - loss: 0.0831 - accuracy: 0.3970 - val_loss: 0.0828 - val_accuracy: 0.4017\n",
            "Epoch 28/200\n",
            "469/469 [==============================] - 2s 5ms/step - loss: 0.0827 - accuracy: 0.3986 - val_loss: 0.0824 - val_accuracy: 0.4024\n",
            "Epoch 29/200\n",
            "469/469 [==============================] - 2s 3ms/step - loss: 0.0823 - accuracy: 0.3999 - val_loss: 0.0820 - val_accuracy: 0.4043\n",
            "Epoch 30/200\n",
            "469/469 [==============================] - 2s 4ms/step - loss: 0.0819 - accuracy: 0.4007 - val_loss: 0.0816 - val_accuracy: 0.4056\n",
            "Epoch 31/200\n",
            "469/469 [==============================] - 2s 3ms/step - loss: 0.0814 - accuracy: 0.4030 - val_loss: 0.0811 - val_accuracy: 0.4069\n",
            "Epoch 32/200\n",
            "469/469 [==============================] - 2s 4ms/step - loss: 0.0810 - accuracy: 0.4034 - val_loss: 0.0807 - val_accuracy: 0.4088\n",
            "Epoch 33/200\n",
            "469/469 [==============================] - 2s 4ms/step - loss: 0.0806 - accuracy: 0.4056 - val_loss: 0.0803 - val_accuracy: 0.4107\n",
            "Epoch 34/200\n",
            "469/469 [==============================] - 2s 4ms/step - loss: 0.0801 - accuracy: 0.4078 - val_loss: 0.0798 - val_accuracy: 0.4127\n",
            "Epoch 35/200\n",
            "469/469 [==============================] - 2s 4ms/step - loss: 0.0797 - accuracy: 0.4103 - val_loss: 0.0794 - val_accuracy: 0.4139\n",
            "Epoch 36/200\n",
            "469/469 [==============================] - 2s 3ms/step - loss: 0.0792 - accuracy: 0.4126 - val_loss: 0.0789 - val_accuracy: 0.4162\n",
            "Epoch 37/200\n",
            "469/469 [==============================] - 2s 3ms/step - loss: 0.0788 - accuracy: 0.4151 - val_loss: 0.0785 - val_accuracy: 0.4185\n",
            "Epoch 38/200\n",
            "469/469 [==============================] - 2s 3ms/step - loss: 0.0783 - accuracy: 0.4173 - val_loss: 0.0780 - val_accuracy: 0.4212\n",
            "Epoch 39/200\n",
            "469/469 [==============================] - 2s 3ms/step - loss: 0.0779 - accuracy: 0.4200 - val_loss: 0.0776 - val_accuracy: 0.4237\n",
            "Epoch 40/200\n",
            "469/469 [==============================] - 2s 4ms/step - loss: 0.0774 - accuracy: 0.4229 - val_loss: 0.0771 - val_accuracy: 0.4264\n",
            "Epoch 41/200\n",
            "469/469 [==============================] - 2s 3ms/step - loss: 0.0770 - accuracy: 0.4254 - val_loss: 0.0766 - val_accuracy: 0.4282\n",
            "Epoch 42/200\n",
            "469/469 [==============================] - 2s 5ms/step - loss: 0.0765 - accuracy: 0.4284 - val_loss: 0.0762 - val_accuracy: 0.4309\n",
            "Epoch 43/200\n",
            "469/469 [==============================] - 2s 4ms/step - loss: 0.0760 - accuracy: 0.4317 - val_loss: 0.0757 - val_accuracy: 0.4337\n",
            "Epoch 44/200\n",
            "469/469 [==============================] - 2s 4ms/step - loss: 0.0756 - accuracy: 0.4353 - val_loss: 0.0752 - val_accuracy: 0.4370\n",
            "Epoch 45/200\n",
            "469/469 [==============================] - 2s 4ms/step - loss: 0.0751 - accuracy: 0.4385 - val_loss: 0.0747 - val_accuracy: 0.4408\n",
            "Epoch 46/200\n",
            "469/469 [==============================] - 2s 4ms/step - loss: 0.0747 - accuracy: 0.4425 - val_loss: 0.0743 - val_accuracy: 0.4457\n",
            "Epoch 47/200\n",
            "469/469 [==============================] - 2s 4ms/step - loss: 0.0742 - accuracy: 0.4467 - val_loss: 0.0738 - val_accuracy: 0.4497\n",
            "Epoch 48/200\n",
            "469/469 [==============================] - 2s 3ms/step - loss: 0.0737 - accuracy: 0.4509 - val_loss: 0.0733 - val_accuracy: 0.4535\n",
            "Epoch 49/200\n",
            "469/469 [==============================] - 2s 4ms/step - loss: 0.0733 - accuracy: 0.4548 - val_loss: 0.0729 - val_accuracy: 0.4585\n",
            "Epoch 50/200\n",
            "469/469 [==============================] - 2s 4ms/step - loss: 0.0728 - accuracy: 0.4592 - val_loss: 0.0724 - val_accuracy: 0.4625\n",
            "Epoch 51/200\n",
            "469/469 [==============================] - 2s 3ms/step - loss: 0.0724 - accuracy: 0.4639 - val_loss: 0.0719 - val_accuracy: 0.4673\n",
            "Epoch 52/200\n",
            "469/469 [==============================] - 2s 3ms/step - loss: 0.0719 - accuracy: 0.4683 - val_loss: 0.0715 - val_accuracy: 0.4726\n",
            "Epoch 53/200\n",
            "469/469 [==============================] - 2s 3ms/step - loss: 0.0714 - accuracy: 0.4735 - val_loss: 0.0710 - val_accuracy: 0.4780\n",
            "Epoch 54/200\n",
            "469/469 [==============================] - 2s 4ms/step - loss: 0.0710 - accuracy: 0.4783 - val_loss: 0.0706 - val_accuracy: 0.4830\n",
            "Epoch 55/200\n",
            "469/469 [==============================] - 2s 3ms/step - loss: 0.0705 - accuracy: 0.4842 - val_loss: 0.0701 - val_accuracy: 0.4906\n",
            "Epoch 56/200\n",
            "469/469 [==============================] - 2s 4ms/step - loss: 0.0701 - accuracy: 0.4897 - val_loss: 0.0697 - val_accuracy: 0.4951\n",
            "Epoch 57/200\n",
            "469/469 [==============================] - 2s 4ms/step - loss: 0.0696 - accuracy: 0.4954 - val_loss: 0.0692 - val_accuracy: 0.5008\n",
            "Epoch 58/200\n",
            "469/469 [==============================] - 2s 3ms/step - loss: 0.0692 - accuracy: 0.5021 - val_loss: 0.0687 - val_accuracy: 0.5077\n",
            "Epoch 59/200\n",
            "469/469 [==============================] - 2s 3ms/step - loss: 0.0687 - accuracy: 0.5080 - val_loss: 0.0683 - val_accuracy: 0.5145\n",
            "Epoch 60/200\n",
            "469/469 [==============================] - 2s 3ms/step - loss: 0.0683 - accuracy: 0.5137 - val_loss: 0.0679 - val_accuracy: 0.5203\n",
            "Epoch 61/200\n",
            "469/469 [==============================] - 2s 3ms/step - loss: 0.0679 - accuracy: 0.5198 - val_loss: 0.0674 - val_accuracy: 0.5261\n",
            "Epoch 62/200\n",
            "469/469 [==============================] - 2s 4ms/step - loss: 0.0674 - accuracy: 0.5267 - val_loss: 0.0670 - val_accuracy: 0.5339\n",
            "Epoch 63/200\n",
            "469/469 [==============================] - 2s 3ms/step - loss: 0.0670 - accuracy: 0.5331 - val_loss: 0.0665 - val_accuracy: 0.5398\n",
            "Epoch 64/200\n",
            "469/469 [==============================] - 2s 4ms/step - loss: 0.0665 - accuracy: 0.5402 - val_loss: 0.0661 - val_accuracy: 0.5452\n",
            "Epoch 65/200\n",
            "469/469 [==============================] - 2s 4ms/step - loss: 0.0661 - accuracy: 0.5468 - val_loss: 0.0656 - val_accuracy: 0.5524\n",
            "Epoch 66/200\n",
            "469/469 [==============================] - 2s 3ms/step - loss: 0.0657 - accuracy: 0.5542 - val_loss: 0.0652 - val_accuracy: 0.5599\n",
            "Epoch 67/200\n",
            "469/469 [==============================] - 2s 3ms/step - loss: 0.0652 - accuracy: 0.5596 - val_loss: 0.0648 - val_accuracy: 0.5678\n",
            "Epoch 68/200\n",
            "469/469 [==============================] - 2s 3ms/step - loss: 0.0648 - accuracy: 0.5660 - val_loss: 0.0643 - val_accuracy: 0.5730\n",
            "Epoch 69/200\n",
            "469/469 [==============================] - 2s 4ms/step - loss: 0.0644 - accuracy: 0.5720 - val_loss: 0.0639 - val_accuracy: 0.5790\n",
            "Epoch 70/200\n",
            "469/469 [==============================] - 2s 3ms/step - loss: 0.0639 - accuracy: 0.5782 - val_loss: 0.0634 - val_accuracy: 0.5851\n",
            "Epoch 71/200\n",
            "469/469 [==============================] - 2s 4ms/step - loss: 0.0635 - accuracy: 0.5848 - val_loss: 0.0630 - val_accuracy: 0.5898\n",
            "Epoch 72/200\n",
            "469/469 [==============================] - 2s 4ms/step - loss: 0.0631 - accuracy: 0.5909 - val_loss: 0.0626 - val_accuracy: 0.5952\n",
            "Epoch 73/200\n",
            "469/469 [==============================] - 2s 4ms/step - loss: 0.0627 - accuracy: 0.5975 - val_loss: 0.0621 - val_accuracy: 0.6011\n",
            "Epoch 74/200\n",
            "469/469 [==============================] - 2s 3ms/step - loss: 0.0622 - accuracy: 0.6036 - val_loss: 0.0617 - val_accuracy: 0.6069\n",
            "Epoch 75/200\n",
            "469/469 [==============================] - 2s 3ms/step - loss: 0.0618 - accuracy: 0.6090 - val_loss: 0.0613 - val_accuracy: 0.6120\n",
            "Epoch 76/200\n",
            "469/469 [==============================] - 2s 4ms/step - loss: 0.0614 - accuracy: 0.6142 - val_loss: 0.0609 - val_accuracy: 0.6190\n",
            "Epoch 77/200\n",
            "469/469 [==============================] - 2s 3ms/step - loss: 0.0610 - accuracy: 0.6192 - val_loss: 0.0604 - val_accuracy: 0.6249\n",
            "Epoch 78/200\n",
            "469/469 [==============================] - 2s 4ms/step - loss: 0.0606 - accuracy: 0.6248 - val_loss: 0.0600 - val_accuracy: 0.6291\n",
            "Epoch 79/200\n",
            "469/469 [==============================] - 2s 5ms/step - loss: 0.0601 - accuracy: 0.6287 - val_loss: 0.0596 - val_accuracy: 0.6341\n",
            "Epoch 80/200\n",
            "469/469 [==============================] - 2s 4ms/step - loss: 0.0597 - accuracy: 0.6331 - val_loss: 0.0592 - val_accuracy: 0.6392\n",
            "Epoch 81/200\n",
            "469/469 [==============================] - 2s 3ms/step - loss: 0.0593 - accuracy: 0.6377 - val_loss: 0.0587 - val_accuracy: 0.6441\n",
            "Epoch 82/200\n",
            "469/469 [==============================] - 2s 4ms/step - loss: 0.0589 - accuracy: 0.6423 - val_loss: 0.0583 - val_accuracy: 0.6477\n",
            "Epoch 83/200\n",
            "469/469 [==============================] - 2s 4ms/step - loss: 0.0585 - accuracy: 0.6463 - val_loss: 0.0579 - val_accuracy: 0.6517\n",
            "Epoch 84/200\n",
            "469/469 [==============================] - 2s 4ms/step - loss: 0.0581 - accuracy: 0.6497 - val_loss: 0.0575 - val_accuracy: 0.6547\n",
            "Epoch 85/200\n",
            "469/469 [==============================] - 2s 3ms/step - loss: 0.0577 - accuracy: 0.6542 - val_loss: 0.0571 - val_accuracy: 0.6598\n",
            "Epoch 86/200\n",
            "469/469 [==============================] - 2s 5ms/step - loss: 0.0573 - accuracy: 0.6579 - val_loss: 0.0567 - val_accuracy: 0.6625\n",
            "Epoch 87/200\n",
            "469/469 [==============================] - 2s 4ms/step - loss: 0.0569 - accuracy: 0.6617 - val_loss: 0.0563 - val_accuracy: 0.6679\n",
            "Epoch 88/200\n",
            "469/469 [==============================] - 2s 3ms/step - loss: 0.0565 - accuracy: 0.6654 - val_loss: 0.0558 - val_accuracy: 0.6721\n",
            "Epoch 89/200\n",
            "469/469 [==============================] - 2s 3ms/step - loss: 0.0561 - accuracy: 0.6691 - val_loss: 0.0554 - val_accuracy: 0.6762\n",
            "Epoch 90/200\n",
            "469/469 [==============================] - 2s 3ms/step - loss: 0.0557 - accuracy: 0.6726 - val_loss: 0.0550 - val_accuracy: 0.6792\n",
            "Epoch 91/200\n",
            "469/469 [==============================] - 2s 3ms/step - loss: 0.0553 - accuracy: 0.6758 - val_loss: 0.0546 - val_accuracy: 0.6829\n",
            "Epoch 92/200\n",
            "469/469 [==============================] - 2s 4ms/step - loss: 0.0549 - accuracy: 0.6787 - val_loss: 0.0542 - val_accuracy: 0.6860\n",
            "Epoch 93/200\n",
            "469/469 [==============================] - 2s 5ms/step - loss: 0.0545 - accuracy: 0.6824 - val_loss: 0.0539 - val_accuracy: 0.6889\n",
            "Epoch 94/200\n",
            "469/469 [==============================] - 2s 4ms/step - loss: 0.0541 - accuracy: 0.6846 - val_loss: 0.0535 - val_accuracy: 0.6924\n",
            "Epoch 95/200\n",
            "469/469 [==============================] - 2s 3ms/step - loss: 0.0537 - accuracy: 0.6877 - val_loss: 0.0531 - val_accuracy: 0.6953\n",
            "Epoch 96/200\n",
            "469/469 [==============================] - 2s 3ms/step - loss: 0.0534 - accuracy: 0.6906 - val_loss: 0.0527 - val_accuracy: 0.6982\n",
            "Epoch 97/200\n",
            "469/469 [==============================] - 2s 3ms/step - loss: 0.0530 - accuracy: 0.6934 - val_loss: 0.0523 - val_accuracy: 0.7009\n",
            "Epoch 98/200\n",
            "469/469 [==============================] - 2s 3ms/step - loss: 0.0526 - accuracy: 0.6974 - val_loss: 0.0519 - val_accuracy: 0.7033\n",
            "Epoch 99/200\n",
            "469/469 [==============================] - 2s 3ms/step - loss: 0.0522 - accuracy: 0.7000 - val_loss: 0.0516 - val_accuracy: 0.7058\n",
            "Epoch 100/200\n",
            "469/469 [==============================] - 2s 4ms/step - loss: 0.0519 - accuracy: 0.7023 - val_loss: 0.0512 - val_accuracy: 0.7086\n",
            "Epoch 101/200\n",
            "469/469 [==============================] - 2s 5ms/step - loss: 0.0515 - accuracy: 0.7049 - val_loss: 0.0508 - val_accuracy: 0.7118\n",
            "Epoch 102/200\n",
            "469/469 [==============================] - 2s 3ms/step - loss: 0.0512 - accuracy: 0.7082 - val_loss: 0.0505 - val_accuracy: 0.7148\n",
            "Epoch 103/200\n",
            "469/469 [==============================] - 2s 3ms/step - loss: 0.0508 - accuracy: 0.7107 - val_loss: 0.0501 - val_accuracy: 0.7181\n",
            "Epoch 104/200\n",
            "469/469 [==============================] - 2s 3ms/step - loss: 0.0505 - accuracy: 0.7132 - val_loss: 0.0498 - val_accuracy: 0.7213\n",
            "Epoch 105/200\n",
            "469/469 [==============================] - 2s 3ms/step - loss: 0.0501 - accuracy: 0.7163 - val_loss: 0.0494 - val_accuracy: 0.7233\n",
            "Epoch 106/200\n",
            "469/469 [==============================] - 2s 4ms/step - loss: 0.0498 - accuracy: 0.7186 - val_loss: 0.0491 - val_accuracy: 0.7256\n",
            "Epoch 107/200\n",
            "469/469 [==============================] - 2s 4ms/step - loss: 0.0494 - accuracy: 0.7214 - val_loss: 0.0487 - val_accuracy: 0.7278\n",
            "Epoch 108/200\n",
            "469/469 [==============================] - 2s 4ms/step - loss: 0.0491 - accuracy: 0.7243 - val_loss: 0.0484 - val_accuracy: 0.7293\n",
            "Epoch 109/200\n",
            "469/469 [==============================] - 2s 4ms/step - loss: 0.0488 - accuracy: 0.7271 - val_loss: 0.0480 - val_accuracy: 0.7329\n",
            "Epoch 110/200\n",
            "469/469 [==============================] - 2s 3ms/step - loss: 0.0484 - accuracy: 0.7290 - val_loss: 0.0477 - val_accuracy: 0.7354\n",
            "Epoch 111/200\n",
            "469/469 [==============================] - 2s 3ms/step - loss: 0.0481 - accuracy: 0.7310 - val_loss: 0.0474 - val_accuracy: 0.7376\n",
            "Epoch 112/200\n",
            "469/469 [==============================] - 2s 3ms/step - loss: 0.0478 - accuracy: 0.7342 - val_loss: 0.0470 - val_accuracy: 0.7398\n",
            "Epoch 113/200\n",
            "469/469 [==============================] - 2s 4ms/step - loss: 0.0475 - accuracy: 0.7361 - val_loss: 0.0467 - val_accuracy: 0.7428\n",
            "Epoch 114/200\n",
            "469/469 [==============================] - 2s 3ms/step - loss: 0.0472 - accuracy: 0.7377 - val_loss: 0.0464 - val_accuracy: 0.7449\n",
            "Epoch 115/200\n",
            "469/469 [==============================] - 2s 4ms/step - loss: 0.0468 - accuracy: 0.7398 - val_loss: 0.0461 - val_accuracy: 0.7475\n",
            "Epoch 116/200\n",
            "469/469 [==============================] - 2s 5ms/step - loss: 0.0465 - accuracy: 0.7415 - val_loss: 0.0458 - val_accuracy: 0.7498\n",
            "Epoch 117/200\n",
            "469/469 [==============================] - 2s 3ms/step - loss: 0.0462 - accuracy: 0.7434 - val_loss: 0.0455 - val_accuracy: 0.7513\n",
            "Epoch 118/200\n",
            "469/469 [==============================] - 2s 3ms/step - loss: 0.0459 - accuracy: 0.7450 - val_loss: 0.0452 - val_accuracy: 0.7536\n",
            "Epoch 119/200\n",
            "469/469 [==============================] - 2s 4ms/step - loss: 0.0456 - accuracy: 0.7468 - val_loss: 0.0448 - val_accuracy: 0.7561\n",
            "Epoch 120/200\n",
            "469/469 [==============================] - 2s 3ms/step - loss: 0.0453 - accuracy: 0.7486 - val_loss: 0.0445 - val_accuracy: 0.7585\n",
            "Epoch 121/200\n",
            "469/469 [==============================] - 2s 4ms/step - loss: 0.0450 - accuracy: 0.7505 - val_loss: 0.0442 - val_accuracy: 0.7595\n",
            "Epoch 122/200\n",
            "469/469 [==============================] - 2s 4ms/step - loss: 0.0448 - accuracy: 0.7528 - val_loss: 0.0440 - val_accuracy: 0.7621\n",
            "Epoch 123/200\n",
            "469/469 [==============================] - 2s 4ms/step - loss: 0.0445 - accuracy: 0.7546 - val_loss: 0.0437 - val_accuracy: 0.7637\n",
            "Epoch 124/200\n",
            "469/469 [==============================] - 2s 3ms/step - loss: 0.0442 - accuracy: 0.7561 - val_loss: 0.0434 - val_accuracy: 0.7658\n",
            "Epoch 125/200\n",
            "469/469 [==============================] - 2s 4ms/step - loss: 0.0439 - accuracy: 0.7578 - val_loss: 0.0431 - val_accuracy: 0.7676\n",
            "Epoch 126/200\n",
            "469/469 [==============================] - 2s 3ms/step - loss: 0.0436 - accuracy: 0.7596 - val_loss: 0.0428 - val_accuracy: 0.7696\n",
            "Epoch 127/200\n",
            "469/469 [==============================] - 2s 3ms/step - loss: 0.0434 - accuracy: 0.7618 - val_loss: 0.0425 - val_accuracy: 0.7708\n",
            "Epoch 128/200\n",
            "469/469 [==============================] - 2s 3ms/step - loss: 0.0431 - accuracy: 0.7634 - val_loss: 0.0423 - val_accuracy: 0.7738\n",
            "Epoch 129/200\n",
            "469/469 [==============================] - 2s 4ms/step - loss: 0.0428 - accuracy: 0.7656 - val_loss: 0.0420 - val_accuracy: 0.7752\n",
            "Epoch 130/200\n",
            "469/469 [==============================] - 2s 5ms/step - loss: 0.0426 - accuracy: 0.7674 - val_loss: 0.0417 - val_accuracy: 0.7758\n",
            "Epoch 131/200\n",
            "469/469 [==============================] - 2s 4ms/step - loss: 0.0423 - accuracy: 0.7689 - val_loss: 0.0414 - val_accuracy: 0.7780\n",
            "Epoch 132/200\n",
            "469/469 [==============================] - 2s 3ms/step - loss: 0.0420 - accuracy: 0.7707 - val_loss: 0.0412 - val_accuracy: 0.7801\n",
            "Epoch 133/200\n",
            "469/469 [==============================] - 2s 3ms/step - loss: 0.0418 - accuracy: 0.7723 - val_loss: 0.0409 - val_accuracy: 0.7820\n",
            "Epoch 134/200\n",
            "469/469 [==============================] - 2s 3ms/step - loss: 0.0415 - accuracy: 0.7741 - val_loss: 0.0407 - val_accuracy: 0.7839\n",
            "Epoch 135/200\n",
            "469/469 [==============================] - 2s 4ms/step - loss: 0.0413 - accuracy: 0.7761 - val_loss: 0.0404 - val_accuracy: 0.7858\n",
            "Epoch 136/200\n",
            "469/469 [==============================] - 2s 3ms/step - loss: 0.0410 - accuracy: 0.7783 - val_loss: 0.0402 - val_accuracy: 0.7874\n",
            "Epoch 137/200\n",
            "469/469 [==============================] - 2s 5ms/step - loss: 0.0408 - accuracy: 0.7800 - val_loss: 0.0399 - val_accuracy: 0.7888\n",
            "Epoch 138/200\n",
            "469/469 [==============================] - 2s 4ms/step - loss: 0.0405 - accuracy: 0.7817 - val_loss: 0.0397 - val_accuracy: 0.7909\n",
            "Epoch 139/200\n",
            "469/469 [==============================] - 2s 3ms/step - loss: 0.0403 - accuracy: 0.7836 - val_loss: 0.0394 - val_accuracy: 0.7931\n",
            "Epoch 140/200\n",
            "469/469 [==============================] - 2s 3ms/step - loss: 0.0400 - accuracy: 0.7854 - val_loss: 0.0392 - val_accuracy: 0.7946\n",
            "Epoch 141/200\n",
            "469/469 [==============================] - 2s 4ms/step - loss: 0.0398 - accuracy: 0.7875 - val_loss: 0.0389 - val_accuracy: 0.7965\n",
            "Epoch 142/200\n",
            "469/469 [==============================] - 2s 3ms/step - loss: 0.0396 - accuracy: 0.7893 - val_loss: 0.0387 - val_accuracy: 0.7989\n",
            "Epoch 143/200\n",
            "469/469 [==============================] - 2s 3ms/step - loss: 0.0393 - accuracy: 0.7913 - val_loss: 0.0384 - val_accuracy: 0.8013\n",
            "Epoch 144/200\n",
            "469/469 [==============================] - 2s 4ms/step - loss: 0.0391 - accuracy: 0.7931 - val_loss: 0.0382 - val_accuracy: 0.8032\n",
            "Epoch 145/200\n",
            "469/469 [==============================] - 2s 4ms/step - loss: 0.0389 - accuracy: 0.7949 - val_loss: 0.0380 - val_accuracy: 0.8055\n",
            "Epoch 146/200\n",
            "469/469 [==============================] - 2s 4ms/step - loss: 0.0387 - accuracy: 0.7967 - val_loss: 0.0377 - val_accuracy: 0.8077\n",
            "Epoch 147/200\n",
            "469/469 [==============================] - 2s 4ms/step - loss: 0.0384 - accuracy: 0.7991 - val_loss: 0.0375 - val_accuracy: 0.8094\n",
            "Epoch 148/200\n",
            "469/469 [==============================] - 2s 4ms/step - loss: 0.0382 - accuracy: 0.8007 - val_loss: 0.0373 - val_accuracy: 0.8115\n",
            "Epoch 149/200\n",
            "469/469 [==============================] - 2s 4ms/step - loss: 0.0380 - accuracy: 0.8029 - val_loss: 0.0371 - val_accuracy: 0.8131\n",
            "Epoch 150/200\n",
            "469/469 [==============================] - 2s 3ms/step - loss: 0.0378 - accuracy: 0.8049 - val_loss: 0.0369 - val_accuracy: 0.8147\n",
            "Epoch 151/200\n",
            "469/469 [==============================] - 2s 4ms/step - loss: 0.0376 - accuracy: 0.8066 - val_loss: 0.0366 - val_accuracy: 0.8161\n",
            "Epoch 152/200\n",
            "469/469 [==============================] - 2s 5ms/step - loss: 0.0373 - accuracy: 0.8085 - val_loss: 0.0364 - val_accuracy: 0.8172\n",
            "Epoch 153/200\n",
            "469/469 [==============================] - 2s 3ms/step - loss: 0.0371 - accuracy: 0.8101 - val_loss: 0.0362 - val_accuracy: 0.8189\n",
            "Epoch 154/200\n",
            "469/469 [==============================] - 2s 3ms/step - loss: 0.0369 - accuracy: 0.8116 - val_loss: 0.0360 - val_accuracy: 0.8210\n",
            "Epoch 155/200\n",
            "469/469 [==============================] - 2s 4ms/step - loss: 0.0367 - accuracy: 0.8132 - val_loss: 0.0358 - val_accuracy: 0.8226\n",
            "Epoch 156/200\n",
            "469/469 [==============================] - 2s 4ms/step - loss: 0.0365 - accuracy: 0.8145 - val_loss: 0.0356 - val_accuracy: 0.8240\n",
            "Epoch 157/200\n",
            "469/469 [==============================] - 2s 3ms/step - loss: 0.0363 - accuracy: 0.8159 - val_loss: 0.0354 - val_accuracy: 0.8252\n",
            "Epoch 158/200\n",
            "469/469 [==============================] - 2s 4ms/step - loss: 0.0361 - accuracy: 0.8173 - val_loss: 0.0352 - val_accuracy: 0.8268\n",
            "Epoch 159/200\n",
            "469/469 [==============================] - 2s 4ms/step - loss: 0.0359 - accuracy: 0.8187 - val_loss: 0.0350 - val_accuracy: 0.8285\n",
            "Epoch 160/200\n",
            "469/469 [==============================] - 2s 4ms/step - loss: 0.0357 - accuracy: 0.8202 - val_loss: 0.0348 - val_accuracy: 0.8301\n",
            "Epoch 161/200\n",
            "469/469 [==============================] - 2s 4ms/step - loss: 0.0355 - accuracy: 0.8214 - val_loss: 0.0346 - val_accuracy: 0.8319\n",
            "Epoch 162/200\n",
            "469/469 [==============================] - 2s 3ms/step - loss: 0.0353 - accuracy: 0.8227 - val_loss: 0.0344 - val_accuracy: 0.8336\n",
            "Epoch 163/200\n",
            "469/469 [==============================] - 2s 4ms/step - loss: 0.0351 - accuracy: 0.8239 - val_loss: 0.0342 - val_accuracy: 0.8343\n",
            "Epoch 164/200\n",
            "469/469 [==============================] - 2s 4ms/step - loss: 0.0350 - accuracy: 0.8250 - val_loss: 0.0340 - val_accuracy: 0.8356\n",
            "Epoch 165/200\n",
            "469/469 [==============================] - 2s 4ms/step - loss: 0.0348 - accuracy: 0.8263 - val_loss: 0.0338 - val_accuracy: 0.8367\n",
            "Epoch 166/200\n",
            "469/469 [==============================] - 2s 5ms/step - loss: 0.0346 - accuracy: 0.8272 - val_loss: 0.0336 - val_accuracy: 0.8375\n",
            "Epoch 167/200\n",
            "469/469 [==============================] - 2s 4ms/step - loss: 0.0344 - accuracy: 0.8284 - val_loss: 0.0334 - val_accuracy: 0.8378\n",
            "Epoch 168/200\n",
            "469/469 [==============================] - 2s 3ms/step - loss: 0.0342 - accuracy: 0.8296 - val_loss: 0.0333 - val_accuracy: 0.8389\n",
            "Epoch 169/200\n",
            "469/469 [==============================] - 2s 4ms/step - loss: 0.0340 - accuracy: 0.8307 - val_loss: 0.0331 - val_accuracy: 0.8399\n",
            "Epoch 170/200\n",
            "469/469 [==============================] - 2s 3ms/step - loss: 0.0339 - accuracy: 0.8315 - val_loss: 0.0329 - val_accuracy: 0.8411\n",
            "Epoch 171/200\n",
            "469/469 [==============================] - 2s 3ms/step - loss: 0.0337 - accuracy: 0.8324 - val_loss: 0.0327 - val_accuracy: 0.8424\n",
            "Epoch 172/200\n",
            "469/469 [==============================] - 2s 4ms/step - loss: 0.0335 - accuracy: 0.8336 - val_loss: 0.0325 - val_accuracy: 0.8429\n",
            "Epoch 173/200\n",
            "469/469 [==============================] - 2s 5ms/step - loss: 0.0334 - accuracy: 0.8346 - val_loss: 0.0324 - val_accuracy: 0.8438\n",
            "Epoch 174/200\n",
            "469/469 [==============================] - 2s 3ms/step - loss: 0.0332 - accuracy: 0.8357 - val_loss: 0.0322 - val_accuracy: 0.8451\n",
            "Epoch 175/200\n",
            "469/469 [==============================] - 2s 4ms/step - loss: 0.0330 - accuracy: 0.8364 - val_loss: 0.0320 - val_accuracy: 0.8458\n",
            "Epoch 176/200\n",
            "469/469 [==============================] - 2s 3ms/step - loss: 0.0329 - accuracy: 0.8373 - val_loss: 0.0319 - val_accuracy: 0.8469\n",
            "Epoch 177/200\n",
            "469/469 [==============================] - 2s 4ms/step - loss: 0.0327 - accuracy: 0.8380 - val_loss: 0.0317 - val_accuracy: 0.8478\n",
            "Epoch 178/200\n",
            "469/469 [==============================] - 2s 3ms/step - loss: 0.0325 - accuracy: 0.8389 - val_loss: 0.0315 - val_accuracy: 0.8483\n",
            "Epoch 179/200\n",
            "469/469 [==============================] - 2s 4ms/step - loss: 0.0324 - accuracy: 0.8395 - val_loss: 0.0314 - val_accuracy: 0.8490\n",
            "Epoch 180/200\n",
            "469/469 [==============================] - 2s 5ms/step - loss: 0.0322 - accuracy: 0.8401 - val_loss: 0.0312 - val_accuracy: 0.8493\n",
            "Epoch 181/200\n",
            "469/469 [==============================] - 2s 4ms/step - loss: 0.0321 - accuracy: 0.8409 - val_loss: 0.0311 - val_accuracy: 0.8495\n",
            "Epoch 182/200\n",
            "469/469 [==============================] - 2s 3ms/step - loss: 0.0319 - accuracy: 0.8414 - val_loss: 0.0309 - val_accuracy: 0.8509\n",
            "Epoch 183/200\n",
            "469/469 [==============================] - 2s 4ms/step - loss: 0.0318 - accuracy: 0.8421 - val_loss: 0.0308 - val_accuracy: 0.8517\n",
            "Epoch 184/200\n",
            "469/469 [==============================] - 2s 4ms/step - loss: 0.0316 - accuracy: 0.8430 - val_loss: 0.0306 - val_accuracy: 0.8522\n",
            "Epoch 185/200\n",
            "469/469 [==============================] - 2s 4ms/step - loss: 0.0315 - accuracy: 0.8439 - val_loss: 0.0305 - val_accuracy: 0.8529\n",
            "Epoch 186/200\n",
            "469/469 [==============================] - 2s 4ms/step - loss: 0.0313 - accuracy: 0.8445 - val_loss: 0.0303 - val_accuracy: 0.8539\n",
            "Epoch 187/200\n",
            "469/469 [==============================] - 2s 5ms/step - loss: 0.0312 - accuracy: 0.8450 - val_loss: 0.0302 - val_accuracy: 0.8549\n",
            "Epoch 188/200\n",
            "469/469 [==============================] - 2s 3ms/step - loss: 0.0310 - accuracy: 0.8455 - val_loss: 0.0300 - val_accuracy: 0.8555\n",
            "Epoch 189/200\n",
            "469/469 [==============================] - 2s 4ms/step - loss: 0.0309 - accuracy: 0.8461 - val_loss: 0.0299 - val_accuracy: 0.8559\n",
            "Epoch 190/200\n",
            "469/469 [==============================] - 2s 4ms/step - loss: 0.0307 - accuracy: 0.8468 - val_loss: 0.0297 - val_accuracy: 0.8564\n",
            "Epoch 191/200\n",
            "469/469 [==============================] - 2s 3ms/step - loss: 0.0306 - accuracy: 0.8473 - val_loss: 0.0296 - val_accuracy: 0.8574\n",
            "Epoch 192/200\n",
            "469/469 [==============================] - 2s 4ms/step - loss: 0.0305 - accuracy: 0.8479 - val_loss: 0.0295 - val_accuracy: 0.8580\n",
            "Epoch 193/200\n",
            "469/469 [==============================] - 2s 4ms/step - loss: 0.0303 - accuracy: 0.8485 - val_loss: 0.0293 - val_accuracy: 0.8587\n",
            "Epoch 194/200\n",
            "469/469 [==============================] - 2s 5ms/step - loss: 0.0302 - accuracy: 0.8488 - val_loss: 0.0292 - val_accuracy: 0.8593\n",
            "Epoch 195/200\n",
            "469/469 [==============================] - 2s 4ms/step - loss: 0.0301 - accuracy: 0.8496 - val_loss: 0.0291 - val_accuracy: 0.8597\n",
            "Epoch 196/200\n",
            "469/469 [==============================] - 2s 3ms/step - loss: 0.0299 - accuracy: 0.8501 - val_loss: 0.0289 - val_accuracy: 0.8604\n",
            "Epoch 197/200\n",
            "469/469 [==============================] - 2s 4ms/step - loss: 0.0298 - accuracy: 0.8508 - val_loss: 0.0288 - val_accuracy: 0.8610\n",
            "Epoch 198/200\n",
            "469/469 [==============================] - 2s 3ms/step - loss: 0.0297 - accuracy: 0.8512 - val_loss: 0.0287 - val_accuracy: 0.8616\n",
            "Epoch 199/200\n",
            "469/469 [==============================] - 2s 3ms/step - loss: 0.0296 - accuracy: 0.8517 - val_loss: 0.0285 - val_accuracy: 0.8621\n",
            "Epoch 200/200\n",
            "469/469 [==============================] - 2s 4ms/step - loss: 0.0294 - accuracy: 0.8519 - val_loss: 0.0284 - val_accuracy: 0.8624\n"
          ]
        }
      ],
      "source": [
        "batch_size=128\n",
        "epochs=200\n",
        "\n",
        "history = model.fit(\n",
        "  X_training, # training data\n",
        "  y_training, # training targets\n",
        "  epochs=epochs,\n",
        "  batch_size=batch_size,\n",
        "  verbose=1,\n",
        "  validation_data=(X_validation, y_validation)\n",
        ")"
      ]
    },
    {
      "cell_type": "markdown",
      "metadata": {
        "id": "8AJ6owdTR1UA"
      },
      "source": [
        "### Plot learning curves"
      ]
    },
    {
      "cell_type": "code",
      "execution_count": null,
      "metadata": {
        "colab": {
          "base_uri": "https://localhost:8080/",
          "height": 944
        },
        "id": "QF8qu8ByR314",
        "outputId": "75c11404-ed36-4bad-ee8f-3d12060ce24f"
      },
      "outputs": [
        {
          "name": "stdout",
          "output_type": "stream",
          "text": [
            "dict_keys(['loss', 'accuracy', 'val_loss', 'val_accuracy'])\n"
          ]
        },
        {
          "data": {
            "image/png": "[encoded data removed]",
            "text/plain": [
              "<Figure size 640x480 with 1 Axes>"
            ]
          },
          "metadata": {},
          "output_type": "display_data"
        },
        {
          "data": {
            "image/png": "[encoded data removed]",
            "text/plain": [
              "<Figure size 640x480 with 1 Axes>"
            ]
          },
          "metadata": {},
          "output_type": "display_data"
        }
      ],
      "source": [
        "# list all data in history\n",
        "print(history.history.keys())\n",
        "\n",
        "# summarize history for accuracy\n",
        "plt.plot(history.history['accuracy'])\n",
        "plt.plot(history.history['val_accuracy'])\n",
        "plt.title('model accuracy')\n",
        "plt.ylabel('accuracy')\n",
        "plt.xlabel('epoch')\n",
        "plt.legend(['train', 'validation'], loc='upper left')\n",
        "plt.show()\n",
        "\n",
        "# summarize history for loss\n",
        "plt.plot(history.history['loss'])\n",
        "plt.plot(history.history['val_loss'])\n",
        "plt.title('model loss')\n",
        "plt.ylabel('loss')\n",
        "plt.xlabel('epoch')\n",
        "plt.legend(['train', 'validation'], loc='upper left')\n",
        "plt.show()"
      ]
    },
    {
      "cell_type": "markdown",
      "metadata": {
        "id": "763bQLbzQmw4"
      },
      "source": [
        "### Evaluate the model"
      ]
    },
    {
      "cell_type": "code",
      "execution_count": null,
      "metadata": {
        "colab": {
          "base_uri": "https://localhost:8080/"
        },
        "id": "2siGhXrm-6rb",
        "outputId": "418d6e8b-10a3-47ae-8cb6-777fba71efea"
      },
      "outputs": [
        {
          "name": "stdout",
          "output_type": "stream",
          "text": [
            "313/313 [==============================] - 1s 2ms/step - loss: 0.0284 - accuracy: 0.8624\n"
          ]
        },
        {
          "data": {
            "text/plain": [
              "[0.028411362320184708, 0.8623999953269958]"
            ]
          },
          "execution_count": 27,
          "metadata": {},
          "output_type": "execute_result"
        }
      ],
      "source": [
        "model.evaluate(X_validation, y_validation)"
      ]
    },
    {
      "cell_type": "markdown",
      "metadata": {
        "id": "eUQnhnk4bsuk"
      },
      "source": [
        "#### 1.a. Confusion Matrix "
      ]
    },
    {
      "cell_type": "code",
      "execution_count": null,
      "metadata": {
        "colab": {
          "base_uri": "https://localhost:8080/"
        },
        "id": "zAtq58hePWPy",
        "outputId": "8fcebf54-2c53-4c90-8c28-5c3427969b7d"
      },
      "outputs": [
        {
          "name": "stdout",
          "output_type": "stream",
          "text": [
            "313/313 [==============================] - 1s 2ms/step\n"
          ]
        },
        {
          "data": {
            "text/plain": [
              "array([[ 945,    0,    3,    3,    1,    7,   14,    1,    6,    0],\n",
              "       [   0, 1094,    8,    2,    1,    2,    4,    0,   24,    0],\n",
              "       [  14,   26,  860,   25,   22,    1,   26,   17,   38,    3],\n",
              "       [   7,    2,   27,  866,    2,   28,   10,   24,   31,   13],\n",
              "       [   2,    8,    5,    0,  878,    2,   21,    2,    6,   58],\n",
              "       [  27,   24,   10,   94,   26,  596,   32,   28,   36,   19],\n",
              "       [  16,    6,   15,    2,   18,   18,  881,    1,    1,    0],\n",
              "       [   4,   37,   32,    1,   14,    1,    2,  901,    6,   30],\n",
              "       [  12,   18,   16,   50,   15,   17,   24,   13,  784,   25],\n",
              "       [  17,   12,   12,   12,   68,   12,    2,   44,   11,  819]])"
            ]
          },
          "execution_count": 28,
          "metadata": {},
          "output_type": "execute_result"
        }
      ],
      "source": [
        "# Your Confusion Matrix code here and in additional cells as needed\n",
        "x_test=X_validation / 255.0;\n",
        "y_pred= model.predict(X_validation)\n",
        "y_pred=np.argmax(y_pred, axis=1)\n",
        "cf=metrics.confusion_matrix(y_valid, y_pred);\n",
        "cf\n",
        "\n"
      ]
    },
    {
      "cell_type": "code",
      "execution_count": null,
      "metadata": {
        "colab": {
          "base_uri": "https://localhost:8080/",
          "height": 641
        },
        "id": "lOdi7xpl-gmJ",
        "outputId": "816eb8e2-19ee-4c56-e9b2-8607c2a7ea88"
      },
      "outputs": [
        {
          "data": {
            "image/png": "[encoded data removed]",
            "text/plain": [
              "<Figure size 800x700 with 2 Axes>"
            ]
          },
          "metadata": {},
          "output_type": "display_data"
        }
      ],
      "source": [
        "plt.figure(figsize=(8,7))\n",
        "sns.heatmap(cf, annot=True, fmt='d',cmap='Blues',xticklabels=range(10),yticklabels=range(10))\n",
        "plt.title('MNIST CONFUSION MATRIX')\n",
        "plt.xlabel('Predicted Label')\n",
        "plt.ylabel('Actual Label')\n",
        "plt.show()"
      ]
    },
    {
      "cell_type": "markdown",
      "metadata": {
        "id": "IPh2wMtAb00B"
      },
      "source": [
        "#### 1.b. Comment on the insights confusion matrix provides *(10 pts)*"
      ]
    },
    {
      "cell_type": "markdown",
      "metadata": {
        "id": "DEoxPxJZPfBh"
      },
      "source": [
        "1.The diagonal elements represent the samples for each class that were successfully predicted. For instance, the number 945 denotes how many samples from class 0 were properly identified.\n",
        "\n",
        "2.Classes with higher values along the diagonal typically perform better, whereas larger values in off-diagonal parts suggest class confusion.\n",
        "\n",
        "3.Off-diagonal elements show samples that were incorrectly categorised. For instance, the number 14 indicates how many samples from class 0 were mistakenly placed in class 6.\n",
        "\n",
        "4.The class labels, which represent various digits in the MNIST dataset, vary from 0 to 9.\n",
        "\n",
        "\n"
      ]
    },
    {
      "cell_type": "markdown",
      "metadata": {
        "id": "w-3gs_uqcHll"
      },
      "source": [
        "#### 2.Display 10 cases where the classifier makes mistakes. *(20 pts)*"
      ]
    },
    {
      "cell_type": "code",
      "execution_count": null,
      "metadata": {
        "colab": {
          "base_uri": "https://localhost:8080/",
          "height": 378
        },
        "id": "FstunLYaMQ2w",
        "outputId": "c5df12f1-9ffc-4249-ca8e-e060736185a3"
      },
      "outputs": [
        {
          "data": {
            "image/png": "[encoded data removed]",
            "text/plain": [
              "<Figure size 1000x1000 with 10 Axes>"
            ]
          },
          "metadata": {},
          "output_type": "display_data"
        }
      ],
      "source": [
        "wrong_indices = np.nonzero(y_pred != y_valid)[0]\n",
        "plt.figure(figsize=(10, 10))\n",
        "for i, index in enumerate(wrong_indices[:10]):\n",
        "    plt.subplot(5, 5, i + 1)\n",
        "    plt.imshow(x_test[index].reshape(28, 28), cmap=\"gray\")\n",
        "    plt.title(\"Actual: %s\\nPredicted: %s\" % (y_valid[index], y_pred[index]))\n",
        "    plt.axis('off')\n",
        "plt.tight_layout()\n",
        "plt.show()"
      ]
    },
    {
      "cell_type": "markdown",
      "metadata": {
        "id": "a7O3lpDxUsmT"
      },
      "source": [
        "## *Fashion MNIST*\n",
        "\n",
        "\n"
      ]
    },
    {
      "cell_type": "markdown",
      "metadata": {
        "id": "Lmobz-vfUsmu"
      },
      "source": [
        "### Load and prepare the data"
      ]
    },
    {
      "cell_type": "code",
      "execution_count": 7,
      "metadata": {
        "id": "7tiUAea0YgGn"
      },
      "outputs": [],
      "source": [
        "# Model / data parameters\n",
        "num_classes = 10\n",
        "input_shape = [28 ,28]"
      ]
    },
    {
      "cell_type": "code",
      "execution_count": 10,
      "metadata": {
        "colab": {
          "base_uri": "https://localhost:8080/"
        },
        "id": "9WuYpbzKVb52",
        "outputId": "60f5d412-317f-421a-e8cc-77eaf3cb63e1"
      },
      "outputs": [
        {
          "name": "stdout",
          "output_type": "stream",
          "text": [
            "Downloading data from https://storage.googleapis.com/tensorflow/tf-keras-datasets/train-labels-idx1-ubyte.gz\n",
            "29515/29515 [==============================] - 0s 0us/step\n",
            "Downloading data from https://storage.googleapis.com/tensorflow/tf-keras-datasets/train-images-idx3-ubyte.gz\n",
            "26421880/26421880 [==============================] - 0s 0us/step\n",
            "Downloading data from https://storage.googleapis.com/tensorflow/tf-keras-datasets/t10k-labels-idx1-ubyte.gz\n",
            "5148/5148 [==============================] - 0s 0us/step\n",
            "Downloading data from https://storage.googleapis.com/tensorflow/tf-keras-datasets/t10k-images-idx3-ubyte.gz\n",
            "4422102/4422102 [==============================] - 0s 0us/step\n"
          ]
        }
      ],
      "source": [
        "# Loading and Spliting Data in Test and Train \n",
        "(X_train, y_train), (X_valid, y_valid) = tf.keras.datasets.fashion_mnist.load_data()\n",
        "assert X_train.shape == (60000, 28, 28)\n",
        "assert X_valid.shape == (10000, 28, 28)\n",
        "assert y_train.shape == (60000,)\n",
        "assert y_valid.shape == (10000,)"
      ]
    },
    {
      "cell_type": "markdown",
      "metadata": {
        "id": "SJLgwT4BVsXJ"
      },
      "source": [
        "### Defining Classes"
      ]
    },
    {
      "cell_type": "code",
      "execution_count": 11,
      "metadata": {
        "id": "_Vtsr209Vs7I"
      },
      "outputs": [],
      "source": [
        "classes_names = ['T-shirt/top' ,  'Trouser' ,'Pullover' , 'Dress', 'Coat','Sandal','Shirt','Sneaker', 'Bag','Ankle Boot'] "
      ]
    },
    {
      "cell_type": "markdown",
      "metadata": {
        "id": "mk5jfFGpUsm4"
      },
      "source": [
        "### Examine Data"
      ]
    },
    {
      "cell_type": "code",
      "execution_count": 12,
      "metadata": {
        "colab": {
          "base_uri": "https://localhost:8080/"
        },
        "id": "bqDnQHxBUsmv",
        "outputId": "32c7a933-f048-497c-c805-257ce490ff50"
      },
      "outputs": [
        {
          "data": {
            "text/plain": [
              "(60000, 28, 28)"
            ]
          },
          "execution_count": 12,
          "metadata": {},
          "output_type": "execute_result"
        }
      ],
      "source": [
        "X_train.shape"
      ]
    },
    {
      "cell_type": "code",
      "execution_count": 13,
      "metadata": {
        "colab": {
          "base_uri": "https://localhost:8080/"
        },
        "id": "f3-vq-ddUsmw",
        "outputId": "7b9a69cd-5358-4b7d-85d5-2da16626c4b8"
      },
      "outputs": [
        {
          "data": {
            "text/plain": [
              "(10000,)"
            ]
          },
          "execution_count": 13,
          "metadata": {},
          "output_type": "execute_result"
        }
      ],
      "source": [
        "y_valid.shape"
      ]
    },
    {
      "cell_type": "code",
      "execution_count": 14,
      "metadata": {
        "colab": {
          "base_uri": "https://localhost:8080/"
        },
        "id": "7bm5DzZ5Usmx",
        "outputId": "075ab0b3-2b6d-4391-8613-8814f9c2f4c4"
      },
      "outputs": [
        {
          "data": {
            "text/plain": [
              "array([9, 0, 0, 3, 0, 2, 7, 2, 5, 5, 0, 9], dtype=uint8)"
            ]
          },
          "execution_count": 14,
          "metadata": {},
          "output_type": "execute_result"
        }
      ],
      "source": [
        "y_train[0:12]"
      ]
    },
    {
      "cell_type": "code",
      "execution_count": 15,
      "metadata": {
        "colab": {
          "base_uri": "https://localhost:8080/",
          "height": 447
        },
        "id": "vBSF0061Usmy",
        "outputId": "d292396a-ef34-471c-fc40-b7b1186c74b7"
      },
      "outputs": [
        {
          "data": {
            "image/png": "[encoded data removed]",
            "text/plain": [
              "<Figure size 500x500 with 12 Axes>"
            ]
          },
          "metadata": {},
          "output_type": "display_data"
        }
      ],
      "source": [
        "plt.figure(figsize=(5,5))\n",
        "for k in range(12):\n",
        "    plt.subplot(3, 4, k+1)\n",
        "    plt.imshow(X_train[k], cmap='Greys')\n",
        "    plt.axis('off')\n",
        "plt.tight_layout()\n",
        "plt.show()"
      ]
    },
    {
      "cell_type": "code",
      "execution_count": 16,
      "metadata": {
        "colab": {
          "base_uri": "https://localhost:8080/"
        },
        "id": "4ZFhStimUsmz",
        "outputId": "4fffac78-c151-45c9-fbdb-f87158f3b445"
      },
      "outputs": [
        {
          "data": {
            "text/plain": [
              "(10000, 28, 28)"
            ]
          },
          "execution_count": 16,
          "metadata": {},
          "output_type": "execute_result"
        }
      ],
      "source": [
        "X_valid.shape"
      ]
    },
    {
      "cell_type": "code",
      "execution_count": 17,
      "metadata": {
        "colab": {
          "base_uri": "https://localhost:8080/"
        },
        "id": "fkcVKlIdUsm0",
        "outputId": "e459e590-b25d-46d7-c90c-c1411ee42525"
      },
      "outputs": [
        {
          "data": {
            "text/plain": [
              "(10000,)"
            ]
          },
          "execution_count": 17,
          "metadata": {},
          "output_type": "execute_result"
        }
      ],
      "source": [
        "y_valid.shape"
      ]
    },
    {
      "cell_type": "code",
      "execution_count": 18,
      "metadata": {
        "colab": {
          "base_uri": "https://localhost:8080/"
        },
        "id": "Z2pxEjaSUsm0",
        "outputId": "c2c42404-8a07-42e0-fda3-83f5a7aee266"
      },
      "outputs": [
        {
          "data": {
            "text/plain": [
              "9"
            ]
          },
          "execution_count": 18,
          "metadata": {},
          "output_type": "execute_result"
        }
      ],
      "source": [
        "y_valid[0]"
      ]
    },
    {
      "cell_type": "code",
      "execution_count": 19,
      "metadata": {
        "colab": {
          "base_uri": "https://localhost:8080/",
          "height": 406
        },
        "id": "pBxa15BlUsm1",
        "outputId": "7cc384f7-4d4f-4b74-ef38-3ffdf96d0a91"
      },
      "outputs": [
        {
          "data": {
            "image/png": "[encoded data removed]",
            "text/plain": [
              "<Figure size 640x480 with 1 Axes>"
            ]
          },
          "metadata": {},
          "output_type": "display_data"
        }
      ],
      "source": [
        "plt.imshow(X_valid[0], cmap='Greys')\n",
        "plt.axis('off')\n",
        "plt.show()"
      ]
    },
    {
      "cell_type": "code",
      "execution_count": 20,
      "metadata": {
        "colab": {
          "base_uri": "https://localhost:8080/"
        },
        "id": "Y1uqe2qNvzTX",
        "outputId": "1fcc9a5c-0a7c-4631-b56b-2a359dd518b8"
      },
      "outputs": [
        {
          "name": "stdout",
          "output_type": "stream",
          "text": [
            "X_training shape (after reshaping + scaling): (60000, 784)\n",
            "60000 train samples\n",
            "X_validation shape (after reshaping + scaling): (10000, 784)\n",
            "10000 validation samples\n"
          ]
        }
      ],
      "source": [
        "# Reshape (flatten) images \n",
        "X_train_reshaped = X_train.reshape(60000, 784).astype('float32')\n",
        "X_valid_reshaped = X_valid.reshape(10000, 784).astype('float32')\n",
        "\n",
        "# Scale images to the [0, 1] range\n",
        "X_train_scaled_reshaped = X_train_reshaped / 255\n",
        "X_valid_scaled_reshaped = X_valid_reshaped / 255\n",
        "\n",
        "# Renaming for conciseness\n",
        "X_training = X_train_scaled_reshaped\n",
        "X_validation = X_valid_scaled_reshaped\n",
        "\n",
        "print(\"X_training shape (after reshaping + scaling):\", X_training.shape)\n",
        "print(X_training.shape[0], \"train samples\")\n",
        "print(\"X_validation shape (after reshaping + scaling):\", X_validation.shape)\n",
        "print(X_validation.shape[0], \"validation samples\")"
      ]
    },
    {
      "cell_type": "code",
      "execution_count": 21,
      "metadata": {
        "id": "j77kPrf9Usm3"
      },
      "outputs": [],
      "source": [
        "# convert class vectors to binary class matrices\n",
        "y_training = keras.utils.to_categorical(y_train, num_classes)\n",
        "y_validation = keras.utils.to_categorical(y_valid, num_classes)"
      ]
    },
    {
      "cell_type": "code",
      "execution_count": 22,
      "metadata": {
        "colab": {
          "base_uri": "https://localhost:8080/"
        },
        "id": "7K4nOvY8Usm3",
        "outputId": "383e57d9-609e-4113-a961-77bd53fb2382"
      },
      "outputs": [
        {
          "name": "stdout",
          "output_type": "stream",
          "text": [
            "9\n",
            "[0. 0. 0. 0. 0. 0. 0. 0. 0. 1.]\n"
          ]
        }
      ],
      "source": [
        "print(y_valid[0])\n",
        "print(y_validation[0])"
      ]
    },
    {
      "cell_type": "markdown",
      "metadata": {
        "id": "37Jfa71GO-o3"
      },
      "source": [
        "\n",
        "Build a NN solution identical to the one before: \n",
        "> a. Plot learning curves\n",
        "\n",
        "> b. Display the confusion matrix for your classifier\n",
        "\n",
        "> c. Evaluate the model, identify accuracy, etc. \n",
        "\n",
        "> d. Discuss why the results are not as good. \n",
        "\n",
        "\n",
        "\n"
      ]
    },
    {
      "cell_type": "markdown",
      "metadata": {
        "id": "0S1JKBzLkHCq"
      },
      "source": [
        "Configure the Model *(10 pts)*"
      ]
    },
    {
      "cell_type": "code",
      "execution_count": 23,
      "metadata": {
        "id": "ebaDH_ltkQ4K"
      },
      "outputs": [],
      "source": [
        "# Your Configure the Model code here and in additional code cells as needed\n",
        "# use same model and hyperparameters as was used for MNIST above\n",
        "modelf = Sequential()\n",
        "modelf.add(Dense(64, activation='sigmoid', input_shape=(784,)))\n",
        "modelf.add(Dense(10, activation='softmax'))"
      ]
    },
    {
      "cell_type": "code",
      "execution_count": 24,
      "metadata": {
        "id": "FBiY8yesjTnh"
      },
      "outputs": [],
      "source": [
        "modelf.compile(\n",
        "    loss='mean_squared_error', \n",
        "    optimizer=SGD(learning_rate=0.01), \n",
        "    metrics=['accuracy']\n",
        ")"
      ]
    },
    {
      "cell_type": "code",
      "execution_count": 25,
      "metadata": {
        "colab": {
          "base_uri": "https://localhost:8080/"
        },
        "id": "TL0Uh7HilY3B",
        "outputId": "58b7db46-fd79-436e-ac0a-5e9cc614cf7a"
      },
      "outputs": [
        {
          "data": {
            "text/plain": [
              "<bound method Model.summary of <keras.engine.sequential.Sequential object at 0x7ff61394bf40>>"
            ]
          },
          "execution_count": 25,
          "metadata": {},
          "output_type": "execute_result"
        }
      ],
      "source": [
        "modelf.summary"
      ]
    },
    {
      "cell_type": "markdown",
      "metadata": {
        "id": "0wVjOdUhkETu"
      },
      "source": [
        "Train the Model  *(10 pts)*"
      ]
    },
    {
      "cell_type": "code",
      "execution_count": 27,
      "metadata": {
        "colab": {
          "base_uri": "https://localhost:8080/"
        },
        "id": "r265wxucPLZQ",
        "outputId": "a89946ea-94a0-4539-b73c-6d9936ec98f5"
      },
      "outputs": [
        {
          "name": "stdout",
          "output_type": "stream",
          "text": [
            "Epoch 1/200\n",
            "469/469 [==============================] - 5s 5ms/step - loss: 0.0909 - accuracy: 0.0899 - val_loss: 0.0903 - val_accuracy: 0.1172\n",
            "Epoch 2/200\n",
            "469/469 [==============================] - 2s 3ms/step - loss: 0.0899 - accuracy: 0.1575 - val_loss: 0.0896 - val_accuracy: 0.2038\n",
            "Epoch 3/200\n",
            "469/469 [==============================] - 1s 3ms/step - loss: 0.0893 - accuracy: 0.2391 - val_loss: 0.0890 - val_accuracy: 0.2685\n",
            "Epoch 4/200\n",
            "469/469 [==============================] - 1s 3ms/step - loss: 0.0887 - accuracy: 0.2884 - val_loss: 0.0885 - val_accuracy: 0.3061\n",
            "Epoch 5/200\n",
            "469/469 [==============================] - 1s 3ms/step - loss: 0.0882 - accuracy: 0.3151 - val_loss: 0.0879 - val_accuracy: 0.3242\n",
            "Epoch 6/200\n",
            "469/469 [==============================] - 2s 3ms/step - loss: 0.0877 - accuracy: 0.3318 - val_loss: 0.0874 - val_accuracy: 0.3393\n",
            "Epoch 7/200\n",
            "469/469 [==============================] - 1s 3ms/step - loss: 0.0871 - accuracy: 0.3475 - val_loss: 0.0869 - val_accuracy: 0.3525\n",
            "Epoch 8/200\n",
            "469/469 [==============================] - 2s 3ms/step - loss: 0.0866 - accuracy: 0.3633 - val_loss: 0.0864 - val_accuracy: 0.3673\n",
            "Epoch 9/200\n",
            "469/469 [==============================] - 2s 4ms/step - loss: 0.0861 - accuracy: 0.3790 - val_loss: 0.0858 - val_accuracy: 0.3837\n",
            "Epoch 10/200\n",
            "469/469 [==============================] - 1s 3ms/step - loss: 0.0855 - accuracy: 0.4101 - val_loss: 0.0853 - val_accuracy: 0.4218\n",
            "Epoch 11/200\n",
            "469/469 [==============================] - 2s 3ms/step - loss: 0.0850 - accuracy: 0.4550 - val_loss: 0.0847 - val_accuracy: 0.4653\n",
            "Epoch 12/200\n",
            "469/469 [==============================] - 1s 3ms/step - loss: 0.0844 - accuracy: 0.4873 - val_loss: 0.0841 - val_accuracy: 0.4896\n",
            "Epoch 13/200\n",
            "469/469 [==============================] - 1s 3ms/step - loss: 0.0838 - accuracy: 0.5004 - val_loss: 0.0836 - val_accuracy: 0.4993\n",
            "Epoch 14/200\n",
            "469/469 [==============================] - 1s 3ms/step - loss: 0.0832 - accuracy: 0.5031 - val_loss: 0.0830 - val_accuracy: 0.5000\n",
            "Epoch 15/200\n",
            "469/469 [==============================] - 1s 3ms/step - loss: 0.0826 - accuracy: 0.5032 - val_loss: 0.0824 - val_accuracy: 0.4996\n",
            "Epoch 16/200\n",
            "469/469 [==============================] - 3s 7ms/step - loss: 0.0820 - accuracy: 0.5036 - val_loss: 0.0818 - val_accuracy: 0.4970\n",
            "Epoch 17/200\n",
            "469/469 [==============================] - 2s 5ms/step - loss: 0.0814 - accuracy: 0.5027 - val_loss: 0.0811 - val_accuracy: 0.4950\n",
            "Epoch 18/200\n",
            "469/469 [==============================] - 2s 3ms/step - loss: 0.0808 - accuracy: 0.5026 - val_loss: 0.0805 - val_accuracy: 0.4953\n",
            "Epoch 19/200\n",
            "469/469 [==============================] - 1s 3ms/step - loss: 0.0802 - accuracy: 0.5031 - val_loss: 0.0799 - val_accuracy: 0.4955\n",
            "Epoch 20/200\n",
            "469/469 [==============================] - 2s 3ms/step - loss: 0.0795 - accuracy: 0.5038 - val_loss: 0.0792 - val_accuracy: 0.4973\n",
            "Epoch 21/200\n",
            "469/469 [==============================] - 1s 3ms/step - loss: 0.0789 - accuracy: 0.5051 - val_loss: 0.0786 - val_accuracy: 0.5007\n",
            "Epoch 22/200\n",
            "469/469 [==============================] - 2s 3ms/step - loss: 0.0782 - accuracy: 0.5056 - val_loss: 0.0779 - val_accuracy: 0.5020\n",
            "Epoch 23/200\n",
            "469/469 [==============================] - 2s 4ms/step - loss: 0.0775 - accuracy: 0.5078 - val_loss: 0.0772 - val_accuracy: 0.5030\n",
            "Epoch 24/200\n",
            "469/469 [==============================] - 2s 4ms/step - loss: 0.0769 - accuracy: 0.5092 - val_loss: 0.0766 - val_accuracy: 0.5053\n",
            "Epoch 25/200\n",
            "469/469 [==============================] - 1s 3ms/step - loss: 0.0762 - accuracy: 0.5101 - val_loss: 0.0759 - val_accuracy: 0.5079\n",
            "Epoch 26/200\n",
            "469/469 [==============================] - 2s 3ms/step - loss: 0.0756 - accuracy: 0.5130 - val_loss: 0.0753 - val_accuracy: 0.5099\n",
            "Epoch 27/200\n",
            "469/469 [==============================] - 1s 3ms/step - loss: 0.0749 - accuracy: 0.5151 - val_loss: 0.0746 - val_accuracy: 0.5116\n",
            "Epoch 28/200\n",
            "469/469 [==============================] - 1s 3ms/step - loss: 0.0742 - accuracy: 0.5166 - val_loss: 0.0739 - val_accuracy: 0.5155\n",
            "Epoch 29/200\n",
            "469/469 [==============================] - 1s 3ms/step - loss: 0.0736 - accuracy: 0.5186 - val_loss: 0.0733 - val_accuracy: 0.5179\n",
            "Epoch 30/200\n",
            "469/469 [==============================] - 1s 3ms/step - loss: 0.0729 - accuracy: 0.5209 - val_loss: 0.0727 - val_accuracy: 0.5200\n",
            "Epoch 31/200\n",
            "469/469 [==============================] - 2s 4ms/step - loss: 0.0723 - accuracy: 0.5233 - val_loss: 0.0720 - val_accuracy: 0.5226\n",
            "Epoch 32/200\n",
            "469/469 [==============================] - 2s 4ms/step - loss: 0.0716 - accuracy: 0.5249 - val_loss: 0.0714 - val_accuracy: 0.5257\n",
            "Epoch 33/200\n",
            "469/469 [==============================] - 1s 3ms/step - loss: 0.0710 - accuracy: 0.5281 - val_loss: 0.0708 - val_accuracy: 0.5288\n",
            "Epoch 34/200\n",
            "469/469 [==============================] - 2s 3ms/step - loss: 0.0704 - accuracy: 0.5304 - val_loss: 0.0701 - val_accuracy: 0.5319\n",
            "Epoch 35/200\n",
            "469/469 [==============================] - 1s 3ms/step - loss: 0.0698 - accuracy: 0.5340 - val_loss: 0.0695 - val_accuracy: 0.5334\n",
            "Epoch 36/200\n",
            "469/469 [==============================] - 1s 3ms/step - loss: 0.0691 - accuracy: 0.5362 - val_loss: 0.0689 - val_accuracy: 0.5368\n",
            "Epoch 37/200\n",
            "469/469 [==============================] - 1s 3ms/step - loss: 0.0685 - accuracy: 0.5393 - val_loss: 0.0683 - val_accuracy: 0.5397\n",
            "Epoch 38/200\n",
            "469/469 [==============================] - 1s 3ms/step - loss: 0.0680 - accuracy: 0.5427 - val_loss: 0.0677 - val_accuracy: 0.5427\n",
            "Epoch 39/200\n",
            "469/469 [==============================] - 2s 4ms/step - loss: 0.0674 - accuracy: 0.5464 - val_loss: 0.0672 - val_accuracy: 0.5467\n",
            "Epoch 40/200\n",
            "469/469 [==============================] - 2s 3ms/step - loss: 0.0668 - accuracy: 0.5504 - val_loss: 0.0666 - val_accuracy: 0.5511\n",
            "Epoch 41/200\n",
            "469/469 [==============================] - 1s 3ms/step - loss: 0.0662 - accuracy: 0.5551 - val_loss: 0.0660 - val_accuracy: 0.5553\n",
            "Epoch 42/200\n",
            "469/469 [==============================] - 2s 3ms/step - loss: 0.0657 - accuracy: 0.5602 - val_loss: 0.0655 - val_accuracy: 0.5609\n",
            "Epoch 43/200\n",
            "469/469 [==============================] - 2s 3ms/step - loss: 0.0651 - accuracy: 0.5651 - val_loss: 0.0649 - val_accuracy: 0.5670\n",
            "Epoch 44/200\n",
            "469/469 [==============================] - 1s 3ms/step - loss: 0.0646 - accuracy: 0.5702 - val_loss: 0.0644 - val_accuracy: 0.5716\n",
            "Epoch 45/200\n",
            "469/469 [==============================] - 2s 3ms/step - loss: 0.0640 - accuracy: 0.5761 - val_loss: 0.0639 - val_accuracy: 0.5780\n",
            "Epoch 46/200\n",
            "469/469 [==============================] - 2s 4ms/step - loss: 0.0635 - accuracy: 0.5827 - val_loss: 0.0634 - val_accuracy: 0.5853\n",
            "Epoch 47/200\n",
            "469/469 [==============================] - 2s 4ms/step - loss: 0.0630 - accuracy: 0.5889 - val_loss: 0.0628 - val_accuracy: 0.5907\n",
            "Epoch 48/200\n",
            "469/469 [==============================] - 2s 3ms/step - loss: 0.0625 - accuracy: 0.5963 - val_loss: 0.0623 - val_accuracy: 0.5975\n",
            "Epoch 49/200\n",
            "469/469 [==============================] - 1s 3ms/step - loss: 0.0619 - accuracy: 0.6021 - val_loss: 0.0618 - val_accuracy: 0.6047\n",
            "Epoch 50/200\n",
            "469/469 [==============================] - 2s 3ms/step - loss: 0.0614 - accuracy: 0.6104 - val_loss: 0.0614 - val_accuracy: 0.6112\n",
            "Epoch 51/200\n",
            "469/469 [==============================] - 1s 3ms/step - loss: 0.0610 - accuracy: 0.6164 - val_loss: 0.0609 - val_accuracy: 0.6174\n",
            "Epoch 52/200\n",
            "469/469 [==============================] - 1s 3ms/step - loss: 0.0605 - accuracy: 0.6233 - val_loss: 0.0604 - val_accuracy: 0.6231\n",
            "Epoch 53/200\n",
            "469/469 [==============================] - 2s 3ms/step - loss: 0.0600 - accuracy: 0.6288 - val_loss: 0.0599 - val_accuracy: 0.6286\n",
            "Epoch 54/200\n",
            "469/469 [==============================] - 2s 4ms/step - loss: 0.0595 - accuracy: 0.6351 - val_loss: 0.0595 - val_accuracy: 0.6330\n",
            "Epoch 55/200\n",
            "469/469 [==============================] - 2s 4ms/step - loss: 0.0591 - accuracy: 0.6399 - val_loss: 0.0590 - val_accuracy: 0.6373\n",
            "Epoch 56/200\n",
            "469/469 [==============================] - 2s 3ms/step - loss: 0.0586 - accuracy: 0.6446 - val_loss: 0.0586 - val_accuracy: 0.6418\n",
            "Epoch 57/200\n",
            "469/469 [==============================] - 2s 3ms/step - loss: 0.0582 - accuracy: 0.6491 - val_loss: 0.0581 - val_accuracy: 0.6457\n",
            "Epoch 58/200\n",
            "469/469 [==============================] - 1s 3ms/step - loss: 0.0577 - accuracy: 0.6534 - val_loss: 0.0577 - val_accuracy: 0.6496\n",
            "Epoch 59/200\n",
            "469/469 [==============================] - 2s 3ms/step - loss: 0.0573 - accuracy: 0.6576 - val_loss: 0.0573 - val_accuracy: 0.6538\n",
            "Epoch 60/200\n",
            "469/469 [==============================] - 2s 3ms/step - loss: 0.0569 - accuracy: 0.6612 - val_loss: 0.0569 - val_accuracy: 0.6577\n",
            "Epoch 61/200\n",
            "469/469 [==============================] - 2s 3ms/step - loss: 0.0564 - accuracy: 0.6642 - val_loss: 0.0564 - val_accuracy: 0.6619\n",
            "Epoch 62/200\n",
            "469/469 [==============================] - 2s 4ms/step - loss: 0.0560 - accuracy: 0.6675 - val_loss: 0.0560 - val_accuracy: 0.6639\n",
            "Epoch 63/200\n",
            "469/469 [==============================] - 1s 3ms/step - loss: 0.0556 - accuracy: 0.6706 - val_loss: 0.0556 - val_accuracy: 0.6667\n",
            "Epoch 64/200\n",
            "469/469 [==============================] - 2s 3ms/step - loss: 0.0552 - accuracy: 0.6738 - val_loss: 0.0553 - val_accuracy: 0.6709\n",
            "Epoch 65/200\n",
            "469/469 [==============================] - 1s 3ms/step - loss: 0.0548 - accuracy: 0.6771 - val_loss: 0.0549 - val_accuracy: 0.6748\n",
            "Epoch 66/200\n",
            "469/469 [==============================] - 1s 3ms/step - loss: 0.0544 - accuracy: 0.6796 - val_loss: 0.0545 - val_accuracy: 0.6782\n",
            "Epoch 67/200\n",
            "469/469 [==============================] - 1s 3ms/step - loss: 0.0541 - accuracy: 0.6825 - val_loss: 0.0541 - val_accuracy: 0.6814\n",
            "Epoch 68/200\n",
            "469/469 [==============================] - 2s 3ms/step - loss: 0.0537 - accuracy: 0.6847 - val_loss: 0.0538 - val_accuracy: 0.6841\n",
            "Epoch 69/200\n",
            "469/469 [==============================] - 2s 3ms/step - loss: 0.0533 - accuracy: 0.6872 - val_loss: 0.0534 - val_accuracy: 0.6867\n",
            "Epoch 70/200\n",
            "469/469 [==============================] - 2s 4ms/step - loss: 0.0530 - accuracy: 0.6891 - val_loss: 0.0531 - val_accuracy: 0.6897\n",
            "Epoch 71/200\n",
            "469/469 [==============================] - 2s 3ms/step - loss: 0.0526 - accuracy: 0.6917 - val_loss: 0.0527 - val_accuracy: 0.6913\n",
            "Epoch 72/200\n",
            "469/469 [==============================] - 2s 3ms/step - loss: 0.0523 - accuracy: 0.6934 - val_loss: 0.0524 - val_accuracy: 0.6932\n",
            "Epoch 73/200\n",
            "469/469 [==============================] - 1s 3ms/step - loss: 0.0520 - accuracy: 0.6957 - val_loss: 0.0521 - val_accuracy: 0.6952\n",
            "Epoch 74/200\n",
            "469/469 [==============================] - 1s 3ms/step - loss: 0.0516 - accuracy: 0.6972 - val_loss: 0.0518 - val_accuracy: 0.6962\n",
            "Epoch 75/200\n",
            "469/469 [==============================] - 2s 3ms/step - loss: 0.0513 - accuracy: 0.6992 - val_loss: 0.0514 - val_accuracy: 0.6979\n",
            "Epoch 76/200\n",
            "469/469 [==============================] - 2s 3ms/step - loss: 0.0510 - accuracy: 0.7009 - val_loss: 0.0511 - val_accuracy: 0.6986\n",
            "Epoch 77/200\n",
            "469/469 [==============================] - 2s 4ms/step - loss: 0.0507 - accuracy: 0.7025 - val_loss: 0.0508 - val_accuracy: 0.6995\n",
            "Epoch 78/200\n",
            "469/469 [==============================] - 2s 4ms/step - loss: 0.0504 - accuracy: 0.7042 - val_loss: 0.0505 - val_accuracy: 0.7013\n",
            "Epoch 79/200\n",
            "469/469 [==============================] - 2s 3ms/step - loss: 0.0501 - accuracy: 0.7059 - val_loss: 0.0503 - val_accuracy: 0.7030\n",
            "Epoch 80/200\n",
            "469/469 [==============================] - 1s 3ms/step - loss: 0.0498 - accuracy: 0.7069 - val_loss: 0.0500 - val_accuracy: 0.7039\n",
            "Epoch 81/200\n",
            "469/469 [==============================] - 2s 4ms/step - loss: 0.0495 - accuracy: 0.7081 - val_loss: 0.0497 - val_accuracy: 0.7051\n",
            "Epoch 82/200\n",
            "469/469 [==============================] - 1s 3ms/step - loss: 0.0493 - accuracy: 0.7098 - val_loss: 0.0494 - val_accuracy: 0.7063\n",
            "Epoch 83/200\n",
            "469/469 [==============================] - 1s 3ms/step - loss: 0.0490 - accuracy: 0.7108 - val_loss: 0.0492 - val_accuracy: 0.7072\n",
            "Epoch 84/200\n",
            "469/469 [==============================] - 2s 4ms/step - loss: 0.0487 - accuracy: 0.7120 - val_loss: 0.0489 - val_accuracy: 0.7090\n",
            "Epoch 85/200\n",
            "469/469 [==============================] - 2s 4ms/step - loss: 0.0485 - accuracy: 0.7128 - val_loss: 0.0487 - val_accuracy: 0.7102\n",
            "Epoch 86/200\n",
            "469/469 [==============================] - 2s 3ms/step - loss: 0.0482 - accuracy: 0.7137 - val_loss: 0.0484 - val_accuracy: 0.7113\n",
            "Epoch 87/200\n",
            "469/469 [==============================] - 1s 3ms/step - loss: 0.0480 - accuracy: 0.7154 - val_loss: 0.0482 - val_accuracy: 0.7120\n",
            "Epoch 88/200\n",
            "469/469 [==============================] - 2s 3ms/step - loss: 0.0477 - accuracy: 0.7163 - val_loss: 0.0479 - val_accuracy: 0.7129\n",
            "Epoch 89/200\n",
            "469/469 [==============================] - 1s 3ms/step - loss: 0.0475 - accuracy: 0.7174 - val_loss: 0.0477 - val_accuracy: 0.7140\n",
            "Epoch 90/200\n",
            "469/469 [==============================] - 1s 3ms/step - loss: 0.0472 - accuracy: 0.7180 - val_loss: 0.0475 - val_accuracy: 0.7155\n",
            "Epoch 91/200\n",
            "469/469 [==============================] - 1s 3ms/step - loss: 0.0470 - accuracy: 0.7187 - val_loss: 0.0472 - val_accuracy: 0.7163\n",
            "Epoch 92/200\n",
            "469/469 [==============================] - 2s 3ms/step - loss: 0.0468 - accuracy: 0.7198 - val_loss: 0.0470 - val_accuracy: 0.7165\n",
            "Epoch 93/200\n",
            "469/469 [==============================] - 2s 4ms/step - loss: 0.0466 - accuracy: 0.7203 - val_loss: 0.0468 - val_accuracy: 0.7173\n",
            "Epoch 94/200\n",
            "469/469 [==============================] - 2s 4ms/step - loss: 0.0464 - accuracy: 0.7213 - val_loss: 0.0466 - val_accuracy: 0.7179\n",
            "Epoch 95/200\n",
            "469/469 [==============================] - 1s 3ms/step - loss: 0.0461 - accuracy: 0.7221 - val_loss: 0.0464 - val_accuracy: 0.7183\n",
            "Epoch 96/200\n",
            "469/469 [==============================] - 1s 3ms/step - loss: 0.0459 - accuracy: 0.7230 - val_loss: 0.0462 - val_accuracy: 0.7188\n",
            "Epoch 97/200\n",
            "469/469 [==============================] - 2s 3ms/step - loss: 0.0457 - accuracy: 0.7235 - val_loss: 0.0460 - val_accuracy: 0.7192\n",
            "Epoch 98/200\n",
            "469/469 [==============================] - 1s 3ms/step - loss: 0.0455 - accuracy: 0.7244 - val_loss: 0.0458 - val_accuracy: 0.7197\n",
            "Epoch 99/200\n",
            "469/469 [==============================] - 1s 3ms/step - loss: 0.0453 - accuracy: 0.7250 - val_loss: 0.0456 - val_accuracy: 0.7209\n",
            "Epoch 100/200\n",
            "469/469 [==============================] - 2s 4ms/step - loss: 0.0451 - accuracy: 0.7258 - val_loss: 0.0454 - val_accuracy: 0.7213\n",
            "Epoch 101/200\n",
            "469/469 [==============================] - 2s 4ms/step - loss: 0.0449 - accuracy: 0.7265 - val_loss: 0.0452 - val_accuracy: 0.7222\n",
            "Epoch 102/200\n",
            "469/469 [==============================] - 1s 3ms/step - loss: 0.0448 - accuracy: 0.7270 - val_loss: 0.0450 - val_accuracy: 0.7223\n",
            "Epoch 103/200\n",
            "469/469 [==============================] - 2s 3ms/step - loss: 0.0446 - accuracy: 0.7275 - val_loss: 0.0449 - val_accuracy: 0.7226\n",
            "Epoch 104/200\n",
            "469/469 [==============================] - 2s 3ms/step - loss: 0.0444 - accuracy: 0.7273 - val_loss: 0.0447 - val_accuracy: 0.7230\n",
            "Epoch 105/200\n",
            "469/469 [==============================] - 1s 3ms/step - loss: 0.0442 - accuracy: 0.7281 - val_loss: 0.0445 - val_accuracy: 0.7239\n",
            "Epoch 106/200\n",
            "469/469 [==============================] - 2s 4ms/step - loss: 0.0440 - accuracy: 0.7287 - val_loss: 0.0443 - val_accuracy: 0.7244\n",
            "Epoch 107/200\n",
            "469/469 [==============================] - 1s 3ms/step - loss: 0.0439 - accuracy: 0.7293 - val_loss: 0.0442 - val_accuracy: 0.7250\n",
            "Epoch 108/200\n",
            "469/469 [==============================] - 2s 4ms/step - loss: 0.0437 - accuracy: 0.7300 - val_loss: 0.0440 - val_accuracy: 0.7254\n",
            "Epoch 109/200\n",
            "469/469 [==============================] - 2s 4ms/step - loss: 0.0435 - accuracy: 0.7305 - val_loss: 0.0438 - val_accuracy: 0.7266\n",
            "Epoch 110/200\n",
            "469/469 [==============================] - 1s 3ms/step - loss: 0.0434 - accuracy: 0.7310 - val_loss: 0.0437 - val_accuracy: 0.7268\n",
            "Epoch 111/200\n",
            "469/469 [==============================] - 1s 3ms/step - loss: 0.0432 - accuracy: 0.7314 - val_loss: 0.0435 - val_accuracy: 0.7272\n",
            "Epoch 112/200\n",
            "469/469 [==============================] - 1s 3ms/step - loss: 0.0431 - accuracy: 0.7318 - val_loss: 0.0434 - val_accuracy: 0.7279\n",
            "Epoch 113/200\n",
            "469/469 [==============================] - 1s 3ms/step - loss: 0.0429 - accuracy: 0.7323 - val_loss: 0.0432 - val_accuracy: 0.7288\n",
            "Epoch 114/200\n",
            "469/469 [==============================] - 2s 3ms/step - loss: 0.0427 - accuracy: 0.7327 - val_loss: 0.0431 - val_accuracy: 0.7292\n",
            "Epoch 115/200\n",
            "469/469 [==============================] - 2s 3ms/step - loss: 0.0426 - accuracy: 0.7333 - val_loss: 0.0429 - val_accuracy: 0.7297\n",
            "Epoch 116/200\n",
            "469/469 [==============================] - 2s 4ms/step - loss: 0.0424 - accuracy: 0.7336 - val_loss: 0.0428 - val_accuracy: 0.7300\n",
            "Epoch 117/200\n",
            "469/469 [==============================] - 2s 4ms/step - loss: 0.0423 - accuracy: 0.7340 - val_loss: 0.0426 - val_accuracy: 0.7303\n",
            "Epoch 118/200\n",
            "469/469 [==============================] - 1s 3ms/step - loss: 0.0422 - accuracy: 0.7342 - val_loss: 0.0425 - val_accuracy: 0.7305\n",
            "Epoch 119/200\n",
            "469/469 [==============================] - 1s 3ms/step - loss: 0.0420 - accuracy: 0.7351 - val_loss: 0.0424 - val_accuracy: 0.7308\n",
            "Epoch 120/200\n",
            "469/469 [==============================] - 2s 4ms/step - loss: 0.0419 - accuracy: 0.7353 - val_loss: 0.0422 - val_accuracy: 0.7311\n",
            "Epoch 121/200\n",
            "469/469 [==============================] - 2s 3ms/step - loss: 0.0417 - accuracy: 0.7358 - val_loss: 0.0421 - val_accuracy: 0.7314\n",
            "Epoch 122/200\n",
            "469/469 [==============================] - 1s 3ms/step - loss: 0.0416 - accuracy: 0.7365 - val_loss: 0.0420 - val_accuracy: 0.7323\n",
            "Epoch 123/200\n",
            "469/469 [==============================] - 2s 3ms/step - loss: 0.0415 - accuracy: 0.7367 - val_loss: 0.0418 - val_accuracy: 0.7326\n",
            "Epoch 124/200\n",
            "469/469 [==============================] - 2s 4ms/step - loss: 0.0413 - accuracy: 0.7373 - val_loss: 0.0417 - val_accuracy: 0.7330\n",
            "Epoch 125/200\n",
            "469/469 [==============================] - 2s 4ms/step - loss: 0.0412 - accuracy: 0.7377 - val_loss: 0.0416 - val_accuracy: 0.7328\n",
            "Epoch 126/200\n",
            "469/469 [==============================] - 2s 3ms/step - loss: 0.0411 - accuracy: 0.7381 - val_loss: 0.0415 - val_accuracy: 0.7329\n",
            "Epoch 127/200\n",
            "469/469 [==============================] - 2s 3ms/step - loss: 0.0410 - accuracy: 0.7383 - val_loss: 0.0413 - val_accuracy: 0.7336\n",
            "Epoch 128/200\n",
            "469/469 [==============================] - 2s 3ms/step - loss: 0.0408 - accuracy: 0.7389 - val_loss: 0.0412 - val_accuracy: 0.7344\n",
            "Epoch 129/200\n",
            "469/469 [==============================] - 2s 3ms/step - loss: 0.0407 - accuracy: 0.7392 - val_loss: 0.0411 - val_accuracy: 0.7346\n",
            "Epoch 130/200\n",
            "469/469 [==============================] - 1s 3ms/step - loss: 0.0406 - accuracy: 0.7396 - val_loss: 0.0410 - val_accuracy: 0.7348\n",
            "Epoch 131/200\n",
            "469/469 [==============================] - 2s 4ms/step - loss: 0.0405 - accuracy: 0.7400 - val_loss: 0.0409 - val_accuracy: 0.7354\n",
            "Epoch 132/200\n",
            "469/469 [==============================] - 2s 4ms/step - loss: 0.0404 - accuracy: 0.7405 - val_loss: 0.0408 - val_accuracy: 0.7356\n",
            "Epoch 133/200\n",
            "469/469 [==============================] - 2s 3ms/step - loss: 0.0402 - accuracy: 0.7407 - val_loss: 0.0406 - val_accuracy: 0.7356\n",
            "Epoch 134/200\n",
            "469/469 [==============================] - 1s 3ms/step - loss: 0.0401 - accuracy: 0.7409 - val_loss: 0.0405 - val_accuracy: 0.7360\n",
            "Epoch 135/200\n",
            "469/469 [==============================] - 1s 3ms/step - loss: 0.0400 - accuracy: 0.7413 - val_loss: 0.0404 - val_accuracy: 0.7365\n",
            "Epoch 136/200\n",
            "469/469 [==============================] - 1s 3ms/step - loss: 0.0399 - accuracy: 0.7418 - val_loss: 0.0403 - val_accuracy: 0.7370\n",
            "Epoch 137/200\n",
            "469/469 [==============================] - 2s 3ms/step - loss: 0.0398 - accuracy: 0.7421 - val_loss: 0.0402 - val_accuracy: 0.7374\n",
            "Epoch 138/200\n",
            "469/469 [==============================] - 1s 3ms/step - loss: 0.0397 - accuracy: 0.7424 - val_loss: 0.0401 - val_accuracy: 0.7377\n",
            "Epoch 139/200\n",
            "469/469 [==============================] - 2s 4ms/step - loss: 0.0396 - accuracy: 0.7430 - val_loss: 0.0400 - val_accuracy: 0.7380\n",
            "Epoch 140/200\n",
            "469/469 [==============================] - 2s 4ms/step - loss: 0.0395 - accuracy: 0.7434 - val_loss: 0.0399 - val_accuracy: 0.7382\n",
            "Epoch 141/200\n",
            "469/469 [==============================] - 2s 3ms/step - loss: 0.0394 - accuracy: 0.7438 - val_loss: 0.0398 - val_accuracy: 0.7386\n",
            "Epoch 142/200\n",
            "469/469 [==============================] - 1s 3ms/step - loss: 0.0393 - accuracy: 0.7442 - val_loss: 0.0397 - val_accuracy: 0.7392\n",
            "Epoch 143/200\n",
            "469/469 [==============================] - 1s 3ms/step - loss: 0.0392 - accuracy: 0.7445 - val_loss: 0.0396 - val_accuracy: 0.7393\n",
            "Epoch 144/200\n",
            "469/469 [==============================] - 2s 3ms/step - loss: 0.0391 - accuracy: 0.7449 - val_loss: 0.0395 - val_accuracy: 0.7399\n",
            "Epoch 145/200\n",
            "469/469 [==============================] - 2s 4ms/step - loss: 0.0390 - accuracy: 0.7452 - val_loss: 0.0394 - val_accuracy: 0.7403\n",
            "Epoch 146/200\n",
            "469/469 [==============================] - 1s 3ms/step - loss: 0.0389 - accuracy: 0.7454 - val_loss: 0.0393 - val_accuracy: 0.7411\n",
            "Epoch 147/200\n",
            "469/469 [==============================] - 2s 5ms/step - loss: 0.0388 - accuracy: 0.7457 - val_loss: 0.0392 - val_accuracy: 0.7413\n",
            "Epoch 148/200\n",
            "469/469 [==============================] - 2s 3ms/step - loss: 0.0387 - accuracy: 0.7462 - val_loss: 0.0391 - val_accuracy: 0.7415\n",
            "Epoch 149/200\n",
            "469/469 [==============================] - 2s 3ms/step - loss: 0.0386 - accuracy: 0.7469 - val_loss: 0.0390 - val_accuracy: 0.7421\n",
            "Epoch 150/200\n",
            "469/469 [==============================] - 2s 3ms/step - loss: 0.0385 - accuracy: 0.7473 - val_loss: 0.0390 - val_accuracy: 0.7425\n",
            "Epoch 151/200\n",
            "469/469 [==============================] - 1s 3ms/step - loss: 0.0384 - accuracy: 0.7478 - val_loss: 0.0389 - val_accuracy: 0.7426\n",
            "Epoch 152/200\n",
            "469/469 [==============================] - 2s 4ms/step - loss: 0.0383 - accuracy: 0.7483 - val_loss: 0.0388 - val_accuracy: 0.7433\n",
            "Epoch 153/200\n",
            "469/469 [==============================] - 2s 5ms/step - loss: 0.0382 - accuracy: 0.7486 - val_loss: 0.0387 - val_accuracy: 0.7440\n",
            "Epoch 154/200\n",
            "469/469 [==============================] - 4s 7ms/step - loss: 0.0381 - accuracy: 0.7490 - val_loss: 0.0386 - val_accuracy: 0.7443\n",
            "Epoch 155/200\n",
            "469/469 [==============================] - 3s 6ms/step - loss: 0.0380 - accuracy: 0.7496 - val_loss: 0.0385 - val_accuracy: 0.7448\n",
            "Epoch 156/200\n",
            "469/469 [==============================] - 2s 3ms/step - loss: 0.0380 - accuracy: 0.7500 - val_loss: 0.0384 - val_accuracy: 0.7452\n",
            "Epoch 157/200\n",
            "469/469 [==============================] - 2s 3ms/step - loss: 0.0379 - accuracy: 0.7503 - val_loss: 0.0384 - val_accuracy: 0.7458\n",
            "Epoch 158/200\n",
            "469/469 [==============================] - 1s 3ms/step - loss: 0.0378 - accuracy: 0.7511 - val_loss: 0.0383 - val_accuracy: 0.7460\n",
            "Epoch 159/200\n",
            "469/469 [==============================] - 2s 4ms/step - loss: 0.0377 - accuracy: 0.7514 - val_loss: 0.0382 - val_accuracy: 0.7466\n",
            "Epoch 160/200\n",
            "469/469 [==============================] - 2s 4ms/step - loss: 0.0376 - accuracy: 0.7519 - val_loss: 0.0381 - val_accuracy: 0.7473\n",
            "Epoch 161/200\n",
            "469/469 [==============================] - 2s 4ms/step - loss: 0.0375 - accuracy: 0.7522 - val_loss: 0.0380 - val_accuracy: 0.7473\n",
            "Epoch 162/200\n",
            "469/469 [==============================] - 2s 3ms/step - loss: 0.0375 - accuracy: 0.7526 - val_loss: 0.0380 - val_accuracy: 0.7473\n",
            "Epoch 163/200\n",
            "469/469 [==============================] - 2s 3ms/step - loss: 0.0374 - accuracy: 0.7533 - val_loss: 0.0379 - val_accuracy: 0.7473\n",
            "Epoch 164/200\n",
            "469/469 [==============================] - 1s 3ms/step - loss: 0.0373 - accuracy: 0.7537 - val_loss: 0.0378 - val_accuracy: 0.7479\n",
            "Epoch 165/200\n",
            "469/469 [==============================] - 2s 3ms/step - loss: 0.0372 - accuracy: 0.7538 - val_loss: 0.0377 - val_accuracy: 0.7485\n",
            "Epoch 166/200\n",
            "469/469 [==============================] - 1s 3ms/step - loss: 0.0371 - accuracy: 0.7547 - val_loss: 0.0376 - val_accuracy: 0.7487\n",
            "Epoch 167/200\n",
            "469/469 [==============================] - 2s 4ms/step - loss: 0.0371 - accuracy: 0.7548 - val_loss: 0.0376 - val_accuracy: 0.7487\n",
            "Epoch 168/200\n",
            "469/469 [==============================] - 2s 5ms/step - loss: 0.0370 - accuracy: 0.7553 - val_loss: 0.0375 - val_accuracy: 0.7494\n",
            "Epoch 169/200\n",
            "469/469 [==============================] - 2s 3ms/step - loss: 0.0369 - accuracy: 0.7558 - val_loss: 0.0374 - val_accuracy: 0.7497\n",
            "Epoch 170/200\n",
            "469/469 [==============================] - 1s 3ms/step - loss: 0.0368 - accuracy: 0.7565 - val_loss: 0.0374 - val_accuracy: 0.7499\n",
            "Epoch 171/200\n",
            "469/469 [==============================] - 1s 3ms/step - loss: 0.0368 - accuracy: 0.7567 - val_loss: 0.0373 - val_accuracy: 0.7502\n",
            "Epoch 172/200\n",
            "469/469 [==============================] - 1s 3ms/step - loss: 0.0367 - accuracy: 0.7573 - val_loss: 0.0372 - val_accuracy: 0.7506\n",
            "Epoch 173/200\n",
            "469/469 [==============================] - 2s 3ms/step - loss: 0.0366 - accuracy: 0.7576 - val_loss: 0.0371 - val_accuracy: 0.7506\n",
            "Epoch 174/200\n",
            "469/469 [==============================] - 2s 3ms/step - loss: 0.0365 - accuracy: 0.7580 - val_loss: 0.0371 - val_accuracy: 0.7513\n",
            "Epoch 175/200\n",
            "469/469 [==============================] - 2s 4ms/step - loss: 0.0365 - accuracy: 0.7582 - val_loss: 0.0370 - val_accuracy: 0.7514\n",
            "Epoch 176/200\n",
            "469/469 [==============================] - 2s 4ms/step - loss: 0.0364 - accuracy: 0.7589 - val_loss: 0.0369 - val_accuracy: 0.7517\n",
            "Epoch 177/200\n",
            "469/469 [==============================] - 1s 3ms/step - loss: 0.0363 - accuracy: 0.7595 - val_loss: 0.0369 - val_accuracy: 0.7524\n",
            "Epoch 178/200\n",
            "469/469 [==============================] - 2s 4ms/step - loss: 0.0363 - accuracy: 0.7599 - val_loss: 0.0368 - val_accuracy: 0.7526\n",
            "Epoch 179/200\n",
            "469/469 [==============================] - 1s 3ms/step - loss: 0.0362 - accuracy: 0.7602 - val_loss: 0.0367 - val_accuracy: 0.7533\n",
            "Epoch 180/200\n",
            "469/469 [==============================] - 2s 3ms/step - loss: 0.0361 - accuracy: 0.7607 - val_loss: 0.0367 - val_accuracy: 0.7531\n",
            "Epoch 181/200\n",
            "469/469 [==============================] - 1s 3ms/step - loss: 0.0361 - accuracy: 0.7614 - val_loss: 0.0366 - val_accuracy: 0.7535\n",
            "Epoch 182/200\n",
            "469/469 [==============================] - 2s 3ms/step - loss: 0.0360 - accuracy: 0.7617 - val_loss: 0.0366 - val_accuracy: 0.7532\n",
            "Epoch 183/200\n",
            "469/469 [==============================] - 2s 4ms/step - loss: 0.0359 - accuracy: 0.7620 - val_loss: 0.0365 - val_accuracy: 0.7535\n",
            "Epoch 184/200\n",
            "469/469 [==============================] - 2s 4ms/step - loss: 0.0359 - accuracy: 0.7625 - val_loss: 0.0364 - val_accuracy: 0.7540\n",
            "Epoch 185/200\n",
            "469/469 [==============================] - 1s 3ms/step - loss: 0.0358 - accuracy: 0.7628 - val_loss: 0.0364 - val_accuracy: 0.7544\n",
            "Epoch 186/200\n",
            "469/469 [==============================] - 2s 3ms/step - loss: 0.0357 - accuracy: 0.7633 - val_loss: 0.0363 - val_accuracy: 0.7547\n",
            "Epoch 187/200\n",
            "469/469 [==============================] - 2s 3ms/step - loss: 0.0357 - accuracy: 0.7637 - val_loss: 0.0362 - val_accuracy: 0.7552\n",
            "Epoch 188/200\n",
            "469/469 [==============================] - 2s 3ms/step - loss: 0.0356 - accuracy: 0.7641 - val_loss: 0.0362 - val_accuracy: 0.7554\n",
            "Epoch 189/200\n",
            "469/469 [==============================] - 2s 3ms/step - loss: 0.0356 - accuracy: 0.7647 - val_loss: 0.0361 - val_accuracy: 0.7557\n",
            "Epoch 190/200\n",
            "469/469 [==============================] - 1s 3ms/step - loss: 0.0355 - accuracy: 0.7650 - val_loss: 0.0361 - val_accuracy: 0.7560\n",
            "Epoch 191/200\n",
            "469/469 [==============================] - 2s 4ms/step - loss: 0.0354 - accuracy: 0.7656 - val_loss: 0.0360 - val_accuracy: 0.7562\n",
            "Epoch 192/200\n",
            "469/469 [==============================] - 2s 4ms/step - loss: 0.0354 - accuracy: 0.7660 - val_loss: 0.0359 - val_accuracy: 0.7564\n",
            "Epoch 193/200\n",
            "469/469 [==============================] - 2s 3ms/step - loss: 0.0353 - accuracy: 0.7661 - val_loss: 0.0359 - val_accuracy: 0.7567\n",
            "Epoch 194/200\n",
            "469/469 [==============================] - 1s 3ms/step - loss: 0.0352 - accuracy: 0.7667 - val_loss: 0.0358 - val_accuracy: 0.7573\n",
            "Epoch 195/200\n",
            "469/469 [==============================] - 2s 3ms/step - loss: 0.0352 - accuracy: 0.7670 - val_loss: 0.0358 - val_accuracy: 0.7576\n",
            "Epoch 196/200\n",
            "469/469 [==============================] - 2s 4ms/step - loss: 0.0351 - accuracy: 0.7674 - val_loss: 0.0357 - val_accuracy: 0.7578\n",
            "Epoch 197/200\n",
            "469/469 [==============================] - 2s 4ms/step - loss: 0.0351 - accuracy: 0.7679 - val_loss: 0.0357 - val_accuracy: 0.7583\n",
            "Epoch 198/200\n",
            "469/469 [==============================] - 2s 4ms/step - loss: 0.0350 - accuracy: 0.7682 - val_loss: 0.0356 - val_accuracy: 0.7582\n",
            "Epoch 199/200\n",
            "469/469 [==============================] - 2s 4ms/step - loss: 0.0350 - accuracy: 0.7685 - val_loss: 0.0356 - val_accuracy: 0.7589\n",
            "Epoch 200/200\n",
            "469/469 [==============================] - 2s 4ms/step - loss: 0.0349 - accuracy: 0.7688 - val_loss: 0.0355 - val_accuracy: 0.7590\n"
          ]
        }
      ],
      "source": [
        "batch_size=128\n",
        "epochs=200\n",
        "\n",
        "history = modelf.fit(\n",
        "  X_training, # training data\n",
        "  y_training, # training targets\n",
        "  epochs=epochs,\n",
        "  batch_size=batch_size,\n",
        "  verbose=1,\n",
        "  validation_data=(X_validation, y_validation)\n",
        ")\n",
        "\n",
        "\n"
      ]
    },
    {
      "cell_type": "code",
      "execution_count": 28,
      "metadata": {
        "colab": {
          "base_uri": "https://localhost:8080/",
          "height": 944
        },
        "id": "M-TWkVPHRXEl",
        "outputId": "6f7b6513-641e-4175-dbd0-261ec1a65dd5"
      },
      "outputs": [
        {
          "name": "stdout",
          "output_type": "stream",
          "text": [
            "dict_keys(['loss', 'accuracy', 'val_loss', 'val_accuracy'])\n"
          ]
        },
        {
          "data": {
            "image/png": "[encoded data removed]",
            "text/plain": [
              "<Figure size 640x480 with 1 Axes>"
            ]
          },
          "metadata": {},
          "output_type": "display_data"
        },
        {
          "data": {
            "image/png": "[encoded data removed]",
            "text/plain": [
              "<Figure size 640x480 with 1 Axes>"
            ]
          },
          "metadata": {},
          "output_type": "display_data"
        }
      ],
      "source": [
        "# Your Plot learning curves code here and in additional code cells as needed\n",
        "# list all data in history\n",
        "print(history.history.keys())\n",
        "\n",
        "# summarize history for accuracy\n",
        "plt.plot(history.history['accuracy'])\n",
        "plt.plot(history.history['val_accuracy'])\n",
        "plt.title('model accuracy')\n",
        "plt.ylabel('accuracy')\n",
        "plt.xlabel('epoch')\n",
        "plt.legend(['train', 'validation'], loc='upper left')\n",
        "plt.show()\n",
        "\n",
        "# summarize history for loss\n",
        "plt.plot(history.history['loss'])\n",
        "plt.plot(history.history['val_loss'])\n",
        "plt.title('model loss')\n",
        "plt.ylabel('loss')\n",
        "plt.xlabel('epoch')\n",
        "plt.legend(['train', 'validation'], loc='upper left')\n",
        "plt.show()"
      ]
    },
    {
      "cell_type": "code",
      "execution_count": 29,
      "metadata": {
        "colab": {
          "base_uri": "https://localhost:8080/"
        },
        "id": "KgLleoqYRXlX",
        "outputId": "389b059e-9cc3-48df-c136-a1cc6d479cbb"
      },
      "outputs": [
        {
          "name": "stdout",
          "output_type": "stream",
          "text": [
            "313/313 [==============================] - 1s 2ms/step\n"
          ]
        },
        {
          "data": {
            "text/plain": [
              "array([[791,   7,  29, 100,  10,  17,  15,   0,  30,   1],\n",
              "       [ 10, 918,  14,  43,  13,   0,   0,   0,   2,   0],\n",
              "       [ 28,   2, 643,  11, 243,  10,  38,   0,  25,   0],\n",
              "       [ 39,  11,   9, 861,  35,   3,  35,   0,   7,   0],\n",
              "       [  1,   6, 143,  58, 749,   9,  21,   0,  13,   0],\n",
              "       [  0,   0,   0,   2,   0, 816,   0, 120,   8,  54],\n",
              "       [250,   3, 199,  61, 290,  22, 122,   0,  53,   0],\n",
              "       [  0,   0,   0,   0,   0,  74,   0, 840,   0,  86],\n",
              "       [  2,   2,  22,  13,   5,  21,   2,   8, 924,   1],\n",
              "       [  0,   0,   0,   2,   0,  20,   0,  51,   1, 926]])"
            ]
          },
          "execution_count": 29,
          "metadata": {},
          "output_type": "execute_result"
        }
      ],
      "source": [
        "# Your confusion matrix code here and in additional code cells as needed\n",
        "x_testf=X_validation / 255.0;\n",
        "y_predf= modelf.predict(X_validation)\n",
        "#y_pred=np.argmax(y_pred, axis=1)\n",
        "y_predf = predicted_classes = np.argmax(y_predf, axis=1)\n",
        "cf2=metrics.confusion_matrix(y_valid, y_predf);\n",
        "cf2\n",
        "\n"
      ]
    },
    {
      "cell_type": "code",
      "execution_count": 30,
      "metadata": {
        "colab": {
          "base_uri": "https://localhost:8080/",
          "height": 767
        },
        "id": "OC8i9Is8AQWs",
        "outputId": "debcb033-99e1-4f3e-f8ad-9967d8d4b6ff"
      },
      "outputs": [
        {
          "data": {
            "image/png": "[encoded data removed]",
            "text/plain": [
              "<Figure size 1000x800 with 1 Axes>"
            ]
          },
          "metadata": {},
          "output_type": "display_data"
        }
      ],
      "source": [
        "plt.figure(figsize=(10,8))\n",
        "sns.heatmap(cf2,annot=True,fmt='d',cmap='Greens',cbar=False)\n",
        "plt.title('Confusion matrix')\n",
        "plt.xlabel('Predicted Labels')\n",
        "plt.ylabel('True Labels')\n",
        "plt.xticks(ticks=np.arange(num_classes),labels=classes_names,rotation=45)\n",
        "plt.yticks(ticks=np.arange(num_classes),labels=classes_names,rotation=0)\n",
        "plt.show()"
      ]
    },
    {
      "cell_type": "code",
      "execution_count": 31,
      "metadata": {
        "colab": {
          "base_uri": "https://localhost:8080/"
        },
        "id": "PZCY7q7ORlN4",
        "outputId": "885f6e47-f8e0-4e5f-b4cb-d18329b82f83"
      },
      "outputs": [
        {
          "name": "stdout",
          "output_type": "stream",
          "text": [
            "313/313 [==============================] - 1s 4ms/step - loss: 0.0355 - accuracy: 0.7590\n"
          ]
        },
        {
          "data": {
            "text/plain": [
              "[0.03550335764884949, 0.7590000033378601]"
            ]
          },
          "execution_count": 31,
          "metadata": {},
          "output_type": "execute_result"
        }
      ],
      "source": [
        "# Your Evaluate the model code here and in additional code cells as needed\n",
        "modelf.evaluate(X_validation , y_validation)\n"
      ]
    },
    {
      "cell_type": "markdown",
      "metadata": {
        "id": "Os2Av7zxRmFF"
      },
      "source": [
        "#### Discuss why the results are not as good. \n",
        "\n",
        "If you had more time what would you do to improve the results?"
      ]
    },
    {
      "cell_type": "markdown",
      "metadata": {
        "id": "dmNB2iVJRuXx"
      },
      "source": [
        "\n",
        "\n",
        "1.A model's architecture can be changed by increasing the number of layers, altering the number of neurons in each layer, or experimenting with new layers altogether (by including dropout or batch normalisation layers, for example). Depending on the type of your data, you can also experiment with more sophisticated structures like convolutional neural networks (CNNs) or recurrent neural networks (RNNs).\n",
        "2. Increase Training Data: If your training dataset is minimal, adding more labelled data will help the model perform more accurately. This can be accomplished by gathering more samples or by creating more training examples using data augmentation techniques.\n",
        "\n",
        "3. Data preprocessing: Before training, make sure your data has been processed correctly. To improve the model's capacity to identify important patterns in the data, normalise the input features to a similar scale, handle missing values appropriately, and carry out any necessary feature engineering.\n",
        "4. Increase the number of training epochs to give the model more time to learn from the data. If the model begins to perform well on the training data but not on the validation or test data, be wary of overfitting.\n",
        "\n",
        "5. Check for Data Inequality: If your dataset exhibits class imbalance, where some classes have noticeably more samples than others, you can try techniques like oversampling the minority class, undersampling the majority class, or using class weights to prioritise underrepresented classes during training.\n",
        "\n",
        "\n",
        "\n",
        "\n",
        "\n",
        "\n"
      ]
    }
  ],
  "metadata": {
    "accelerator": "GPU",
    "colab": {
      "provenance": [],
      "toc_visible": true
    },
    "kernelspec": {
      "display_name": "Python 3",
      "language": "python",
      "name": "python3"
    },
    "language_info": {
      "codemirror_mode": {
        "name": "ipython",
        "version": 3
      },
      "file_extension": ".py",
      "mimetype": "text/x-python",
      "name": "python",
      "nbconvert_exporter": "python",
      "pygments_lexer": "ipython3",
      "version": "3.6.5"
    }
  },
  "nbformat": 4,
  "nbformat_minor": 0
}
